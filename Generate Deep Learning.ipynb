{
 "cells": [
  {
   "cell_type": "code",
   "execution_count": 1,
   "id": "4e3217ff",
   "metadata": {},
   "outputs": [
    {
     "name": "stderr",
     "output_type": "stream",
     "text": [
      "2022-03-02 17:59:23.635686: W tensorflow/stream_executor/platform/default/dso_loader.cc:64] Could not load dynamic library 'libcudart.so.11.0'; dlerror: libcudart.so.11.0: cannot open shared object file: No such file or directory\n",
      "2022-03-02 17:59:23.636183: I tensorflow/stream_executor/cuda/cudart_stub.cc:29] Ignore above cudart dlerror if you do not have a GPU set up on your machine.\n"
     ]
    }
   ],
   "source": [
    "# basics libraries\n",
    "import pandas as pd\n",
    "import numpy as np\n",
    "import matplotlib.pyplot as plt\n",
    "from astropy.io import fits\n",
    "import time\n",
    "\n",
    "# deep learning libraries\n",
    "import tensorflow as tf\n",
    "from sklearn.model_selection import train_test_split\n",
    "from keras.models import Sequential,load_model,Model\n",
    "from keras.layers import Dense,Dropout,Flatten,Conv2D,MaxPool2D,ZeroPadding2D,Activation\n",
    "from keras.layers import Conv2D,MaxPool2D,Dense,Dropout,BatchNormalization,Flatten,Input\n",
    "\n",
    "# magic functions\n",
    "%matplotlib inline"
   ]
  },
  {
   "cell_type": "code",
   "execution_count": 2,
   "id": "7195801c",
   "metadata": {},
   "outputs": [],
   "source": [
    "# images full path\n",
    "fits_full_path = './simulations/fits_files/'\n",
    "\n",
    "# selected bandpasses\n",
    "selected_bandpass = {\n",
    "    'desg':'g',\n",
    "    'desr':'r',\n",
    "    'desi':'i'\n",
    "}\n",
    "\n",
    "# metadata files\n",
    "metadata = pd.read_csv(fits_full_path+'metadata.txt')\n",
    "metadata.dropna(inplace=True) # first line has Nan values and I still don't know why\n",
    "\n",
    "# basic variables\n",
    "num_pix = metadata['numPix-g'].iloc[-1] # same for all bandpasses\n",
    "pixel_scale = metadata['pixel_scale-g'].iloc[-1] # same for all bandpasses\n",
    "system_label = np.array(metadata['OBJID-g'])"
   ]
  },
  {
   "cell_type": "code",
   "execution_count": 3,
   "id": "b9d15184",
   "metadata": {},
   "outputs": [
    {
     "name": "stdout",
     "output_type": "stream",
     "text": [
      "11999 3000\n"
     ]
    }
   ],
   "source": [
    "# split our data in training and test dataset with ration 80 - 20 %\n",
    "np.random.seed(42)\n",
    "files_names_train, files_names_test = train_test_split(system_label, test_size=0.2)\n",
    "print(len(files_names_train), len(files_names_test))"
   ]
  },
  {
   "cell_type": "code",
   "execution_count": 4,
   "id": "a1c048cf",
   "metadata": {},
   "outputs": [
    {
     "name": "stdout",
     "output_type": "stream",
     "text": [
      "10799 1200 3000\n"
     ]
    }
   ],
   "source": [
    "# split our data in training and validation dataset with ration 90 - 10 %\n",
    "np.random.seed(42)\n",
    "files_names_train, files_names_val = train_test_split(files_names_train, test_size=0.1)\n",
    "print(len(files_names_train), len(files_names_val), len(files_names_test))"
   ]
  },
  {
   "cell_type": "code",
   "execution_count": 5,
   "id": "aa1ab511",
   "metadata": {},
   "outputs": [],
   "source": [
    "# train dataset\n",
    "x_train = []\n",
    "y_train = []\n",
    "for i in range(0, len(files_names_train)):\n",
    "    x_train.append(np.array([fits.open(fits_full_path + selected_bandpass['desg'] + '/' +  str(files_names_train[i])+'.fits')[0].data, fits.open(fits_full_path + selected_bandpass['desr'] + '/' +  str(files_names_train[i])+'.fits')[0].data, fits.open(fits_full_path + selected_bandpass['desi'] + '/' +  str(files_names_train[i])+'.fits')[0].data]))\n",
    "    \n",
    "x_train = np.array(x_train)\n",
    "y_train = np.array([np.array(metadata['PLANE_1-OBJECT_1-MASS_PROFILE_1-e1-g'][files_names_train]), np.array(metadata['PLANE_1-OBJECT_1-MASS_PROFILE_1-e2-g'][files_names_train]), np.array(metadata['PLANE_1-OBJECT_1-MASS_PROFILE_1-theta_E-g'][files_names_train])]).T\n",
    "\n",
    "\n",
    "# validation dataset\n",
    "x_val = []\n",
    "y_val = []\n",
    "for i in range(0, len(files_names_val)):\n",
    "    x_val.append(np.array([fits.open(fits_full_path + selected_bandpass['desg'] + '/' +  str(files_names_val[i])+'.fits')[0].data, fits.open(fits_full_path + selected_bandpass['desr'] + '/' +  str(files_names_val[i])+'.fits')[0].data, fits.open(fits_full_path + selected_bandpass['desi'] + '/' +  str(files_names_val[i])+'.fits')[0].data]))\n",
    "    \n",
    "x_val = np.array(x_val)\n",
    "y_val = np.array([np.array(metadata['PLANE_1-OBJECT_1-MASS_PROFILE_1-e1-g'][files_names_val]), np.array(metadata['PLANE_1-OBJECT_1-MASS_PROFILE_1-e2-g'][files_names_val]), np.array(metadata['PLANE_1-OBJECT_1-MASS_PROFILE_1-theta_E-g'][files_names_val])]).T\n",
    "\n",
    "# validation dataset\n",
    "x_test = []\n",
    "y_test = []\n",
    "for i in range(0, len(files_names_test)):\n",
    "    x_test.append(np.array([fits.open(fits_full_path + selected_bandpass['desg'] + '/' +  str(files_names_test[i])+'.fits')[0].data, fits.open(fits_full_path + selected_bandpass['desr'] + '/' +  str(files_names_test[i])+'.fits')[0].data, fits.open(fits_full_path + selected_bandpass['desi'] + '/' +  str(files_names_test[i])+'.fits')[0].data]))\n",
    "    \n",
    "x_test = np.array(x_test)\n",
    "y_test = np.array([np.array(metadata['PLANE_1-OBJECT_1-MASS_PROFILE_1-e1-g'][files_names_test]), np.array(metadata['PLANE_1-OBJECT_1-MASS_PROFILE_1-e2-g'][files_names_test]), np.array(metadata['PLANE_1-OBJECT_1-MASS_PROFILE_1-theta_E-g'][files_names_test])]).T\n"
   ]
  },
  {
   "cell_type": "code",
   "execution_count": 6,
   "id": "f9183446",
   "metadata": {},
   "outputs": [],
   "source": [
    "#np.array(metadata['PLANE_1-OBJECT_1-MASS_PROFILE_1-theta_E-g'][files_names_test])"
   ]
  },
  {
   "cell_type": "code",
   "execution_count": 7,
   "id": "6d276884",
   "metadata": {},
   "outputs": [
    {
     "name": "stdout",
     "output_type": "stream",
     "text": [
      "(10799, 100, 100, 3) (3000, 100, 100, 3) (1200, 100, 100, 3)\n"
     ]
    }
   ],
   "source": [
    "x_train = np.moveaxis(x_train, 1, 2)\n",
    "x_train = np.moveaxis(x_train, 3, 2)\n",
    "\n",
    "x_test = np.moveaxis(x_test, 1, 2)\n",
    "x_test = np.moveaxis(x_test, 3, 2)\n",
    "\n",
    "x_val = np.moveaxis(x_val, 1, 2)\n",
    "x_val = np.moveaxis(x_val, 3, 2)\n",
    "\n",
    "print(x_train.shape, x_test.shape, x_val.shape)"
   ]
  },
  {
   "cell_type": "code",
   "execution_count": 8,
   "id": "cc525c96",
   "metadata": {
    "scrolled": true
   },
   "outputs": [
    {
     "name": "stderr",
     "output_type": "stream",
     "text": [
      "2022-03-02 18:06:22.428134: W tensorflow/stream_executor/platform/default/dso_loader.cc:64] Could not load dynamic library 'libcuda.so.1'; dlerror: libcuda.so.1: cannot open shared object file: No such file or directory\n",
      "2022-03-02 18:06:22.431054: W tensorflow/stream_executor/cuda/cuda_driver.cc:269] failed call to cuInit: UNKNOWN ERROR (303)\n",
      "2022-03-02 18:06:22.431984: I tensorflow/stream_executor/cuda/cuda_diagnostics.cc:156] kernel driver does not appear to be running on this host (DESKTOP-0SVSQGR): /proc/driver/nvidia/version does not exist\n",
      "2022-03-02 18:06:22.436606: I tensorflow/core/platform/cpu_feature_guard.cc:151] This TensorFlow binary is optimized with oneAPI Deep Neural Network Library (oneDNN) to use the following CPU instructions in performance-critical operations:  AVX2 FMA\n",
      "To enable them in other operations, rebuild TensorFlow with the appropriate compiler flags.\n",
      "/tmp/ipykernel_1387/1425935768.py:35: UserWarning: `Model.fit_generator` is deprecated and will be removed in a future version. Please use `Model.fit`, which supports generators.\n",
      "  history = model.fit_generator(\n"
     ]
    },
    {
     "name": "stdout",
     "output_type": "stream",
     "text": [
      "Epoch 1/30\n",
      "337/337 [==============================] - 113s 316ms/step - loss: 0.7014 - val_loss: 0.0667\n",
      "Epoch 2/30\n",
      "337/337 [==============================] - 109s 323ms/step - loss: 0.0562 - val_loss: 0.0508\n",
      "Epoch 3/30\n",
      "337/337 [==============================] - 114s 339ms/step - loss: 0.0430 - val_loss: 0.0337\n",
      "Epoch 4/30\n",
      "337/337 [==============================] - 109s 324ms/step - loss: 0.0356 - val_loss: 0.0294\n",
      "Epoch 5/30\n",
      "337/337 [==============================] - 109s 324ms/step - loss: 0.0333 - val_loss: 0.0285\n",
      "Epoch 6/30\n",
      "337/337 [==============================] - 100s 298ms/step - loss: 0.0271 - val_loss: 0.0240\n",
      "Epoch 7/30\n",
      "337/337 [==============================] - 99s 293ms/step - loss: 0.0276 - val_loss: 0.0295\n",
      "Epoch 8/30\n",
      "337/337 [==============================] - 108s 321ms/step - loss: 0.0256 - val_loss: 0.0221\n",
      "Epoch 9/30\n",
      "337/337 [==============================] - 131s 387ms/step - loss: 0.0252 - val_loss: 0.0234\n",
      "Epoch 10/30\n",
      "337/337 [==============================] - 126s 375ms/step - loss: 0.0216 - val_loss: 0.0205\n",
      "Epoch 11/30\n",
      "337/337 [==============================] - 116s 343ms/step - loss: 0.0232 - val_loss: 0.0233\n",
      "Epoch 12/30\n",
      "337/337 [==============================] - 111s 329ms/step - loss: 0.0218 - val_loss: 0.0209\n",
      "Epoch 13/30\n",
      "337/337 [==============================] - 117s 346ms/step - loss: 0.0178 - val_loss: 0.0176\n",
      "Epoch 14/30\n",
      "337/337 [==============================] - 118s 348ms/step - loss: 0.0208 - val_loss: 0.0176\n",
      "Epoch 15/30\n",
      "337/337 [==============================] - 107s 318ms/step - loss: 0.0167 - val_loss: 0.0255\n",
      "Epoch 16/30\n",
      "337/337 [==============================] - 110s 325ms/step - loss: 0.0233 - val_loss: 0.0237\n",
      "Epoch 17/30\n",
      "337/337 [==============================] - 116s 344ms/step - loss: 0.0188 - val_loss: 0.0289\n",
      "Epoch 18/30\n",
      "337/337 [==============================] - 110s 328ms/step - loss: 0.0183 - val_loss: 0.0185\n",
      "Epoch 19/30\n",
      "337/337 [==============================] - 116s 344ms/step - loss: 0.0156 - val_loss: 0.0181\n"
     ]
    }
   ],
   "source": [
    "# Our deep learning algorithm \n",
    "inputs = tf.keras.Input(shape=(100, 100, 3))\n",
    "\n",
    "x = tf.keras.layers.Conv2D(filters=16, kernel_size=(3,3), activation='relu')(inputs)\n",
    "x = tf.keras.layers.Conv2D(filters=16, kernel_size=(3,3), activation='relu')(x)\n",
    "x = tf.keras.layers.MaxPool2D()(x)\n",
    "x = tf.keras.layers.Conv2D(filters=32, kernel_size=(3,3), activation='relu')(x)\n",
    "x = tf.keras.layers.Conv2D(filters=32, kernel_size=(1,1), activation='relu')(x)\n",
    "x = tf.keras.layers.MaxPool2D()(x)\n",
    "x = tf.keras.layers.Conv2D(filters=32, kernel_size=(5,5), activation='relu')(x)\n",
    "x = tf.keras.layers.Conv2D(filters=32, kernel_size=(5,5), activation='relu')(x)\n",
    "x = tf.keras.layers.Conv2D(filters=32, kernel_size=(1,1), activation='relu')(x)\n",
    "x = tf.keras.layers.Conv2D(filters=32, kernel_size=(5,5), activation='relu')(x)\n",
    "\n",
    "x = tf.keras.layers.Flatten()(x)\n",
    "x = tf.keras.layers.Dense(128, activation='relu')(x)\n",
    "#x = tf.keras.layers.Dropout(rate=0.2)(x)\n",
    "x = tf.keras.layers.Dense(256, activation='relu')(x)\n",
    "#x = tf.keras.layers.Dropout(rate=0.2)(x)\n",
    "\n",
    "outputs = tf.keras.layers.Dense(3, activation='linear')(x)\n",
    "model = tf.keras.Model(inputs=inputs, outputs=outputs)\n",
    "\n",
    "model.compile(\n",
    "    optimizer = 'adam',\n",
    "    loss = 'mse'\n",
    ")\n",
    "\n",
    "gen = tf.keras.preprocessing.image.ImageDataGenerator()\n",
    "\n",
    "batch_size=32\n",
    "start = time.perf_counter()\n",
    "generator = gen.flow(x_train, y_train, batch_size = batch_size)\n",
    "\n",
    "history = model.fit_generator(\n",
    "    generator,\n",
    "    steps_per_epoch=len(x_train)/batch_size,\n",
    "    epochs=30,\n",
    "    validation_data = (x_val, y_val),\n",
    "    validation_steps = len(x_val),\n",
    "    callbacks=[\n",
    "        tf.keras.callbacks.EarlyStopping(\n",
    "            monitor='val_loss',\n",
    "            patience=5,\n",
    "            restore_best_weights=True\n",
    "        )\n",
    "    ]\n",
    "\n",
    ")"
   ]
  },
  {
   "cell_type": "code",
   "execution_count": 9,
   "id": "6e3083ac",
   "metadata": {},
   "outputs": [
    {
     "data": {
      "image/png": "[encoded data removed]",
      "text/plain": [
       "<Figure size 432x288 with 1 Axes>"
      ]
     },
     "metadata": {
      "needs_background": "light"
     },
     "output_type": "display_data"
    }
   ],
   "source": [
    "plt.rcParams.update({\"font.size\": 13})\n",
    "\n",
    "plt.plot(history.history['loss'], label='train', c='slateblue')\n",
    "plt.plot(history.history['val_loss'], label='validation', c='salmon')\n",
    "plt.xlabel('epochs')\n",
    "plt.ylabel('loss')\n",
    "plt.legend();"
   ]
  },
  {
   "cell_type": "code",
   "execution_count": 10,
   "id": "a8d4162d",
   "metadata": {},
   "outputs": [
    {
     "name": "stderr",
     "output_type": "stream",
     "text": [
      "2022-03-02 18:42:15.513962: W tensorflow/core/framework/cpu_allocator_impl.cc:82] Allocation of 360000000 exceeds 10% of free system memory.\n"
     ]
    },
    {
     "name": "stdout",
     "output_type": "stream",
     "text": [
      "CPU times: user 32.9 s, sys: 3.92 s, total: 36.8 s\n",
      "Wall time: 12.9 s\n"
     ]
    }
   ],
   "source": [
    "%%time\n",
    "results = np.squeeze(model.predict(x_test)).T"
   ]
  },
  {
   "cell_type": "code",
   "execution_count": 11,
   "id": "fd24da6d",
   "metadata": {},
   "outputs": [
    {
     "data": {
      "text/html": [
       "<div>\n",
       "<style scoped>\n",
       "    .dataframe tbody tr th:only-of-type {\n",
       "        vertical-align: middle;\n",
       "    }\n",
       "\n",
       "    .dataframe tbody tr th {\n",
       "        vertical-align: top;\n",
       "    }\n",
       "\n",
       "    .dataframe thead th {\n",
       "        text-align: right;\n",
       "    }\n",
       "</style>\n",
       "<table border=\"1\" class=\"dataframe\">\n",
       "  <thead>\n",
       "    <tr style=\"text-align: right;\">\n",
       "      <th></th>\n",
       "      <th>sys</th>\n",
       "      <th>e1_pred</th>\n",
       "      <th>e1_true</th>\n",
       "      <th>e2_pred</th>\n",
       "      <th>e2_true</th>\n",
       "      <th>thetae_pred</th>\n",
       "      <th>thetae_true</th>\n",
       "    </tr>\n",
       "  </thead>\n",
       "  <tbody>\n",
       "    <tr>\n",
       "      <th>0</th>\n",
       "      <td>6724.0</td>\n",
       "      <td>0.215755</td>\n",
       "      <td>0.128578</td>\n",
       "      <td>0.478072</td>\n",
       "      <td>0.357076</td>\n",
       "      <td>3.788190</td>\n",
       "      <td>3.810371</td>\n",
       "    </tr>\n",
       "    <tr>\n",
       "      <th>1</th>\n",
       "      <td>6474.0</td>\n",
       "      <td>0.551901</td>\n",
       "      <td>0.480868</td>\n",
       "      <td>0.065505</td>\n",
       "      <td>0.050779</td>\n",
       "      <td>3.777076</td>\n",
       "      <td>3.796621</td>\n",
       "    </tr>\n",
       "    <tr>\n",
       "      <th>2</th>\n",
       "      <td>4680.0</td>\n",
       "      <td>0.258740</td>\n",
       "      <td>0.242176</td>\n",
       "      <td>0.124762</td>\n",
       "      <td>0.121163</td>\n",
       "      <td>3.822264</td>\n",
       "      <td>3.958710</td>\n",
       "    </tr>\n",
       "    <tr>\n",
       "      <th>3</th>\n",
       "      <td>863.0</td>\n",
       "      <td>-0.142227</td>\n",
       "      <td>-0.200352</td>\n",
       "      <td>-0.000663</td>\n",
       "      <td>-0.003612</td>\n",
       "      <td>3.097307</td>\n",
       "      <td>3.111711</td>\n",
       "    </tr>\n",
       "    <tr>\n",
       "      <th>4</th>\n",
       "      <td>7287.0</td>\n",
       "      <td>0.287283</td>\n",
       "      <td>0.347171</td>\n",
       "      <td>-0.366844</td>\n",
       "      <td>-0.353522</td>\n",
       "      <td>3.288783</td>\n",
       "      <td>3.338077</td>\n",
       "    </tr>\n",
       "  </tbody>\n",
       "</table>\n",
       "</div>"
      ],
      "text/plain": [
       "      sys   e1_pred   e1_true   e2_pred   e2_true  thetae_pred  thetae_true\n",
       "0  6724.0  0.215755  0.128578  0.478072  0.357076     3.788190     3.810371\n",
       "1  6474.0  0.551901  0.480868  0.065505  0.050779     3.777076     3.796621\n",
       "2  4680.0  0.258740  0.242176  0.124762  0.121163     3.822264     3.958710\n",
       "3   863.0 -0.142227 -0.200352 -0.000663 -0.003612     3.097307     3.111711\n",
       "4  7287.0  0.287283  0.347171 -0.366844 -0.353522     3.288783     3.338077"
      ]
     },
     "execution_count": 11,
     "metadata": {},
     "output_type": "execute_result"
    }
   ],
   "source": [
    "results = pd.DataFrame(np.array([files_names_test, results[0], y_test.T[0], results[1], y_test.T[1], results[2], y_test.T[2]]).T, columns=['sys', 'e1_pred', 'e1_true', 'e2_pred', 'e2_true', 'thetae_pred', 'thetae_true'])\n",
    "results.head()"
   ]
  },
  {
   "cell_type": "code",
   "execution_count": 12,
   "id": "fc628f06",
   "metadata": {},
   "outputs": [],
   "source": [
    "# deep learning results to a txt\n",
    "results.to_csv('./dl_results/DL_results.csv', index=False)"
   ]
  },
  {
   "cell_type": "code",
   "execution_count": 13,
   "id": "2f9aeeea",
   "metadata": {},
   "outputs": [],
   "source": [
    "# save our model to a h5 file\n",
    "model.save('./dl_results/dl_architecture.h5')"
   ]
  },
  {
   "cell_type": "code",
   "execution_count": 14,
   "id": "50a933fe",
   "metadata": {},
   "outputs": [
    {
     "data": {
      "text/plain": [
       "[<matplotlib.lines.Line2D at 0x7f7148ed53d0>]"
      ]
     },
     "execution_count": 14,
     "metadata": {},
     "output_type": "execute_result"
    },
    {
     "data": {
      "image/png": "[encoded data removed]",
      "text/plain": [
       "<Figure size 432x288 with 1 Axes>"
      ]
     },
     "metadata": {
      "needs_background": "light"
     },
     "output_type": "display_data"
    }
   ],
   "source": [
    "plt.plot(results['e1_pred'], results['e1_true'], '.')"
   ]
  },
  {
   "cell_type": "code",
   "execution_count": 15,
   "id": "e9b2d749",
   "metadata": {},
   "outputs": [
    {
     "data": {
      "text/plain": [
       "[<matplotlib.lines.Line2D at 0x7f7148ee56d0>]"
      ]
     },
     "execution_count": 15,
     "metadata": {},
     "output_type": "execute_result"
    },
    {
     "data": {
      "image/png": "[encoded data removed]",
      "text/plain": [
       "<Figure size 432x288 with 1 Axes>"
      ]
     },
     "metadata": {
      "needs_background": "light"
     },
     "output_type": "display_data"
    }
   ],
   "source": [
    "plt.plot(results['e2_pred'], results['e2_true'], '.')"
   ]
  },
  {
   "cell_type": "code",
   "execution_count": 16,
   "id": "095320c1",
   "metadata": {},
   "outputs": [
    {
     "data": {
      "text/plain": [
       "[<matplotlib.lines.Line2D at 0x7f715808c130>]"
      ]
     },
     "execution_count": 16,
     "metadata": {},
     "output_type": "execute_result"
    },
    {
     "data": {
      "image/png": "[encoded data removed]",
      "text/plain": [
       "<Figure size 432x288 with 1 Axes>"
      ]
     },
     "metadata": {
      "needs_background": "light"
     },
     "output_type": "display_data"
    }
   ],
   "source": [
    "plt.plot(results['thetae_pred'], results['thetae_true'], '.')"
   ]
  },
  {
   "cell_type": "code",
   "execution_count": 17,
   "id": "419a5e73",
   "metadata": {},
   "outputs": [
    {
     "name": "stderr",
     "output_type": "stream",
     "text": [
      "2022-03-02 18:42:26.812240: W tensorflow/python/util/util.cc:368] Sets are not currently considered sequences, but this may change in the future, so consider avoiding using them.\n"
     ]
    },
    {
     "name": "stdout",
     "output_type": "stream",
     "text": [
      "INFO:tensorflow:Assets written to: ./dl_results/my_dl_model/assets\n"
     ]
    }
   ],
   "source": [
    "model.save('./dl_results/my_dl_model')"
   ]
  },
  {
   "cell_type": "code",
   "execution_count": 18,
   "id": "e7f19841",
   "metadata": {},
   "outputs": [],
   "source": [
    "model.save_weights('./dl_results/weights')"
   ]
  },
  {
   "cell_type": "code",
   "execution_count": null,
   "id": "93a5ed52",
   "metadata": {},
   "outputs": [],
   "source": []
  }
 ],
 "metadata": {
  "kernelspec": {
   "display_name": "Python 3 (ipykernel)",
   "language": "python",
   "name": "python3"
  },
  "language_info": {
   "codemirror_mode": {
    "name": "ipython",
    "version": 3
   },
   "file_extension": ".py",
   "mimetype": "text/x-python",
   "name": "python",
   "nbconvert_exporter": "python",
   "pygments_lexer": "ipython3",
   "version": "3.8.10"
  }
 },
 "nbformat": 4,
 "nbformat_minor": 5
}
