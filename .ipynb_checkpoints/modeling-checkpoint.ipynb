{
 "cells": [
  {
   "cell_type": "code",
   "execution_count": 1,
   "id": "3a59fdf0",
   "metadata": {},
   "outputs": [
    {
     "name": "stderr",
     "output_type": "stream",
     "text": [
      "WARNING:autoconf.conf:Pushing new config with path /home/joao/.local/lib/python3.8/site-packages/autoarray/config\n",
      "2022-03-09 17:56:26,505 - autoconf.conf - WARNING - Pushing new config with path /home/joao/.local/lib/python3.8/site-packages/autofit/config\n"
     ]
    },
    {
     "name": "stdout",
     "output_type": "stream",
     "text": [
      "2022-03-09 17:56:26,694 - autoconf.conf - WARNING - Pushing new config with path /home/joao/.local/lib/python3.8/site-packages/autogalaxy/config\n",
      "2022-03-09 17:56:26,830 - autoconf.conf - WARNING - Pushing new config with path /home/joao/.local/lib/python3.8/site-packages/autolens/config\n"
     ]
    }
   ],
   "source": [
    "import pandas as pd\n",
    "import numpy as np\n",
    "import matplotlib.pyplot as plt\n",
    "from deeplenstronomy.visualize import view_image, view_image_rgb\n",
    "from astropy.io import fits\n",
    "from lenstronomy.Data.psf import PSF\n",
    "import autolens as al\n",
    "import autolens.plot as aplt\n",
    "import autofit as af\n",
    "from ipywidgets import *\n",
    "\n",
    "num_simulated_lenses = 100\n",
    "bands_simulated = ['g', 'r', 'i', 'z', 'Y']\n",
    "\n",
    "image_pre_path = './simulations/fits_files/'\n",
    "\n",
    "%matplotlib inline"
   ]
  },
  {
   "cell_type": "code",
   "execution_count": 2,
   "id": "929f647b",
   "metadata": {},
   "outputs": [
    {
     "data": {
      "text/html": [
       "<div>\n",
       "<style scoped>\n",
       "    .dataframe tbody tr th:only-of-type {\n",
       "        vertical-align: middle;\n",
       "    }\n",
       "\n",
       "    .dataframe tbody tr th {\n",
       "        vertical-align: top;\n",
       "    }\n",
       "\n",
       "    .dataframe thead th {\n",
       "        text-align: right;\n",
       "    }\n",
       "</style>\n",
       "<table border=\"1\" class=\"dataframe\">\n",
       "  <thead>\n",
       "    <tr style=\"text-align: right;\">\n",
       "      <th></th>\n",
       "      <th>OBJID-g</th>\n",
       "      <th>H0-g</th>\n",
       "      <th>Om0-g</th>\n",
       "      <th>exposure_time-g</th>\n",
       "      <th>numPix-g</th>\n",
       "      <th>pixel_scale-g</th>\n",
       "      <th>psf_type-g</th>\n",
       "      <th>read_noise-g</th>\n",
       "      <th>ccd_gain-g</th>\n",
       "      <th>seeing-g</th>\n",
       "      <th>...</th>\n",
       "      <th>PLANE_1-REDSHIFT-g</th>\n",
       "      <th>PLANE_2-REDSHIFT-g</th>\n",
       "      <th>PLANE_1-REDSHIFT-r</th>\n",
       "      <th>PLANE_2-REDSHIFT-r</th>\n",
       "      <th>PLANE_1-REDSHIFT-i</th>\n",
       "      <th>PLANE_2-REDSHIFT-i</th>\n",
       "      <th>PLANE_1-REDSHIFT-z</th>\n",
       "      <th>PLANE_2-REDSHIFT-z</th>\n",
       "      <th>PLANE_1-REDSHIFT-Y</th>\n",
       "      <th>PLANE_2-REDSHIFT-Y</th>\n",
       "    </tr>\n",
       "  </thead>\n",
       "  <tbody>\n",
       "    <tr>\n",
       "      <th>0</th>\n",
       "      <td>0</td>\n",
       "      <td>73.0</td>\n",
       "      <td>0.3</td>\n",
       "      <td>90.0</td>\n",
       "      <td>100</td>\n",
       "      <td>0.263</td>\n",
       "      <td>GAUSSIAN</td>\n",
       "      <td>7</td>\n",
       "      <td>6.083</td>\n",
       "      <td>1.062</td>\n",
       "      <td>...</td>\n",
       "      <td>NaN</td>\n",
       "      <td>NaN</td>\n",
       "      <td>NaN</td>\n",
       "      <td>NaN</td>\n",
       "      <td>NaN</td>\n",
       "      <td>NaN</td>\n",
       "      <td>NaN</td>\n",
       "      <td>NaN</td>\n",
       "      <td>NaN</td>\n",
       "      <td>NaN</td>\n",
       "    </tr>\n",
       "    <tr>\n",
       "      <th>1</th>\n",
       "      <td>1</td>\n",
       "      <td>73.0</td>\n",
       "      <td>0.3</td>\n",
       "      <td>90.0</td>\n",
       "      <td>100</td>\n",
       "      <td>0.263</td>\n",
       "      <td>GAUSSIAN</td>\n",
       "      <td>7</td>\n",
       "      <td>6.083</td>\n",
       "      <td>0.943</td>\n",
       "      <td>...</td>\n",
       "      <td>0.713107</td>\n",
       "      <td>4.791211</td>\n",
       "      <td>0.713107</td>\n",
       "      <td>4.791211</td>\n",
       "      <td>0.713107</td>\n",
       "      <td>4.791211</td>\n",
       "      <td>0.713107</td>\n",
       "      <td>4.791211</td>\n",
       "      <td>0.713107</td>\n",
       "      <td>4.791211</td>\n",
       "    </tr>\n",
       "    <tr>\n",
       "      <th>2</th>\n",
       "      <td>2</td>\n",
       "      <td>73.0</td>\n",
       "      <td>0.3</td>\n",
       "      <td>90.0</td>\n",
       "      <td>100</td>\n",
       "      <td>0.263</td>\n",
       "      <td>GAUSSIAN</td>\n",
       "      <td>7</td>\n",
       "      <td>6.083</td>\n",
       "      <td>1.062</td>\n",
       "      <td>...</td>\n",
       "      <td>0.917311</td>\n",
       "      <td>5.659223</td>\n",
       "      <td>0.917311</td>\n",
       "      <td>5.659223</td>\n",
       "      <td>0.917311</td>\n",
       "      <td>5.659223</td>\n",
       "      <td>0.917311</td>\n",
       "      <td>5.659223</td>\n",
       "      <td>0.917311</td>\n",
       "      <td>5.659223</td>\n",
       "    </tr>\n",
       "    <tr>\n",
       "      <th>3</th>\n",
       "      <td>3</td>\n",
       "      <td>73.0</td>\n",
       "      <td>0.3</td>\n",
       "      <td>90.0</td>\n",
       "      <td>100</td>\n",
       "      <td>0.263</td>\n",
       "      <td>GAUSSIAN</td>\n",
       "      <td>7</td>\n",
       "      <td>6.083</td>\n",
       "      <td>1.302</td>\n",
       "      <td>...</td>\n",
       "      <td>0.331149</td>\n",
       "      <td>1.605525</td>\n",
       "      <td>0.331149</td>\n",
       "      <td>1.605525</td>\n",
       "      <td>0.331149</td>\n",
       "      <td>1.605525</td>\n",
       "      <td>0.331149</td>\n",
       "      <td>1.605525</td>\n",
       "      <td>0.331149</td>\n",
       "      <td>1.605525</td>\n",
       "    </tr>\n",
       "    <tr>\n",
       "      <th>4</th>\n",
       "      <td>4</td>\n",
       "      <td>73.0</td>\n",
       "      <td>0.3</td>\n",
       "      <td>90.0</td>\n",
       "      <td>100</td>\n",
       "      <td>0.263</td>\n",
       "      <td>GAUSSIAN</td>\n",
       "      <td>7</td>\n",
       "      <td>6.083</td>\n",
       "      <td>1.001</td>\n",
       "      <td>...</td>\n",
       "      <td>0.613173</td>\n",
       "      <td>5.218114</td>\n",
       "      <td>0.613173</td>\n",
       "      <td>5.218114</td>\n",
       "      <td>0.613173</td>\n",
       "      <td>5.218114</td>\n",
       "      <td>0.613173</td>\n",
       "      <td>5.218114</td>\n",
       "      <td>0.613173</td>\n",
       "      <td>5.218114</td>\n",
       "    </tr>\n",
       "  </tbody>\n",
       "</table>\n",
       "<p>5 rows × 310 columns</p>\n",
       "</div>"
      ],
      "text/plain": [
       "   OBJID-g  H0-g  Om0-g  exposure_time-g  numPix-g  pixel_scale-g psf_type-g  \\\n",
       "0        0  73.0    0.3             90.0       100          0.263   GAUSSIAN   \n",
       "1        1  73.0    0.3             90.0       100          0.263   GAUSSIAN   \n",
       "2        2  73.0    0.3             90.0       100          0.263   GAUSSIAN   \n",
       "3        3  73.0    0.3             90.0       100          0.263   GAUSSIAN   \n",
       "4        4  73.0    0.3             90.0       100          0.263   GAUSSIAN   \n",
       "\n",
       "   read_noise-g  ccd_gain-g  seeing-g  ...  PLANE_1-REDSHIFT-g  \\\n",
       "0             7       6.083     1.062  ...                 NaN   \n",
       "1             7       6.083     0.943  ...            0.713107   \n",
       "2             7       6.083     1.062  ...            0.917311   \n",
       "3             7       6.083     1.302  ...            0.331149   \n",
       "4             7       6.083     1.001  ...            0.613173   \n",
       "\n",
       "   PLANE_2-REDSHIFT-g  PLANE_1-REDSHIFT-r  PLANE_2-REDSHIFT-r  \\\n",
       "0                 NaN                 NaN                 NaN   \n",
       "1            4.791211            0.713107            4.791211   \n",
       "2            5.659223            0.917311            5.659223   \n",
       "3            1.605525            0.331149            1.605525   \n",
       "4            5.218114            0.613173            5.218114   \n",
       "\n",
       "  PLANE_1-REDSHIFT-i PLANE_2-REDSHIFT-i  PLANE_1-REDSHIFT-z  \\\n",
       "0                NaN                NaN                 NaN   \n",
       "1           0.713107           4.791211            0.713107   \n",
       "2           0.917311           5.659223            0.917311   \n",
       "3           0.331149           1.605525            0.331149   \n",
       "4           0.613173           5.218114            0.613173   \n",
       "\n",
       "   PLANE_2-REDSHIFT-z PLANE_1-REDSHIFT-Y  PLANE_2-REDSHIFT-Y  \n",
       "0                 NaN                NaN                 NaN  \n",
       "1            4.791211           0.713107            4.791211  \n",
       "2            5.659223           0.917311            5.659223  \n",
       "3            1.605525           0.331149            1.605525  \n",
       "4            5.218114           0.613173            5.218114  \n",
       "\n",
       "[5 rows x 310 columns]"
      ]
     },
     "execution_count": 2,
     "metadata": {},
     "output_type": "execute_result"
    }
   ],
   "source": [
    "metadata = pd.read_csv(image_pre_path+'metadata.txt')\n",
    "metadata.head()"
   ]
  },
  {
   "cell_type": "code",
   "execution_count": 3,
   "id": "fe0d48fe",
   "metadata": {},
   "outputs": [
    {
     "data": {
      "text/html": [
       "<div>\n",
       "<style scoped>\n",
       "    .dataframe tbody tr th:only-of-type {\n",
       "        vertical-align: middle;\n",
       "    }\n",
       "\n",
       "    .dataframe tbody tr th {\n",
       "        vertical-align: top;\n",
       "    }\n",
       "\n",
       "    .dataframe thead th {\n",
       "        text-align: right;\n",
       "    }\n",
       "</style>\n",
       "<table border=\"1\" class=\"dataframe\">\n",
       "  <thead>\n",
       "    <tr style=\"text-align: right;\">\n",
       "      <th></th>\n",
       "      <th>sys</th>\n",
       "      <th>nsersic_pred</th>\n",
       "      <th>nsersic_true</th>\n",
       "      <th>rsersic_pred</th>\n",
       "      <th>rsersic_true</th>\n",
       "      <th>thetae_pred</th>\n",
       "      <th>thetae_true</th>\n",
       "    </tr>\n",
       "  </thead>\n",
       "  <tbody>\n",
       "    <tr>\n",
       "      <th>0</th>\n",
       "      <td>6724.0</td>\n",
       "      <td>3.596910</td>\n",
       "      <td>3.346877</td>\n",
       "      <td>6.450897</td>\n",
       "      <td>7.128520</td>\n",
       "      <td>4.014574</td>\n",
       "      <td>3.810371</td>\n",
       "    </tr>\n",
       "    <tr>\n",
       "      <th>1</th>\n",
       "      <td>6474.0</td>\n",
       "      <td>4.226019</td>\n",
       "      <td>4.437576</td>\n",
       "      <td>7.009513</td>\n",
       "      <td>7.760050</td>\n",
       "      <td>4.060344</td>\n",
       "      <td>3.796621</td>\n",
       "    </tr>\n",
       "    <tr>\n",
       "      <th>2</th>\n",
       "      <td>4680.0</td>\n",
       "      <td>3.345616</td>\n",
       "      <td>2.880337</td>\n",
       "      <td>6.313189</td>\n",
       "      <td>6.676155</td>\n",
       "      <td>4.276320</td>\n",
       "      <td>3.958710</td>\n",
       "    </tr>\n",
       "    <tr>\n",
       "      <th>3</th>\n",
       "      <td>863.0</td>\n",
       "      <td>4.366602</td>\n",
       "      <td>3.749100</td>\n",
       "      <td>7.990428</td>\n",
       "      <td>8.290760</td>\n",
       "      <td>3.233206</td>\n",
       "      <td>3.111711</td>\n",
       "    </tr>\n",
       "    <tr>\n",
       "      <th>4</th>\n",
       "      <td>7287.0</td>\n",
       "      <td>4.010775</td>\n",
       "      <td>4.032496</td>\n",
       "      <td>6.966737</td>\n",
       "      <td>7.123261</td>\n",
       "      <td>3.436713</td>\n",
       "      <td>3.338077</td>\n",
       "    </tr>\n",
       "  </tbody>\n",
       "</table>\n",
       "</div>"
      ],
      "text/plain": [
       "      sys  nsersic_pred  nsersic_true  rsersic_pred  rsersic_true  \\\n",
       "0  6724.0      3.596910      3.346877      6.450897      7.128520   \n",
       "1  6474.0      4.226019      4.437576      7.009513      7.760050   \n",
       "2  4680.0      3.345616      2.880337      6.313189      6.676155   \n",
       "3   863.0      4.366602      3.749100      7.990428      8.290760   \n",
       "4  7287.0      4.010775      4.032496      6.966737      7.123261   \n",
       "\n",
       "   thetae_pred  thetae_true  \n",
       "0     4.014574     3.810371  \n",
       "1     4.060344     3.796621  \n",
       "2     4.276320     3.958710  \n",
       "3     3.233206     3.111711  \n",
       "4     3.436713     3.338077  "
      ]
     },
     "execution_count": 3,
     "metadata": {},
     "output_type": "execute_result"
    }
   ],
   "source": [
    "dl_results = pd.read_csv('./dl_results/DL_results.csv')\n",
    "dl_results.head()"
   ]
  },
  {
   "cell_type": "code",
   "execution_count": 4,
   "id": "90f15c96",
   "metadata": {},
   "outputs": [],
   "source": [
    "limits = np.histogram(dl_results['thetae_true'], bins=50)[1]"
   ]
  },
  {
   "cell_type": "code",
   "execution_count": 5,
   "id": "a570942d",
   "metadata": {
    "scrolled": true
   },
   "outputs": [
    {
     "data": {
      "image/png": "[encoded data removed]",
      "text/plain": [
       "<Figure size 1152x288 with 3 Axes>"
      ]
     },
     "metadata": {
      "needs_background": "light"
     },
     "output_type": "display_data"
    }
   ],
   "source": [
    "variables = ['thetae', 'nsersic', 'rsersic']\n",
    "variables_lattex = ['$θ_E$ (arcsec)', '$n$', '$r$']\n",
    "\n",
    "mean = []\n",
    "upper_sigma = []\n",
    "lower_sigma = []\n",
    "X_ = []\n",
    "saved_limits = []\n",
    "for i in range(3):\n",
    "    mean.append([])\n",
    "    upper_sigma.append([])\n",
    "    lower_sigma.append([])\n",
    "    X_.append([])\n",
    "    \n",
    "for i in range(0, len(variables)):\n",
    "    limits = np.histogram(dl_results[variables[i]+'_true'], bins=30)[1]\n",
    "    saved_limits.append(limits)\n",
    "    for j in range(0, len(limits)-1):\n",
    "        if len(dl_results[variables[i]+'_pred'][(dl_results[variables[i]+'_true'] < limits[j+1]) & (dl_results[variables[i]+'_true'] > limits[j])]) > 0:\n",
    "            mean[i].append(np.mean(dl_results[variables[i]+'_pred'][(dl_results[variables[i]+'_true'] < limits[j+1]) & (dl_results[variables[i]+'_true'] > limits[j])]))\n",
    "            lower_error, upper_error = np.percentile(dl_results[variables[i]+'_pred'][(dl_results[variables[i]+'_true'] < limits[j+1]) & (dl_results[variables[i]+'_true'] > limits[j])], [15.85, 84.05])\n",
    "            lower_sigma[i].append(lower_error)\n",
    "            upper_sigma[i].append(upper_error)\n",
    "            X_[i].append(limits[j] + (limits[i+1]-limits[i])/2)\n",
    "    \n",
    "fig, ax = plt.subplots(1, len(variables), figsize=(16, 4))\n",
    "for i in range(0, len(variables)):\n",
    "    ax[i].fill_between(np.array(X_[i]), np.array(lower_sigma[i]), np.array(upper_sigma[i]), color = 'darkblue', alpha=0.5, zorder=1)\n",
    "    ax[i].plot(X_[i], np.array(lower_sigma[i]), 'darkblue', lw=2, zorder=2)\n",
    "    ax[i].plot(X_[i], np.array(upper_sigma[i]), 'darkblue', lw=2, zorder=2)\n",
    "    ax[i].plot(X_[i], mean[i], \"w\", lw=2, zorder=2)\n",
    "    ax[i].plot(X_[i],X_[i], 'salmon', lw=3., linestyle='dotted', zorder=3)\n",
    "    ax[i].set_xlabel(variables_lattex[i])"
   ]
  },
  {
   "cell_type": "code",
   "execution_count": 6,
   "id": "68c8cdd9",
   "metadata": {},
   "outputs": [],
   "source": [
    "bayes_sys_fit = metadata.iloc[dl_results['sys']]\n",
    "bayes_sys_fit = bayes_sys_fit[(bayes_sys_fit['PLANE_1-OBJECT_1-MASS_PROFILE_1-theta_E-g'] < 6.) & (bayes_sys_fit['PLANE_1-OBJECT_1-MASS_PROFILE_1-theta_E-g'] > 2.)]\n",
    "bayes_sys_fit = bayes_sys_fit[(bayes_sys_fit['PLANE_2-OBJECT_1-LIGHT_PROFILE_1-n_sersic-g'] < 5.) & (bayes_sys_fit['PLANE_2-OBJECT_1-LIGHT_PROFILE_1-n_sersic-g'] > 2.5)]\n",
    "bayes_sys_fit = bayes_sys_fit[(bayes_sys_fit['PLANE_2-OBJECT_1-LIGHT_PROFILE_1-R_sersic-g'] < 6.5) & (bayes_sys_fit['PLANE_2-OBJECT_1-LIGHT_PROFILE_1-R_sersic-g'] > 2.5)]\n",
    "bayes_sys_fit.reset_index(inplace=True)"
   ]
  },
  {
   "cell_type": "code",
   "execution_count": 7,
   "id": "b982dd0f",
   "metadata": {},
   "outputs": [
    {
     "data": {
      "text/html": [
       "<div>\n",
       "<style scoped>\n",
       "    .dataframe tbody tr th:only-of-type {\n",
       "        vertical-align: middle;\n",
       "    }\n",
       "\n",
       "    .dataframe tbody tr th {\n",
       "        vertical-align: top;\n",
       "    }\n",
       "\n",
       "    .dataframe thead th {\n",
       "        text-align: right;\n",
       "    }\n",
       "</style>\n",
       "<table border=\"1\" class=\"dataframe\">\n",
       "  <thead>\n",
       "    <tr style=\"text-align: right;\">\n",
       "      <th></th>\n",
       "      <th>index</th>\n",
       "      <th>OBJID-g</th>\n",
       "      <th>H0-g</th>\n",
       "      <th>Om0-g</th>\n",
       "      <th>exposure_time-g</th>\n",
       "      <th>numPix-g</th>\n",
       "      <th>pixel_scale-g</th>\n",
       "      <th>psf_type-g</th>\n",
       "      <th>read_noise-g</th>\n",
       "      <th>ccd_gain-g</th>\n",
       "      <th>...</th>\n",
       "      <th>PLANE_1-REDSHIFT-g</th>\n",
       "      <th>PLANE_2-REDSHIFT-g</th>\n",
       "      <th>PLANE_1-REDSHIFT-r</th>\n",
       "      <th>PLANE_2-REDSHIFT-r</th>\n",
       "      <th>PLANE_1-REDSHIFT-i</th>\n",
       "      <th>PLANE_2-REDSHIFT-i</th>\n",
       "      <th>PLANE_1-REDSHIFT-z</th>\n",
       "      <th>PLANE_2-REDSHIFT-z</th>\n",
       "      <th>PLANE_1-REDSHIFT-Y</th>\n",
       "      <th>PLANE_2-REDSHIFT-Y</th>\n",
       "    </tr>\n",
       "  </thead>\n",
       "  <tbody>\n",
       "    <tr>\n",
       "      <th>0</th>\n",
       "      <td>3018</td>\n",
       "      <td>3018</td>\n",
       "      <td>73.0</td>\n",
       "      <td>0.3</td>\n",
       "      <td>90.0</td>\n",
       "      <td>100</td>\n",
       "      <td>0.263</td>\n",
       "      <td>GAUSSIAN</td>\n",
       "      <td>7</td>\n",
       "      <td>6.083</td>\n",
       "      <td>...</td>\n",
       "      <td>0.420062</td>\n",
       "      <td>3.956041</td>\n",
       "      <td>0.420062</td>\n",
       "      <td>3.956041</td>\n",
       "      <td>0.420062</td>\n",
       "      <td>3.956041</td>\n",
       "      <td>0.420062</td>\n",
       "      <td>3.956041</td>\n",
       "      <td>0.420062</td>\n",
       "      <td>3.956041</td>\n",
       "    </tr>\n",
       "    <tr>\n",
       "      <th>1</th>\n",
       "      <td>3088</td>\n",
       "      <td>3088</td>\n",
       "      <td>73.0</td>\n",
       "      <td>0.3</td>\n",
       "      <td>90.0</td>\n",
       "      <td>100</td>\n",
       "      <td>0.263</td>\n",
       "      <td>GAUSSIAN</td>\n",
       "      <td>7</td>\n",
       "      <td>6.083</td>\n",
       "      <td>...</td>\n",
       "      <td>0.930279</td>\n",
       "      <td>4.575132</td>\n",
       "      <td>0.930279</td>\n",
       "      <td>4.575132</td>\n",
       "      <td>0.930279</td>\n",
       "      <td>4.575132</td>\n",
       "      <td>0.930279</td>\n",
       "      <td>4.575132</td>\n",
       "      <td>0.930279</td>\n",
       "      <td>4.575132</td>\n",
       "    </tr>\n",
       "    <tr>\n",
       "      <th>2</th>\n",
       "      <td>543</td>\n",
       "      <td>543</td>\n",
       "      <td>73.0</td>\n",
       "      <td>0.3</td>\n",
       "      <td>90.0</td>\n",
       "      <td>100</td>\n",
       "      <td>0.263</td>\n",
       "      <td>GAUSSIAN</td>\n",
       "      <td>7</td>\n",
       "      <td>6.083</td>\n",
       "      <td>...</td>\n",
       "      <td>0.895384</td>\n",
       "      <td>3.550403</td>\n",
       "      <td>0.895384</td>\n",
       "      <td>3.550403</td>\n",
       "      <td>0.895384</td>\n",
       "      <td>3.550403</td>\n",
       "      <td>0.895384</td>\n",
       "      <td>3.550403</td>\n",
       "      <td>0.895384</td>\n",
       "      <td>3.550403</td>\n",
       "    </tr>\n",
       "    <tr>\n",
       "      <th>3</th>\n",
       "      <td>9294</td>\n",
       "      <td>9294</td>\n",
       "      <td>73.0</td>\n",
       "      <td>0.3</td>\n",
       "      <td>90.0</td>\n",
       "      <td>100</td>\n",
       "      <td>0.263</td>\n",
       "      <td>GAUSSIAN</td>\n",
       "      <td>7</td>\n",
       "      <td>6.083</td>\n",
       "      <td>...</td>\n",
       "      <td>0.520792</td>\n",
       "      <td>5.157018</td>\n",
       "      <td>0.520792</td>\n",
       "      <td>5.157018</td>\n",
       "      <td>0.520792</td>\n",
       "      <td>5.157018</td>\n",
       "      <td>0.520792</td>\n",
       "      <td>5.157018</td>\n",
       "      <td>0.520792</td>\n",
       "      <td>5.157018</td>\n",
       "    </tr>\n",
       "    <tr>\n",
       "      <th>4</th>\n",
       "      <td>12071</td>\n",
       "      <td>12071</td>\n",
       "      <td>73.0</td>\n",
       "      <td>0.3</td>\n",
       "      <td>90.0</td>\n",
       "      <td>100</td>\n",
       "      <td>0.263</td>\n",
       "      <td>GAUSSIAN</td>\n",
       "      <td>7</td>\n",
       "      <td>6.083</td>\n",
       "      <td>...</td>\n",
       "      <td>0.434458</td>\n",
       "      <td>3.278104</td>\n",
       "      <td>0.434458</td>\n",
       "      <td>3.278104</td>\n",
       "      <td>0.434458</td>\n",
       "      <td>3.278104</td>\n",
       "      <td>0.434458</td>\n",
       "      <td>3.278104</td>\n",
       "      <td>0.434458</td>\n",
       "      <td>3.278104</td>\n",
       "    </tr>\n",
       "  </tbody>\n",
       "</table>\n",
       "<p>5 rows × 311 columns</p>\n",
       "</div>"
      ],
      "text/plain": [
       "   index  OBJID-g  H0-g  Om0-g  exposure_time-g  numPix-g  pixel_scale-g  \\\n",
       "0   3018     3018  73.0    0.3             90.0       100          0.263   \n",
       "1   3088     3088  73.0    0.3             90.0       100          0.263   \n",
       "2    543      543  73.0    0.3             90.0       100          0.263   \n",
       "3   9294     9294  73.0    0.3             90.0       100          0.263   \n",
       "4  12071    12071  73.0    0.3             90.0       100          0.263   \n",
       "\n",
       "  psf_type-g  read_noise-g  ccd_gain-g  ...  PLANE_1-REDSHIFT-g  \\\n",
       "0   GAUSSIAN             7       6.083  ...            0.420062   \n",
       "1   GAUSSIAN             7       6.083  ...            0.930279   \n",
       "2   GAUSSIAN             7       6.083  ...            0.895384   \n",
       "3   GAUSSIAN             7       6.083  ...            0.520792   \n",
       "4   GAUSSIAN             7       6.083  ...            0.434458   \n",
       "\n",
       "   PLANE_2-REDSHIFT-g  PLANE_1-REDSHIFT-r  PLANE_2-REDSHIFT-r  \\\n",
       "0            3.956041            0.420062            3.956041   \n",
       "1            4.575132            0.930279            4.575132   \n",
       "2            3.550403            0.895384            3.550403   \n",
       "3            5.157018            0.520792            5.157018   \n",
       "4            3.278104            0.434458            3.278104   \n",
       "\n",
       "   PLANE_1-REDSHIFT-i PLANE_2-REDSHIFT-i PLANE_1-REDSHIFT-z  \\\n",
       "0            0.420062           3.956041           0.420062   \n",
       "1            0.930279           4.575132           0.930279   \n",
       "2            0.895384           3.550403           0.895384   \n",
       "3            0.520792           5.157018           0.520792   \n",
       "4            0.434458           3.278104           0.434458   \n",
       "\n",
       "   PLANE_2-REDSHIFT-z  PLANE_1-REDSHIFT-Y PLANE_2-REDSHIFT-Y  \n",
       "0            3.956041            0.420062           3.956041  \n",
       "1            4.575132            0.930279           4.575132  \n",
       "2            3.550403            0.895384           3.550403  \n",
       "3            5.157018            0.520792           5.157018  \n",
       "4            3.278104            0.434458           3.278104  \n",
       "\n",
       "[5 rows x 311 columns]"
      ]
     },
     "execution_count": 7,
     "metadata": {},
     "output_type": "execute_result"
    }
   ],
   "source": [
    "bayes_sys_fit.head()"
   ]
  },
  {
   "cell_type": "code",
   "execution_count": 8,
   "id": "3bd1f5ac",
   "metadata": {},
   "outputs": [],
   "source": [
    "pixel_scale = bayes_sys_fit['pixel_scale-g'][0]\n",
    "exposure_time = bayes_sys_fit['exposure_time-g'][0]\n",
    "N_sys = 10\n",
    "\n",
    "cutouts = []\n",
    "psf = []\n",
    "noise_map = []\n",
    "for i in range(N_sys):\n",
    "    cutouts.append ([])\n",
    "    psf.append([])\n",
    "    noise_map.append([])\n",
    "\n",
    "for i in range(N_sys):\n",
    "    for j in range(0, len(bands_simulated)):\n",
    "        cutouts[i].append(fits.open(image_pre_path+bands_simulated[j]+'/'+str(bayes_sys_fit['OBJID-g'][i])+'.fits')[0].data)\n",
    "        kwargs_psf = {'psf_type': 'GAUSSIAN', 'fwhm': bayes_sys_fit['seeing-'+bands_simulated[j]][i], 'pixel_size': bayes_sys_fit['pixel_scale-g'][0], 'truncation': 4/bayes_sys_fit['seeing-'+bands_simulated[j]][i]}\n",
    "        psf_class = PSF(**kwargs_psf)\n",
    "        psf[i].append(psf_class.kernel_point_source/np.max(psf_class.kernel_point_source))\n",
    "        noise_map[i].append(np.sqrt((cutouts[i][j]*exposure_time+float(bayes_sys_fit['sky_brightness-'+str(bands_simulated[j])][i]**2)))/exposure_time)"
   ]
  },
  {
   "cell_type": "code",
   "execution_count": 9,
   "id": "baef0473",
   "metadata": {},
   "outputs": [
    {
     "data": {
      "image/png": "[encoded data removed]",
      "text/plain": [
       "<Figure size 432x288 with 1 Axes>"
      ]
     },
     "metadata": {},
     "output_type": "display_data"
    }
   ],
   "source": [
    "view_image_rgb(cutouts[0])"
   ]
  },
  {
   "cell_type": "markdown",
   "id": "22de3bec",
   "metadata": {},
   "source": [
    "## building inner and outter lens light \n",
    "\n",
    "* lens light mask"
   ]
  },
  {
   "cell_type": "code",
   "execution_count": 10,
   "id": "cb1590f2",
   "metadata": {},
   "outputs": [],
   "source": [
    "image_model_optionlist = np.linspace(0, len(cutouts), len(cutouts)+1, dtype=int)"
   ]
  },
  {
   "cell_type": "code",
   "execution_count": 11,
   "id": "4aa3802f",
   "metadata": {},
   "outputs": [
    {
     "data": {
      "application/vnd.jupyter.widget-view+json": {
       "model_id": "69fdf65646a24c76a66ce900d5f70a17",
       "version_major": 2,
       "version_minor": 0
      },
      "text/plain": [
       "interactive(children=(Dropdown(description='Component:', options=(0, 1, 2, 3, 4, 5, 6, 7, 8, 9, 10), value=0),…"
      ]
     },
     "metadata": {},
     "output_type": "display_data"
    }
   ],
   "source": [
    "def update_graph(n):\n",
    "    \"\"\"\n",
    "    def function to update our visual graph\n",
    "    i: int\n",
    "        option, system\n",
    "    \"\"\"\n",
    "    imaging_for_mask = al.Imaging(al.Array2D.manual(np.array(cutouts[n][2], dtype=float), pixel_scales=float(pixel_scale)), # cutout\n",
    "                                  al.Array2D.manual(np.array(noise_map[n][2], dtype=float), pixel_scales=float(pixel_scale)), # noise_map \n",
    "                                  al.Kernel2D.manual(np.array(psf[n][2], dtype=float), pixel_scales=float(pixel_scale))) # psf\n",
    "\n",
    "    mask = al.Mask2D.circular(shape_native=imaging_for_mask.shape_native, pixel_scales=imaging_for_mask.pixel_scales, radius=1.2)\n",
    "    imaging_for_mask = imaging_for_mask.apply_mask(mask=mask)\n",
    "\n",
    "    visuals_2d = aplt.Visuals2D()\n",
    "    array_plotter = aplt.Array2DPlotter(array=imaging_for_mask.image, visuals_2d=visuals_2d)\n",
    "    array_plotter.figure_2d()\n",
    "    \n",
    "n = widgets.Dropdown(options=image_model_optionlist, value=0, description='Component:', disabled=False)\n",
    "widgets.interactive(update_graph,n = n)"
   ]
  },
  {
   "cell_type": "markdown",
   "id": "c564ba06",
   "metadata": {},
   "source": [
    "* lens system mask"
   ]
  },
  {
   "cell_type": "code",
   "execution_count": 12,
   "id": "53c31ea4",
   "metadata": {},
   "outputs": [
    {
     "data": {
      "application/vnd.jupyter.widget-view+json": {
       "model_id": "5f034b4e1fd4420387589bfc962a41ed",
       "version_major": 2,
       "version_minor": 0
      },
      "text/plain": [
       "interactive(children=(Dropdown(description='Component:', options=(0, 1, 2, 3, 4, 5, 6, 7, 8, 9, 10), value=0),…"
      ]
     },
     "metadata": {},
     "output_type": "display_data"
    }
   ],
   "source": [
    "def update_graph(n):\n",
    "    \"\"\"\n",
    "    def function to update our visual graph\n",
    "    i: int\n",
    "        option, system\n",
    "    \"\"\"\n",
    "    imaging_for_mask = al.Imaging(al.Array2D.manual(np.array(cutouts[n][0], dtype=float), pixel_scales=float(pixel_scale)), # cutout\n",
    "                                  al.Array2D.manual(np.array(noise_map[n][0], dtype=float), pixel_scales=float(pixel_scale)), # noise_map \n",
    "                                  al.Kernel2D.manual(np.array(psf[n][0], dtype=float), pixel_scales=float(pixel_scale))) # psf\n",
    "\n",
    "    mask = al.Mask2D.circular(shape_native=imaging_for_mask.shape_native, pixel_scales=imaging_for_mask.pixel_scales, radius=8.0)\n",
    "    imaging_for_mask = imaging_for_mask.apply_mask(mask=mask)\n",
    "\n",
    "    visuals_2d = aplt.Visuals2D()\n",
    "    array_plotter = aplt.Array2DPlotter(array=imaging_for_mask.image, visuals_2d=visuals_2d)\n",
    "    array_plotter.figure_2d()\n",
    "    \n",
    "n = widgets.Dropdown(options=image_model_optionlist, value=0, description='Component:', disabled=False)\n",
    "widgets.interactive(update_graph,n = n)"
   ]
  },
  {
   "cell_type": "markdown",
   "id": "e4507e93",
   "metadata": {},
   "source": [
    "## modelization "
   ]
  },
  {
   "cell_type": "code",
   "execution_count": 13,
   "id": "f04c554a",
   "metadata": {},
   "outputs": [],
   "source": [
    "class apply_pipeline:\n",
    "    def __init__(self, imaging_object, system_identifier_name, lens_redshift, source_redshift, core_usage=3):\n",
    "        \n",
    "        self.imaging_object = imaging_object\n",
    "        self.system_identifier_name = system_identifier_name\n",
    "        self.lens_redshift = lens_redshift\n",
    "        self.source_redshift = source_redshift\n",
    "        self.core_usage = core_usage\n",
    "        \n",
    "    def fit_lens_light(self, nlive, lens_light_radius=1.2):\n",
    "        # applying a mask\n",
    "        mask = al.Mask2D.circular(shape_native=self.imaging_object.shape_native, pixel_scales=self.imaging_object.pixel_scales, radius=lens_light_radius)\n",
    "        masked_object = self.imaging_object.apply_mask(mask=mask)\n",
    "        # model\n",
    "        source_bulge = af.Model(al.lmp.EllSersic)\n",
    "        source_galaxy_model = af.Model(al.Galaxy,\n",
    "                                         redshift=self.source_redshift,\n",
    "                                         bulge_0=source_bulge)\n",
    "        lens_galaxy_model = af.Model(al.Galaxy,\n",
    "                                       redshift=self.lens_redshift)\n",
    "        # combining our previous components\n",
    "        lens_light_model = af.Collection(galaxies=af.Collection(lens=lens_galaxy_model, source=source_galaxy_model))\n",
    "        # autolens fit full bright distribution\n",
    "        search = af.DynestyStatic(path_prefix = './',\n",
    "                                  unique_tag = str(self.system_identifier_name)+'_lens_light_step_0',\n",
    "                                  nlive = nlive,\n",
    "                                  number_of_cores = self.core_usage) # be carefull here! verify your core numbers\n",
    "        analysis = al.AnalysisImaging(dataset=masked_object)\n",
    "        step_0_result = search.fit(model=lens_light_model, analysis=analysis)\n",
    "        return step_0_result\n",
    "    \n",
    "    def fit_system(self, original_image, original_noise_map, original_psf, unmasked_lens_model, nlive, pixel_scale, prior_variables=[], predictions_dataframe=[], lower_limits=[], upper_limits=[], system_radius=8.0, use_predictions=False):\n",
    "        original_image = al.Array2D.manual(np.array(original_image, dtype=float), pixel_scales=float(pixel_scale))\n",
    "        residual_image = original_image - unmasked_lens_model\n",
    "        new_image_object = al.Imaging(residual_image, # cutout\n",
    "                                      al.Array2D.manual(np.array(original_noise_map, dtype=float), pixel_scales=float(pixel_scale)), # noise_map \n",
    "                                      al.Kernel2D.manual(np.array(original_psf, dtype=float), pixel_scales=float(pixel_scale))) # psf\n",
    "\n",
    "        mask = al.Mask2D.circular(shape_native=new_image_object.shape_native, pixel_scales=new_image_object.pixel_scales, radius=system_radius)\n",
    "        masked_object = new_image_object.apply_mask(mask=mask)\n",
    "\n",
    "        # source galaxy model\n",
    "        bulge = af.Model(al.lmp.EllSersic)\n",
    "        source_galaxy_model = af.Model(al.Galaxy,\n",
    "                                       redshift=self.source_redshift,\n",
    "                                       bulge=bulge)\n",
    "        # lens galaxy model\n",
    "        lens_galaxy_model = af.Model(al.Galaxy,\n",
    "                                     redshift=self.lens_redshift ,\n",
    "                                     mass=al.mp.EllIsothermal)    \n",
    "        if use_predictions:\n",
    "            priors = []\n",
    "            for n in range(0, len(prior_variables)):\n",
    "                priors.append([float(predictions_dataframe[prior_variables[n]+'_pred']-0.1*predictions_dataframe[prior_variables[n]+'_pred']), float(predictions_dataframe[prior_variables[n]+'_pred']+0.1*predictions_dataframe[prior_variables[n]+'_pred'])])\n",
    "                \n",
    "                '''\n",
    "                lowest_index = np.where(np.abs(np.array(lower_limits[n])-float(predictions_dataframe[prior_variables[n]+'_pred'])) == np.min(np.abs(np.array(lower_limits[n])-float(predictions_dataframe[prior_variables[n]+'_pred']))))[0][0]\n",
    "                highest_index = np.where(np.abs(np.array(upper_limits[n])-float(predictions_dataframe[prior_variables[n]+'_pred'])) == np.min(np.abs(np.array(upper_limits[n])-float(predictions_dataframe[prior_variables[n]+'_pred']))))[0][0]+1\n",
    "                print('=============')\n",
    "                print(lower_limits[n][lowest_index], upper_limits[n][highest_index])\n",
    "                print(float(predictions_dataframe[prior_variables[n]+'_pred'])-lower_limits[n][lowest_index])\n",
    "                print(float(predictions_dataframe[prior_variables[n]+'_pred'])-upper_limits[n][highest_index])\n",
    "                priors.append([float(predictions_dataframe[prior_variables[n]+'_pred'])-2*np.abs(float(predictions_dataframe[prior_variables[n]+'_pred'])-lower_limits[n][lowest_index]), float(predictions_dataframe[prior_variables[n]+'_pred'])+2*np.abs(float(predictions_dataframe[prior_variables[n]+'_pred'])-upper_limits[n][highest_index])]) \n",
    "                '''\n",
    "            lens_galaxy_model.mass.einstein_radius = af.UniformPrior(lower_limit=priors[0][0], upper_limit=priors[0][1])\n",
    "            source_galaxy_model.bulge.sersic_index  = af.UniformPrior(lower_limit=priors[1][0], upper_limit=priors[1][1])\n",
    "            source_galaxy_model.bulge.effective_radius = af.UniformPrior(lower_limit=priors[2][0], upper_limit=priors[2][1])\n",
    "            \n",
    "\n",
    "        autolens_model = af.Collection(galaxies=af.Collection(lens=lens_galaxy_model, source=source_galaxy_model))\n",
    "        \n",
    "        # autolens fit full bright distribution\n",
    "        search = af.DynestyStatic(path_prefix = './',\n",
    "                                  unique_tag = str(self.system_identifier_name) + '_lens_light_step_1',\n",
    "                                  nlive = nlive,\n",
    "                                  number_of_cores = self.core_usage) # be carefull here! verify your core numbers\n",
    "        analysis = al.AnalysisImaging(dataset=masked_object)\n",
    "        step_1_result = search.fit(model=autolens_model, analysis=analysis) # fbd = full bright distribution\n",
    "        return step_1_result"
   ]
  },
  {
   "cell_type": "code",
   "execution_count": 14,
   "id": "1fd42f9a",
   "metadata": {
    "scrolled": true
   },
   "outputs": [
    {
     "name": "stdout",
     "output_type": "stream",
     "text": [
      "2022-03-09 17:56:29,268 - autofit.non_linear.abstract_search - INFO - Creating search\n",
      "2022-03-09 17:56:29,268 - root - INFO - Starting search\n",
      "2022-03-09 17:56:29,310 - root - INFO - Already completed, skipping non-linear search.\n",
      "2022-03-09 17:56:29,319 - root - INFO - Removing zip file\n",
      "2022-03-09 17:56:29,692 - autofit.non_linear.abstract_search - INFO - Creating search\n",
      "2022-03-09 17:56:29,693 - root - INFO - Starting search\n",
      "2022-03-09 17:56:29,774 - root - INFO - Already completed, skipping non-linear search.\n",
      "2022-03-09 17:56:29,801 - root - INFO - Removing zip file\n",
      "2022-03-09 17:56:30,305 - autofit.non_linear.abstract_search - INFO - Creating search\n",
      "2022-03-09 17:56:30,307 - root - INFO - Starting search\n",
      "2022-03-09 17:56:30,343 - root - INFO - Already completed, skipping non-linear search.\n",
      "2022-03-09 17:56:30,352 - root - INFO - Removing zip file\n",
      "2022-03-09 17:56:30,718 - autofit.non_linear.abstract_search - INFO - Creating search\n",
      "2022-03-09 17:56:30,720 - root - INFO - Starting search\n",
      "2022-03-09 17:56:30,784 - root - INFO - Already completed, skipping non-linear search.\n",
      "2022-03-09 17:56:30,800 - root - INFO - Removing zip file\n",
      "2022-03-09 17:56:31,181 - autofit.non_linear.abstract_search - INFO - Creating search\n",
      "2022-03-09 17:56:31,183 - root - INFO - Starting search\n",
      "2022-03-09 17:56:31,189 - root - INFO - Saving path info\n",
      "2022-03-09 17:56:31,232 - root - INFO - Not complete. Starting non-linear search.\n",
      "2022-03-09 17:56:31,234 - root - INFO - number_of_cores == 3...\n",
      "2022-03-09 17:56:31,235 - root - WARNING - ...using SneakyPool. This copies the likelihood functionto each process on instantiation to avoid copying multipletimes.\n",
      "2022-03-09 17:56:31,244 - process 0 - INFO - created\n",
      "2022-03-09 17:56:31,261 - process 1 - INFO - created\n",
      "2022-03-09 17:56:31,276 - process 2 - INFO - created\n",
      "2022-03-09 17:56:31,397 - autofit.non_linear.initializer - INFO - Generating initial samples of model, which are subject to prior limits and other constraints.\n",
      "2022-03-09 17:56:31,569 - root - INFO - No Dynesty samples found, beginning new non-linear search. \n"
     ]
    },
    {
     "name": "stderr",
     "output_type": "stream",
     "text": [
      "/home/joao/.local/lib/python3.8/site-packages/dynesty/dynesty.py:373: UserWarning: A note of caution: having `nlive < ndim * (ndim + 1) // 2` may result in unconstrained bounding distributions.\n",
      "  warnings.warn(\"A note of caution: \"\n",
      "173it [00:05, 34.28it/s, bound: 21 | nc: 5 | ncall: 1505 | eff(%): 11.495 | loglstar:   -inf < -59.938 <    inf | logz: -68.474 +/-    nan | dlogz: 57.665 >  0.039]       /home/joao/.local/lib/python3.8/site-packages/dynesty/sampling.py:216: UserWarning: Random number generation appears to be extremely inefficient. Adjusting the scale-factor accordingly.\n",
      "  warnings.warn(\"Random number generation appears to be \"\n",
      "/home/joao/.local/lib/python3.8/site-packages/dynesty/sampling.py:216: UserWarning: Random number generation appears to be extremely inefficient. Adjusting the scale-factor accordingly.\n",
      "  warnings.warn(\"Random number generation appears to be \"\n",
      "600it [00:19, 30.43it/s, +30 | bound: 143 | nc: 1 | ncall: 5032 | eff(%): 12.520 | loglstar:   -inf < 17.258 <    inf | logz:  0.762 +/-    nan | dlogz:  0.001 >  0.039]\n"
     ]
    },
    {
     "name": "stdout",
     "output_type": "stream",
     "text": [
      "2022-03-09 17:56:51,559 - root - INFO - 5000 Iterations: Performing update (Visualization, outputting samples, etc.).\n"
     ]
    },
    {
     "name": "stderr",
     "output_type": "stream",
     "text": [
      "/home/joao/.local/lib/python3.8/site-packages/numpy/core/_asarray.py:102: VisibleDeprecationWarning: Creating an ndarray from ragged nested sequences (which is a list-or-tuple of lists-or-tuples-or ndarrays with different lengths or shapes) is deprecated. If you meant to do this, you must specify 'dtype=object' when creating the ndarray.\n",
      "  return array(a, dtype, copy=False, order=order)\n",
      "603it [00:00, 8889.24it/s, +30 | bound: 144 | nc: 1 | ncall: 5054 | eff(%): 12.525 | loglstar:   -inf < 17.267 <    inf | logz:  0.762 +/-    nan | dlogz:  0.001 >  0.039]\n"
     ]
    },
    {
     "name": "stdout",
     "output_type": "stream",
     "text": [
      "2022-03-09 17:57:00,054 - root - INFO - 10000 Iterations: Performing update (Visualization, outputting samples, etc.).\n"
     ]
    },
    {
     "name": "stderr",
     "output_type": "stream",
     "text": [
      "/home/joao/.local/lib/python3.8/site-packages/numpy/core/_asarray.py:102: VisibleDeprecationWarning: Creating an ndarray from ragged nested sequences (which is a list-or-tuple of lists-or-tuples-or ndarrays with different lengths or shapes) is deprecated. If you meant to do this, you must specify 'dtype=object' when creating the ndarray.\n",
      "  return array(a, dtype, copy=False, order=order)\n",
      "603it [00:00, 383671.92it/s, +30 | bound: 144 | nc: 1 | ncall: 5054 | eff(%): 12.525 | loglstar:   -inf < 17.267 <    inf | logz:  0.762 +/-    nan | dlogz:  0.001 >  0.039]\n"
     ]
    },
    {
     "name": "stdout",
     "output_type": "stream",
     "text": [
      "2022-03-09 17:57:08,095 - root - INFO - 15000 Iterations: Performing update (Visualization, outputting samples, etc.).\n"
     ]
    },
    {
     "name": "stderr",
     "output_type": "stream",
     "text": [
      "/home/joao/.local/lib/python3.8/site-packages/numpy/core/_asarray.py:102: VisibleDeprecationWarning: Creating an ndarray from ragged nested sequences (which is a list-or-tuple of lists-or-tuples-or ndarrays with different lengths or shapes) is deprecated. If you meant to do this, you must specify 'dtype=object' when creating the ndarray.\n",
      "  return array(a, dtype, copy=False, order=order)\n"
     ]
    },
    {
     "name": "stdout",
     "output_type": "stream",
     "text": [
      "2022-03-09 17:57:14,881 - root - INFO - 20000 Iterations: Performing update (Visualization, outputting samples, etc.).\n"
     ]
    },
    {
     "name": "stderr",
     "output_type": "stream",
     "text": [
      "/home/joao/.local/lib/python3.8/site-packages/numpy/core/_asarray.py:102: VisibleDeprecationWarning: Creating an ndarray from ragged nested sequences (which is a list-or-tuple of lists-or-tuples-or ndarrays with different lengths or shapes) is deprecated. If you meant to do this, you must specify 'dtype=object' when creating the ndarray.\n",
      "  return array(a, dtype, copy=False, order=order)\n"
     ]
    },
    {
     "name": "stdout",
     "output_type": "stream",
     "text": [
      "2022-03-09 17:57:34,513 - root - INFO - Removing zip file\n",
      "2022-03-09 17:57:34,870 - autofit.non_linear.abstract_search - INFO - Creating search\n",
      "2022-03-09 17:57:34,871 - root - INFO - Starting search\n",
      "2022-03-09 17:57:34,875 - root - INFO - Saving path info\n",
      "2022-03-09 17:57:34,935 - root - INFO - Not complete. Starting non-linear search.\n",
      "2022-03-09 17:57:34,937 - root - INFO - number_of_cores == 3...\n",
      "2022-03-09 17:57:34,939 - root - WARNING - ...using SneakyPool. This copies the likelihood functionto each process on instantiation to avoid copying multipletimes.\n",
      "2022-03-09 17:57:34,948 - process 0 - INFO - created\n",
      "2022-03-09 17:57:34,966 - process 1 - INFO - created\n",
      "2022-03-09 17:57:34,983 - process 2 - INFO - created\n",
      "2022-03-09 17:57:35,166 - autofit.non_linear.initializer - INFO - Generating initial samples of model, which are subject to prior limits and other constraints.\n",
      "2022-03-09 17:57:35,576 - root - INFO - No Dynesty samples found, beginning new non-linear search. \n"
     ]
    },
    {
     "name": "stderr",
     "output_type": "stream",
     "text": [
      "/home/joao/.local/lib/python3.8/site-packages/dynesty/dynesty.py:373: UserWarning: A note of caution: having `nlive < ndim * (ndim + 1) // 2` may result in unconstrained bounding distributions.\n",
      "  warnings.warn(\"A note of caution: \"\n",
      "106it [00:05, 16.01it/s, bound: 4 | nc: 5 | ncall: 1004 | eff(%): 10.558 | loglstar:   -inf < -3190.346 <    inf | logz: -3197.916 +/-  5.321 | dlogz: 2681.043 >  0.039] /home/joao/.local/lib/python3.8/site-packages/dynesty/sampling.py:216: UserWarning: Random number generation appears to be extremely inefficient. Adjusting the scale-factor accordingly.\n",
      "  warnings.warn(\"Random number generation appears to be \"\n",
      "618it [00:36, 16.74it/s, +30 | bound: 149 | nc: 1 | ncall: 5039 | eff(%): 12.860 | loglstar:   -inf < 1018.940 <    inf | logz: 994.578 +/-  5.550 | dlogz:  1.080 >  0.039]\n"
     ]
    },
    {
     "name": "stdout",
     "output_type": "stream",
     "text": [
      "2022-03-09 17:58:12,826 - root - INFO - 5000 Iterations: Performing update (Visualization, outputting samples, etc.).\n"
     ]
    },
    {
     "name": "stderr",
     "output_type": "stream",
     "text": [
      "/home/joao/.local/lib/python3.8/site-packages/numpy/core/_asarray.py:102: VisibleDeprecationWarning: Creating an ndarray from ragged nested sequences (which is a list-or-tuple of lists-or-tuples-or ndarrays with different lengths or shapes) is deprecated. If you meant to do this, you must specify 'dtype=object' when creating the ndarray.\n",
      "  return array(a, dtype, copy=False, order=order)\n",
      "/home/joao/.local/lib/python3.8/site-packages/numpy/core/_asarray.py:102: VisibleDeprecationWarning: Creating an ndarray from ragged nested sequences (which is a list-or-tuple of lists-or-tuples-or ndarrays with different lengths or shapes) is deprecated. If you meant to do this, you must specify 'dtype=object' when creating the ndarray.\n",
      "  return array(a, dtype, copy=False, order=order)\n",
      "/home/joao/.local/lib/python3.8/site-packages/numpy/core/_asarray.py:102: VisibleDeprecationWarning: Creating an ndarray from ragged nested sequences (which is a list-or-tuple of lists-or-tuples-or ndarrays with different lengths or shapes) is deprecated. If you meant to do this, you must specify 'dtype=object' when creating the ndarray.\n",
      "  return array(a, dtype, copy=False, order=order)\n",
      "1117it [00:26, 42.26it/s, +30 | bound: 289 | nc: 1 | ncall: 8827 | eff(%): 12.994 | loglstar:   -inf < 1032.836 <    inf | logz: 999.463 +/-  5.452 | dlogz:  0.001 >  0.039]\n"
     ]
    },
    {
     "name": "stdout",
     "output_type": "stream",
     "text": [
      "2022-03-09 17:59:25,377 - root - INFO - 10000 Iterations: Performing update (Visualization, outputting samples, etc.).\n"
     ]
    },
    {
     "name": "stderr",
     "output_type": "stream",
     "text": [
      "1117it [00:00, 875217.18it/s, +30 | bound: 289 | nc: 1 | ncall: 8827 | eff(%): 12.994 | loglstar:   -inf < 1032.836 <    inf | logz: 999.463 +/-  5.452 | dlogz:  0.001 >  0.039]\n"
     ]
    },
    {
     "name": "stdout",
     "output_type": "stream",
     "text": [
      "2022-03-09 18:00:15,391 - root - INFO - 15000 Iterations: Performing update (Visualization, outputting samples, etc.).\n",
      "2022-03-09 18:01:01,990 - root - INFO - 20000 Iterations: Performing update (Visualization, outputting samples, etc.).\n",
      "2022-03-09 18:02:10,597 - root - INFO - Removing zip file\n",
      "2022-03-09 18:02:11,042 - autofit.non_linear.abstract_search - INFO - Creating search\n",
      "2022-03-09 18:02:11,043 - root - INFO - Starting search\n",
      "2022-03-09 18:02:11,048 - root - INFO - Saving path info\n",
      "2022-03-09 18:02:11,097 - root - INFO - Not complete. Starting non-linear search.\n",
      "2022-03-09 18:02:11,101 - root - INFO - number_of_cores == 3...\n",
      "2022-03-09 18:02:11,102 - root - WARNING - ...using SneakyPool. This copies the likelihood functionto each process on instantiation to avoid copying multipletimes.\n",
      "2022-03-09 18:02:11,114 - process 0 - INFO - created\n",
      "2022-03-09 18:02:11,133 - process 1 - INFO - created\n",
      "2022-03-09 18:02:11,152 - process 2 - INFO - created\n",
      "2022-03-09 18:02:11,445 - autofit.non_linear.initializer - INFO - Generating initial samples of model, which are subject to prior limits and other constraints.\n",
      "2022-03-09 18:02:11,627 - root - INFO - No Dynesty samples found, beginning new non-linear search. \n"
     ]
    },
    {
     "name": "stderr",
     "output_type": "stream",
     "text": [
      "/home/joao/.local/lib/python3.8/site-packages/dynesty/dynesty.py:373: UserWarning: A note of caution: having `nlive < ndim * (ndim + 1) // 2` may result in unconstrained bounding distributions.\n",
      "  warnings.warn(\"A note of caution: \"\n",
      "534it [00:18, 29.34it/s, +30 | bound: 132 | nc: 1 | ncall: 5032 | eff(%): 11.208 | loglstar:   -inf < -0.438 <    inf | logz: -16.009 +/-  0.948 | dlogz:  0.005 >  0.039]\n"
     ]
    },
    {
     "name": "stdout",
     "output_type": "stream",
     "text": [
      "2022-03-09 18:02:30,043 - root - INFO - 5000 Iterations: Performing update (Visualization, outputting samples, etc.).\n"
     ]
    },
    {
     "name": "stderr",
     "output_type": "stream",
     "text": [
      "581it [00:01, 336.28it/s, +30 | bound: 146 | nc: 1 | ncall: 5410 | eff(%): 11.294 | loglstar:   -inf < -0.232 <    inf | logz: -16.005 +/-  0.941 | dlogz:  0.001 >  0.039]\n"
     ]
    },
    {
     "name": "stdout",
     "output_type": "stream",
     "text": [
      "2022-03-09 18:02:40,928 - root - INFO - 10000 Iterations: Performing update (Visualization, outputting samples, etc.).\n"
     ]
    },
    {
     "name": "stderr",
     "output_type": "stream",
     "text": [
      "/home/joao/.local/lib/python3.8/site-packages/numpy/core/_asarray.py:102: VisibleDeprecationWarning: Creating an ndarray from ragged nested sequences (which is a list-or-tuple of lists-or-tuples-or ndarrays with different lengths or shapes) is deprecated. If you meant to do this, you must specify 'dtype=object' when creating the ndarray.\n",
      "  return array(a, dtype, copy=False, order=order)\n",
      "581it [00:00, 388906.90it/s, +30 | bound: 146 | nc: 1 | ncall: 5410 | eff(%): 11.294 | loglstar:   -inf < -0.232 <    inf | logz: -16.005 +/-  0.941 | dlogz:  0.001 >  0.039]"
     ]
    },
    {
     "name": "stdout",
     "output_type": "stream",
     "text": [
      "2022-03-09 18:02:48,872 - root - INFO - 15000 Iterations: Performing update (Visualization, outputting samples, etc.).\n"
     ]
    },
    {
     "name": "stderr",
     "output_type": "stream",
     "text": [
      "\n",
      "/home/joao/.local/lib/python3.8/site-packages/numpy/core/_asarray.py:102: VisibleDeprecationWarning: Creating an ndarray from ragged nested sequences (which is a list-or-tuple of lists-or-tuples-or ndarrays with different lengths or shapes) is deprecated. If you meant to do this, you must specify 'dtype=object' when creating the ndarray.\n",
      "  return array(a, dtype, copy=False, order=order)\n"
     ]
    },
    {
     "name": "stdout",
     "output_type": "stream",
     "text": [
      "2022-03-09 18:02:57,021 - root - INFO - 20000 Iterations: Performing update (Visualization, outputting samples, etc.).\n"
     ]
    },
    {
     "name": "stderr",
     "output_type": "stream",
     "text": [
      "/home/joao/.local/lib/python3.8/site-packages/numpy/core/_asarray.py:102: VisibleDeprecationWarning: Creating an ndarray from ragged nested sequences (which is a list-or-tuple of lists-or-tuples-or ndarrays with different lengths or shapes) is deprecated. If you meant to do this, you must specify 'dtype=object' when creating the ndarray.\n",
      "  return array(a, dtype, copy=False, order=order)\n"
     ]
    },
    {
     "name": "stdout",
     "output_type": "stream",
     "text": [
      "2022-03-09 18:03:18,941 - root - INFO - Removing zip file\n",
      "2022-03-09 18:03:19,308 - autofit.non_linear.abstract_search - INFO - Creating search\n",
      "2022-03-09 18:03:19,310 - root - INFO - Starting search\n",
      "2022-03-09 18:03:19,314 - root - INFO - Saving path info\n",
      "2022-03-09 18:03:19,371 - root - INFO - Not complete. Starting non-linear search.\n",
      "2022-03-09 18:03:19,373 - root - INFO - number_of_cores == 3...\n",
      "2022-03-09 18:03:19,374 - root - WARNING - ...using SneakyPool. This copies the likelihood functionto each process on instantiation to avoid copying multipletimes.\n",
      "2022-03-09 18:03:19,382 - process 0 - INFO - created\n",
      "2022-03-09 18:03:19,400 - process 1 - INFO - created\n",
      "2022-03-09 18:03:19,416 - process 2 - INFO - created\n",
      "2022-03-09 18:03:19,789 - autofit.non_linear.initializer - INFO - Generating initial samples of model, which are subject to prior limits and other constraints.\n",
      "2022-03-09 18:03:20,264 - root - INFO - No Dynesty samples found, beginning new non-linear search. \n"
     ]
    },
    {
     "name": "stderr",
     "output_type": "stream",
     "text": [
      "/home/joao/.local/lib/python3.8/site-packages/dynesty/dynesty.py:373: UserWarning: A note of caution: having `nlive < ndim * (ndim + 1) // 2` may result in unconstrained bounding distributions.\n",
      "  warnings.warn(\"A note of caution: \"\n",
      "99it [00:06,  4.91it/s, bound: 1 | nc: 7 | ncall: 1085 | eff(%):  9.124 | loglstar:   -inf < -62341.754 <    inf | logz: -62349.095 +/-  2.794 | dlogz: 26593.257 >  0.039]  /home/joao/.local/lib/python3.8/site-packages/dynesty/sampling.py:216: UserWarning: Random number generation appears to be extremely inefficient. Adjusting the scale-factor accordingly.\n",
      "  warnings.warn(\"Random number generation appears to be \"\n",
      "135it [00:07, 26.34it/s, bound: 9 | nc: 5 | ncall: 1270 | eff(%): 10.630 | loglstar:   -inf < -50177.241 <    inf | logz: -50185.762 +/-  2.808 | dlogz: 26109.132 >  0.039]/home/joao/.local/lib/python3.8/site-packages/dynesty/sampling.py:216: UserWarning: Random number generation appears to be extremely inefficient. Adjusting the scale-factor accordingly.\n",
      "  warnings.warn(\"Random number generation appears to be \"\n",
      "147it [00:08, 22.19it/s, bound: 11 | nc: 5 | ncall: 1335 | eff(%): 11.011 | loglstar:   -inf < -46762.570 <    inf | logz: -46771.485 +/-  2.812 | dlogz: 27688.975 >  0.039]/home/joao/.local/lib/python3.8/site-packages/dynesty/sampling.py:216: UserWarning: Random number generation appears to be extremely inefficient. Adjusting the scale-factor accordingly.\n",
      "  warnings.warn(\"Random number generation appears to be \"\n",
      "663it [00:35, 18.55it/s, +30 | bound: 150 | nc: 1 | ncall: 5043 | eff(%): 13.742 | loglstar:   -inf < -3325.643 <    inf | logz: -3351.510 +/-  3.019 | dlogz:  1.099 >  0.039]\n"
     ]
    },
    {
     "name": "stdout",
     "output_type": "stream",
     "text": [
      "2022-03-09 18:03:56,365 - root - INFO - 5000 Iterations: Performing update (Visualization, outputting samples, etc.).\n"
     ]
    },
    {
     "name": "stderr",
     "output_type": "stream",
     "text": [
      "/home/joao/.local/lib/python3.8/site-packages/numpy/core/_asarray.py:102: VisibleDeprecationWarning: Creating an ndarray from ragged nested sequences (which is a list-or-tuple of lists-or-tuples-or ndarrays with different lengths or shapes) is deprecated. If you meant to do this, you must specify 'dtype=object' when creating the ndarray.\n",
      "  return array(a, dtype, copy=False, order=order)\n",
      "/home/joao/.local/lib/python3.8/site-packages/numpy/core/_asarray.py:102: VisibleDeprecationWarning: Creating an ndarray from ragged nested sequences (which is a list-or-tuple of lists-or-tuples-or ndarrays with different lengths or shapes) is deprecated. If you meant to do this, you must specify 'dtype=object' when creating the ndarray.\n",
      "  return array(a, dtype, copy=False, order=order)\n",
      "/home/joao/.local/lib/python3.8/site-packages/numpy/core/_asarray.py:102: VisibleDeprecationWarning: Creating an ndarray from ragged nested sequences (which is a list-or-tuple of lists-or-tuples-or ndarrays with different lengths or shapes) is deprecated. If you meant to do this, you must specify 'dtype=object' when creating the ndarray.\n",
      "  return array(a, dtype, copy=False, order=order)\n",
      "1361it [00:36, 36.98it/s, +30 | bound: 334 | nc: 1 | ncall: 10047 | eff(%): 13.845 | loglstar:   -inf < -2322.861 <    inf | logz: -2371.586 +/-  3.448 | dlogz:  1.080 >  0.039]\n"
     ]
    },
    {
     "name": "stdout",
     "output_type": "stream",
     "text": [
      "2022-03-09 18:05:24,213 - root - INFO - 10000 Iterations: Performing update (Visualization, outputting samples, etc.).\n"
     ]
    },
    {
     "name": "stderr",
     "output_type": "stream",
     "text": [
      "/home/joao/.local/lib/python3.8/site-packages/numpy/core/_asarray.py:102: VisibleDeprecationWarning: Creating an ndarray from ragged nested sequences (which is a list-or-tuple of lists-or-tuples-or ndarrays with different lengths or shapes) is deprecated. If you meant to do this, you must specify 'dtype=object' when creating the ndarray.\n",
      "  return array(a, dtype, copy=False, order=order)\n",
      "/home/joao/.local/lib/python3.8/site-packages/numpy/core/_asarray.py:102: VisibleDeprecationWarning: Creating an ndarray from ragged nested sequences (which is a list-or-tuple of lists-or-tuples-or ndarrays with different lengths or shapes) is deprecated. If you meant to do this, you must specify 'dtype=object' when creating the ndarray.\n",
      "  return array(a, dtype, copy=False, order=order)\n",
      "/home/joao/.local/lib/python3.8/site-packages/numpy/core/_asarray.py:102: VisibleDeprecationWarning: Creating an ndarray from ragged nested sequences (which is a list-or-tuple of lists-or-tuples-or ndarrays with different lengths or shapes) is deprecated. If you meant to do this, you must specify 'dtype=object' when creating the ndarray.\n",
      "  return array(a, dtype, copy=False, order=order)\n",
      "2150it [00:53, 40.52it/s, +30 | bound: 531 | nc: 1 | ncall: 15050 | eff(%): 14.485 | loglstar:   -inf < -2256.620 <    inf | logz: -2326.415 +/-  3.428 | dlogz:  0.016 >  0.039]\n"
     ]
    },
    {
     "name": "stdout",
     "output_type": "stream",
     "text": [
      "2022-03-09 18:07:11,597 - root - INFO - 15000 Iterations: Performing update (Visualization, outputting samples, etc.).\n"
     ]
    },
    {
     "name": "stderr",
     "output_type": "stream",
     "text": [
      "/home/joao/.local/lib/python3.8/site-packages/numpy/core/_asarray.py:102: VisibleDeprecationWarning: Creating an ndarray from ragged nested sequences (which is a list-or-tuple of lists-or-tuples-or ndarrays with different lengths or shapes) is deprecated. If you meant to do this, you must specify 'dtype=object' when creating the ndarray.\n",
      "  return array(a, dtype, copy=False, order=order)\n",
      "/home/joao/.local/lib/python3.8/site-packages/numpy/core/_asarray.py:102: VisibleDeprecationWarning: Creating an ndarray from ragged nested sequences (which is a list-or-tuple of lists-or-tuples-or ndarrays with different lengths or shapes) is deprecated. If you meant to do this, you must specify 'dtype=object' when creating the ndarray.\n",
      "  return array(a, dtype, copy=False, order=order)\n",
      "/home/joao/.local/lib/python3.8/site-packages/numpy/core/_asarray.py:102: VisibleDeprecationWarning: Creating an ndarray from ragged nested sequences (which is a list-or-tuple of lists-or-tuples-or ndarrays with different lengths or shapes) is deprecated. If you meant to do this, you must specify 'dtype=object' when creating the ndarray.\n",
      "  return array(a, dtype, copy=False, order=order)\n",
      "2265it [00:05, 434.24it/s, +30 | bound: 562 | nc: 1 | ncall: 15900 | eff(%): 14.434 | loglstar:   -inf < -2255.362 <    inf | logz: -2326.378 +/-  3.411 | dlogz:  0.001 >  0.039]\n"
     ]
    },
    {
     "name": "stdout",
     "output_type": "stream",
     "text": [
      "2022-03-09 18:08:16,384 - root - INFO - 20000 Iterations: Performing update (Visualization, outputting samples, etc.).\n"
     ]
    },
    {
     "name": "stderr",
     "output_type": "stream",
     "text": [
      "/home/joao/.local/lib/python3.8/site-packages/numpy/core/_asarray.py:102: VisibleDeprecationWarning: Creating an ndarray from ragged nested sequences (which is a list-or-tuple of lists-or-tuples-or ndarrays with different lengths or shapes) is deprecated. If you meant to do this, you must specify 'dtype=object' when creating the ndarray.\n",
      "  return array(a, dtype, copy=False, order=order)\n",
      "/home/joao/.local/lib/python3.8/site-packages/numpy/core/_asarray.py:102: VisibleDeprecationWarning: Creating an ndarray from ragged nested sequences (which is a list-or-tuple of lists-or-tuples-or ndarrays with different lengths or shapes) is deprecated. If you meant to do this, you must specify 'dtype=object' when creating the ndarray.\n",
      "  return array(a, dtype, copy=False, order=order)\n",
      "/home/joao/.local/lib/python3.8/site-packages/numpy/core/_asarray.py:102: VisibleDeprecationWarning: Creating an ndarray from ragged nested sequences (which is a list-or-tuple of lists-or-tuples-or ndarrays with different lengths or shapes) is deprecated. If you meant to do this, you must specify 'dtype=object' when creating the ndarray.\n",
      "  return array(a, dtype, copy=False, order=order)\n",
      "2265it [00:00, 1719163.69it/s, +30 | bound: 562 | nc: 1 | ncall: 15900 | eff(%): 14.434 | loglstar:   -inf < -2255.362 <    inf | logz: -2326.378 +/-  3.411 | dlogz:  0.001 >  0.039]\n"
     ]
    },
    {
     "name": "stdout",
     "output_type": "stream",
     "text": [
      "2022-03-09 18:09:01,058 - root - INFO - 25000 Iterations: Performing update (Visualization, outputting samples, etc.).\n"
     ]
    },
    {
     "name": "stderr",
     "output_type": "stream",
     "text": [
      "/home/joao/.local/lib/python3.8/site-packages/numpy/core/_asarray.py:102: VisibleDeprecationWarning: Creating an ndarray from ragged nested sequences (which is a list-or-tuple of lists-or-tuples-or ndarrays with different lengths or shapes) is deprecated. If you meant to do this, you must specify 'dtype=object' when creating the ndarray.\n",
      "  return array(a, dtype, copy=False, order=order)\n",
      "/home/joao/.local/lib/python3.8/site-packages/numpy/core/_asarray.py:102: VisibleDeprecationWarning: Creating an ndarray from ragged nested sequences (which is a list-or-tuple of lists-or-tuples-or ndarrays with different lengths or shapes) is deprecated. If you meant to do this, you must specify 'dtype=object' when creating the ndarray.\n",
      "  return array(a, dtype, copy=False, order=order)\n",
      "/home/joao/.local/lib/python3.8/site-packages/numpy/core/_asarray.py:102: VisibleDeprecationWarning: Creating an ndarray from ragged nested sequences (which is a list-or-tuple of lists-or-tuples-or ndarrays with different lengths or shapes) is deprecated. If you meant to do this, you must specify 'dtype=object' when creating the ndarray.\n",
      "  return array(a, dtype, copy=False, order=order)\n"
     ]
    },
    {
     "name": "stdout",
     "output_type": "stream",
     "text": [
      "2022-03-09 18:09:47,679 - root - INFO - 30000 Iterations: Performing update (Visualization, outputting samples, etc.).\n"
     ]
    },
    {
     "name": "stderr",
     "output_type": "stream",
     "text": [
      "/home/joao/.local/lib/python3.8/site-packages/dynesty/plotting.py:245: UserWarning: Attempting to set identical bottom == top == 0.0 results in singular transformations; automatically expanding.\n",
      "  axes[i].set_ylim([ymin, ymax])\n",
      "/home/joao/.local/lib/python3.8/site-packages/numpy/core/_asarray.py:102: VisibleDeprecationWarning: Creating an ndarray from ragged nested sequences (which is a list-or-tuple of lists-or-tuples-or ndarrays with different lengths or shapes) is deprecated. If you meant to do this, you must specify 'dtype=object' when creating the ndarray.\n",
      "  return array(a, dtype, copy=False, order=order)\n",
      "/home/joao/.local/lib/python3.8/site-packages/numpy/core/_asarray.py:102: VisibleDeprecationWarning: Creating an ndarray from ragged nested sequences (which is a list-or-tuple of lists-or-tuples-or ndarrays with different lengths or shapes) is deprecated. If you meant to do this, you must specify 'dtype=object' when creating the ndarray.\n",
      "  return array(a, dtype, copy=False, order=order)\n",
      "/home/joao/.local/lib/python3.8/site-packages/numpy/core/_asarray.py:102: VisibleDeprecationWarning: Creating an ndarray from ragged nested sequences (which is a list-or-tuple of lists-or-tuples-or ndarrays with different lengths or shapes) is deprecated. If you meant to do this, you must specify 'dtype=object' when creating the ndarray.\n",
      "  return array(a, dtype, copy=False, order=order)\n"
     ]
    },
    {
     "name": "stdout",
     "output_type": "stream",
     "text": [
      "2022-03-09 18:10:59,564 - root - INFO - Removing zip file\n",
      "2022-03-09 18:11:00,133 - autofit.non_linear.abstract_search - INFO - Creating search\n",
      "2022-03-09 18:11:00,135 - root - INFO - Starting search\n",
      "2022-03-09 18:11:00,140 - root - INFO - Saving path info\n",
      "2022-03-09 18:11:00,206 - root - INFO - Not complete. Starting non-linear search.\n",
      "2022-03-09 18:11:00,208 - root - INFO - number_of_cores == 3...\n",
      "2022-03-09 18:11:00,210 - root - WARNING - ...using SneakyPool. This copies the likelihood functionto each process on instantiation to avoid copying multipletimes.\n",
      "2022-03-09 18:11:00,222 - process 0 - INFO - created\n",
      "2022-03-09 18:11:00,240 - process 1 - INFO - created\n",
      "2022-03-09 18:11:00,258 - process 2 - INFO - created\n",
      "2022-03-09 18:11:00,799 - autofit.non_linear.initializer - INFO - Generating initial samples of model, which are subject to prior limits and other constraints.\n",
      "2022-03-09 18:11:01,005 - root - INFO - No Dynesty samples found, beginning new non-linear search. \n"
     ]
    },
    {
     "name": "stderr",
     "output_type": "stream",
     "text": [
      "/home/joao/.local/lib/python3.8/site-packages/dynesty/dynesty.py:373: UserWarning: A note of caution: having `nlive < ndim * (ndim + 1) // 2` may result in unconstrained bounding distributions.\n",
      "  warnings.warn(\"A note of caution: \"\n",
      "501it [00:12, 39.74it/s, +30 | bound: 102 | nc: 1 | ncall: 3824 | eff(%): 13.886 | loglstar:   -inf < 11.128 <    inf | logz: -2.035 +/-  0.792 | dlogz:  0.001 >  0.039]    \n"
     ]
    },
    {
     "name": "stdout",
     "output_type": "stream",
     "text": [
      "2022-03-09 18:11:13,783 - root - INFO - 5000 Iterations: Performing update (Visualization, outputting samples, etc.).\n"
     ]
    },
    {
     "name": "stderr",
     "output_type": "stream",
     "text": [
      "501it [00:00, 322094.77it/s, +30 | bound: 102 | nc: 1 | ncall: 3824 | eff(%): 13.886 | loglstar:   -inf < 11.128 <    inf | logz: -2.035 +/-  0.792 | dlogz:  0.001 >  0.039]"
     ]
    },
    {
     "name": "stdout",
     "output_type": "stream",
     "text": [
      "2022-03-09 18:11:20,564 - root - INFO - 10000 Iterations: Performing update (Visualization, outputting samples, etc.).\n"
     ]
    },
    {
     "name": "stderr",
     "output_type": "stream",
     "text": [
      "\n"
     ]
    },
    {
     "name": "stdout",
     "output_type": "stream",
     "text": [
      "2022-03-09 18:11:27,752 - root - INFO - 15000 Iterations: Performing update (Visualization, outputting samples, etc.).\n",
      "2022-03-09 18:11:53,239 - root - INFO - Removing zip file\n",
      "2022-03-09 18:11:53,609 - autofit.non_linear.abstract_search - INFO - Creating search\n",
      "2022-03-09 18:11:53,611 - root - INFO - Starting search\n",
      "2022-03-09 18:11:53,615 - root - INFO - Saving path info\n",
      "2022-03-09 18:11:53,669 - root - INFO - Not complete. Starting non-linear search.\n",
      "2022-03-09 18:11:53,674 - root - INFO - number_of_cores == 3...\n",
      "2022-03-09 18:11:53,675 - root - WARNING - ...using SneakyPool. This copies the likelihood functionto each process on instantiation to avoid copying multipletimes.\n",
      "2022-03-09 18:11:53,684 - process 0 - INFO - created\n",
      "2022-03-09 18:11:53,700 - process 1 - INFO - created\n",
      "2022-03-09 18:11:53,715 - process 2 - INFO - created\n",
      "2022-03-09 18:11:54,256 - autofit.non_linear.initializer - INFO - Generating initial samples of model, which are subject to prior limits and other constraints.\n",
      "2022-03-09 18:11:54,686 - root - INFO - No Dynesty samples found, beginning new non-linear search. \n"
     ]
    },
    {
     "name": "stderr",
     "output_type": "stream",
     "text": [
      "/home/joao/.local/lib/python3.8/site-packages/dynesty/dynesty.py:373: UserWarning: A note of caution: having `nlive < ndim * (ndim + 1) // 2` may result in unconstrained bounding distributions.\n",
      "  warnings.warn(\"A note of caution: \"\n",
      "164it [00:09, 16.21it/s, bound: 14 | nc: 5 | ncall: 1415 | eff(%): 11.590 | loglstar:   -inf < -81653.967 <    inf | logz: -81663.439 +/-  0.624 | dlogz: 37759.512 >  0.039]   /home/joao/.local/lib/python3.8/site-packages/dynesty/sampling.py:216: UserWarning: Random number generation appears to be extremely inefficient. Adjusting the scale-factor accordingly.\n",
      "  warnings.warn(\"Random number generation appears to be \"\n",
      "639it [00:38, 16.56it/s, +30 | bound: 145 | nc: 1 | ncall: 5035 | eff(%): 13.287 | loglstar:   -inf < -2273.704 <    inf | logz: -2298.784 +/-  1.256 | dlogz:  1.099 >  0.039]\n"
     ]
    },
    {
     "name": "stdout",
     "output_type": "stream",
     "text": [
      "2022-03-09 18:12:33,561 - root - INFO - 5000 Iterations: Performing update (Visualization, outputting samples, etc.).\n"
     ]
    },
    {
     "name": "stderr",
     "output_type": "stream",
     "text": [
      "1309it [00:36, 36.18it/s, +30 | bound: 324 | nc: 1 | ncall: 10040 | eff(%): 13.337 | loglstar:   -inf < -1412.058 <    inf | logz: -1456.546 +/-  1.568 | dlogz:  0.144 >  0.039]\n"
     ]
    },
    {
     "name": "stdout",
     "output_type": "stream",
     "text": [
      "2022-03-09 18:13:56,502 - root - INFO - 10000 Iterations: Performing update (Visualization, outputting samples, etc.).\n"
     ]
    },
    {
     "name": "stderr",
     "output_type": "stream",
     "text": [
      "1919it [00:27, 70.39it/s, +30 | bound: 477 | nc: 1 | ncall: 14180 | eff(%): 13.745 | loglstar:   -inf < -1386.833 <    inf | logz: -1446.487 +/-  1.786 | dlogz:  0.001 >  0.039]\n"
     ]
    },
    {
     "name": "stdout",
     "output_type": "stream",
     "text": [
      "2022-03-09 18:15:12,925 - root - INFO - 15000 Iterations: Performing update (Visualization, outputting samples, etc.).\n"
     ]
    },
    {
     "name": "stderr",
     "output_type": "stream",
     "text": [
      "1919it [00:00, 644993.14it/s, +30 | bound: 477 | nc: 1 | ncall: 14180 | eff(%): 13.745 | loglstar:   -inf < -1386.833 <    inf | logz: -1446.487 +/-  1.786 | dlogz:  0.001 >  0.039]\n"
     ]
    },
    {
     "name": "stdout",
     "output_type": "stream",
     "text": [
      "2022-03-09 18:16:03,325 - root - INFO - 20000 Iterations: Performing update (Visualization, outputting samples, etc.).\n",
      "2022-03-09 18:16:49,716 - root - INFO - 25000 Iterations: Performing update (Visualization, outputting samples, etc.).\n"
     ]
    },
    {
     "name": "stderr",
     "output_type": "stream",
     "text": [
      "/home/joao/.local/lib/python3.8/site-packages/dynesty/plotting.py:245: UserWarning: Attempting to set identical bottom == top == 0.0 results in singular transformations; automatically expanding.\n",
      "  axes[i].set_ylim([ymin, ymax])\n"
     ]
    },
    {
     "name": "stdout",
     "output_type": "stream",
     "text": [
      "2022-03-09 18:18:11,450 - root - INFO - Removing zip file\n",
      "2022-03-09 18:18:12,097 - autofit.non_linear.abstract_search - INFO - Creating search\n",
      "2022-03-09 18:18:12,099 - root - INFO - Starting search\n",
      "2022-03-09 18:18:12,104 - root - INFO - Saving path info\n",
      "2022-03-09 18:18:12,151 - root - INFO - Not complete. Starting non-linear search.\n",
      "2022-03-09 18:18:12,153 - root - INFO - number_of_cores == 3...\n",
      "2022-03-09 18:18:12,154 - root - WARNING - ...using SneakyPool. This copies the likelihood functionto each process on instantiation to avoid copying multipletimes.\n",
      "2022-03-09 18:18:12,163 - process 0 - INFO - created\n",
      "2022-03-09 18:18:12,180 - process 1 - INFO - created\n",
      "2022-03-09 18:18:12,199 - process 2 - INFO - created\n",
      "2022-03-09 18:18:12,807 - autofit.non_linear.initializer - INFO - Generating initial samples of model, which are subject to prior limits and other constraints.\n",
      "2022-03-09 18:18:12,975 - root - INFO - No Dynesty samples found, beginning new non-linear search. \n"
     ]
    },
    {
     "name": "stderr",
     "output_type": "stream",
     "text": [
      "/home/joao/.local/lib/python3.8/site-packages/dynesty/dynesty.py:373: UserWarning: A note of caution: having `nlive < ndim * (ndim + 1) // 2` may result in unconstrained bounding distributions.\n",
      "  warnings.warn(\"A note of caution: \"\n",
      "508it [00:16, 29.97it/s, +30 | bound: 127 | nc: 1 | ncall: 5054 | eff(%): 10.645 | loglstar:   -inf < 15.317 <    inf | logz:  1.882 +/-  0.864 | dlogz:  0.001 >  0.039]"
     ]
    },
    {
     "name": "stdout",
     "output_type": "stream",
     "text": [
      "2022-03-09 18:18:30,103 - root - INFO - 5000 Iterations: Performing update (Visualization, outputting samples, etc.).\n"
     ]
    },
    {
     "name": "stderr",
     "output_type": "stream",
     "text": [
      "\n",
      "510it [00:00, 6875.47it/s, +30 | bound: 128 | nc: 1 | ncall: 5066 | eff(%): 10.659 | loglstar:   -inf < 15.317 <    inf | logz:  1.882 +/-  0.864 | dlogz:  0.001 >  0.039]\n"
     ]
    },
    {
     "name": "stdout",
     "output_type": "stream",
     "text": [
      "2022-03-09 18:18:36,641 - root - INFO - 10000 Iterations: Performing update (Visualization, outputting samples, etc.).\n"
     ]
    },
    {
     "name": "stderr",
     "output_type": "stream",
     "text": [
      "510it [00:00, 174791.23it/s, +30 | bound: 128 | nc: 1 | ncall: 5066 | eff(%): 10.659 | loglstar:   -inf < 15.317 <    inf | logz:  1.882 +/-  0.864 | dlogz:  0.001 >  0.039]\n"
     ]
    },
    {
     "name": "stdout",
     "output_type": "stream",
     "text": [
      "2022-03-09 18:18:48,176 - root - INFO - 15000 Iterations: Performing update (Visualization, outputting samples, etc.).\n",
      "2022-03-09 18:18:56,328 - root - INFO - 20000 Iterations: Performing update (Visualization, outputting samples, etc.).\n",
      "2022-03-09 18:19:19,424 - root - INFO - Removing zip file\n",
      "2022-03-09 18:19:19,754 - autofit.non_linear.abstract_search - INFO - Creating search\n",
      "2022-03-09 18:19:19,755 - root - INFO - Starting search\n",
      "2022-03-09 18:19:19,760 - root - INFO - Saving path info\n",
      "2022-03-09 18:19:19,819 - root - INFO - Not complete. Starting non-linear search.\n",
      "2022-03-09 18:19:19,821 - root - INFO - number_of_cores == 3...\n",
      "2022-03-09 18:19:19,822 - root - WARNING - ...using SneakyPool. This copies the likelihood functionto each process on instantiation to avoid copying multipletimes.\n",
      "2022-03-09 18:19:19,832 - process 0 - INFO - created\n",
      "2022-03-09 18:19:19,853 - process 1 - INFO - created\n",
      "2022-03-09 18:19:19,872 - process 2 - INFO - created\n",
      "2022-03-09 18:19:20,568 - autofit.non_linear.initializer - INFO - Generating initial samples of model, which are subject to prior limits and other constraints.\n",
      "2022-03-09 18:19:20,969 - root - INFO - No Dynesty samples found, beginning new non-linear search. \n"
     ]
    },
    {
     "name": "stderr",
     "output_type": "stream",
     "text": [
      "/home/joao/.local/lib/python3.8/site-packages/dynesty/dynesty.py:373: UserWarning: A note of caution: having `nlive < ndim * (ndim + 1) // 2` may result in unconstrained bounding distributions.\n",
      "  warnings.warn(\"A note of caution: \"\n",
      "618it [00:31, 19.53it/s, +30 | bound: 142 | nc: 1 | ncall: 5035 | eff(%): 12.870 | loglstar:   -inf < -571.191 <    inf | logz: -595.582 +/-  2.023 | dlogz:  1.099 >  0.039] \n"
     ]
    },
    {
     "name": "stdout",
     "output_type": "stream",
     "text": [
      "2022-03-09 18:19:52,848 - root - INFO - 5000 Iterations: Performing update (Visualization, outputting samples, etc.).\n"
     ]
    },
    {
     "name": "stderr",
     "output_type": "stream",
     "text": [
      "/home/joao/.local/lib/python3.8/site-packages/numpy/core/_asarray.py:102: VisibleDeprecationWarning: Creating an ndarray from ragged nested sequences (which is a list-or-tuple of lists-or-tuples-or ndarrays with different lengths or shapes) is deprecated. If you meant to do this, you must specify 'dtype=object' when creating the ndarray.\n",
      "  return array(a, dtype, copy=False, order=order)\n",
      "/home/joao/.local/lib/python3.8/site-packages/numpy/core/_asarray.py:102: VisibleDeprecationWarning: Creating an ndarray from ragged nested sequences (which is a list-or-tuple of lists-or-tuples-or ndarrays with different lengths or shapes) is deprecated. If you meant to do this, you must specify 'dtype=object' when creating the ndarray.\n",
      "  return array(a, dtype, copy=False, order=order)\n",
      "/home/joao/.local/lib/python3.8/site-packages/numpy/core/_asarray.py:102: VisibleDeprecationWarning: Creating an ndarray from ragged nested sequences (which is a list-or-tuple of lists-or-tuples-or ndarrays with different lengths or shapes) is deprecated. If you meant to do this, you must specify 'dtype=object' when creating the ndarray.\n",
      "  return array(a, dtype, copy=False, order=order)\n",
      "1276it [00:41, 30.49it/s, +30 | bound: 331 | nc: 1 | ncall: 10039 | eff(%): 13.009 | loglstar:   -inf < -250.088 <    inf | logz: -292.439 +/-  2.250 | dlogz:  0.052 >  0.039]\n"
     ]
    },
    {
     "name": "stdout",
     "output_type": "stream",
     "text": [
      "2022-03-09 18:21:24,423 - root - INFO - 10000 Iterations: Performing update (Visualization, outputting samples, etc.).\n"
     ]
    },
    {
     "name": "stderr",
     "output_type": "stream",
     "text": [
      "/home/joao/.local/lib/python3.8/site-packages/numpy/core/_asarray.py:102: VisibleDeprecationWarning: Creating an ndarray from ragged nested sequences (which is a list-or-tuple of lists-or-tuples-or ndarrays with different lengths or shapes) is deprecated. If you meant to do this, you must specify 'dtype=object' when creating the ndarray.\n",
      "  return array(a, dtype, copy=False, order=order)\n",
      "/home/joao/.local/lib/python3.8/site-packages/numpy/core/_asarray.py:102: VisibleDeprecationWarning: Creating an ndarray from ragged nested sequences (which is a list-or-tuple of lists-or-tuples-or ndarrays with different lengths or shapes) is deprecated. If you meant to do this, you must specify 'dtype=object' when creating the ndarray.\n",
      "  return array(a, dtype, copy=False, order=order)\n",
      "/home/joao/.local/lib/python3.8/site-packages/numpy/core/_asarray.py:102: VisibleDeprecationWarning: Creating an ndarray from ragged nested sequences (which is a list-or-tuple of lists-or-tuples-or ndarrays with different lengths or shapes) is deprecated. If you meant to do this, you must specify 'dtype=object' when creating the ndarray.\n",
      "  return array(a, dtype, copy=False, order=order)\n",
      "1460it [00:08, 168.96it/s, +30 | bound: 379 | nc: 1 | ncall: 11324 | eff(%): 13.158 | loglstar:   -inf < -247.694 <    inf | logz: -292.316 +/-  2.203 | dlogz:  0.001 >  0.039]\n"
     ]
    },
    {
     "name": "stdout",
     "output_type": "stream",
     "text": [
      "2022-03-09 18:22:22,194 - root - INFO - 15000 Iterations: Performing update (Visualization, outputting samples, etc.).\n"
     ]
    },
    {
     "name": "stderr",
     "output_type": "stream",
     "text": [
      "/home/joao/.local/lib/python3.8/site-packages/numpy/core/_asarray.py:102: VisibleDeprecationWarning: Creating an ndarray from ragged nested sequences (which is a list-or-tuple of lists-or-tuples-or ndarrays with different lengths or shapes) is deprecated. If you meant to do this, you must specify 'dtype=object' when creating the ndarray.\n",
      "  return array(a, dtype, copy=False, order=order)\n",
      "/home/joao/.local/lib/python3.8/site-packages/numpy/core/_asarray.py:102: VisibleDeprecationWarning: Creating an ndarray from ragged nested sequences (which is a list-or-tuple of lists-or-tuples-or ndarrays with different lengths or shapes) is deprecated. If you meant to do this, you must specify 'dtype=object' when creating the ndarray.\n",
      "  return array(a, dtype, copy=False, order=order)\n",
      "/home/joao/.local/lib/python3.8/site-packages/numpy/core/_asarray.py:102: VisibleDeprecationWarning: Creating an ndarray from ragged nested sequences (which is a list-or-tuple of lists-or-tuples-or ndarrays with different lengths or shapes) is deprecated. If you meant to do this, you must specify 'dtype=object' when creating the ndarray.\n",
      "  return array(a, dtype, copy=False, order=order)\n",
      "1460it [00:00, 981674.23it/s, +30 | bound: 379 | nc: 1 | ncall: 11324 | eff(%): 13.158 | loglstar:   -inf < -247.694 <    inf | logz: -292.316 +/-  2.203 | dlogz:  0.001 >  0.039]\n"
     ]
    },
    {
     "name": "stdout",
     "output_type": "stream",
     "text": [
      "2022-03-09 18:23:36,286 - root - INFO - 20000 Iterations: Performing update (Visualization, outputting samples, etc.).\n"
     ]
    },
    {
     "name": "stderr",
     "output_type": "stream",
     "text": [
      "/home/joao/.local/lib/python3.8/site-packages/numpy/core/_asarray.py:102: VisibleDeprecationWarning: Creating an ndarray from ragged nested sequences (which is a list-or-tuple of lists-or-tuples-or ndarrays with different lengths or shapes) is deprecated. If you meant to do this, you must specify 'dtype=object' when creating the ndarray.\n",
      "  return array(a, dtype, copy=False, order=order)\n",
      "/home/joao/.local/lib/python3.8/site-packages/numpy/core/_asarray.py:102: VisibleDeprecationWarning: Creating an ndarray from ragged nested sequences (which is a list-or-tuple of lists-or-tuples-or ndarrays with different lengths or shapes) is deprecated. If you meant to do this, you must specify 'dtype=object' when creating the ndarray.\n",
      "  return array(a, dtype, copy=False, order=order)\n",
      "/home/joao/.local/lib/python3.8/site-packages/numpy/core/_asarray.py:102: VisibleDeprecationWarning: Creating an ndarray from ragged nested sequences (which is a list-or-tuple of lists-or-tuples-or ndarrays with different lengths or shapes) is deprecated. If you meant to do this, you must specify 'dtype=object' when creating the ndarray.\n",
      "  return array(a, dtype, copy=False, order=order)\n"
     ]
    },
    {
     "name": "stdout",
     "output_type": "stream",
     "text": [
      "2022-03-09 18:24:28,844 - root - INFO - 25000 Iterations: Performing update (Visualization, outputting samples, etc.).\n"
     ]
    },
    {
     "name": "stderr",
     "output_type": "stream",
     "text": [
      "/home/joao/.local/lib/python3.8/site-packages/numpy/core/_asarray.py:102: VisibleDeprecationWarning: Creating an ndarray from ragged nested sequences (which is a list-or-tuple of lists-or-tuples-or ndarrays with different lengths or shapes) is deprecated. If you meant to do this, you must specify 'dtype=object' when creating the ndarray.\n",
      "  return array(a, dtype, copy=False, order=order)\n",
      "/home/joao/.local/lib/python3.8/site-packages/numpy/core/_asarray.py:102: VisibleDeprecationWarning: Creating an ndarray from ragged nested sequences (which is a list-or-tuple of lists-or-tuples-or ndarrays with different lengths or shapes) is deprecated. If you meant to do this, you must specify 'dtype=object' when creating the ndarray.\n",
      "  return array(a, dtype, copy=False, order=order)\n",
      "/home/joao/.local/lib/python3.8/site-packages/numpy/core/_asarray.py:102: VisibleDeprecationWarning: Creating an ndarray from ragged nested sequences (which is a list-or-tuple of lists-or-tuples-or ndarrays with different lengths or shapes) is deprecated. If you meant to do this, you must specify 'dtype=object' when creating the ndarray.\n",
      "  return array(a, dtype, copy=False, order=order)\n"
     ]
    },
    {
     "name": "stdout",
     "output_type": "stream",
     "text": [
      "2022-03-09 18:26:19,726 - root - INFO - Removing zip file\n",
      "2022-03-09 18:26:21,090 - autofit.non_linear.abstract_search - INFO - Creating search\n",
      "2022-03-09 18:26:21,096 - root - INFO - Starting search\n",
      "2022-03-09 18:26:21,115 - root - INFO - Saving path info\n",
      "2022-03-09 18:26:21,253 - root - INFO - Not complete. Starting non-linear search.\n",
      "2022-03-09 18:26:21,261 - root - INFO - number_of_cores == 3...\n",
      "2022-03-09 18:26:21,263 - root - WARNING - ...using SneakyPool. This copies the likelihood functionto each process on instantiation to avoid copying multipletimes.\n",
      "2022-03-09 18:26:21,298 - process 0 - INFO - created\n",
      "2022-03-09 18:26:21,338 - process 1 - INFO - created\n",
      "2022-03-09 18:26:21,378 - process 2 - INFO - created\n",
      "2022-03-09 18:26:26,366 - autofit.non_linear.initializer - INFO - Generating initial samples of model, which are subject to prior limits and other constraints.\n",
      "2022-03-09 18:26:27,069 - root - INFO - No Dynesty samples found, beginning new non-linear search. \n"
     ]
    },
    {
     "name": "stderr",
     "output_type": "stream",
     "text": [
      "/home/joao/.local/lib/python3.8/site-packages/dynesty/dynesty.py:373: UserWarning: A note of caution: having `nlive < ndim * (ndim + 1) // 2` may result in unconstrained bounding distributions.\n",
      "  warnings.warn(\"A note of caution: \"\n",
      "292it [00:21, 13.78it/s, +30 | bound: 48 | nc: 1 | ncall: 2449 | eff(%): 13.148 | loglstar:   -inf < 26.053 <    inf | logz: 19.744 +/-  0.584 | dlogz:  0.001 >  0.039]\n"
     ]
    },
    {
     "name": "stdout",
     "output_type": "stream",
     "text": [
      "2022-03-09 18:26:48,537 - root - INFO - 5000 Iterations: Performing update (Visualization, outputting samples, etc.).\n"
     ]
    },
    {
     "name": "stderr",
     "output_type": "stream",
     "text": [
      "292it [00:00, 52249.86it/s, +30 | bound: 48 | nc: 1 | ncall: 2449 | eff(%): 13.148 | loglstar:   -inf < 26.053 <    inf | logz: 19.744 +/-  0.584 | dlogz:  0.001 >  0.039]\n"
     ]
    },
    {
     "name": "stdout",
     "output_type": "stream",
     "text": [
      "2022-03-09 18:27:07,553 - root - INFO - 10000 Iterations: Performing update (Visualization, outputting samples, etc.).\n",
      "2022-03-09 18:27:26,083 - root - INFO - 15000 Iterations: Performing update (Visualization, outputting samples, etc.).\n",
      "2022-03-09 18:28:16,574 - root - INFO - Removing zip file\n",
      "2022-03-09 18:28:17,533 - autofit.non_linear.abstract_search - INFO - Creating search\n",
      "2022-03-09 18:28:17,541 - root - INFO - Starting search\n",
      "2022-03-09 18:28:17,556 - root - INFO - Saving path info\n",
      "2022-03-09 18:28:17,717 - root - INFO - Not complete. Starting non-linear search.\n",
      "2022-03-09 18:28:17,725 - root - INFO - number_of_cores == 3...\n",
      "2022-03-09 18:28:17,729 - root - WARNING - ...using SneakyPool. This copies the likelihood functionto each process on instantiation to avoid copying multipletimes.\n",
      "2022-03-09 18:28:17,759 - process 0 - INFO - created\n",
      "2022-03-09 18:28:17,798 - process 1 - INFO - created\n",
      "2022-03-09 18:28:17,838 - process 2 - INFO - created\n",
      "2022-03-09 18:28:19,620 - autofit.non_linear.initializer - INFO - Generating initial samples of model, which are subject to prior limits and other constraints.\n",
      "2022-03-09 18:28:20,836 - root - INFO - No Dynesty samples found, beginning new non-linear search. \n"
     ]
    },
    {
     "name": "stderr",
     "output_type": "stream",
     "text": [
      "/home/joao/.local/lib/python3.8/site-packages/dynesty/dynesty.py:373: UserWarning: A note of caution: having `nlive < ndim * (ndim + 1) // 2` may result in unconstrained bounding distributions.\n",
      "  warnings.warn(\"A note of caution: \"\n",
      "127it [00:14, 13.60it/s, bound: 8 | nc: 5 | ncall: 1212 | eff(%): 10.479 | loglstar:   -inf < -19029.634 <    inf | logz: -19037.892 +/-  1.428 | dlogz: 12131.005 >  0.039] /home/joao/.local/lib/python3.8/site-packages/dynesty/sampling.py:216: UserWarning: Random number generation appears to be extremely inefficient. Adjusting the scale-factor accordingly.\n",
      "  warnings.warn(\"Random number generation appears to be \"\n",
      "263it [00:28,  6.39it/s, bound: 47 | nc: 6 | ncall: 2210 | eff(%): 11.900 | loglstar:   -inf < -5346.095 <    inf | logz: -5358.813 +/-  1.527 | dlogz: 4977.294 >  0.039]   /home/joao/.local/lib/python3.8/site-packages/dynesty/sampling.py:216: UserWarning: Random number generation appears to be extremely inefficient. Adjusting the scale-factor accordingly.\n",
      "  warnings.warn(\"Random number generation appears to be \"\n",
      "619it [01:07,  9.21it/s, +30 | bound: 147 | nc: 1 | ncall: 5043 | eff(%): 12.869 | loglstar:   -inf < 353.322 <    inf | logz: 328.999 +/-  1.674 | dlogz:  1.032 >  0.039]\n"
     ]
    },
    {
     "name": "stdout",
     "output_type": "stream",
     "text": [
      "2022-03-09 18:29:28,531 - root - INFO - 5000 Iterations: Performing update (Visualization, outputting samples, etc.).\n"
     ]
    },
    {
     "name": "stderr",
     "output_type": "stream",
     "text": [
      "/home/joao/.local/lib/python3.8/site-packages/numpy/core/_asarray.py:102: VisibleDeprecationWarning: Creating an ndarray from ragged nested sequences (which is a list-or-tuple of lists-or-tuples-or ndarrays with different lengths or shapes) is deprecated. If you meant to do this, you must specify 'dtype=object' when creating the ndarray.\n",
      "  return array(a, dtype, copy=False, order=order)\n",
      "/home/joao/.local/lib/python3.8/site-packages/numpy/core/_asarray.py:102: VisibleDeprecationWarning: Creating an ndarray from ragged nested sequences (which is a list-or-tuple of lists-or-tuples-or ndarrays with different lengths or shapes) is deprecated. If you meant to do this, you must specify 'dtype=object' when creating the ndarray.\n",
      "  return array(a, dtype, copy=False, order=order)\n",
      "/home/joao/.local/lib/python3.8/site-packages/numpy/core/_asarray.py:102: VisibleDeprecationWarning: Creating an ndarray from ragged nested sequences (which is a list-or-tuple of lists-or-tuples-or ndarrays with different lengths or shapes) is deprecated. If you meant to do this, you must specify 'dtype=object' when creating the ndarray.\n",
      "  return array(a, dtype, copy=False, order=order)\n",
      "1279it [00:45, 28.29it/s, +30 | bound: 334 | nc: 1 | ncall: 10050 | eff(%): 13.025 | loglstar:   -inf < 479.380 <    inf | logz: 440.466 +/-  1.958 | dlogz:  0.002 >  0.039]\n"
     ]
    },
    {
     "name": "stdout",
     "output_type": "stream",
     "text": [
      "2022-03-09 18:31:05,037 - root - INFO - 10000 Iterations: Performing update (Visualization, outputting samples, etc.).\n"
     ]
    },
    {
     "name": "stderr",
     "output_type": "stream",
     "text": [
      "1287it [00:00, 3510.77it/s, +30 | bound: 336 | nc: 1 | ncall: 10097 | eff(%): 13.043 | loglstar:   -inf < 479.386 <    inf | logz: 440.466 +/-  1.957 | dlogz:  0.001 >  0.039]\n"
     ]
    },
    {
     "name": "stdout",
     "output_type": "stream",
     "text": [
      "2022-03-09 18:32:14,095 - root - INFO - 15000 Iterations: Performing update (Visualization, outputting samples, etc.).\n"
     ]
    },
    {
     "name": "stderr",
     "output_type": "stream",
     "text": [
      "1287it [00:00, 933276.15it/s, +30 | bound: 336 | nc: 1 | ncall: 10097 | eff(%): 13.043 | loglstar:   -inf < 479.386 <    inf | logz: 440.466 +/-  1.957 | dlogz:  0.001 >  0.039]\n"
     ]
    },
    {
     "name": "stdout",
     "output_type": "stream",
     "text": [
      "2022-03-09 18:32:58,230 - root - INFO - 20000 Iterations: Performing update (Visualization, outputting samples, etc.).\n",
      "2022-03-09 18:33:37,333 - root - INFO - 25000 Iterations: Performing update (Visualization, outputting samples, etc.).\n",
      "2022-03-09 18:34:53,492 - root - INFO - Removing zip file\n",
      "2022-03-09 18:34:54,433 - autofit.non_linear.abstract_search - INFO - Creating search\n",
      "2022-03-09 18:34:54,437 - root - INFO - Starting search\n",
      "2022-03-09 18:34:54,446 - root - INFO - Saving path info\n",
      "2022-03-09 18:34:54,546 - root - INFO - Not complete. Starting non-linear search.\n",
      "2022-03-09 18:34:54,551 - root - INFO - number_of_cores == 3...\n",
      "2022-03-09 18:34:54,554 - root - WARNING - ...using SneakyPool. This copies the likelihood functionto each process on instantiation to avoid copying multipletimes.\n",
      "2022-03-09 18:34:54,571 - process 0 - INFO - created\n",
      "2022-03-09 18:34:54,602 - process 1 - INFO - created\n",
      "2022-03-09 18:34:54,633 - process 2 - INFO - created\n",
      "2022-03-09 18:34:57,112 - autofit.non_linear.initializer - INFO - Generating initial samples of model, which are subject to prior limits and other constraints.\n",
      "2022-03-09 18:34:57,571 - root - INFO - No Dynesty samples found, beginning new non-linear search. \n"
     ]
    },
    {
     "name": "stderr",
     "output_type": "stream",
     "text": [
      "/home/joao/.local/lib/python3.8/site-packages/dynesty/dynesty.py:373: UserWarning: A note of caution: having `nlive < ndim * (ndim + 1) // 2` may result in unconstrained bounding distributions.\n",
      "  warnings.warn(\"A note of caution: \"\n",
      "584it [00:19, 30.12it/s, +30 | bound: 144 | nc: 1 | ncall: 5035 | eff(%): 12.195 | loglstar:   -inf < -18.635 <    inf | logz: -37.853 +/-  1.119 | dlogz:  0.034 >  0.039]\n"
     ]
    },
    {
     "name": "stdout",
     "output_type": "stream",
     "text": [
      "2022-03-09 18:35:17,181 - root - INFO - 5000 Iterations: Performing update (Visualization, outputting samples, etc.).\n"
     ]
    },
    {
     "name": "stderr",
     "output_type": "stream",
     "text": [
      "691it [00:07, 90.03it/s, +30 | bound: 185 | nc: 1 | ncall: 6589 | eff(%): 10.942 | loglstar:   -inf < -18.431 <    inf | logz: -37.825 +/-  1.059 | dlogz:  0.001 >  0.039]\n"
     ]
    },
    {
     "name": "stdout",
     "output_type": "stream",
     "text": [
      "2022-03-09 18:35:32,244 - root - INFO - 10000 Iterations: Performing update (Visualization, outputting samples, etc.).\n"
     ]
    },
    {
     "name": "stderr",
     "output_type": "stream",
     "text": [
      "691it [00:00, 321636.23it/s, +30 | bound: 185 | nc: 1 | ncall: 6589 | eff(%): 10.942 | loglstar:   -inf < -18.431 <    inf | logz: -37.825 +/-  1.059 | dlogz:  0.001 >  0.039]\n"
     ]
    },
    {
     "name": "stdout",
     "output_type": "stream",
     "text": [
      "2022-03-09 18:35:38,953 - root - INFO - 15000 Iterations: Performing update (Visualization, outputting samples, etc.).\n",
      "2022-03-09 18:35:51,549 - root - INFO - 20000 Iterations: Performing update (Visualization, outputting samples, etc.).\n",
      "2022-03-09 18:36:19,674 - root - INFO - Removing zip file\n",
      "2022-03-09 18:36:20,183 - autofit.non_linear.abstract_search - INFO - Creating search\n",
      "2022-03-09 18:36:20,186 - root - INFO - Starting search\n",
      "2022-03-09 18:36:20,191 - root - INFO - Saving path info\n",
      "2022-03-09 18:36:20,266 - root - INFO - Not complete. Starting non-linear search.\n",
      "2022-03-09 18:36:20,271 - root - INFO - number_of_cores == 3...\n",
      "2022-03-09 18:36:20,274 - root - WARNING - ...using SneakyPool. This copies the likelihood functionto each process on instantiation to avoid copying multipletimes.\n",
      "2022-03-09 18:36:20,287 - process 0 - INFO - created\n",
      "2022-03-09 18:36:20,308 - process 1 - INFO - created\n",
      "2022-03-09 18:36:20,328 - process 2 - INFO - created\n",
      "2022-03-09 18:36:22,354 - autofit.non_linear.initializer - INFO - Generating initial samples of model, which are subject to prior limits and other constraints.\n",
      "2022-03-09 18:36:22,898 - root - INFO - No Dynesty samples found, beginning new non-linear search. \n"
     ]
    },
    {
     "name": "stderr",
     "output_type": "stream",
     "text": [
      "/home/joao/.local/lib/python3.8/site-packages/dynesty/dynesty.py:373: UserWarning: A note of caution: having `nlive < ndim * (ndim + 1) // 2` may result in unconstrained bounding distributions.\n",
      "  warnings.warn(\"A note of caution: \"\n",
      "627it [00:44, 14.25it/s, +30 | bound: 140 | nc: 1 | ncall: 5037 | eff(%): 13.043 | loglstar:   -inf < -7236.415 <    inf | logz: -7261.102 +/-  2.844 | dlogz:  1.099 >  0.039]\n"
     ]
    },
    {
     "name": "stdout",
     "output_type": "stream",
     "text": [
      "2022-03-09 18:37:07,167 - root - INFO - 5000 Iterations: Performing update (Visualization, outputting samples, etc.).\n"
     ]
    },
    {
     "name": "stderr",
     "output_type": "stream",
     "text": [
      "1196it [00:44, 26.96it/s, +30 | bound: 309 | nc: 1 | ncall: 10041 | eff(%): 12.210 | loglstar:   -inf < -6352.291 <    inf | logz: -6394.867 +/-  2.941 | dlogz:  0.656 >  0.039]\n"
     ]
    },
    {
     "name": "stdout",
     "output_type": "stream",
     "text": [
      "2022-03-09 18:38:40,007 - root - INFO - 10000 Iterations: Performing update (Visualization, outputting samples, etc.).\n"
     ]
    },
    {
     "name": "stderr",
     "output_type": "stream",
     "text": [
      "/home/joao/.local/lib/python3.8/site-packages/numpy/core/_asarray.py:102: VisibleDeprecationWarning: Creating an ndarray from ragged nested sequences (which is a list-or-tuple of lists-or-tuples-or ndarrays with different lengths or shapes) is deprecated. If you meant to do this, you must specify 'dtype=object' when creating the ndarray.\n",
      "  return array(a, dtype, copy=False, order=order)\n",
      "/home/joao/.local/lib/python3.8/site-packages/numpy/core/_asarray.py:102: VisibleDeprecationWarning: Creating an ndarray from ragged nested sequences (which is a list-or-tuple of lists-or-tuples-or ndarrays with different lengths or shapes) is deprecated. If you meant to do this, you must specify 'dtype=object' when creating the ndarray.\n",
      "  return array(a, dtype, copy=False, order=order)\n",
      "/home/joao/.local/lib/python3.8/site-packages/numpy/core/_asarray.py:102: VisibleDeprecationWarning: Creating an ndarray from ragged nested sequences (which is a list-or-tuple of lists-or-tuples-or ndarrays with different lengths or shapes) is deprecated. If you meant to do this, you must specify 'dtype=object' when creating the ndarray.\n",
      "  return array(a, dtype, copy=False, order=order)\n",
      "1994it [00:48, 41.25it/s, +30 | bound: 502 | nc: 1 | ncall: 15042 | eff(%): 13.456 | loglstar:   -inf < -6237.317 <    inf | logz: -6305.166 +/-  3.461 | dlogz:  0.322 >  0.039]\n"
     ]
    },
    {
     "name": "stdout",
     "output_type": "stream",
     "text": [
      "2022-03-09 18:41:06,612 - root - INFO - 15000 Iterations: Performing update (Visualization, outputting samples, etc.).\n"
     ]
    },
    {
     "name": "stderr",
     "output_type": "stream",
     "text": [
      "/home/joao/.local/lib/python3.8/site-packages/numpy/core/_asarray.py:102: VisibleDeprecationWarning: Creating an ndarray from ragged nested sequences (which is a list-or-tuple of lists-or-tuples-or ndarrays with different lengths or shapes) is deprecated. If you meant to do this, you must specify 'dtype=object' when creating the ndarray.\n",
      "  return array(a, dtype, copy=False, order=order)\n",
      "/home/joao/.local/lib/python3.8/site-packages/numpy/core/_asarray.py:102: VisibleDeprecationWarning: Creating an ndarray from ragged nested sequences (which is a list-or-tuple of lists-or-tuples-or ndarrays with different lengths or shapes) is deprecated. If you meant to do this, you must specify 'dtype=object' when creating the ndarray.\n",
      "  return array(a, dtype, copy=False, order=order)\n",
      "/home/joao/.local/lib/python3.8/site-packages/numpy/core/_asarray.py:102: VisibleDeprecationWarning: Creating an ndarray from ragged nested sequences (which is a list-or-tuple of lists-or-tuples-or ndarrays with different lengths or shapes) is deprecated. If you meant to do this, you must specify 'dtype=object' when creating the ndarray.\n",
      "  return array(a, dtype, copy=False, order=order)\n",
      "2770it [00:52, 52.60it/s, +30 | bound: 699 | nc: 1 | ncall: 20043 | eff(%): 13.970 | loglstar:   -inf < -6178.928 <    inf | logz: -6269.995 +/-  3.528 | dlogz:  0.040 >  0.039]\n"
     ]
    },
    {
     "name": "stdout",
     "output_type": "stream",
     "text": [
      "2022-03-09 18:43:00,019 - root - INFO - 20000 Iterations: Performing update (Visualization, outputting samples, etc.).\n"
     ]
    },
    {
     "name": "stderr",
     "output_type": "stream",
     "text": [
      "/home/joao/.local/lib/python3.8/site-packages/numpy/core/_asarray.py:102: VisibleDeprecationWarning: Creating an ndarray from ragged nested sequences (which is a list-or-tuple of lists-or-tuples-or ndarrays with different lengths or shapes) is deprecated. If you meant to do this, you must specify 'dtype=object' when creating the ndarray.\n",
      "  return array(a, dtype, copy=False, order=order)\n",
      "/home/joao/.local/lib/python3.8/site-packages/numpy/core/_asarray.py:102: VisibleDeprecationWarning: Creating an ndarray from ragged nested sequences (which is a list-or-tuple of lists-or-tuples-or ndarrays with different lengths or shapes) is deprecated. If you meant to do this, you must specify 'dtype=object' when creating the ndarray.\n",
      "  return array(a, dtype, copy=False, order=order)\n",
      "/home/joao/.local/lib/python3.8/site-packages/numpy/core/_asarray.py:102: VisibleDeprecationWarning: Creating an ndarray from ragged nested sequences (which is a list-or-tuple of lists-or-tuples-or ndarrays with different lengths or shapes) is deprecated. If you meant to do this, you must specify 'dtype=object' when creating the ndarray.\n",
      "  return array(a, dtype, copy=False, order=order)\n",
      "2904it [00:08, 332.33it/s, +30 | bound: 733 | nc: 1 | ncall: 20958 | eff(%): 13.999 | loglstar:   -inf < -6178.032 <    inf | logz: -6269.979 +/-  3.477 | dlogz:  0.001 >  0.039]\n"
     ]
    },
    {
     "name": "stdout",
     "output_type": "stream",
     "text": [
      "2022-03-09 18:44:04,842 - root - INFO - 25000 Iterations: Performing update (Visualization, outputting samples, etc.).\n"
     ]
    },
    {
     "name": "stderr",
     "output_type": "stream",
     "text": [
      "/home/joao/.local/lib/python3.8/site-packages/numpy/core/_asarray.py:102: VisibleDeprecationWarning: Creating an ndarray from ragged nested sequences (which is a list-or-tuple of lists-or-tuples-or ndarrays with different lengths or shapes) is deprecated. If you meant to do this, you must specify 'dtype=object' when creating the ndarray.\n",
      "  return array(a, dtype, copy=False, order=order)\n",
      "/home/joao/.local/lib/python3.8/site-packages/numpy/core/_asarray.py:102: VisibleDeprecationWarning: Creating an ndarray from ragged nested sequences (which is a list-or-tuple of lists-or-tuples-or ndarrays with different lengths or shapes) is deprecated. If you meant to do this, you must specify 'dtype=object' when creating the ndarray.\n",
      "  return array(a, dtype, copy=False, order=order)\n",
      "/home/joao/.local/lib/python3.8/site-packages/numpy/core/_asarray.py:102: VisibleDeprecationWarning: Creating an ndarray from ragged nested sequences (which is a list-or-tuple of lists-or-tuples-or ndarrays with different lengths or shapes) is deprecated. If you meant to do this, you must specify 'dtype=object' when creating the ndarray.\n",
      "  return array(a, dtype, copy=False, order=order)\n",
      "2904it [00:00, 1183583.60it/s, +30 | bound: 733 | nc: 1 | ncall: 20958 | eff(%): 13.999 | loglstar:   -inf < -6178.032 <    inf | logz: -6269.979 +/-  3.477 | dlogz:  0.001 >  0.039]\n"
     ]
    },
    {
     "name": "stdout",
     "output_type": "stream",
     "text": [
      "2022-03-09 18:45:07,778 - root - INFO - 30000 Iterations: Performing update (Visualization, outputting samples, etc.).\n"
     ]
    },
    {
     "name": "stderr",
     "output_type": "stream",
     "text": [
      "/home/joao/.local/lib/python3.8/site-packages/numpy/core/_asarray.py:102: VisibleDeprecationWarning: Creating an ndarray from ragged nested sequences (which is a list-or-tuple of lists-or-tuples-or ndarrays with different lengths or shapes) is deprecated. If you meant to do this, you must specify 'dtype=object' when creating the ndarray.\n",
      "  return array(a, dtype, copy=False, order=order)\n",
      "/home/joao/.local/lib/python3.8/site-packages/numpy/core/_asarray.py:102: VisibleDeprecationWarning: Creating an ndarray from ragged nested sequences (which is a list-or-tuple of lists-or-tuples-or ndarrays with different lengths or shapes) is deprecated. If you meant to do this, you must specify 'dtype=object' when creating the ndarray.\n",
      "  return array(a, dtype, copy=False, order=order)\n",
      "/home/joao/.local/lib/python3.8/site-packages/numpy/core/_asarray.py:102: VisibleDeprecationWarning: Creating an ndarray from ragged nested sequences (which is a list-or-tuple of lists-or-tuples-or ndarrays with different lengths or shapes) is deprecated. If you meant to do this, you must specify 'dtype=object' when creating the ndarray.\n",
      "  return array(a, dtype, copy=False, order=order)\n"
     ]
    },
    {
     "name": "stdout",
     "output_type": "stream",
     "text": [
      "2022-03-09 18:46:06,216 - root - INFO - 35000 Iterations: Performing update (Visualization, outputting samples, etc.).\n"
     ]
    },
    {
     "name": "stderr",
     "output_type": "stream",
     "text": [
      "/home/joao/.local/lib/python3.8/site-packages/dynesty/plotting.py:245: UserWarning: Attempting to set identical bottom == top == 0.0 results in singular transformations; automatically expanding.\n",
      "  axes[i].set_ylim([ymin, ymax])\n",
      "/home/joao/.local/lib/python3.8/site-packages/numpy/core/_asarray.py:102: VisibleDeprecationWarning: Creating an ndarray from ragged nested sequences (which is a list-or-tuple of lists-or-tuples-or ndarrays with different lengths or shapes) is deprecated. If you meant to do this, you must specify 'dtype=object' when creating the ndarray.\n",
      "  return array(a, dtype, copy=False, order=order)\n",
      "/home/joao/.local/lib/python3.8/site-packages/numpy/core/_asarray.py:102: VisibleDeprecationWarning: Creating an ndarray from ragged nested sequences (which is a list-or-tuple of lists-or-tuples-or ndarrays with different lengths or shapes) is deprecated. If you meant to do this, you must specify 'dtype=object' when creating the ndarray.\n",
      "  return array(a, dtype, copy=False, order=order)\n",
      "/home/joao/.local/lib/python3.8/site-packages/numpy/core/_asarray.py:102: VisibleDeprecationWarning: Creating an ndarray from ragged nested sequences (which is a list-or-tuple of lists-or-tuples-or ndarrays with different lengths or shapes) is deprecated. If you meant to do this, you must specify 'dtype=object' when creating the ndarray.\n",
      "  return array(a, dtype, copy=False, order=order)\n"
     ]
    },
    {
     "name": "stdout",
     "output_type": "stream",
     "text": [
      "2022-03-09 18:47:57,041 - root - INFO - Removing zip file\n",
      "2022-03-09 18:47:57,763 - autofit.non_linear.abstract_search - INFO - Creating search\n",
      "2022-03-09 18:47:57,766 - root - INFO - Starting search\n",
      "2022-03-09 18:47:57,770 - root - INFO - Saving path info\n",
      "2022-03-09 18:47:57,819 - root - INFO - Not complete. Starting non-linear search.\n",
      "2022-03-09 18:47:57,821 - root - INFO - number_of_cores == 3...\n",
      "2022-03-09 18:47:57,822 - root - WARNING - ...using SneakyPool. This copies the likelihood functionto each process on instantiation to avoid copying multipletimes.\n",
      "2022-03-09 18:47:57,831 - process 0 - INFO - created\n",
      "2022-03-09 18:47:57,844 - process 1 - INFO - created\n",
      "2022-03-09 18:47:57,859 - process 2 - INFO - created\n",
      "2022-03-09 18:47:59,875 - autofit.non_linear.initializer - INFO - Generating initial samples of model, which are subject to prior limits and other constraints.\n",
      "2022-03-09 18:48:00,243 - root - INFO - No Dynesty samples found, beginning new non-linear search. \n"
     ]
    },
    {
     "name": "stderr",
     "output_type": "stream",
     "text": [
      "/home/joao/.local/lib/python3.8/site-packages/dynesty/dynesty.py:373: UserWarning: A note of caution: having `nlive < ndim * (ndim + 1) // 2` may result in unconstrained bounding distributions.\n",
      "  warnings.warn(\"A note of caution: \"\n",
      "468it [00:25, 18.14it/s, +30 | bound: 114 | nc: 1 | ncall: 5210 | eff(%):  9.559 | loglstar:   -inf <  0.245 <    inf | logz: -15.682 +/-  4.076 | dlogz:  0.056 >  0.039]"
     ]
    },
    {
     "name": "stdout",
     "output_type": "stream",
     "text": [
      "2022-03-09 18:48:26,220 - root - INFO - 5000 Iterations: Performing update (Visualization, outputting samples, etc.).\n"
     ]
    },
    {
     "name": "stderr",
     "output_type": "stream",
     "text": [
      "\n",
      "469it [00:00, 1741.22it/s, bound: 115 | nc: 5 | ncall: 5215 | eff(%):  8.993 | loglstar:   -inf < -1.638 <    inf | logz: -16.860 +/-  4.052 | dlogz:  1.943 >  0.039]/home/joao/.local/lib/python3.8/site-packages/dynesty/sampling.py:238: UserWarning: Random walk proposals appear to be extremely inefficient. Adjusting the scale-factor accordingly.\n",
      "  warnings.warn(\"Random walk proposals appear to be \"\n",
      "607it [00:22, 27.42it/s, +30 | bound: 184 | nc: 1 | ncall: 9206 | eff(%):  6.919 | loglstar:   -inf <  0.934 <    inf | logz: -15.682 +/-  4.058 | dlogz:  0.001 >  0.039]\n"
     ]
    },
    {
     "name": "stdout",
     "output_type": "stream",
     "text": [
      "2022-03-09 18:48:55,617 - root - INFO - 10000 Iterations: Performing update (Visualization, outputting samples, etc.).\n"
     ]
    },
    {
     "name": "stderr",
     "output_type": "stream",
     "text": [
      "607it [00:00, 367538.98it/s, +30 | bound: 184 | nc: 1 | ncall: 9206 | eff(%):  6.919 | loglstar:   -inf <  0.934 <    inf | logz: -15.682 +/-  4.058 | dlogz:  0.001 >  0.039]\n"
     ]
    },
    {
     "name": "stdout",
     "output_type": "stream",
     "text": [
      "2022-03-09 18:49:06,905 - root - INFO - 15000 Iterations: Performing update (Visualization, outputting samples, etc.).\n",
      "2022-03-09 18:49:15,276 - root - INFO - 20000 Iterations: Performing update (Visualization, outputting samples, etc.).\n",
      "2022-03-09 18:49:47,022 - root - INFO - Removing zip file\n",
      "2022-03-09 18:49:47,883 - autofit.non_linear.abstract_search - INFO - Creating search\n",
      "2022-03-09 18:49:47,887 - root - INFO - Starting search\n",
      "2022-03-09 18:49:47,901 - root - INFO - Saving path info\n",
      "2022-03-09 18:49:48,035 - root - INFO - Not complete. Starting non-linear search.\n",
      "2022-03-09 18:49:48,043 - root - INFO - number_of_cores == 3...\n",
      "2022-03-09 18:49:48,046 - root - WARNING - ...using SneakyPool. This copies the likelihood functionto each process on instantiation to avoid copying multipletimes.\n",
      "2022-03-09 18:49:48,065 - process 0 - INFO - created\n",
      "2022-03-09 18:49:48,095 - process 1 - INFO - created\n",
      "2022-03-09 18:49:48,127 - process 2 - INFO - created\n",
      "2022-03-09 18:49:51,350 - autofit.non_linear.initializer - INFO - Generating initial samples of model, which are subject to prior limits and other constraints.\n",
      "2022-03-09 18:49:52,539 - root - INFO - No Dynesty samples found, beginning new non-linear search. \n"
     ]
    },
    {
     "name": "stderr",
     "output_type": "stream",
     "text": [
      "/home/joao/.local/lib/python3.8/site-packages/dynesty/dynesty.py:373: UserWarning: A note of caution: having `nlive < ndim * (ndim + 1) // 2` may result in unconstrained bounding distributions.\n",
      "  warnings.warn(\"A note of caution: \"\n",
      "589it [00:55, 10.54it/s, +30 | bound: 134 | nc: 1 | ncall: 5038 | eff(%): 12.287 | loglstar:   -inf < -1702.264 <    inf | logz: -1725.704 +/-  0.908 | dlogz:  1.099 >  0.039]\n"
     ]
    },
    {
     "name": "stdout",
     "output_type": "stream",
     "text": [
      "2022-03-09 18:50:48,840 - root - INFO - 5000 Iterations: Performing update (Visualization, outputting samples, etc.).\n"
     ]
    },
    {
     "name": "stderr",
     "output_type": "stream",
     "text": [
      "/home/joao/.local/lib/python3.8/site-packages/numpy/core/_asarray.py:102: VisibleDeprecationWarning: Creating an ndarray from ragged nested sequences (which is a list-or-tuple of lists-or-tuples-or ndarrays with different lengths or shapes) is deprecated. If you meant to do this, you must specify 'dtype=object' when creating the ndarray.\n",
      "  return array(a, dtype, copy=False, order=order)\n",
      "/home/joao/.local/lib/python3.8/site-packages/numpy/core/_asarray.py:102: VisibleDeprecationWarning: Creating an ndarray from ragged nested sequences (which is a list-or-tuple of lists-or-tuples-or ndarrays with different lengths or shapes) is deprecated. If you meant to do this, you must specify 'dtype=object' when creating the ndarray.\n",
      "  return array(a, dtype, copy=False, order=order)\n",
      "/home/joao/.local/lib/python3.8/site-packages/numpy/core/_asarray.py:102: VisibleDeprecationWarning: Creating an ndarray from ragged nested sequences (which is a list-or-tuple of lists-or-tuples-or ndarrays with different lengths or shapes) is deprecated. If you meant to do this, you must specify 'dtype=object' when creating the ndarray.\n",
      "  return array(a, dtype, copy=False, order=order)\n",
      "1240it [00:35, 35.13it/s, +30 | bound: 318 | nc: 1 | ncall: 10050 | eff(%): 12.637 | loglstar:   -inf < -1398.800 <    inf | logz: -1441.726 +/-  1.586 | dlogz:  0.271 >  0.039]\n"
     ]
    },
    {
     "name": "stdout",
     "output_type": "stream",
     "text": [
      "2022-03-09 18:52:10,580 - root - INFO - 10000 Iterations: Performing update (Visualization, outputting samples, etc.).\n"
     ]
    },
    {
     "name": "stderr",
     "output_type": "stream",
     "text": [
      "1644it [00:32, 50.35it/s, +30 | bound: 434 | nc: 1 | ncall: 13377 | eff(%): 12.514 | loglstar:   -inf < -1388.073 <    inf | logz: -1438.727 +/-  1.476 | dlogz:  0.001 >  0.039]\n"
     ]
    },
    {
     "name": "stdout",
     "output_type": "stream",
     "text": [
      "2022-03-09 18:53:34,899 - root - INFO - 15000 Iterations: Performing update (Visualization, outputting samples, etc.).\n"
     ]
    },
    {
     "name": "stderr",
     "output_type": "stream",
     "text": [
      "1644it [00:00, 471805.39it/s, +30 | bound: 434 | nc: 1 | ncall: 13377 | eff(%): 12.514 | loglstar:   -inf < -1388.073 <    inf | logz: -1438.727 +/-  1.476 | dlogz:  0.001 >  0.039]\n"
     ]
    },
    {
     "name": "stdout",
     "output_type": "stream",
     "text": [
      "2022-03-09 18:55:09,094 - root - INFO - 20000 Iterations: Performing update (Visualization, outputting samples, etc.).\n",
      "2022-03-09 18:55:58,517 - root - INFO - 25000 Iterations: Performing update (Visualization, outputting samples, etc.).\n"
     ]
    },
    {
     "name": "stderr",
     "output_type": "stream",
     "text": [
      "/home/joao/.local/lib/python3.8/site-packages/dynesty/plotting.py:245: UserWarning: Attempting to set identical bottom == top == 0.0 results in singular transformations; automatically expanding.\n",
      "  axes[i].set_ylim([ymin, ymax])\n"
     ]
    },
    {
     "name": "stdout",
     "output_type": "stream",
     "text": [
      "2022-03-09 18:57:10,745 - root - INFO - Removing zip file\n",
      "2022-03-09 18:57:11,316 - autofit.non_linear.abstract_search - INFO - Creating search\n",
      "2022-03-09 18:57:11,320 - root - INFO - Starting search\n",
      "2022-03-09 18:57:11,328 - root - INFO - Saving path info\n",
      "2022-03-09 18:57:11,403 - root - INFO - Not complete. Starting non-linear search.\n",
      "2022-03-09 18:57:11,408 - root - INFO - number_of_cores == 3...\n",
      "2022-03-09 18:57:11,410 - root - WARNING - ...using SneakyPool. This copies the likelihood functionto each process on instantiation to avoid copying multipletimes.\n",
      "2022-03-09 18:57:11,426 - process 0 - INFO - created\n",
      "2022-03-09 18:57:11,449 - process 1 - INFO - created\n",
      "2022-03-09 18:57:11,468 - process 2 - INFO - created\n",
      "2022-03-09 18:57:14,439 - autofit.non_linear.initializer - INFO - Generating initial samples of model, which are subject to prior limits and other constraints.\n",
      "2022-03-09 18:57:14,747 - root - INFO - No Dynesty samples found, beginning new non-linear search. \n"
     ]
    },
    {
     "name": "stderr",
     "output_type": "stream",
     "text": [
      "/home/joao/.local/lib/python3.8/site-packages/dynesty/dynesty.py:373: UserWarning: A note of caution: having `nlive < ndim * (ndim + 1) // 2` may result in unconstrained bounding distributions.\n",
      "  warnings.warn(\"A note of caution: \"\n",
      "126it [00:06, 14.62it/s, bound: 4 | nc: 5 | ncall: 1245 | eff(%): 10.120 | loglstar:   -inf < -131.109 <    inf | logz: -138.352 +/-  0.648 | dlogz: 110.304 >  0.039]  /home/joao/.local/lib/python3.8/site-packages/dynesty/sampling.py:216: UserWarning: Random number generation appears to be extremely inefficient. Adjusting the scale-factor accordingly.\n",
      "  warnings.warn(\"Random number generation appears to be \"\n",
      "147it [00:07, 17.85it/s, bound: 9 | nc: 6 | ncall: 1431 | eff(%): 10.273 | loglstar:   -inf < -77.454 <    inf | logz: -85.505 +/-  0.708 | dlogz: 59.799 >  0.039]   /home/joao/.local/lib/python3.8/site-packages/dynesty/sampling.py:216: UserWarning: Random number generation appears to be extremely inefficient. Adjusting the scale-factor accordingly.\n",
      "  warnings.warn(\"Random number generation appears to be \"\n",
      "546it [00:25, 21.14it/s, +30 | bound: 129 | nc: 1 | ncall: 5033 | eff(%): 11.444 | loglstar:   -inf <  2.752 <    inf | logz: -15.304 +/-  1.098 | dlogz:  0.037 >  0.039]\n"
     ]
    },
    {
     "name": "stdout",
     "output_type": "stream",
     "text": [
      "2022-03-09 18:57:40,789 - root - INFO - 5000 Iterations: Performing update (Visualization, outputting samples, etc.).\n"
     ]
    },
    {
     "name": "stderr",
     "output_type": "stream",
     "text": [
      "703it [00:05, 122.72it/s, +30 | bound: 174 | nc: 1 | ncall: 6275 | eff(%): 11.681 | loglstar:   -inf <  4.496 <    inf | logz: -15.288 +/-  0.982 | dlogz:  0.001 >  0.039]\n"
     ]
    },
    {
     "name": "stdout",
     "output_type": "stream",
     "text": [
      "2022-03-09 18:57:53,664 - root - INFO - 10000 Iterations: Performing update (Visualization, outputting samples, etc.).\n"
     ]
    },
    {
     "name": "stderr",
     "output_type": "stream",
     "text": [
      "703it [00:00, 465224.95it/s, +30 | bound: 174 | nc: 1 | ncall: 6275 | eff(%): 11.681 | loglstar:   -inf <  4.496 <    inf | logz: -15.288 +/-  0.982 | dlogz:  0.001 >  0.039]\n"
     ]
    },
    {
     "name": "stdout",
     "output_type": "stream",
     "text": [
      "2022-03-09 18:58:02,048 - root - INFO - 15000 Iterations: Performing update (Visualization, outputting samples, etc.).\n",
      "2022-03-09 18:58:11,054 - root - INFO - 20000 Iterations: Performing update (Visualization, outputting samples, etc.).\n",
      "2022-03-09 18:58:32,932 - root - INFO - Removing zip file\n",
      "2022-03-09 18:58:33,437 - autofit.non_linear.abstract_search - INFO - Creating search\n",
      "2022-03-09 18:58:33,440 - root - INFO - Starting search\n",
      "2022-03-09 18:58:33,448 - root - INFO - Saving path info\n",
      "2022-03-09 18:58:33,534 - root - INFO - Not complete. Starting non-linear search.\n",
      "2022-03-09 18:58:33,540 - root - INFO - number_of_cores == 3...\n",
      "2022-03-09 18:58:33,542 - root - WARNING - ...using SneakyPool. This copies the likelihood functionto each process on instantiation to avoid copying multipletimes.\n",
      "2022-03-09 18:58:33,560 - process 0 - INFO - created\n",
      "2022-03-09 18:58:33,587 - process 1 - INFO - created\n",
      "2022-03-09 18:58:33,605 - process 2 - INFO - created\n",
      "2022-03-09 18:58:37,681 - autofit.non_linear.initializer - INFO - Generating initial samples of model, which are subject to prior limits and other constraints.\n",
      "2022-03-09 18:58:38,504 - root - INFO - No Dynesty samples found, beginning new non-linear search. \n"
     ]
    },
    {
     "name": "stderr",
     "output_type": "stream",
     "text": [
      "/home/joao/.local/lib/python3.8/site-packages/dynesty/dynesty.py:373: UserWarning: A note of caution: having `nlive < ndim * (ndim + 1) // 2` may result in unconstrained bounding distributions.\n",
      "  warnings.warn(\"A note of caution: \"\n",
      "86it [00:07,  5.36it/s, bound: 1 | nc: 6 | ncall: 857 | eff(%): 10.035 | loglstar:   -inf < -215837.911 <    inf | logz: -215844.825 +/-  0.673 | dlogz: 88803.325 >  0.039]  /home/joao/.local/lib/python3.8/site-packages/dynesty/sampling.py:216: UserWarning: Random number generation appears to be extremely inefficient. Adjusting the scale-factor accordingly.\n",
      "  warnings.warn(\"Random number generation appears to be \"\n",
      "/home/joao/.local/lib/python3.8/site-packages/dynesty/sampling.py:216: UserWarning: Random number generation appears to be extremely inefficient. Adjusting the scale-factor accordingly.\n",
      "  warnings.warn(\"Random number generation appears to be \"\n",
      "/home/joao/.local/lib/python3.8/site-packages/dynesty/sampling.py:216: UserWarning: Random number generation appears to be extremely inefficient. Adjusting the scale-factor accordingly.\n",
      "  warnings.warn(\"Random number generation appears to be \"\n",
      "681it [00:49, 13.80it/s, +30 | bound: 156 | nc: 1 | ncall: 5031 | eff(%): 14.132 | loglstar:   -inf < -3010.468 <    inf | logz: -3036.925 +/-  1.328 | dlogz:  1.099 >  0.039]\n"
     ]
    },
    {
     "name": "stdout",
     "output_type": "stream",
     "text": [
      "2022-03-09 18:59:28,179 - root - INFO - 5000 Iterations: Performing update (Visualization, outputting samples, etc.).\n"
     ]
    },
    {
     "name": "stderr",
     "output_type": "stream",
     "text": [
      "/home/joao/.local/lib/python3.8/site-packages/numpy/core/_asarray.py:102: VisibleDeprecationWarning: Creating an ndarray from ragged nested sequences (which is a list-or-tuple of lists-or-tuples-or ndarrays with different lengths or shapes) is deprecated. If you meant to do this, you must specify 'dtype=object' when creating the ndarray.\n",
      "  return array(a, dtype, copy=False, order=order)\n",
      "/home/joao/.local/lib/python3.8/site-packages/numpy/core/_asarray.py:102: VisibleDeprecationWarning: Creating an ndarray from ragged nested sequences (which is a list-or-tuple of lists-or-tuples-or ndarrays with different lengths or shapes) is deprecated. If you meant to do this, you must specify 'dtype=object' when creating the ndarray.\n",
      "  return array(a, dtype, copy=False, order=order)\n",
      "/home/joao/.local/lib/python3.8/site-packages/numpy/core/_asarray.py:102: VisibleDeprecationWarning: Creating an ndarray from ragged nested sequences (which is a list-or-tuple of lists-or-tuples-or ndarrays with different lengths or shapes) is deprecated. If you meant to do this, you must specify 'dtype=object' when creating the ndarray.\n",
      "  return array(a, dtype, copy=False, order=order)\n",
      "1403it [01:18, 17.94it/s, +30 | bound: 343 | nc: 1 | ncall: 10074 | eff(%): 14.225 | loglstar:   -inf < -1520.137 <    inf | logz: -1570.242 +/-  2.417 | dlogz:  1.082 >  0.039]\n"
     ]
    },
    {
     "name": "stdout",
     "output_type": "stream",
     "text": [
      "2022-03-09 19:01:58,490 - root - INFO - 10000 Iterations: Performing update (Visualization, outputting samples, etc.).\n"
     ]
    },
    {
     "name": "stderr",
     "output_type": "stream",
     "text": [
      "/home/joao/.local/lib/python3.8/site-packages/numpy/core/_asarray.py:102: VisibleDeprecationWarning: Creating an ndarray from ragged nested sequences (which is a list-or-tuple of lists-or-tuples-or ndarrays with different lengths or shapes) is deprecated. If you meant to do this, you must specify 'dtype=object' when creating the ndarray.\n",
      "  return array(a, dtype, copy=False, order=order)\n",
      "/home/joao/.local/lib/python3.8/site-packages/numpy/core/_asarray.py:102: VisibleDeprecationWarning: Creating an ndarray from ragged nested sequences (which is a list-or-tuple of lists-or-tuples-or ndarrays with different lengths or shapes) is deprecated. If you meant to do this, you must specify 'dtype=object' when creating the ndarray.\n",
      "  return array(a, dtype, copy=False, order=order)\n",
      "/home/joao/.local/lib/python3.8/site-packages/numpy/core/_asarray.py:102: VisibleDeprecationWarning: Creating an ndarray from ragged nested sequences (which is a list-or-tuple of lists-or-tuples-or ndarrays with different lengths or shapes) is deprecated. If you meant to do this, you must specify 'dtype=object' when creating the ndarray.\n",
      "  return array(a, dtype, copy=False, order=order)\n",
      "2019it [00:43, 46.95it/s, +30 | bound: 501 | nc: 1 | ncall: 14264 | eff(%): 14.365 | loglstar:   -inf < -1482.903 <    inf | logz: -1545.856 +/-  1.956 | dlogz:  0.001 >  0.039]\n"
     ]
    },
    {
     "name": "stdout",
     "output_type": "stream",
     "text": [
      "2022-03-09 19:03:40,004 - root - INFO - 15000 Iterations: Performing update (Visualization, outputting samples, etc.).\n"
     ]
    },
    {
     "name": "stderr",
     "output_type": "stream",
     "text": [
      "/home/joao/.local/lib/python3.8/site-packages/numpy/core/_asarray.py:102: VisibleDeprecationWarning: Creating an ndarray from ragged nested sequences (which is a list-or-tuple of lists-or-tuples-or ndarrays with different lengths or shapes) is deprecated. If you meant to do this, you must specify 'dtype=object' when creating the ndarray.\n",
      "  return array(a, dtype, copy=False, order=order)\n",
      "/home/joao/.local/lib/python3.8/site-packages/numpy/core/_asarray.py:102: VisibleDeprecationWarning: Creating an ndarray from ragged nested sequences (which is a list-or-tuple of lists-or-tuples-or ndarrays with different lengths or shapes) is deprecated. If you meant to do this, you must specify 'dtype=object' when creating the ndarray.\n",
      "  return array(a, dtype, copy=False, order=order)\n",
      "/home/joao/.local/lib/python3.8/site-packages/numpy/core/_asarray.py:102: VisibleDeprecationWarning: Creating an ndarray from ragged nested sequences (which is a list-or-tuple of lists-or-tuples-or ndarrays with different lengths or shapes) is deprecated. If you meant to do this, you must specify 'dtype=object' when creating the ndarray.\n",
      "  return array(a, dtype, copy=False, order=order)\n",
      "2019it [00:00, 1270943.99it/s, +30 | bound: 501 | nc: 1 | ncall: 14264 | eff(%): 14.365 | loglstar:   -inf < -1482.903 <    inf | logz: -1545.856 +/-  1.956 | dlogz:  0.001 >  0.039]\n"
     ]
    },
    {
     "name": "stdout",
     "output_type": "stream",
     "text": [
      "2022-03-09 19:04:40,567 - root - INFO - 20000 Iterations: Performing update (Visualization, outputting samples, etc.).\n"
     ]
    },
    {
     "name": "stderr",
     "output_type": "stream",
     "text": [
      "/home/joao/.local/lib/python3.8/site-packages/numpy/core/_asarray.py:102: VisibleDeprecationWarning: Creating an ndarray from ragged nested sequences (which is a list-or-tuple of lists-or-tuples-or ndarrays with different lengths or shapes) is deprecated. If you meant to do this, you must specify 'dtype=object' when creating the ndarray.\n",
      "  return array(a, dtype, copy=False, order=order)\n",
      "/home/joao/.local/lib/python3.8/site-packages/numpy/core/_asarray.py:102: VisibleDeprecationWarning: Creating an ndarray from ragged nested sequences (which is a list-or-tuple of lists-or-tuples-or ndarrays with different lengths or shapes) is deprecated. If you meant to do this, you must specify 'dtype=object' when creating the ndarray.\n",
      "  return array(a, dtype, copy=False, order=order)\n",
      "/home/joao/.local/lib/python3.8/site-packages/numpy/core/_asarray.py:102: VisibleDeprecationWarning: Creating an ndarray from ragged nested sequences (which is a list-or-tuple of lists-or-tuples-or ndarrays with different lengths or shapes) is deprecated. If you meant to do this, you must specify 'dtype=object' when creating the ndarray.\n",
      "  return array(a, dtype, copy=False, order=order)\n"
     ]
    },
    {
     "name": "stdout",
     "output_type": "stream",
     "text": [
      "2022-03-09 19:05:38,315 - root - INFO - 25000 Iterations: Performing update (Visualization, outputting samples, etc.).\n"
     ]
    },
    {
     "name": "stderr",
     "output_type": "stream",
     "text": [
      "/home/joao/.local/lib/python3.8/site-packages/dynesty/plotting.py:245: UserWarning: Attempting to set identical bottom == top == 0.0 results in singular transformations; automatically expanding.\n",
      "  axes[i].set_ylim([ymin, ymax])\n",
      "/home/joao/.local/lib/python3.8/site-packages/numpy/core/_asarray.py:102: VisibleDeprecationWarning: Creating an ndarray from ragged nested sequences (which is a list-or-tuple of lists-or-tuples-or ndarrays with different lengths or shapes) is deprecated. If you meant to do this, you must specify 'dtype=object' when creating the ndarray.\n",
      "  return array(a, dtype, copy=False, order=order)\n",
      "/home/joao/.local/lib/python3.8/site-packages/numpy/core/_asarray.py:102: VisibleDeprecationWarning: Creating an ndarray from ragged nested sequences (which is a list-or-tuple of lists-or-tuples-or ndarrays with different lengths or shapes) is deprecated. If you meant to do this, you must specify 'dtype=object' when creating the ndarray.\n",
      "  return array(a, dtype, copy=False, order=order)\n",
      "/home/joao/.local/lib/python3.8/site-packages/numpy/core/_asarray.py:102: VisibleDeprecationWarning: Creating an ndarray from ragged nested sequences (which is a list-or-tuple of lists-or-tuples-or ndarrays with different lengths or shapes) is deprecated. If you meant to do this, you must specify 'dtype=object' when creating the ndarray.\n",
      "  return array(a, dtype, copy=False, order=order)\n"
     ]
    },
    {
     "name": "stdout",
     "output_type": "stream",
     "text": [
      "2022-03-09 19:07:29,033 - root - INFO - Removing zip file\n"
     ]
    }
   ],
   "source": [
    "for i in range(0, N_sys):\n",
    "    imaging_0 = al.Imaging(al.Array2D.manual(np.array(cutouts[i][0], dtype=float), pixel_scales=float(pixel_scale)), # cutout\n",
    "                       al.Array2D.manual(np.array(noise_map[i][0], dtype=float), pixel_scales=float(pixel_scale)), # noise_map \n",
    "                       al.Kernel2D.manual(np.array(psf[i][0], dtype=float), pixel_scales=float(pixel_scale))) # psf\n",
    "    zl = bayes_sys_fit['PLANE_1-REDSHIFT-g'][i]\n",
    "    zs = bayes_sys_fit['PLANE_2-REDSHIFT-g'][i]\n",
    "    pipeline = apply_pipeline(imaging_0, i, zl, zs)\n",
    "    result = apply_pipeline.fit_lens_light(pipeline, nlive=30, lens_light_radius=1.2)\n",
    "    pipeline.fit_system(cutouts[i][0], noise_map[i][0], psf[i][0], result.unmasked_model_image, nlive=30, pixel_scale=pixel_scale, prior_variables=variables, predictions_dataframe=dl_results[dl_results['sys']==bayes_sys_fit['OBJID-g'][i]], lower_limits=lower_sigma, upper_limits=upper_sigma, use_predictions=True)"
   ]
  },
  {
   "cell_type": "code",
   "execution_count": null,
   "id": "bc750a58",
   "metadata": {},
   "outputs": [],
   "source": []
  }
 ],
 "metadata": {
  "kernelspec": {
   "display_name": "Python 3 (ipykernel)",
   "language": "python",
   "name": "python3"
  },
  "language_info": {
   "codemirror_mode": {
    "name": "ipython",
    "version": 3
   },
   "file_extension": ".py",
   "mimetype": "text/x-python",
   "name": "python",
   "nbconvert_exporter": "python",
   "pygments_lexer": "ipython3",
   "version": "3.8.10"
  }
 },
 "nbformat": 4,
 "nbformat_minor": 5
}
