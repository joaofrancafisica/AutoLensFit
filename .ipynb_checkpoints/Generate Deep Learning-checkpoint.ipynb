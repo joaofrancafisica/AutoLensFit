{
 "cells": [
  {
   "cell_type": "code",
   "execution_count": 1,
   "id": "4e3217ff",
   "metadata": {},
   "outputs": [
    {
     "name": "stderr",
     "output_type": "stream",
     "text": [
      "2022-03-01 02:27:26.261743: W tensorflow/stream_executor/platform/default/dso_loader.cc:64] Could not load dynamic library 'libcudart.so.11.0'; dlerror: libcudart.so.11.0: cannot open shared object file: No such file or directory\n",
      "2022-03-01 02:27:26.262243: I tensorflow/stream_executor/cuda/cudart_stub.cc:29] Ignore above cudart dlerror if you do not have a GPU set up on your machine.\n"
     ]
    }
   ],
   "source": [
    "# basics libraries\n",
    "import pandas as pd\n",
    "import numpy as np\n",
    "import matplotlib.pyplot as plt\n",
    "from astropy.io import fits\n",
    "import time\n",
    "\n",
    "# deep learning libraries\n",
    "import tensorflow as tf\n",
    "from sklearn.model_selection import train_test_split\n",
    "from keras.models import Sequential,load_model,Model\n",
    "from keras.layers import Dense,Dropout,Flatten,Conv2D,MaxPool2D,ZeroPadding2D,Activation\n",
    "from keras.layers import Conv2D,MaxPool2D,Dense,Dropout,BatchNormalization,Flatten,Input\n",
    "\n",
    "# magic functions\n",
    "%matplotlib inline"
   ]
  },
  {
   "cell_type": "code",
   "execution_count": 2,
   "id": "7195801c",
   "metadata": {},
   "outputs": [],
   "source": [
    "# images full path\n",
    "fits_full_path = './simulations/fits_files/'\n",
    "\n",
    "# selected bandpasses\n",
    "selected_bandpass = {\n",
    "    'desg':'g',\n",
    "    'desr':'r',\n",
    "    'desi':'i'\n",
    "}\n",
    "\n",
    "# metadata files\n",
    "metadata = pd.read_csv(fits_full_path+'metadata.txt')\n",
    "metadata.dropna(inplace=True) # first line has Nan values and I still don't know why\n",
    "\n",
    "# basic variables\n",
    "num_pix = metadata['numPix-g'].iloc[-1] # same for all bandpasses\n",
    "pixel_scale = metadata['pixel_scale-g'].iloc[-1] # same for all bandpasses\n",
    "system_label = np.array(metadata['OBJID-g'])"
   ]
  },
  {
   "cell_type": "code",
   "execution_count": 3,
   "id": "b9d15184",
   "metadata": {},
   "outputs": [
    {
     "name": "stdout",
     "output_type": "stream",
     "text": [
      "11999 3000\n"
     ]
    }
   ],
   "source": [
    "# split our data in training and test dataset with ration 80 - 20 %\n",
    "np.random.seed(42)\n",
    "files_names_train, files_names_test = train_test_split(system_label, test_size=0.2)\n",
    "print(len(files_names_train), len(files_names_test))"
   ]
  },
  {
   "cell_type": "code",
   "execution_count": 4,
   "id": "a1c048cf",
   "metadata": {},
   "outputs": [
    {
     "name": "stdout",
     "output_type": "stream",
     "text": [
      "10799 1200 3000\n"
     ]
    }
   ],
   "source": [
    "# split our data in training and validation dataset with ration 90 - 10 %\n",
    "np.random.seed(42)\n",
    "files_names_train, files_names_val = train_test_split(files_names_train, test_size=0.1)\n",
    "print(len(files_names_train), len(files_names_val), len(files_names_test))"
   ]
  },
  {
   "cell_type": "code",
   "execution_count": 5,
   "id": "aa1ab511",
   "metadata": {},
   "outputs": [],
   "source": [
    "# train dataset\n",
    "x_train = []\n",
    "y_train = []\n",
    "for i in range(0, len(files_names_train)):\n",
    "    x_train.append(np.array([fits.open(fits_full_path + selected_bandpass['desg'] + '/' +  str(files_names_train[i])+'.fits')[0].data, fits.open(fits_full_path + selected_bandpass['desr'] + '/' +  str(files_names_train[i])+'.fits')[0].data, fits.open(fits_full_path + selected_bandpass['desi'] + '/' +  str(files_names_train[i])+'.fits')[0].data]))\n",
    "    \n",
    "x_train = np.array(x_train)\n",
    "y_train = np.array([np.array(metadata['PLANE_1-OBJECT_1-MASS_PROFILE_1-e1-g'][files_names_train]), np.array(metadata['PLANE_1-OBJECT_1-MASS_PROFILE_1-e2-g'][files_names_train]), np.array(metadata['PLANE_1-OBJECT_1-MASS_PROFILE_1-theta_E-g'][files_names_train])]).T\n",
    "\n",
    "\n",
    "# validation dataset\n",
    "x_val = []\n",
    "y_val = []\n",
    "for i in range(0, len(files_names_val)):\n",
    "    x_val.append(np.array([fits.open(fits_full_path + selected_bandpass['desg'] + '/' +  str(files_names_val[i])+'.fits')[0].data, fits.open(fits_full_path + selected_bandpass['desr'] + '/' +  str(files_names_val[i])+'.fits')[0].data, fits.open(fits_full_path + selected_bandpass['desi'] + '/' +  str(files_names_val[i])+'.fits')[0].data]))\n",
    "    \n",
    "x_val = np.array(x_val)\n",
    "y_val = np.array([np.array(metadata['PLANE_1-OBJECT_1-MASS_PROFILE_1-e1-g'][files_names_val]), np.array(metadata['PLANE_1-OBJECT_1-MASS_PROFILE_1-e2-g'][files_names_val]), np.array(metadata['PLANE_1-OBJECT_1-MASS_PROFILE_1-theta_E-g'][files_names_val])]).T\n",
    "\n",
    "# validation dataset\n",
    "x_test = []\n",
    "y_test = []\n",
    "for i in range(0, len(files_names_test)):\n",
    "    x_test.append(np.array([fits.open(fits_full_path + selected_bandpass['desg'] + '/' +  str(files_names_test[i])+'.fits')[0].data, fits.open(fits_full_path + selected_bandpass['desr'] + '/' +  str(files_names_test[i])+'.fits')[0].data, fits.open(fits_full_path + selected_bandpass['desi'] + '/' +  str(files_names_test[i])+'.fits')[0].data]))\n",
    "    \n",
    "x_test = np.array(x_test)\n",
    "y_test = np.array([np.array(metadata['PLANE_1-OBJECT_1-MASS_PROFILE_1-e1-g'][files_names_test]), np.array(metadata['PLANE_1-OBJECT_1-MASS_PROFILE_1-e2-g'][files_names_test]), np.array(metadata['PLANE_1-OBJECT_1-MASS_PROFILE_1-theta_E-g'][files_names_test])]).T\n"
   ]
  },
  {
   "cell_type": "code",
   "execution_count": 6,
   "id": "f9183446",
   "metadata": {},
   "outputs": [],
   "source": [
    "#np.array(metadata['PLANE_1-OBJECT_1-MASS_PROFILE_1-theta_E-g'][files_names_test])"
   ]
  },
  {
   "cell_type": "code",
   "execution_count": 7,
   "id": "6d276884",
   "metadata": {},
   "outputs": [
    {
     "name": "stdout",
     "output_type": "stream",
     "text": [
      "(10799, 100, 100, 3) (3000, 100, 100, 3) (1200, 100, 100, 3)\n"
     ]
    }
   ],
   "source": [
    "x_train = np.moveaxis(x_train, 1, 2)\n",
    "x_train = np.moveaxis(x_train, 3, 2)\n",
    "\n",
    "x_test = np.moveaxis(x_test, 1, 2)\n",
    "x_test = np.moveaxis(x_test, 3, 2)\n",
    "\n",
    "x_val = np.moveaxis(x_val, 1, 2)\n",
    "x_val = np.moveaxis(x_val, 3, 2)\n",
    "\n",
    "print(x_train.shape, x_test.shape, x_val.shape)"
   ]
  },
  {
   "cell_type": "code",
   "execution_count": 8,
   "id": "cc525c96",
   "metadata": {
    "scrolled": true
   },
   "outputs": [
    {
     "name": "stderr",
     "output_type": "stream",
     "text": [
      "2022-03-01 02:33:26.913813: W tensorflow/stream_executor/platform/default/dso_loader.cc:64] Could not load dynamic library 'libcuda.so.1'; dlerror: libcuda.so.1: cannot open shared object file: No such file or directory\n",
      "2022-03-01 02:33:26.918918: W tensorflow/stream_executor/cuda/cuda_driver.cc:269] failed call to cuInit: UNKNOWN ERROR (303)\n",
      "2022-03-01 02:33:26.920126: I tensorflow/stream_executor/cuda/cuda_diagnostics.cc:156] kernel driver does not appear to be running on this host (DESKTOP-0SVSQGR): /proc/driver/nvidia/version does not exist\n",
      "2022-03-01 02:33:26.928128: I tensorflow/core/platform/cpu_feature_guard.cc:151] This TensorFlow binary is optimized with oneAPI Deep Neural Network Library (oneDNN) to use the following CPU instructions in performance-critical operations:  AVX2 FMA\n",
      "To enable them in other operations, rebuild TensorFlow with the appropriate compiler flags.\n",
      "/tmp/ipykernel_1391/1425935768.py:35: UserWarning: `Model.fit_generator` is deprecated and will be removed in a future version. Please use `Model.fit`, which supports generators.\n",
      "  history = model.fit_generator(\n"
     ]
    },
    {
     "name": "stdout",
     "output_type": "stream",
     "text": [
      "Epoch 1/30\n",
      "337/337 [==============================] - 162s 457ms/step - loss: 0.4647 - val_loss: 0.0905\n",
      "Epoch 2/30\n",
      "337/337 [==============================] - 151s 446ms/step - loss: 0.0745 - val_loss: 0.0646\n",
      "Epoch 3/30\n",
      "337/337 [==============================] - 98s 290ms/step - loss: 0.0564 - val_loss: 0.0478\n",
      "Epoch 4/30\n",
      "337/337 [==============================] - 102s 304ms/step - loss: 0.0463 - val_loss: 0.0467\n",
      "Epoch 5/30\n",
      "337/337 [==============================] - 104s 309ms/step - loss: 0.0414 - val_loss: 0.0482\n",
      "Epoch 6/30\n",
      "337/337 [==============================] - 111s 328ms/step - loss: 0.0408 - val_loss: 0.0418\n",
      "Epoch 7/30\n",
      "337/337 [==============================] - 109s 322ms/step - loss: 0.0371 - val_loss: 0.0388\n",
      "Epoch 8/30\n",
      "337/337 [==============================] - 107s 316ms/step - loss: 0.0328 - val_loss: 0.0314\n",
      "Epoch 9/30\n",
      "337/337 [==============================] - 111s 329ms/step - loss: 0.0353 - val_loss: 0.0415\n",
      "Epoch 10/30\n",
      "337/337 [==============================] - 111s 330ms/step - loss: 0.0341 - val_loss: 0.0374\n",
      "Epoch 11/30\n",
      "337/337 [==============================] - 109s 323ms/step - loss: 0.0302 - val_loss: 0.0339\n",
      "Epoch 12/30\n",
      "337/337 [==============================] - 114s 338ms/step - loss: 0.0304 - val_loss: 0.0292\n",
      "Epoch 13/30\n",
      "337/337 [==============================] - 105s 311ms/step - loss: 0.0283 - val_loss: 0.0299\n",
      "Epoch 14/30\n",
      "337/337 [==============================] - 119s 352ms/step - loss: 0.0259 - val_loss: 0.0334\n",
      "Epoch 15/30\n",
      "337/337 [==============================] - 104s 308ms/step - loss: 0.0246 - val_loss: 0.0365\n",
      "Epoch 16/30\n",
      "337/337 [==============================] - 99s 294ms/step - loss: 0.0249 - val_loss: 0.0307\n",
      "Epoch 17/30\n",
      "337/337 [==============================] - 106s 314ms/step - loss: 0.0295 - val_loss: 0.0385\n"
     ]
    }
   ],
   "source": [
    "# Our deep learning algorithm \n",
    "inputs = tf.keras.Input(shape=(100, 100, 3))\n",
    "\n",
    "x = tf.keras.layers.Conv2D(filters=16, kernel_size=(3,3), activation='relu')(inputs)\n",
    "x = tf.keras.layers.Conv2D(filters=16, kernel_size=(3,3), activation='relu')(x)\n",
    "x = tf.keras.layers.MaxPool2D()(x)\n",
    "x = tf.keras.layers.Conv2D(filters=32, kernel_size=(3,3), activation='relu')(x)\n",
    "x = tf.keras.layers.Conv2D(filters=32, kernel_size=(1,1), activation='relu')(x)\n",
    "x = tf.keras.layers.MaxPool2D()(x)\n",
    "x = tf.keras.layers.Conv2D(filters=32, kernel_size=(5,5), activation='relu')(x)\n",
    "x = tf.keras.layers.Conv2D(filters=32, kernel_size=(5,5), activation='relu')(x)\n",
    "x = tf.keras.layers.Conv2D(filters=32, kernel_size=(1,1), activation='relu')(x)\n",
    "x = tf.keras.layers.Conv2D(filters=32, kernel_size=(5,5), activation='relu')(x)\n",
    "\n",
    "x = tf.keras.layers.Flatten()(x)\n",
    "x = tf.keras.layers.Dense(128, activation='relu')(x)\n",
    "#x = tf.keras.layers.Dropout(rate=0.2)(x)\n",
    "x = tf.keras.layers.Dense(256, activation='relu')(x)\n",
    "#x = tf.keras.layers.Dropout(rate=0.2)(x)\n",
    "\n",
    "outputs = tf.keras.layers.Dense(3, activation='linear')(x)\n",
    "model = tf.keras.Model(inputs=inputs, outputs=outputs)\n",
    "\n",
    "model.compile(\n",
    "    optimizer = 'adam',\n",
    "    loss = 'mse'\n",
    ")\n",
    "\n",
    "gen = tf.keras.preprocessing.image.ImageDataGenerator()\n",
    "\n",
    "batch_size=32\n",
    "start = time.perf_counter()\n",
    "generator = gen.flow(x_train, y_train, batch_size = batch_size)\n",
    "\n",
    "history = model.fit_generator(\n",
    "    generator,\n",
    "    steps_per_epoch=len(x_train)/batch_size,\n",
    "    epochs=30,\n",
    "    validation_data = (x_val, y_val),\n",
    "    validation_steps = len(x_val),\n",
    "    callbacks=[\n",
    "        tf.keras.callbacks.EarlyStopping(\n",
    "            monitor='val_loss',\n",
    "            patience=5,\n",
    "            restore_best_weights=True\n",
    "        )\n",
    "    ]\n",
    "\n",
    ")"
   ]
  },
  {
   "cell_type": "code",
   "execution_count": 10,
   "id": "6e3083ac",
   "metadata": {},
   "outputs": [
    {
     "data": {
      "image/png": "[encoded data removed]",
      "text/plain": [
       "<Figure size 432x288 with 1 Axes>"
      ]
     },
     "metadata": {
      "needs_background": "light"
     },
     "output_type": "display_data"
    }
   ],
   "source": [
    "plt.rcParams.update({\"font.size\": 13})\n",
    "\n",
    "plt.plot(history.history['loss'], label='train', c='slateblue')\n",
    "plt.plot(history.history['val_loss'], label='validation', c='salmon')\n",
    "plt.xlabel('epochs')\n",
    "plt.ylabel('loss')\n",
    "plt.legend();"
   ]
  },
  {
   "cell_type": "code",
   "execution_count": 11,
   "id": "a8d4162d",
   "metadata": {},
   "outputs": [
    {
     "name": "stderr",
     "output_type": "stream",
     "text": [
      "2022-03-01 03:05:55.514965: W tensorflow/core/framework/cpu_allocator_impl.cc:82] Allocation of 360000000 exceeds 10% of free system memory.\n"
     ]
    },
    {
     "name": "stdout",
     "output_type": "stream",
     "text": [
      "CPU times: user 29 s, sys: 6.48 s, total: 35.5 s\n",
      "Wall time: 13.6 s\n"
     ]
    }
   ],
   "source": [
    "%%time\n",
    "results = np.squeeze(model.predict(x_test)).T"
   ]
  },
  {
   "cell_type": "code",
   "execution_count": 12,
   "id": "fd24da6d",
   "metadata": {},
   "outputs": [
    {
     "data": {
      "text/html": [
       "<div>\n",
       "<style scoped>\n",
       "    .dataframe tbody tr th:only-of-type {\n",
       "        vertical-align: middle;\n",
       "    }\n",
       "\n",
       "    .dataframe tbody tr th {\n",
       "        vertical-align: top;\n",
       "    }\n",
       "\n",
       "    .dataframe thead th {\n",
       "        text-align: right;\n",
       "    }\n",
       "</style>\n",
       "<table border=\"1\" class=\"dataframe\">\n",
       "  <thead>\n",
       "    <tr style=\"text-align: right;\">\n",
       "      <th></th>\n",
       "      <th>sys</th>\n",
       "      <th>e1_pred</th>\n",
       "      <th>e1_true</th>\n",
       "      <th>e2_pred</th>\n",
       "      <th>e2_true</th>\n",
       "      <th>thetae_pred</th>\n",
       "      <th>thetae_true</th>\n",
       "    </tr>\n",
       "  </thead>\n",
       "  <tbody>\n",
       "    <tr>\n",
       "      <th>0</th>\n",
       "      <td>6724.0</td>\n",
       "      <td>0.155688</td>\n",
       "      <td>0.128578</td>\n",
       "      <td>0.423209</td>\n",
       "      <td>0.357076</td>\n",
       "      <td>3.769963</td>\n",
       "      <td>3.810371</td>\n",
       "    </tr>\n",
       "    <tr>\n",
       "      <th>1</th>\n",
       "      <td>6474.0</td>\n",
       "      <td>0.599863</td>\n",
       "      <td>0.480868</td>\n",
       "      <td>0.115928</td>\n",
       "      <td>0.050779</td>\n",
       "      <td>3.739653</td>\n",
       "      <td>3.796621</td>\n",
       "    </tr>\n",
       "    <tr>\n",
       "      <th>2</th>\n",
       "      <td>4680.0</td>\n",
       "      <td>0.175930</td>\n",
       "      <td>0.242176</td>\n",
       "      <td>0.181712</td>\n",
       "      <td>0.121163</td>\n",
       "      <td>3.743690</td>\n",
       "      <td>3.958710</td>\n",
       "    </tr>\n",
       "    <tr>\n",
       "      <th>3</th>\n",
       "      <td>863.0</td>\n",
       "      <td>-0.110326</td>\n",
       "      <td>-0.200352</td>\n",
       "      <td>-0.047272</td>\n",
       "      <td>-0.003612</td>\n",
       "      <td>2.992990</td>\n",
       "      <td>3.111711</td>\n",
       "    </tr>\n",
       "    <tr>\n",
       "      <th>4</th>\n",
       "      <td>7287.0</td>\n",
       "      <td>0.344232</td>\n",
       "      <td>0.347171</td>\n",
       "      <td>-0.440905</td>\n",
       "      <td>-0.353522</td>\n",
       "      <td>3.384272</td>\n",
       "      <td>3.338077</td>\n",
       "    </tr>\n",
       "  </tbody>\n",
       "</table>\n",
       "</div>"
      ],
      "text/plain": [
       "      sys   e1_pred   e1_true   e2_pred   e2_true  thetae_pred  thetae_true\n",
       "0  6724.0  0.155688  0.128578  0.423209  0.357076     3.769963     3.810371\n",
       "1  6474.0  0.599863  0.480868  0.115928  0.050779     3.739653     3.796621\n",
       "2  4680.0  0.175930  0.242176  0.181712  0.121163     3.743690     3.958710\n",
       "3   863.0 -0.110326 -0.200352 -0.047272 -0.003612     2.992990     3.111711\n",
       "4  7287.0  0.344232  0.347171 -0.440905 -0.353522     3.384272     3.338077"
      ]
     },
     "execution_count": 12,
     "metadata": {},
     "output_type": "execute_result"
    }
   ],
   "source": [
    "results = pd.DataFrame(np.array([files_names_test, results[0], y_test.T[0], results[1], y_test.T[1], results[2], y_test.T[2]]).T, columns=['sys', 'e1_pred', 'e1_true', 'e2_pred', 'e2_true', 'thetae_pred', 'thetae_true'])\n",
    "results.head()"
   ]
  },
  {
   "cell_type": "code",
   "execution_count": 13,
   "id": "fc628f06",
   "metadata": {},
   "outputs": [],
   "source": [
    "# deep learning results to a txt\n",
    "results.to_csv('./dl_results/DL_results.csv', index=False)"
   ]
  },
  {
   "cell_type": "code",
   "execution_count": 14,
   "id": "2f9aeeea",
   "metadata": {},
   "outputs": [],
   "source": [
    "# save our model to a h5 file\n",
    "model.save('./dl_results/dl_architecture.h5')"
   ]
  },
  {
   "cell_type": "code",
   "execution_count": 16,
   "id": "50a933fe",
   "metadata": {},
   "outputs": [
    {
     "data": {
      "text/plain": [
       "[<matplotlib.lines.Line2D at 0x7f9ad811adc0>]"
      ]
     },
     "execution_count": 16,
     "metadata": {},
     "output_type": "execute_result"
    },
    {
     "data": {
      "image/png": "[encoded data removed]",
      "text/plain": [
       "<Figure size 432x288 with 1 Axes>"
      ]
     },
     "metadata": {
      "needs_background": "light"
     },
     "output_type": "display_data"
    }
   ],
   "source": [
    "plt.plot(results['e1_pred'], results['e1_true'], '.')"
   ]
  },
  {
   "cell_type": "code",
   "execution_count": 17,
   "id": "e9b2d749",
   "metadata": {},
   "outputs": [
    {
     "data": {
      "text/plain": [
       "[<matplotlib.lines.Line2D at 0x7f9ae0310fd0>]"
      ]
     },
     "execution_count": 17,
     "metadata": {},
     "output_type": "execute_result"
    },
    {
     "data": {
      "image/png": "[encoded data removed]",
      "text/plain": [
       "<Figure size 432x288 with 1 Axes>"
      ]
     },
     "metadata": {
      "needs_background": "light"
     },
     "output_type": "display_data"
    }
   ],
   "source": [
    "plt.plot(results['e2_pred'], results['e2_true'], '.')"
   ]
  },
  {
   "cell_type": "code",
   "execution_count": 20,
   "id": "095320c1",
   "metadata": {},
   "outputs": [
    {
     "data": {
      "text/plain": [
       "[<matplotlib.lines.Line2D at 0x7f9ad852ce20>]"
      ]
     },
     "execution_count": 20,
     "metadata": {},
     "output_type": "execute_result"
    },
    {
     "data": {
      "image/png": "[encoded data removed]",
      "text/plain": [
       "<Figure size 432x288 with 1 Axes>"
      ]
     },
     "metadata": {
      "needs_background": "light"
     },
     "output_type": "display_data"
    }
   ],
   "source": [
    "plt.plot(results['thetae_pred'], results['thetae_true'], '.')"
   ]
  },
  {
   "cell_type": "code",
   "execution_count": 21,
   "id": "419a5e73",
   "metadata": {},
   "outputs": [
    {
     "name": "stderr",
     "output_type": "stream",
     "text": [
      "2022-03-01 03:09:54.049984: W tensorflow/python/util/util.cc:368] Sets are not currently considered sequences, but this may change in the future, so consider avoiding using them.\n"
     ]
    },
    {
     "name": "stdout",
     "output_type": "stream",
     "text": [
      "INFO:tensorflow:Assets written to: ./dl_results/my_dl_model/assets\n"
     ]
    }
   ],
   "source": [
    "model.save('./dl_results/my_dl_model')"
   ]
  },
  {
   "cell_type": "code",
   "execution_count": 22,
   "id": "e7f19841",
   "metadata": {},
   "outputs": [],
   "source": [
    "model.save_weights('./dl_results/weights')"
   ]
  },
  {
   "cell_type": "code",
   "execution_count": null,
   "id": "93a5ed52",
   "metadata": {},
   "outputs": [],
   "source": []
  }
 ],
 "metadata": {
  "kernelspec": {
   "display_name": "Python 3 (ipykernel)",
   "language": "python",
   "name": "python3"
  },
  "language_info": {
   "codemirror_mode": {
    "name": "ipython",
    "version": 3
   },
   "file_extension": ".py",
   "mimetype": "text/x-python",
   "name": "python",
   "nbconvert_exporter": "python",
   "pygments_lexer": "ipython3",
   "version": "3.8.10"
  }
 },
 "nbformat": 4,
 "nbformat_minor": 5
}
