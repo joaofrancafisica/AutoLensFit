{
 "cells": [
  {
   "cell_type": "code",
   "execution_count": 1,
   "id": "4e3217ff",
   "metadata": {},
   "outputs": [
    {
     "name": "stderr",
     "output_type": "stream",
     "text": [
      "2022-03-21 12:59:35.388662: W tensorflow/stream_executor/platform/default/dso_loader.cc:64] Could not load dynamic library 'libcudart.so.11.0'; dlerror: libcudart.so.11.0: cannot open shared object file: No such file or directory\n",
      "2022-03-21 12:59:35.388953: I tensorflow/stream_executor/cuda/cudart_stub.cc:29] Ignore above cudart dlerror if you do not have a GPU set up on your machine.\n"
     ]
    }
   ],
   "source": [
    "# basics libraries\n",
    "import pandas as pd\n",
    "import numpy as np\n",
    "import matplotlib.pyplot as plt\n",
    "from astropy.io import fits\n",
    "import time\n",
    "\n",
    "# deep learning libraries\n",
    "import tensorflow as tf\n",
    "from sklearn.model_selection import train_test_split\n",
    "from keras.models import Sequential,load_model,Model\n",
    "from keras.layers import Dense,Dropout,Flatten,Conv2D,MaxPool2D,ZeroPadding2D,Activation\n",
    "from keras.layers import Conv2D,MaxPool2D,Dense,Dropout,BatchNormalization,Flatten,Input\n",
    "\n",
    "# magic functions\n",
    "%matplotlib inline"
   ]
  },
  {
   "cell_type": "code",
   "execution_count": 2,
   "id": "7195801c",
   "metadata": {},
   "outputs": [],
   "source": [
    "# images full path\n",
    "fits_full_path = './simulations/fits_files/'\n",
    "\n",
    "# selected bandpasses\n",
    "selected_bandpass = {\n",
    "    'desg':'g',\n",
    "    'desr':'r',\n",
    "    'desi':'i'\n",
    "}\n",
    "\n",
    "# metadata files\n",
    "metadata = pd.read_csv(fits_full_path+'metadata.txt')\n",
    "metadata.dropna(inplace=True) # first line has Nan values and I still don't know why\n",
    "\n",
    "# basic variables\n",
    "num_pix = metadata['numPix-g'].iloc[-1] # same for all bandpasses\n",
    "pixel_scale = metadata['pixel_scale-g'].iloc[-1] # same for all bandpasses\n",
    "system_label = np.linspace(0, 4999, 5000, dtype=int)"
   ]
  },
  {
   "cell_type": "code",
   "execution_count": 3,
   "id": "ca4688fb",
   "metadata": {},
   "outputs": [
    {
     "data": {
      "text/html": [
       "<div>\n",
       "<style scoped>\n",
       "    .dataframe tbody tr th:only-of-type {\n",
       "        vertical-align: middle;\n",
       "    }\n",
       "\n",
       "    .dataframe tbody tr th {\n",
       "        vertical-align: top;\n",
       "    }\n",
       "\n",
       "    .dataframe thead th {\n",
       "        text-align: right;\n",
       "    }\n",
       "</style>\n",
       "<table border=\"1\" class=\"dataframe\">\n",
       "  <thead>\n",
       "    <tr style=\"text-align: right;\">\n",
       "      <th></th>\n",
       "      <th>OBJID-g</th>\n",
       "      <th>H0-g</th>\n",
       "      <th>Om0-g</th>\n",
       "      <th>exposure_time-g</th>\n",
       "      <th>numPix-g</th>\n",
       "      <th>pixel_scale-g</th>\n",
       "      <th>psf_type-g</th>\n",
       "      <th>read_noise-g</th>\n",
       "      <th>ccd_gain-g</th>\n",
       "      <th>seeing-g</th>\n",
       "      <th>...</th>\n",
       "      <th>PLANE_1-REDSHIFT-g</th>\n",
       "      <th>PLANE_2-REDSHIFT-g</th>\n",
       "      <th>PLANE_1-REDSHIFT-r</th>\n",
       "      <th>PLANE_2-REDSHIFT-r</th>\n",
       "      <th>PLANE_1-REDSHIFT-i</th>\n",
       "      <th>PLANE_2-REDSHIFT-i</th>\n",
       "      <th>PLANE_1-REDSHIFT-z</th>\n",
       "      <th>PLANE_2-REDSHIFT-z</th>\n",
       "      <th>PLANE_1-REDSHIFT-Y</th>\n",
       "      <th>PLANE_2-REDSHIFT-Y</th>\n",
       "    </tr>\n",
       "  </thead>\n",
       "  <tbody>\n",
       "    <tr>\n",
       "      <th>0</th>\n",
       "      <td>1</td>\n",
       "      <td>73.0</td>\n",
       "      <td>0.3</td>\n",
       "      <td>90.0</td>\n",
       "      <td>100</td>\n",
       "      <td>0.263</td>\n",
       "      <td>GAUSSIAN</td>\n",
       "      <td>7</td>\n",
       "      <td>6.083</td>\n",
       "      <td>1.200</td>\n",
       "      <td>...</td>\n",
       "      <td>0.701759</td>\n",
       "      <td>2.613567</td>\n",
       "      <td>0.701759</td>\n",
       "      <td>2.613567</td>\n",
       "      <td>0.701759</td>\n",
       "      <td>2.613567</td>\n",
       "      <td>0.701759</td>\n",
       "      <td>2.613567</td>\n",
       "      <td>0.701759</td>\n",
       "      <td>2.613567</td>\n",
       "    </tr>\n",
       "    <tr>\n",
       "      <th>1</th>\n",
       "      <td>2</td>\n",
       "      <td>73.0</td>\n",
       "      <td>0.3</td>\n",
       "      <td>90.0</td>\n",
       "      <td>100</td>\n",
       "      <td>0.263</td>\n",
       "      <td>GAUSSIAN</td>\n",
       "      <td>7</td>\n",
       "      <td>6.083</td>\n",
       "      <td>0.761</td>\n",
       "      <td>...</td>\n",
       "      <td>0.976595</td>\n",
       "      <td>2.997593</td>\n",
       "      <td>0.976595</td>\n",
       "      <td>2.997593</td>\n",
       "      <td>0.976595</td>\n",
       "      <td>2.997593</td>\n",
       "      <td>0.976595</td>\n",
       "      <td>2.997593</td>\n",
       "      <td>0.976595</td>\n",
       "      <td>2.997593</td>\n",
       "    </tr>\n",
       "    <tr>\n",
       "      <th>2</th>\n",
       "      <td>3</td>\n",
       "      <td>73.0</td>\n",
       "      <td>0.3</td>\n",
       "      <td>90.0</td>\n",
       "      <td>100</td>\n",
       "      <td>0.263</td>\n",
       "      <td>GAUSSIAN</td>\n",
       "      <td>7</td>\n",
       "      <td>6.083</td>\n",
       "      <td>1.559</td>\n",
       "      <td>...</td>\n",
       "      <td>0.851417</td>\n",
       "      <td>1.342668</td>\n",
       "      <td>0.851417</td>\n",
       "      <td>1.342668</td>\n",
       "      <td>0.851417</td>\n",
       "      <td>1.342668</td>\n",
       "      <td>0.851417</td>\n",
       "      <td>1.342668</td>\n",
       "      <td>0.851417</td>\n",
       "      <td>1.342668</td>\n",
       "    </tr>\n",
       "    <tr>\n",
       "      <th>3</th>\n",
       "      <td>4</td>\n",
       "      <td>73.0</td>\n",
       "      <td>0.3</td>\n",
       "      <td>90.0</td>\n",
       "      <td>100</td>\n",
       "      <td>0.263</td>\n",
       "      <td>GAUSSIAN</td>\n",
       "      <td>7</td>\n",
       "      <td>6.083</td>\n",
       "      <td>1.241</td>\n",
       "      <td>...</td>\n",
       "      <td>0.942661</td>\n",
       "      <td>3.862177</td>\n",
       "      <td>0.942661</td>\n",
       "      <td>3.862177</td>\n",
       "      <td>0.942661</td>\n",
       "      <td>3.862177</td>\n",
       "      <td>0.942661</td>\n",
       "      <td>3.862177</td>\n",
       "      <td>0.942661</td>\n",
       "      <td>3.862177</td>\n",
       "    </tr>\n",
       "    <tr>\n",
       "      <th>4</th>\n",
       "      <td>5</td>\n",
       "      <td>73.0</td>\n",
       "      <td>0.3</td>\n",
       "      <td>90.0</td>\n",
       "      <td>100</td>\n",
       "      <td>0.263</td>\n",
       "      <td>GAUSSIAN</td>\n",
       "      <td>7</td>\n",
       "      <td>6.083</td>\n",
       "      <td>0.962</td>\n",
       "      <td>...</td>\n",
       "      <td>0.645495</td>\n",
       "      <td>4.738823</td>\n",
       "      <td>0.645495</td>\n",
       "      <td>4.738823</td>\n",
       "      <td>0.645495</td>\n",
       "      <td>4.738823</td>\n",
       "      <td>0.645495</td>\n",
       "      <td>4.738823</td>\n",
       "      <td>0.645495</td>\n",
       "      <td>4.738823</td>\n",
       "    </tr>\n",
       "  </tbody>\n",
       "</table>\n",
       "<p>5 rows × 310 columns</p>\n",
       "</div>"
      ],
      "text/plain": [
       "   OBJID-g  H0-g  Om0-g  exposure_time-g  numPix-g  pixel_scale-g psf_type-g  \\\n",
       "0        1  73.0    0.3             90.0       100          0.263   GAUSSIAN   \n",
       "1        2  73.0    0.3             90.0       100          0.263   GAUSSIAN   \n",
       "2        3  73.0    0.3             90.0       100          0.263   GAUSSIAN   \n",
       "3        4  73.0    0.3             90.0       100          0.263   GAUSSIAN   \n",
       "4        5  73.0    0.3             90.0       100          0.263   GAUSSIAN   \n",
       "\n",
       "   read_noise-g  ccd_gain-g  seeing-g  ...  PLANE_1-REDSHIFT-g  \\\n",
       "0             7       6.083     1.200  ...            0.701759   \n",
       "1             7       6.083     0.761  ...            0.976595   \n",
       "2             7       6.083     1.559  ...            0.851417   \n",
       "3             7       6.083     1.241  ...            0.942661   \n",
       "4             7       6.083     0.962  ...            0.645495   \n",
       "\n",
       "   PLANE_2-REDSHIFT-g  PLANE_1-REDSHIFT-r  PLANE_2-REDSHIFT-r  \\\n",
       "0            2.613567            0.701759            2.613567   \n",
       "1            2.997593            0.976595            2.997593   \n",
       "2            1.342668            0.851417            1.342668   \n",
       "3            3.862177            0.942661            3.862177   \n",
       "4            4.738823            0.645495            4.738823   \n",
       "\n",
       "  PLANE_1-REDSHIFT-i PLANE_2-REDSHIFT-i  PLANE_1-REDSHIFT-z  \\\n",
       "0           0.701759           2.613567            0.701759   \n",
       "1           0.976595           2.997593            0.976595   \n",
       "2           0.851417           1.342668            0.851417   \n",
       "3           0.942661           3.862177            0.942661   \n",
       "4           0.645495           4.738823            0.645495   \n",
       "\n",
       "   PLANE_2-REDSHIFT-z PLANE_1-REDSHIFT-Y  PLANE_2-REDSHIFT-Y  \n",
       "0            2.613567           0.701759            2.613567  \n",
       "1            2.997593           0.976595            2.997593  \n",
       "2            1.342668           0.851417            1.342668  \n",
       "3            3.862177           0.942661            3.862177  \n",
       "4            4.738823           0.645495            4.738823  \n",
       "\n",
       "[5 rows x 310 columns]"
      ]
     },
     "execution_count": 3,
     "metadata": {},
     "output_type": "execute_result"
    }
   ],
   "source": [
    "metadata.head()"
   ]
  },
  {
   "cell_type": "code",
   "execution_count": 4,
   "id": "b9d15184",
   "metadata": {},
   "outputs": [
    {
     "name": "stdout",
     "output_type": "stream",
     "text": [
      "4000 1000\n"
     ]
    }
   ],
   "source": [
    "# split our data in training and test dataset with ration 80 - 20 %\n",
    "np.random.seed(42)\n",
    "files_names_train, files_names_test = train_test_split(system_label, test_size=0.2)\n",
    "print(len(files_names_train), len(files_names_test))"
   ]
  },
  {
   "cell_type": "code",
   "execution_count": 5,
   "id": "a1c048cf",
   "metadata": {},
   "outputs": [
    {
     "name": "stdout",
     "output_type": "stream",
     "text": [
      "3600 400 1000\n"
     ]
    }
   ],
   "source": [
    "# split our data in training and validation dataset with ration 90 - 10 %\n",
    "np.random.seed(42)\n",
    "files_names_train, files_names_val = train_test_split(files_names_train, test_size=0.1)\n",
    "print(len(files_names_train), len(files_names_val), len(files_names_test))"
   ]
  },
  {
   "cell_type": "code",
   "execution_count": 6,
   "id": "aa1ab511",
   "metadata": {},
   "outputs": [],
   "source": [
    "# train dataset\n",
    "x_train = []\n",
    "y_train = []\n",
    "for i in range(0, len(files_names_train)):\n",
    "    x_train.append(np.array([fits.open(fits_full_path + selected_bandpass['desg'] + '/' +  str(files_names_train[i])+'.fits')[0].data, fits.open(fits_full_path + selected_bandpass['desr'] + '/' +  str(files_names_train[i])+'.fits')[0].data, fits.open(fits_full_path + selected_bandpass['desi'] + '/' +  str(files_names_train[i])+'.fits')[0].data]))\n",
    "    \n",
    "x_train = np.array(x_train)\n",
    "y_train = np.array([np.array(metadata['PLANE_2-OBJECT_1-LIGHT_PROFILE_1-n_sersic-g'][files_names_train]), np.array(metadata['PLANE_2-OBJECT_1-LIGHT_PROFILE_1-R_sersic-g'][files_names_train]), np.array(metadata['PLANE_1-OBJECT_1-MASS_PROFILE_1-theta_E-g'][files_names_train])]).T\n",
    "\n",
    "\n",
    "# validation dataset\n",
    "x_val = []\n",
    "y_val = []\n",
    "for i in range(0, len(files_names_val)):\n",
    "    x_val.append(np.array([fits.open(fits_full_path + selected_bandpass['desg'] + '/' +  str(files_names_val[i])+'.fits')[0].data, fits.open(fits_full_path + selected_bandpass['desr'] + '/' +  str(files_names_val[i])+'.fits')[0].data, fits.open(fits_full_path + selected_bandpass['desi'] + '/' +  str(files_names_val[i])+'.fits')[0].data]))\n",
    "    \n",
    "x_val = np.array(x_val)\n",
    "y_val = np.array([np.array(metadata['PLANE_2-OBJECT_1-LIGHT_PROFILE_1-n_sersic-g'][files_names_val]), np.array(metadata['PLANE_2-OBJECT_1-LIGHT_PROFILE_1-R_sersic-g'][files_names_val]), np.array(metadata['PLANE_1-OBJECT_1-MASS_PROFILE_1-theta_E-g'][files_names_val])]).T\n",
    "\n",
    "# validation dataset\n",
    "x_test = []\n",
    "y_test = []\n",
    "for i in range(0, len(files_names_test)):\n",
    "    x_test.append(np.array([fits.open(fits_full_path + selected_bandpass['desg'] + '/' +  str(files_names_test[i])+'.fits')[0].data, fits.open(fits_full_path + selected_bandpass['desr'] + '/' +  str(files_names_test[i])+'.fits')[0].data, fits.open(fits_full_path + selected_bandpass['desi'] + '/' +  str(files_names_test[i])+'.fits')[0].data]))\n",
    "    \n",
    "x_test = np.array(x_test)\n",
    "y_test = np.array([np.array(metadata['PLANE_2-OBJECT_1-LIGHT_PROFILE_1-n_sersic-g'][files_names_test]), np.array(metadata['PLANE_2-OBJECT_1-LIGHT_PROFILE_1-R_sersic-g'][files_names_test]), np.array(metadata['PLANE_1-OBJECT_1-MASS_PROFILE_1-theta_E-g'][files_names_test])]).T\n"
   ]
  },
  {
   "cell_type": "code",
   "execution_count": 7,
   "id": "f9183446",
   "metadata": {},
   "outputs": [],
   "source": [
    "#np.array(metadata['PLANE_1-OBJECT_1-MASS_PROFILE_1-theta_E-g'][files_names_test])"
   ]
  },
  {
   "cell_type": "code",
   "execution_count": 8,
   "id": "6d276884",
   "metadata": {},
   "outputs": [
    {
     "name": "stdout",
     "output_type": "stream",
     "text": [
      "(3600, 100, 100, 3) (1000, 100, 100, 3) (400, 100, 100, 3)\n"
     ]
    }
   ],
   "source": [
    "x_train = np.moveaxis(x_train, 1, 2)\n",
    "x_train = np.moveaxis(x_train, 3, 2)\n",
    "\n",
    "x_test = np.moveaxis(x_test, 1, 2)\n",
    "x_test = np.moveaxis(x_test, 3, 2)\n",
    "\n",
    "x_val = np.moveaxis(x_val, 1, 2)\n",
    "x_val = np.moveaxis(x_val, 3, 2)\n",
    "\n",
    "print(x_train.shape, x_test.shape, x_val.shape)"
   ]
  },
  {
   "cell_type": "code",
   "execution_count": 9,
   "id": "cc525c96",
   "metadata": {
    "scrolled": true
   },
   "outputs": [
    {
     "name": "stderr",
     "output_type": "stream",
     "text": [
      "2022-03-21 13:00:27.665453: I tensorflow/stream_executor/cuda/cuda_gpu_executor.cc:922] could not open file to read NUMA node: /sys/bus/pci/devices/0000:02:00.0/numa_node\n",
      "Your kernel may have been built without NUMA support.\n",
      "2022-03-21 13:00:27.666701: W tensorflow/stream_executor/platform/default/dso_loader.cc:64] Could not load dynamic library 'libcudart.so.11.0'; dlerror: libcudart.so.11.0: cannot open shared object file: No such file or directory\n",
      "2022-03-21 13:00:27.667046: W tensorflow/stream_executor/platform/default/dso_loader.cc:64] Could not load dynamic library 'libcublas.so.11'; dlerror: libcublas.so.11: cannot open shared object file: No such file or directory\n",
      "2022-03-21 13:00:27.667228: W tensorflow/stream_executor/platform/default/dso_loader.cc:64] Could not load dynamic library 'libcublasLt.so.11'; dlerror: libcublasLt.so.11: cannot open shared object file: No such file or directory\n",
      "2022-03-21 13:00:27.667301: W tensorflow/stream_executor/platform/default/dso_loader.cc:64] Could not load dynamic library 'libcufft.so.10'; dlerror: libcufft.so.10: cannot open shared object file: No such file or directory\n",
      "2022-03-21 13:00:27.667694: W tensorflow/stream_executor/platform/default/dso_loader.cc:64] Could not load dynamic library 'libcurand.so.10'; dlerror: libcurand.so.10: cannot open shared object file: No such file or directory\n",
      "2022-03-21 13:00:27.667766: W tensorflow/stream_executor/platform/default/dso_loader.cc:64] Could not load dynamic library 'libcusolver.so.11'; dlerror: libcusolver.so.11: cannot open shared object file: No such file or directory\n",
      "2022-03-21 13:00:27.667830: W tensorflow/stream_executor/platform/default/dso_loader.cc:64] Could not load dynamic library 'libcusparse.so.11'; dlerror: libcusparse.so.11: cannot open shared object file: No such file or directory\n",
      "2022-03-21 13:00:27.667895: W tensorflow/stream_executor/platform/default/dso_loader.cc:64] Could not load dynamic library 'libcudnn.so.8'; dlerror: libcudnn.so.8: cannot open shared object file: No such file or directory\n",
      "2022-03-21 13:00:27.667990: W tensorflow/core/common_runtime/gpu/gpu_device.cc:1850] Cannot dlopen some GPU libraries. Please make sure the missing libraries mentioned above are installed properly if you would like to use GPU. Follow the guide at https://www.tensorflow.org/install/gpu for how to download and setup the required libraries for your platform.\n",
      "Skipping registering GPU devices...\n",
      "2022-03-21 13:00:27.672616: I tensorflow/core/platform/cpu_feature_guard.cc:151] This TensorFlow binary is optimized with oneAPI Deep Neural Network Library (oneDNN) to use the following CPU instructions in performance-critical operations:  AVX2 FMA\n",
      "To enable them in other operations, rebuild TensorFlow with the appropriate compiler flags.\n",
      "/tmp/ipykernel_2410/1425935768.py:35: UserWarning: `Model.fit_generator` is deprecated and will be removed in a future version. Please use `Model.fit`, which supports generators.\n",
      "  history = model.fit_generator(\n"
     ]
    },
    {
     "name": "stdout",
     "output_type": "stream",
     "text": [
      "Epoch 1/30\n",
      "112/112 [==============================] - 47s 400ms/step - loss: 13.3239 - val_loss: 1.2130\n",
      "Epoch 2/30\n",
      "112/112 [==============================] - 43s 384ms/step - loss: 1.2716 - val_loss: 1.0872\n",
      "Epoch 3/30\n",
      "112/112 [==============================] - 40s 359ms/step - loss: 1.0657 - val_loss: 0.8731\n",
      "Epoch 4/30\n",
      "112/112 [==============================] - 38s 334ms/step - loss: 0.9124 - val_loss: 0.7723\n",
      "Epoch 5/30\n",
      "112/112 [==============================] - 32s 286ms/step - loss: 0.8518 - val_loss: 0.7313\n",
      "Epoch 6/30\n",
      "112/112 [==============================] - 40s 352ms/step - loss: 0.7820 - val_loss: 0.6713\n",
      "Epoch 7/30\n",
      "112/112 [==============================] - 33s 294ms/step - loss: 0.7680 - val_loss: 0.6940\n",
      "Epoch 8/30\n",
      "112/112 [==============================] - 31s 275ms/step - loss: 0.7331 - val_loss: 0.6773\n",
      "Epoch 9/30\n",
      "112/112 [==============================] - 31s 280ms/step - loss: 0.7253 - val_loss: 0.6294\n",
      "Epoch 10/30\n",
      "112/112 [==============================] - 31s 274ms/step - loss: 0.6537 - val_loss: 0.5940\n",
      "Epoch 11/30\n",
      "112/112 [==============================] - 30s 269ms/step - loss: 0.6785 - val_loss: 0.6727\n",
      "Epoch 12/30\n",
      "112/112 [==============================] - 35s 312ms/step - loss: 0.6016 - val_loss: 0.5581\n",
      "Epoch 13/30\n",
      "112/112 [==============================] - 59s 529ms/step - loss: 0.6159 - val_loss: 0.6313\n",
      "Epoch 14/30\n",
      "112/112 [==============================] - 51s 448ms/step - loss: 0.5772 - val_loss: 0.5695\n",
      "Epoch 15/30\n",
      "112/112 [==============================] - 42s 365ms/step - loss: 0.5821 - val_loss: 0.5518\n",
      "Epoch 16/30\n",
      "112/112 [==============================] - 40s 354ms/step - loss: 0.4845 - val_loss: 0.5096\n",
      "Epoch 17/30\n",
      "112/112 [==============================] - 34s 301ms/step - loss: 0.4965 - val_loss: 0.4977\n",
      "Epoch 18/30\n",
      "112/112 [==============================] - 33s 292ms/step - loss: 0.4427 - val_loss: 0.5130\n",
      "Epoch 19/30\n",
      "112/112 [==============================] - 33s 292ms/step - loss: 0.4634 - val_loss: 0.4861\n",
      "Epoch 20/30\n",
      "112/112 [==============================] - 33s 294ms/step - loss: 0.4080 - val_loss: 0.4594\n",
      "Epoch 21/30\n",
      "112/112 [==============================] - 36s 323ms/step - loss: 0.4395 - val_loss: 0.4763\n",
      "Epoch 22/30\n",
      "112/112 [==============================] - 37s 328ms/step - loss: 0.3488 - val_loss: 0.5267\n",
      "Epoch 23/30\n",
      "112/112 [==============================] - 35s 315ms/step - loss: 0.3761 - val_loss: 0.5313\n",
      "Epoch 24/30\n",
      "112/112 [==============================] - 33s 291ms/step - loss: 0.3800 - val_loss: 0.5944\n",
      "Epoch 25/30\n",
      "112/112 [==============================] - 31s 278ms/step - loss: 0.3884 - val_loss: 0.5111\n"
     ]
    }
   ],
   "source": [
    "# Our deep learning algorithm \n",
    "inputs = tf.keras.Input(shape=(100, 100, 3))\n",
    "\n",
    "x = tf.keras.layers.Conv2D(filters=16, kernel_size=(3,3), activation='relu')(inputs)\n",
    "x = tf.keras.layers.Conv2D(filters=16, kernel_size=(3,3), activation='relu')(x)\n",
    "x = tf.keras.layers.MaxPool2D()(x)\n",
    "x = tf.keras.layers.Conv2D(filters=32, kernel_size=(3,3), activation='relu')(x)\n",
    "x = tf.keras.layers.Conv2D(filters=32, kernel_size=(1,1), activation='relu')(x)\n",
    "x = tf.keras.layers.MaxPool2D()(x)\n",
    "x = tf.keras.layers.Conv2D(filters=32, kernel_size=(5,5), activation='relu')(x)\n",
    "x = tf.keras.layers.Conv2D(filters=32, kernel_size=(5,5), activation='relu')(x)\n",
    "x = tf.keras.layers.Conv2D(filters=32, kernel_size=(1,1), activation='relu')(x)\n",
    "x = tf.keras.layers.Conv2D(filters=32, kernel_size=(5,5), activation='relu')(x)\n",
    "\n",
    "x = tf.keras.layers.Flatten()(x)\n",
    "x = tf.keras.layers.Dense(128, activation='relu')(x)\n",
    "#x = tf.keras.layers.Dropout(rate=0.2)(x)\n",
    "x = tf.keras.layers.Dense(256, activation='relu')(x)\n",
    "#x = tf.keras.layers.Dropout(rate=0.2)(x)\n",
    "\n",
    "outputs = tf.keras.layers.Dense(3, activation='linear')(x)\n",
    "model = tf.keras.Model(inputs=inputs, outputs=outputs)\n",
    "\n",
    "model.compile(\n",
    "    optimizer = 'adam',\n",
    "    loss = 'mse'\n",
    ")\n",
    "\n",
    "gen = tf.keras.preprocessing.image.ImageDataGenerator()\n",
    "\n",
    "batch_size=32\n",
    "start = time.perf_counter()\n",
    "generator = gen.flow(x_train, y_train, batch_size = batch_size)\n",
    "\n",
    "history = model.fit_generator(\n",
    "    generator,\n",
    "    steps_per_epoch=len(x_train)/batch_size,\n",
    "    epochs=30,\n",
    "    validation_data = (x_val, y_val),\n",
    "    validation_steps = len(x_val),\n",
    "    callbacks=[\n",
    "        tf.keras.callbacks.EarlyStopping(\n",
    "            monitor='val_loss',\n",
    "            patience=5,\n",
    "            restore_best_weights=True\n",
    "        )\n",
    "    ]\n",
    "\n",
    ")"
   ]
  },
  {
   "cell_type": "code",
   "execution_count": 10,
   "id": "6e3083ac",
   "metadata": {},
   "outputs": [
    {
     "data": {
      "image/png": "[encoded data removed]",
      "text/plain": [
       "<Figure size 432x288 with 1 Axes>"
      ]
     },
     "metadata": {
      "needs_background": "light"
     },
     "output_type": "display_data"
    }
   ],
   "source": [
    "plt.rcParams.update({\"font.size\": 13})\n",
    "\n",
    "plt.plot(history.history['loss'], label='train', c='slateblue')\n",
    "plt.plot(history.history['val_loss'], label='validation', c='salmon')\n",
    "plt.xlabel('epochs')\n",
    "plt.ylabel('loss')\n",
    "plt.legend();"
   ]
  },
  {
   "cell_type": "code",
   "execution_count": 11,
   "id": "a8d4162d",
   "metadata": {},
   "outputs": [
    {
     "name": "stdout",
     "output_type": "stream",
     "text": [
      "CPU times: user 12.8 s, sys: 209 ms, total: 13 s\n",
      "Wall time: 4.13 s\n"
     ]
    }
   ],
   "source": [
    "%%time\n",
    "results = np.squeeze(model.predict(x_test)).T"
   ]
  },
  {
   "cell_type": "code",
   "execution_count": 12,
   "id": "fd24da6d",
   "metadata": {},
   "outputs": [
    {
     "data": {
      "text/html": [
       "<div>\n",
       "<style scoped>\n",
       "    .dataframe tbody tr th:only-of-type {\n",
       "        vertical-align: middle;\n",
       "    }\n",
       "\n",
       "    .dataframe tbody tr th {\n",
       "        vertical-align: top;\n",
       "    }\n",
       "\n",
       "    .dataframe thead th {\n",
       "        text-align: right;\n",
       "    }\n",
       "</style>\n",
       "<table border=\"1\" class=\"dataframe\">\n",
       "  <thead>\n",
       "    <tr style=\"text-align: right;\">\n",
       "      <th></th>\n",
       "      <th>sys</th>\n",
       "      <th>nsersic_pred</th>\n",
       "      <th>nsersic_true</th>\n",
       "      <th>rsersic_pred</th>\n",
       "      <th>rsersic_true</th>\n",
       "      <th>thetae_pred</th>\n",
       "      <th>thetae_true</th>\n",
       "    </tr>\n",
       "  </thead>\n",
       "  <tbody>\n",
       "    <tr>\n",
       "      <th>0</th>\n",
       "      <td>1502.0</td>\n",
       "      <td>4.389782</td>\n",
       "      <td>4.017141</td>\n",
       "      <td>4.663924</td>\n",
       "      <td>3.533353</td>\n",
       "      <td>2.432914</td>\n",
       "      <td>2.618092</td>\n",
       "    </tr>\n",
       "    <tr>\n",
       "      <th>1</th>\n",
       "      <td>2587.0</td>\n",
       "      <td>5.477110</td>\n",
       "      <td>5.630247</td>\n",
       "      <td>6.433606</td>\n",
       "      <td>5.894580</td>\n",
       "      <td>3.495189</td>\n",
       "      <td>3.711217</td>\n",
       "    </tr>\n",
       "    <tr>\n",
       "      <th>2</th>\n",
       "      <td>2654.0</td>\n",
       "      <td>4.577913</td>\n",
       "      <td>5.355109</td>\n",
       "      <td>5.801272</td>\n",
       "      <td>5.338677</td>\n",
       "      <td>2.907392</td>\n",
       "      <td>2.862549</td>\n",
       "    </tr>\n",
       "    <tr>\n",
       "      <th>3</th>\n",
       "      <td>1056.0</td>\n",
       "      <td>4.407599</td>\n",
       "      <td>4.212606</td>\n",
       "      <td>8.003832</td>\n",
       "      <td>9.544011</td>\n",
       "      <td>4.699515</td>\n",
       "      <td>4.923458</td>\n",
       "    </tr>\n",
       "    <tr>\n",
       "      <th>4</th>\n",
       "      <td>706.0</td>\n",
       "      <td>3.396282</td>\n",
       "      <td>3.554883</td>\n",
       "      <td>6.845214</td>\n",
       "      <td>5.549851</td>\n",
       "      <td>2.992930</td>\n",
       "      <td>3.144579</td>\n",
       "    </tr>\n",
       "  </tbody>\n",
       "</table>\n",
       "</div>"
      ],
      "text/plain": [
       "      sys  nsersic_pred  nsersic_true  rsersic_pred  rsersic_true  \\\n",
       "0  1502.0      4.389782      4.017141      4.663924      3.533353   \n",
       "1  2587.0      5.477110      5.630247      6.433606      5.894580   \n",
       "2  2654.0      4.577913      5.355109      5.801272      5.338677   \n",
       "3  1056.0      4.407599      4.212606      8.003832      9.544011   \n",
       "4   706.0      3.396282      3.554883      6.845214      5.549851   \n",
       "\n",
       "   thetae_pred  thetae_true  \n",
       "0     2.432914     2.618092  \n",
       "1     3.495189     3.711217  \n",
       "2     2.907392     2.862549  \n",
       "3     4.699515     4.923458  \n",
       "4     2.992930     3.144579  "
      ]
     },
     "execution_count": 12,
     "metadata": {},
     "output_type": "execute_result"
    }
   ],
   "source": [
    "results = pd.DataFrame(np.array([files_names_test+1, results[0], y_test.T[0], results[1], y_test.T[1], results[2], y_test.T[2]]).T, columns=['sys', 'nsersic_pred', 'nsersic_true', 'rsersic_pred', 'rsersic_true', 'thetae_pred', 'thetae_true'])\n",
    "results.head()"
   ]
  },
  {
   "cell_type": "code",
   "execution_count": 13,
   "id": "fc628f06",
   "metadata": {},
   "outputs": [],
   "source": [
    "# deep learning results to a txt\n",
    "results.to_csv('./dl_results/DL_results.csv', index=False)"
   ]
  },
  {
   "cell_type": "code",
   "execution_count": 14,
   "id": "2f9aeeea",
   "metadata": {},
   "outputs": [],
   "source": [
    "# save our model to a h5 file\n",
    "model.save('./dl_results/dl_architecture.h5')"
   ]
  },
  {
   "cell_type": "code",
   "execution_count": 15,
   "id": "50a933fe",
   "metadata": {},
   "outputs": [
    {
     "data": {
      "text/plain": [
       "[<matplotlib.lines.Line2D at 0x7efcc4686550>]"
      ]
     },
     "execution_count": 15,
     "metadata": {},
     "output_type": "execute_result"
    },
    {
     "data": {
      "image/png": "[encoded data removed]",
      "text/plain": [
       "<Figure size 432x288 with 1 Axes>"
      ]
     },
     "metadata": {
      "needs_background": "light"
     },
     "output_type": "display_data"
    }
   ],
   "source": [
    "plt.plot(results['nsersic_pred'], results['nsersic_true'], '.')"
   ]
  },
  {
   "cell_type": "code",
   "execution_count": 16,
   "id": "e9b2d749",
   "metadata": {},
   "outputs": [
    {
     "data": {
      "text/plain": [
       "[<matplotlib.lines.Line2D at 0x7efcc436ca30>]"
      ]
     },
     "execution_count": 16,
     "metadata": {},
     "output_type": "execute_result"
    },
    {
     "data": {
      "image/png": "[encoded data removed]",
      "text/plain": [
       "<Figure size 432x288 with 1 Axes>"
      ]
     },
     "metadata": {
      "needs_background": "light"
     },
     "output_type": "display_data"
    }
   ],
   "source": [
    "plt.plot(results['rsersic_pred'], results['rsersic_true'], '.')"
   ]
  },
  {
   "cell_type": "code",
   "execution_count": 17,
   "id": "095320c1",
   "metadata": {},
   "outputs": [
    {
     "data": {
      "text/plain": [
       "[<matplotlib.lines.Line2D at 0x7efcc42d43a0>]"
      ]
     },
     "execution_count": 17,
     "metadata": {},
     "output_type": "execute_result"
    },
    {
     "data": {
      "image/png": "[encoded data removed]",
      "text/plain": [
       "<Figure size 432x288 with 1 Axes>"
      ]
     },
     "metadata": {
      "needs_background": "light"
     },
     "output_type": "display_data"
    }
   ],
   "source": [
    "plt.plot(results['thetae_pred'], results['thetae_true'], '.')"
   ]
  },
  {
   "cell_type": "code",
   "execution_count": 18,
   "id": "419a5e73",
   "metadata": {},
   "outputs": [
    {
     "name": "stderr",
     "output_type": "stream",
     "text": [
      "2022-03-21 13:16:05.913208: W tensorflow/python/util/util.cc:368] Sets are not currently considered sequences, but this may change in the future, so consider avoiding using them.\n"
     ]
    },
    {
     "name": "stdout",
     "output_type": "stream",
     "text": [
      "INFO:tensorflow:Assets written to: ./dl_results/my_dl_model/assets\n"
     ]
    }
   ],
   "source": [
    "model.save('./dl_results/my_dl_model')"
   ]
  },
  {
   "cell_type": "code",
   "execution_count": 19,
   "id": "e7f19841",
   "metadata": {},
   "outputs": [],
   "source": [
    "model.save_weights('./dl_results/weights')"
   ]
  },
  {
   "cell_type": "code",
   "execution_count": null,
   "id": "93a5ed52",
   "metadata": {},
   "outputs": [],
   "source": []
  }
 ],
 "metadata": {
  "kernelspec": {
   "display_name": "Python 3 (ipykernel)",
   "language": "python",
   "name": "python3"
  },
  "language_info": {
   "codemirror_mode": {
    "name": "ipython",
    "version": 3
   },
   "file_extension": ".py",
   "mimetype": "text/x-python",
   "name": "python",
   "nbconvert_exporter": "python",
   "pygments_lexer": "ipython3",
   "version": "3.8.10"
  }
 },
 "nbformat": 4,
 "nbformat_minor": 5
}
