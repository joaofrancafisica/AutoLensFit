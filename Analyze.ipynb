{
 "cells": [
  {
   "cell_type": "code",
   "execution_count": 1,
   "id": "0bf27bf8-cff1-45f7-b807-94f8ba2aa9a9",
   "metadata": {},
   "outputs": [],
   "source": [
    "import numpy as np\n",
    "import pandas as pd\n",
    "import matplotlib.pyplot as plt\n",
    "import autolens as al\n",
    "import os\n",
    "import emcee\n",
    "import itertools\n",
    "marker = itertools.cycle(('.',',','o','v','^','<','>','1','2','3','4','8','s','p','P','*','h','H','+','x','X','D','d'))\n",
    "error_marker = itertools.cycle(('o','v','1','2','3','4','8','s','p','P','*','h','H','+','x','X','D','d'))\n",
    "\n",
    "results_path = './output/'"
   ]
  },
  {
   "cell_type": "code",
   "execution_count": 2,
   "id": "257d20b2-4fd3-4fca-88f2-d1e1728ff1a8",
   "metadata": {},
   "outputs": [],
   "source": [
    "def find(name, path):\n",
    "    for root, dirs, files in os.walk(path):\n",
    "        if name in files:\n",
    "            return os.path.join(root, name)"
   ]
  },
  {
   "cell_type": "code",
   "execution_count": 3,
   "id": "f3e7d55f-f676-4053-b8c0-87a59096a030",
   "metadata": {},
   "outputs": [
    {
     "data": {
      "text/html": [
       "<div>\n",
       "<style scoped>\n",
       "    .dataframe tbody tr th:only-of-type {\n",
       "        vertical-align: middle;\n",
       "    }\n",
       "\n",
       "    .dataframe tbody tr th {\n",
       "        vertical-align: top;\n",
       "    }\n",
       "\n",
       "    .dataframe thead th {\n",
       "        text-align: right;\n",
       "    }\n",
       "</style>\n",
       "<table border=\"1\" class=\"dataframe\">\n",
       "  <thead>\n",
       "    <tr style=\"text-align: right;\">\n",
       "      <th></th>\n",
       "      <th>Unnamed: 0</th>\n",
       "      <th>index</th>\n",
       "      <th>OBJID-g</th>\n",
       "      <th>H0-g</th>\n",
       "      <th>Om0-g</th>\n",
       "      <th>exposure_time-g</th>\n",
       "      <th>numPix-g</th>\n",
       "      <th>pixel_scale-g</th>\n",
       "      <th>psf_type-g</th>\n",
       "      <th>read_noise-g</th>\n",
       "      <th>...</th>\n",
       "      <th>PLANE_1-REDSHIFT-g</th>\n",
       "      <th>PLANE_2-REDSHIFT-g</th>\n",
       "      <th>PLANE_1-REDSHIFT-r</th>\n",
       "      <th>PLANE_2-REDSHIFT-r</th>\n",
       "      <th>PLANE_1-REDSHIFT-i</th>\n",
       "      <th>PLANE_2-REDSHIFT-i</th>\n",
       "      <th>PLANE_1-REDSHIFT-z</th>\n",
       "      <th>PLANE_2-REDSHIFT-z</th>\n",
       "      <th>PLANE_1-REDSHIFT-Y</th>\n",
       "      <th>PLANE_2-REDSHIFT-Y</th>\n",
       "    </tr>\n",
       "  </thead>\n",
       "  <tbody>\n",
       "    <tr>\n",
       "      <th>0</th>\n",
       "      <td>0</td>\n",
       "      <td>1501</td>\n",
       "      <td>1502</td>\n",
       "      <td>73.0</td>\n",
       "      <td>0.3</td>\n",
       "      <td>90.0</td>\n",
       "      <td>100</td>\n",
       "      <td>0.263</td>\n",
       "      <td>GAUSSIAN</td>\n",
       "      <td>7</td>\n",
       "      <td>...</td>\n",
       "      <td>0.935053</td>\n",
       "      <td>3.726231</td>\n",
       "      <td>0.935053</td>\n",
       "      <td>3.726231</td>\n",
       "      <td>0.935053</td>\n",
       "      <td>3.726231</td>\n",
       "      <td>0.935053</td>\n",
       "      <td>3.726231</td>\n",
       "      <td>0.935053</td>\n",
       "      <td>3.726231</td>\n",
       "    </tr>\n",
       "    <tr>\n",
       "      <th>1</th>\n",
       "      <td>1</td>\n",
       "      <td>705</td>\n",
       "      <td>706</td>\n",
       "      <td>73.0</td>\n",
       "      <td>0.3</td>\n",
       "      <td>90.0</td>\n",
       "      <td>100</td>\n",
       "      <td>0.263</td>\n",
       "      <td>GAUSSIAN</td>\n",
       "      <td>7</td>\n",
       "      <td>...</td>\n",
       "      <td>0.339738</td>\n",
       "      <td>4.820473</td>\n",
       "      <td>0.339738</td>\n",
       "      <td>4.820473</td>\n",
       "      <td>0.339738</td>\n",
       "      <td>4.820473</td>\n",
       "      <td>0.339738</td>\n",
       "      <td>4.820473</td>\n",
       "      <td>0.339738</td>\n",
       "      <td>4.820473</td>\n",
       "    </tr>\n",
       "    <tr>\n",
       "      <th>2</th>\n",
       "      <td>2</td>\n",
       "      <td>106</td>\n",
       "      <td>107</td>\n",
       "      <td>73.0</td>\n",
       "      <td>0.3</td>\n",
       "      <td>90.0</td>\n",
       "      <td>100</td>\n",
       "      <td>0.263</td>\n",
       "      <td>GAUSSIAN</td>\n",
       "      <td>7</td>\n",
       "      <td>...</td>\n",
       "      <td>0.858379</td>\n",
       "      <td>2.855011</td>\n",
       "      <td>0.858379</td>\n",
       "      <td>2.855011</td>\n",
       "      <td>0.858379</td>\n",
       "      <td>2.855011</td>\n",
       "      <td>0.858379</td>\n",
       "      <td>2.855011</td>\n",
       "      <td>0.858379</td>\n",
       "      <td>2.855011</td>\n",
       "    </tr>\n",
       "    <tr>\n",
       "      <th>3</th>\n",
       "      <td>3</td>\n",
       "      <td>2464</td>\n",
       "      <td>2465</td>\n",
       "      <td>73.0</td>\n",
       "      <td>0.3</td>\n",
       "      <td>90.0</td>\n",
       "      <td>100</td>\n",
       "      <td>0.263</td>\n",
       "      <td>GAUSSIAN</td>\n",
       "      <td>7</td>\n",
       "      <td>...</td>\n",
       "      <td>0.726914</td>\n",
       "      <td>4.242360</td>\n",
       "      <td>0.726914</td>\n",
       "      <td>4.242360</td>\n",
       "      <td>0.726914</td>\n",
       "      <td>4.242360</td>\n",
       "      <td>0.726914</td>\n",
       "      <td>4.242360</td>\n",
       "      <td>0.726914</td>\n",
       "      <td>4.242360</td>\n",
       "    </tr>\n",
       "    <tr>\n",
       "      <th>4</th>\n",
       "      <td>4</td>\n",
       "      <td>915</td>\n",
       "      <td>916</td>\n",
       "      <td>73.0</td>\n",
       "      <td>0.3</td>\n",
       "      <td>90.0</td>\n",
       "      <td>100</td>\n",
       "      <td>0.263</td>\n",
       "      <td>GAUSSIAN</td>\n",
       "      <td>7</td>\n",
       "      <td>...</td>\n",
       "      <td>0.375647</td>\n",
       "      <td>1.763864</td>\n",
       "      <td>0.375647</td>\n",
       "      <td>1.763864</td>\n",
       "      <td>0.375647</td>\n",
       "      <td>1.763864</td>\n",
       "      <td>0.375647</td>\n",
       "      <td>1.763864</td>\n",
       "      <td>0.375647</td>\n",
       "      <td>1.763864</td>\n",
       "    </tr>\n",
       "  </tbody>\n",
       "</table>\n",
       "<p>5 rows × 312 columns</p>\n",
       "</div>"
      ],
      "text/plain": [
       "   Unnamed: 0  index  OBJID-g  H0-g  Om0-g  exposure_time-g  numPix-g  \\\n",
       "0           0   1501     1502  73.0    0.3             90.0       100   \n",
       "1           1    705      706  73.0    0.3             90.0       100   \n",
       "2           2    106      107  73.0    0.3             90.0       100   \n",
       "3           3   2464     2465  73.0    0.3             90.0       100   \n",
       "4           4    915      916  73.0    0.3             90.0       100   \n",
       "\n",
       "   pixel_scale-g psf_type-g  read_noise-g  ...  PLANE_1-REDSHIFT-g  \\\n",
       "0          0.263   GAUSSIAN             7  ...            0.935053   \n",
       "1          0.263   GAUSSIAN             7  ...            0.339738   \n",
       "2          0.263   GAUSSIAN             7  ...            0.858379   \n",
       "3          0.263   GAUSSIAN             7  ...            0.726914   \n",
       "4          0.263   GAUSSIAN             7  ...            0.375647   \n",
       "\n",
       "   PLANE_2-REDSHIFT-g  PLANE_1-REDSHIFT-r  PLANE_2-REDSHIFT-r  \\\n",
       "0            3.726231            0.935053            3.726231   \n",
       "1            4.820473            0.339738            4.820473   \n",
       "2            2.855011            0.858379            2.855011   \n",
       "3            4.242360            0.726914            4.242360   \n",
       "4            1.763864            0.375647            1.763864   \n",
       "\n",
       "   PLANE_1-REDSHIFT-i  PLANE_2-REDSHIFT-i PLANE_1-REDSHIFT-z  \\\n",
       "0            0.935053            3.726231           0.935053   \n",
       "1            0.339738            4.820473           0.339738   \n",
       "2            0.858379            2.855011           0.858379   \n",
       "3            0.726914            4.242360           0.726914   \n",
       "4            0.375647            1.763864           0.375647   \n",
       "\n",
       "  PLANE_2-REDSHIFT-z  PLANE_1-REDSHIFT-Y  PLANE_2-REDSHIFT-Y  \n",
       "0           3.726231            0.935053            3.726231  \n",
       "1           4.820473            0.339738            4.820473  \n",
       "2           2.855011            0.858379            2.855011  \n",
       "3           4.242360            0.726914            4.242360  \n",
       "4           1.763864            0.375647            1.763864  \n",
       "\n",
       "[5 rows x 312 columns]"
      ]
     },
     "execution_count": 3,
     "metadata": {},
     "output_type": "execute_result"
    }
   ],
   "source": [
    "modelized_metadata = pd.read_csv('modelized_systems.csv')\n",
    "modelized_metadata.head()"
   ]
  },
  {
   "cell_type": "code",
   "execution_count": 4,
   "id": "2e4c068b-2af9-4566-8a72-959418bf2d4d",
   "metadata": {},
   "outputs": [
    {
     "data": {
      "text/plain": [
       "\"\\n# no prior\\ncolumn_names=['galaxies_source_bulge_einstein_centre_0',\\n              'galaxies_source_bulge_einstein_centre_1',\\n              'galaxies_source_bulge_elliptical_comps_0',\\n              'galaxies_source_bulge_elliptical_comps_1',\\n              'galaxies_source_bulge_intensity',\\n              'galaxies_source_bulge_effective_radius',\\n               'galaxies_source_bulge_sersic_index',\\n              'galaxies_source_bulge_mass_to_light_ratio',\\n              'galaxies_lens_mass_centre_0',\\n              'galaxies_lens_mass_centre_1',\\n              'galaxies_lens_mass_elliptical_comps_0',\\n              'galaxies_lens_mass_elliptical_comps_1',\\n              'galaxies_lens_mass_einstein_radius']\\n\""
      ]
     },
     "execution_count": 4,
     "metadata": {},
     "output_type": "execute_result"
    }
   ],
   "source": [
    "# with prior\n",
    "\n",
    "column_names=['galaxies_source_bulge_einstein_centre_0',\n",
    "              'galaxies_source_bulge_einstein_centre_1',\n",
    "              'galaxies_source_bulge_elliptical_comps_0',\n",
    "              'galaxies_source_bulge_elliptical_comps_1',\n",
    "              'galaxies_source_bulge_intensity',\n",
    "              'galaxies_source_bulge_mass_to_light_ratio',\n",
    "              'galaxies_lens_mass_centre_0',\n",
    "              'galaxies_lens_mass_centre_1',\n",
    "              'galaxies_lens_mass_elliptical_comps_0',\n",
    "              'galaxies_lens_mass_elliptical_comps_1',\n",
    "              'galaxies_lens_mass_einstein_radius',\n",
    "              'galaxies_source_bulge_sersic_index',\n",
    "              'galaxies_source_bulge_effective_radius']\n",
    "'''\n",
    "# no prior\n",
    "column_names=['galaxies_source_bulge_einstein_centre_0',\n",
    "              'galaxies_source_bulge_einstein_centre_1',\n",
    "              'galaxies_source_bulge_elliptical_comps_0',\n",
    "              'galaxies_source_bulge_elliptical_comps_1',\n",
    "              'galaxies_source_bulge_intensity',\n",
    "              'galaxies_source_bulge_effective_radius',\n",
    "               'galaxies_source_bulge_sersic_index',\n",
    "              'galaxies_source_bulge_mass_to_light_ratio',\n",
    "              'galaxies_lens_mass_centre_0',\n",
    "              'galaxies_lens_mass_centre_1',\n",
    "              'galaxies_lens_mass_elliptical_comps_0',\n",
    "              'galaxies_lens_mass_elliptical_comps_1',\n",
    "              'galaxies_lens_mass_einstein_radius']\n",
    "'''"
   ]
  },
  {
   "cell_type": "code",
   "execution_count": 5,
   "id": "1283ea76-659b-4b68-ac25-06ab856cdb78",
   "metadata": {},
   "outputs": [
    {
     "name": "stdout",
     "output_type": "stream",
     "text": [
      "[2.64007402 2.64885392 2.65008419]\n",
      "[3.09526554 3.16331049 3.2874006 ]\n",
      "[3.38214024 3.61077575 3.69892167]\n",
      "[2.79985479 2.80643036 2.81116255]\n",
      "[4.83291583 4.85557524 4.92630842]\n",
      "[2.97671948 3.47166407 3.59162611]\n",
      "[3.49183766 3.5021935  3.52015832]\n",
      "[2.61175095 2.64413266 2.67182807]\n",
      "[1.98762724 1.98943763 1.99334515]\n",
      "[4.56586535 4.75584732 4.96759268]\n",
      "[4.5064246  4.93791532 4.97407919]\n",
      "[4.67343308 4.69195561 4.702216  ]\n",
      "[6.78035974 7.17540826 7.20190575]\n",
      "[4.66123567 4.69677758 4.90123681]\n",
      "[4.83852461 4.86527646 4.880014  ]\n",
      "[3.72573986 3.73739197 3.74225751]\n",
      "[3.27992673 3.29005323 3.30127143]\n",
      "[2.70065787 2.9133083  3.07086528]\n",
      "[4.6083723  4.66784865 4.67891113]\n"
     ]
    }
   ],
   "source": [
    "N_sys=19\n",
    "\n",
    "einstein_radius = []\n",
    "bulge_index = []\n",
    "bulge_e_radius = []\n",
    "for i in range(0, N_sys):\n",
    "    samples_path=find('emcee.hdf', results_path+str(i)+'_lens_light_step_1') \n",
    "    samples=emcee.backends.HDFBackend(samples_path, read_only=True)\n",
    "    result_dataframe = pd.DataFrame(samples.get_chain(flat=True), columns=column_names)\n",
    "    #print(samples_path)\n",
    "    #samples=pd.read_pickle(samples_path)\n",
    "    #result_dataframe = pd.DataFrame(samples.results_internal.samples, columns=np.array([list(row) for row in samples.names]).flatten())\n",
    "    print(np.percentile(result_dataframe['galaxies_lens_mass_einstein_radius'][int(len(result_dataframe['galaxies_lens_mass_einstein_radius'])*0.3):], [15.85, 50., 84.05]))\n",
    "    einstein_radius.append(np.percentile(result_dataframe['galaxies_lens_mass_einstein_radius'][int(len(result_dataframe['galaxies_lens_mass_einstein_radius'])*0.3):], [15.85, 50., 84.05]))\n",
    "    bulge_index.append(np.percentile(result_dataframe['galaxies_source_bulge_sersic_index'][int(len(result_dataframe['galaxies_source_bulge_sersic_index'])*0.3):], [15.85, 50., 84.05]))\n",
    "    bulge_e_radius.append(np.percentile(result_dataframe['galaxies_source_bulge_effective_radius'][int(len(result_dataframe['galaxies_source_bulge_effective_radius'])*0.3):], [15.85, 50., 84.05]))"
   ]
  },
  {
   "cell_type": "code",
   "execution_count": 6,
   "id": "feadd706-f6ad-4d31-8a56-2a6740783a6b",
   "metadata": {},
   "outputs": [
    {
     "data": {
      "text/plain": [
       "[<matplotlib.lines.Line2D at 0x7f1b3f0415e0>]"
      ]
     },
     "execution_count": 6,
     "metadata": {},
     "output_type": "execute_result"
    },
    {
     "data": {
      "image/png": "[encoded data removed]",
      "text/plain": [
       "<Figure size 432x288 with 1 Axes>"
      ]
     },
     "metadata": {
      "needs_background": "light"
     },
     "output_type": "display_data"
    }
   ],
   "source": [
    "plt.plot(result_dataframe['galaxies_lens_mass_einstein_radius'])"
   ]
  },
  {
   "cell_type": "code",
   "execution_count": 7,
   "id": "f4a39828-79d2-46e1-b1f3-39242c70221d",
   "metadata": {},
   "outputs": [],
   "source": [
    "variables = ['galaxies_lens_mass_einstein_radius', 'galaxies_source_bulge_sersic_index', 'galaxies_source_bulge_effective_radius']\n",
    "latex_variables = ['$θ_E$', 'n', '$R_E$']\n",
    "predicted_variables = [einstein_radius, bulge_index, bulge_e_radius]"
   ]
  },
  {
   "cell_type": "code",
   "execution_count": 8,
   "id": "93253cef-9deb-4a84-8bef-9e55298c5aa7",
   "metadata": {},
   "outputs": [
    {
     "data": {
      "text/plain": [
       "19"
      ]
     },
     "execution_count": 8,
     "metadata": {},
     "output_type": "execute_result"
    }
   ],
   "source": [
    "len(einstein_radius)"
   ]
  },
  {
   "cell_type": "code",
   "execution_count": 9,
   "id": "c585211d-dc09-4d37-ac62-77b96c988fa6",
   "metadata": {},
   "outputs": [],
   "source": [
    "actual_variables = []\n",
    "for i in range(0, len(einstein_radius)):\n",
    "    actual_variables.append([float(modelized_metadata['PLANE_1-OBJECT_1-MASS_PROFILE_1-theta_E-g'][i]), float(modelized_metadata['PLANE_2-OBJECT_1-LIGHT_PROFILE_1-n_sersic-g'][i]), float(modelized_metadata['PLANE_2-OBJECT_1-LIGHT_PROFILE_1-R_sersic-g'][i])])\n",
    "actual_variables = np.array(actual_variables).T"
   ]
  },
  {
   "cell_type": "code",
   "execution_count": 10,
   "id": "94173407-45ac-460d-8cb5-2693e834f9d6",
   "metadata": {},
   "outputs": [
    {
     "data": {
      "image/png": "[encoded data removed]",
      "text/plain": [
       "<Figure size 720x432 with 6 Axes>"
      ]
     },
     "metadata": {
      "needs_background": "light"
     },
     "output_type": "display_data"
    }
   ],
   "source": [
    "#plt.rcParams.update({\"font.size\": 13})\n",
    "\n",
    "fig, ax = plt.subplots(2, 3, figsize=(10, 6))\n",
    "\n",
    "for k in range(0, len(ax)):\n",
    "    for j in range(0, len(ax[k])):\n",
    "        if k==0:\n",
    "            for i in range(len(einstein_radius)):\n",
    "                ax[k][j].errorbar(actual_variables[j][i], predicted_variables[j][i][1], yerr=np.array([[predicted_variables[j][i][1]-predicted_variables[j][i][0]], [predicted_variables[j][i][2]-predicted_variables[j][i][1]]]), fmt=next(error_marker))\n",
    "\n",
    "            ax[k][j].plot(np.linspace(min(actual_variables[j])-1., max(actual_variables[j])+1., 50), np.linspace(min(actual_variables[j])-1., max(actual_variables[j])+1., 50), 'k--', lw=1.2)\n",
    "            ax[k][j].set_xlabel(latex_variables[j])\n",
    "            ax[k][j].set_ylabel(latex_variables[j])\n",
    "            #ax[k][j].set_xlim(min(actual_variables[j])-1., max(actual_variables[j])+1.)\n",
    "            #ax[k][j].set_ylim(min(actual_variables[j])-1., max(actual_variables[j])+1.)\n",
    "        else:\n",
    "            for i in range(len(einstein_radius)):\n",
    "                ax[k][j].plot(i, (actual_variables[j][i]-predicted_variables[j][i][1])/actual_variables[j][i], marker = next(marker), markersize=10)\n",
    "                ax[k][j].axhline(y=0, color='k', linestyle='--', lw=1.)\n",
    "                ax[k][j].axhline(y=-1., color='k', linestyle='--', lw=2.)\n",
    "                ax[k][j].axhline(y=1., color='k', linestyle='--', lw=2.)\n",
    "                #ax[k][j].set_ylim(-1.5, 1.5)\n",
    "                ax[k][j].set_ylabel(latex_variables[j])\n",
    "                ax[k][j].set_xticks([])\n",
    "fig.tight_layout()"
   ]
  },
  {
   "cell_type": "code",
   "execution_count": null,
   "id": "33e7be6d-c902-492f-bf22-93f6a8d7caff",
   "metadata": {},
   "outputs": [],
   "source": []
  }
 ],
 "metadata": {
  "kernelspec": {
   "display_name": "Python 3 (ipykernel)",
   "language": "python",
   "name": "python3"
  },
  "language_info": {
   "codemirror_mode": {
    "name": "ipython",
    "version": 3
   },
   "file_extension": ".py",
   "mimetype": "text/x-python",
   "name": "python",
   "nbconvert_exporter": "python",
   "pygments_lexer": "ipython3",
   "version": "3.8.10"
  }
 },
 "nbformat": 4,
 "nbformat_minor": 5
}
