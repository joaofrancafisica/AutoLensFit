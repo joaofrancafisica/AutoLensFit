{
 "cells": [
  {
   "cell_type": "code",
   "execution_count": 2,
   "id": "3a59fdf0",
   "metadata": {},
   "outputs": [
    {
     "name": "stdout",
     "output_type": "stream",
     "text": [
      "2022-04-11 13:15:40,523 - autofit.non_linear.abstract_search - INFO - Creating search\n"
     ]
    }
   ],
   "source": [
    "import pandas as pd\n",
    "import numpy as np\n",
    "import matplotlib.pyplot as plt\n",
    "from deeplenstronomy.visualize import view_image, view_image_rgb\n",
    "from astropy.io import fits\n",
    "import autolens as al\n",
    "import autolens.plot as aplt\n",
    "import autofit as af\n",
    "\n",
    "from lenstronomy.Data.psf import PSF\n",
    "from lenstronomy.Util import util\n",
    "from lenstronomy.Data.imaging_data import ImageData\n",
    "from lenstronomy.Workflow.fitting_sequence import FittingSequence\n",
    "from lenstronomy.Plots import chain_plot\n",
    "from lenstronomy.Plots.model_plot import ModelPlot\n",
    "from lenstronomy.ImSim.image_model import ImageModel\n",
    "from lenstronomy.LensModel.lens_model import LensModel\n",
    "from lenstronomy.LightModel.light_model import LightModel\n",
    "from lenstronomy.Util import param_util\n",
    "\n",
    "#from ipywidgets import *\n",
    "import time\n",
    "\n",
    "num_simulated_lenses = 5000\n",
    "bands_simulated = ['g', 'r', 'i', 'z', 'Y']\n",
    "\n",
    "image_pre_path = './simulations/fits_files/'\n",
    "\n",
    "%run ./utils.ipynb\n",
    "%matplotlib inline"
   ]
  },
  {
   "cell_type": "code",
   "execution_count": 2,
   "id": "929f647b",
   "metadata": {},
   "outputs": [
    {
     "data": {
      "text/html": [
       "<div>\n",
       "<style scoped>\n",
       "    .dataframe tbody tr th:only-of-type {\n",
       "        vertical-align: middle;\n",
       "    }\n",
       "\n",
       "    .dataframe tbody tr th {\n",
       "        vertical-align: top;\n",
       "    }\n",
       "\n",
       "    .dataframe thead th {\n",
       "        text-align: right;\n",
       "    }\n",
       "</style>\n",
       "<table border=\"1\" class=\"dataframe\">\n",
       "  <thead>\n",
       "    <tr style=\"text-align: right;\">\n",
       "      <th></th>\n",
       "      <th>OBJID-g</th>\n",
       "      <th>H0-g</th>\n",
       "      <th>Om0-g</th>\n",
       "      <th>exposure_time-g</th>\n",
       "      <th>numPix-g</th>\n",
       "      <th>pixel_scale-g</th>\n",
       "      <th>psf_type-g</th>\n",
       "      <th>read_noise-g</th>\n",
       "      <th>ccd_gain-g</th>\n",
       "      <th>seeing-g</th>\n",
       "      <th>...</th>\n",
       "      <th>PLANE_1-REDSHIFT-g</th>\n",
       "      <th>PLANE_2-REDSHIFT-g</th>\n",
       "      <th>PLANE_1-REDSHIFT-r</th>\n",
       "      <th>PLANE_2-REDSHIFT-r</th>\n",
       "      <th>PLANE_1-REDSHIFT-i</th>\n",
       "      <th>PLANE_2-REDSHIFT-i</th>\n",
       "      <th>PLANE_1-REDSHIFT-z</th>\n",
       "      <th>PLANE_2-REDSHIFT-z</th>\n",
       "      <th>PLANE_1-REDSHIFT-Y</th>\n",
       "      <th>PLANE_2-REDSHIFT-Y</th>\n",
       "    </tr>\n",
       "  </thead>\n",
       "  <tbody>\n",
       "    <tr>\n",
       "      <th>0</th>\n",
       "      <td>1</td>\n",
       "      <td>73.0</td>\n",
       "      <td>0.3</td>\n",
       "      <td>90.0</td>\n",
       "      <td>100</td>\n",
       "      <td>0.263</td>\n",
       "      <td>GAUSSIAN</td>\n",
       "      <td>7</td>\n",
       "      <td>6.083</td>\n",
       "      <td>1.200</td>\n",
       "      <td>...</td>\n",
       "      <td>0.701759</td>\n",
       "      <td>2.613567</td>\n",
       "      <td>0.701759</td>\n",
       "      <td>2.613567</td>\n",
       "      <td>0.701759</td>\n",
       "      <td>2.613567</td>\n",
       "      <td>0.701759</td>\n",
       "      <td>2.613567</td>\n",
       "      <td>0.701759</td>\n",
       "      <td>2.613567</td>\n",
       "    </tr>\n",
       "    <tr>\n",
       "      <th>1</th>\n",
       "      <td>2</td>\n",
       "      <td>73.0</td>\n",
       "      <td>0.3</td>\n",
       "      <td>90.0</td>\n",
       "      <td>100</td>\n",
       "      <td>0.263</td>\n",
       "      <td>GAUSSIAN</td>\n",
       "      <td>7</td>\n",
       "      <td>6.083</td>\n",
       "      <td>0.761</td>\n",
       "      <td>...</td>\n",
       "      <td>0.976595</td>\n",
       "      <td>2.997593</td>\n",
       "      <td>0.976595</td>\n",
       "      <td>2.997593</td>\n",
       "      <td>0.976595</td>\n",
       "      <td>2.997593</td>\n",
       "      <td>0.976595</td>\n",
       "      <td>2.997593</td>\n",
       "      <td>0.976595</td>\n",
       "      <td>2.997593</td>\n",
       "    </tr>\n",
       "    <tr>\n",
       "      <th>2</th>\n",
       "      <td>3</td>\n",
       "      <td>73.0</td>\n",
       "      <td>0.3</td>\n",
       "      <td>90.0</td>\n",
       "      <td>100</td>\n",
       "      <td>0.263</td>\n",
       "      <td>GAUSSIAN</td>\n",
       "      <td>7</td>\n",
       "      <td>6.083</td>\n",
       "      <td>1.559</td>\n",
       "      <td>...</td>\n",
       "      <td>0.851417</td>\n",
       "      <td>1.342668</td>\n",
       "      <td>0.851417</td>\n",
       "      <td>1.342668</td>\n",
       "      <td>0.851417</td>\n",
       "      <td>1.342668</td>\n",
       "      <td>0.851417</td>\n",
       "      <td>1.342668</td>\n",
       "      <td>0.851417</td>\n",
       "      <td>1.342668</td>\n",
       "    </tr>\n",
       "    <tr>\n",
       "      <th>3</th>\n",
       "      <td>4</td>\n",
       "      <td>73.0</td>\n",
       "      <td>0.3</td>\n",
       "      <td>90.0</td>\n",
       "      <td>100</td>\n",
       "      <td>0.263</td>\n",
       "      <td>GAUSSIAN</td>\n",
       "      <td>7</td>\n",
       "      <td>6.083</td>\n",
       "      <td>1.241</td>\n",
       "      <td>...</td>\n",
       "      <td>0.942661</td>\n",
       "      <td>3.862177</td>\n",
       "      <td>0.942661</td>\n",
       "      <td>3.862177</td>\n",
       "      <td>0.942661</td>\n",
       "      <td>3.862177</td>\n",
       "      <td>0.942661</td>\n",
       "      <td>3.862177</td>\n",
       "      <td>0.942661</td>\n",
       "      <td>3.862177</td>\n",
       "    </tr>\n",
       "    <tr>\n",
       "      <th>4</th>\n",
       "      <td>5</td>\n",
       "      <td>73.0</td>\n",
       "      <td>0.3</td>\n",
       "      <td>90.0</td>\n",
       "      <td>100</td>\n",
       "      <td>0.263</td>\n",
       "      <td>GAUSSIAN</td>\n",
       "      <td>7</td>\n",
       "      <td>6.083</td>\n",
       "      <td>0.962</td>\n",
       "      <td>...</td>\n",
       "      <td>0.645495</td>\n",
       "      <td>4.738823</td>\n",
       "      <td>0.645495</td>\n",
       "      <td>4.738823</td>\n",
       "      <td>0.645495</td>\n",
       "      <td>4.738823</td>\n",
       "      <td>0.645495</td>\n",
       "      <td>4.738823</td>\n",
       "      <td>0.645495</td>\n",
       "      <td>4.738823</td>\n",
       "    </tr>\n",
       "  </tbody>\n",
       "</table>\n",
       "<p>5 rows × 310 columns</p>\n",
       "</div>"
      ],
      "text/plain": [
       "   OBJID-g  H0-g  Om0-g  exposure_time-g  numPix-g  pixel_scale-g psf_type-g  \\\n",
       "0        1  73.0    0.3             90.0       100          0.263   GAUSSIAN   \n",
       "1        2  73.0    0.3             90.0       100          0.263   GAUSSIAN   \n",
       "2        3  73.0    0.3             90.0       100          0.263   GAUSSIAN   \n",
       "3        4  73.0    0.3             90.0       100          0.263   GAUSSIAN   \n",
       "4        5  73.0    0.3             90.0       100          0.263   GAUSSIAN   \n",
       "\n",
       "   read_noise-g  ccd_gain-g  seeing-g  ...  PLANE_1-REDSHIFT-g  \\\n",
       "0             7       6.083     1.200  ...            0.701759   \n",
       "1             7       6.083     0.761  ...            0.976595   \n",
       "2             7       6.083     1.559  ...            0.851417   \n",
       "3             7       6.083     1.241  ...            0.942661   \n",
       "4             7       6.083     0.962  ...            0.645495   \n",
       "\n",
       "   PLANE_2-REDSHIFT-g  PLANE_1-REDSHIFT-r  PLANE_2-REDSHIFT-r  \\\n",
       "0            2.613567            0.701759            2.613567   \n",
       "1            2.997593            0.976595            2.997593   \n",
       "2            1.342668            0.851417            1.342668   \n",
       "3            3.862177            0.942661            3.862177   \n",
       "4            4.738823            0.645495            4.738823   \n",
       "\n",
       "  PLANE_1-REDSHIFT-i PLANE_2-REDSHIFT-i  PLANE_1-REDSHIFT-z  \\\n",
       "0           0.701759           2.613567            0.701759   \n",
       "1           0.976595           2.997593            0.976595   \n",
       "2           0.851417           1.342668            0.851417   \n",
       "3           0.942661           3.862177            0.942661   \n",
       "4           0.645495           4.738823            0.645495   \n",
       "\n",
       "   PLANE_2-REDSHIFT-z PLANE_1-REDSHIFT-Y  PLANE_2-REDSHIFT-Y  \n",
       "0            2.613567           0.701759            2.613567  \n",
       "1            2.997593           0.976595            2.997593  \n",
       "2            1.342668           0.851417            1.342668  \n",
       "3            3.862177           0.942661            3.862177  \n",
       "4            4.738823           0.645495            4.738823  \n",
       "\n",
       "[5 rows x 310 columns]"
      ]
     },
     "execution_count": 2,
     "metadata": {},
     "output_type": "execute_result"
    }
   ],
   "source": [
    "metadata = pd.read_csv(image_pre_path+'metadata.txt')\n",
    "metadata.head()"
   ]
  },
  {
   "cell_type": "code",
   "execution_count": 3,
   "id": "fe0d48fe",
   "metadata": {},
   "outputs": [
    {
     "data": {
      "text/html": [
       "<div>\n",
       "<style scoped>\n",
       "    .dataframe tbody tr th:only-of-type {\n",
       "        vertical-align: middle;\n",
       "    }\n",
       "\n",
       "    .dataframe tbody tr th {\n",
       "        vertical-align: top;\n",
       "    }\n",
       "\n",
       "    .dataframe thead th {\n",
       "        text-align: right;\n",
       "    }\n",
       "</style>\n",
       "<table border=\"1\" class=\"dataframe\">\n",
       "  <thead>\n",
       "    <tr style=\"text-align: right;\">\n",
       "      <th></th>\n",
       "      <th>sys</th>\n",
       "      <th>nsersic_pred</th>\n",
       "      <th>nsersic_true</th>\n",
       "      <th>rsersic_pred</th>\n",
       "      <th>rsersic_true</th>\n",
       "      <th>thetae_pred</th>\n",
       "      <th>thetae_true</th>\n",
       "    </tr>\n",
       "  </thead>\n",
       "  <tbody>\n",
       "    <tr>\n",
       "      <th>0</th>\n",
       "      <td>1502.0</td>\n",
       "      <td>4.389782</td>\n",
       "      <td>4.017141</td>\n",
       "      <td>4.663924</td>\n",
       "      <td>3.533353</td>\n",
       "      <td>2.432914</td>\n",
       "      <td>2.618092</td>\n",
       "    </tr>\n",
       "    <tr>\n",
       "      <th>1</th>\n",
       "      <td>2587.0</td>\n",
       "      <td>5.477110</td>\n",
       "      <td>5.630247</td>\n",
       "      <td>6.433606</td>\n",
       "      <td>5.894580</td>\n",
       "      <td>3.495189</td>\n",
       "      <td>3.711217</td>\n",
       "    </tr>\n",
       "    <tr>\n",
       "      <th>2</th>\n",
       "      <td>2654.0</td>\n",
       "      <td>4.577913</td>\n",
       "      <td>5.355109</td>\n",
       "      <td>5.801272</td>\n",
       "      <td>5.338677</td>\n",
       "      <td>2.907392</td>\n",
       "      <td>2.862549</td>\n",
       "    </tr>\n",
       "    <tr>\n",
       "      <th>3</th>\n",
       "      <td>1056.0</td>\n",
       "      <td>4.407599</td>\n",
       "      <td>4.212606</td>\n",
       "      <td>8.003832</td>\n",
       "      <td>9.544011</td>\n",
       "      <td>4.699515</td>\n",
       "      <td>4.923458</td>\n",
       "    </tr>\n",
       "    <tr>\n",
       "      <th>4</th>\n",
       "      <td>706.0</td>\n",
       "      <td>3.396282</td>\n",
       "      <td>3.554883</td>\n",
       "      <td>6.845214</td>\n",
       "      <td>5.549851</td>\n",
       "      <td>2.992930</td>\n",
       "      <td>3.144579</td>\n",
       "    </tr>\n",
       "  </tbody>\n",
       "</table>\n",
       "</div>"
      ],
      "text/plain": [
       "      sys  nsersic_pred  nsersic_true  rsersic_pred  rsersic_true  \\\n",
       "0  1502.0      4.389782      4.017141      4.663924      3.533353   \n",
       "1  2587.0      5.477110      5.630247      6.433606      5.894580   \n",
       "2  2654.0      4.577913      5.355109      5.801272      5.338677   \n",
       "3  1056.0      4.407599      4.212606      8.003832      9.544011   \n",
       "4   706.0      3.396282      3.554883      6.845214      5.549851   \n",
       "\n",
       "   thetae_pred  thetae_true  \n",
       "0     2.432914     2.618092  \n",
       "1     3.495189     3.711217  \n",
       "2     2.907392     2.862549  \n",
       "3     4.699515     4.923458  \n",
       "4     2.992930     3.144579  "
      ]
     },
     "execution_count": 3,
     "metadata": {},
     "output_type": "execute_result"
    }
   ],
   "source": [
    "dl_results = pd.read_csv('./dl_results/DL_results.csv')\n",
    "dl_results.head()"
   ]
  },
  {
   "cell_type": "code",
   "execution_count": 4,
   "id": "90f15c96",
   "metadata": {},
   "outputs": [],
   "source": [
    "limits = np.histogram(dl_results['thetae_true'], bins=50)[1]"
   ]
  },
  {
   "cell_type": "code",
   "execution_count": 5,
   "id": "a570942d",
   "metadata": {
    "scrolled": true
   },
   "outputs": [
    {
     "data": {
      "image/png": "[encoded data removed]",
      "text/plain": [
       "<Figure size 1152x288 with 3 Axes>"
      ]
     },
     "metadata": {
      "needs_background": "light"
     },
     "output_type": "display_data"
    }
   ],
   "source": [
    "variables = ['thetae', 'nsersic', 'rsersic']\n",
    "variables_lattex = ['$θ_E$ (arcsec)', '$n$', '$r$']\n",
    "\n",
    "mean = []\n",
    "upper_sigma = []\n",
    "lower_sigma = []\n",
    "X_ = []\n",
    "saved_limits = []\n",
    "for i in range(3):\n",
    "    mean.append([])\n",
    "    upper_sigma.append([])\n",
    "    lower_sigma.append([])\n",
    "    X_.append([])\n",
    "    \n",
    "for i in range(0, len(variables)):\n",
    "    limits = np.histogram(dl_results[variables[i]+'_true'], bins=30)[1]\n",
    "    saved_limits.append(limits)\n",
    "    for j in range(0, len(limits)-1):\n",
    "        if len(dl_results[variables[i]+'_pred'][(dl_results[variables[i]+'_true'] < limits[j+1]) & (dl_results[variables[i]+'_true'] > limits[j])]) > 0:\n",
    "            mean[i].append(np.mean(dl_results[variables[i]+'_pred'][(dl_results[variables[i]+'_true'] < limits[j+1]) & (dl_results[variables[i]+'_true'] > limits[j])]))\n",
    "            lower_error, upper_error = np.percentile(dl_results[variables[i]+'_pred'][(dl_results[variables[i]+'_true'] < limits[j+1]) & (dl_results[variables[i]+'_true'] > limits[j])], [15.85, 84.05])\n",
    "            lower_sigma[i].append(lower_error)\n",
    "            upper_sigma[i].append(upper_error)\n",
    "            X_[i].append(limits[j] + (limits[i+1]-limits[i])/2)\n",
    "    \n",
    "fig, ax = plt.subplots(1, len(variables), figsize=(16, 4))\n",
    "for i in range(0, len(variables)):\n",
    "    ax[i].fill_between(np.array(X_[i]), np.array(lower_sigma[i]), np.array(upper_sigma[i]), color = 'darkblue', alpha=0.5, zorder=1)\n",
    "    ax[i].plot(X_[i], np.array(lower_sigma[i]), 'darkblue', lw=2, zorder=2)\n",
    "    ax[i].plot(X_[i], np.array(upper_sigma[i]), 'darkblue', lw=2, zorder=2)\n",
    "    ax[i].plot(X_[i], mean[i], \"w\", lw=2, zorder=2)\n",
    "    ax[i].plot(X_[i],X_[i], 'salmon', lw=3., linestyle='dotted', zorder=3)\n",
    "    ax[i].set_xlabel(variables_lattex[i])"
   ]
  },
  {
   "cell_type": "code",
   "execution_count": 6,
   "id": "68c8cdd9",
   "metadata": {},
   "outputs": [],
   "source": [
    "bayes_sys_fit = metadata.iloc[dl_results['sys']-1]\n",
    "bayes_sys_fit = bayes_sys_fit[(bayes_sys_fit['PLANE_1-OBJECT_1-MASS_PROFILE_1-theta_E-g'] < 6.) & (bayes_sys_fit['PLANE_1-OBJECT_1-MASS_PROFILE_1-theta_E-g'] > 2.)]\n",
    "bayes_sys_fit = bayes_sys_fit[(bayes_sys_fit['PLANE_2-OBJECT_1-LIGHT_PROFILE_1-n_sersic-g'] < 4.5) & (bayes_sys_fit['PLANE_2-OBJECT_1-LIGHT_PROFILE_1-n_sersic-g'] > 2.5)]\n",
    "bayes_sys_fit = bayes_sys_fit[(bayes_sys_fit['PLANE_2-OBJECT_1-LIGHT_PROFILE_1-R_sersic-g'] < 6.5) & (bayes_sys_fit['PLANE_2-OBJECT_1-LIGHT_PROFILE_1-R_sersic-g'] > 3.5)]\n",
    "bayes_sys_fit.reset_index(inplace=True)"
   ]
  },
  {
   "cell_type": "code",
   "execution_count": 7,
   "id": "c6fe935d",
   "metadata": {},
   "outputs": [
    {
     "data": {
      "text/html": [
       "<div>\n",
       "<style scoped>\n",
       "    .dataframe tbody tr th:only-of-type {\n",
       "        vertical-align: middle;\n",
       "    }\n",
       "\n",
       "    .dataframe tbody tr th {\n",
       "        vertical-align: top;\n",
       "    }\n",
       "\n",
       "    .dataframe thead th {\n",
       "        text-align: right;\n",
       "    }\n",
       "</style>\n",
       "<table border=\"1\" class=\"dataframe\">\n",
       "  <thead>\n",
       "    <tr style=\"text-align: right;\">\n",
       "      <th></th>\n",
       "      <th>sys</th>\n",
       "      <th>nsersic_pred</th>\n",
       "      <th>nsersic_true</th>\n",
       "      <th>rsersic_pred</th>\n",
       "      <th>rsersic_true</th>\n",
       "      <th>thetae_pred</th>\n",
       "      <th>thetae_true</th>\n",
       "    </tr>\n",
       "  </thead>\n",
       "  <tbody>\n",
       "    <tr>\n",
       "      <th>0</th>\n",
       "      <td>1502.0</td>\n",
       "      <td>4.389782</td>\n",
       "      <td>4.017141</td>\n",
       "      <td>4.663924</td>\n",
       "      <td>3.533353</td>\n",
       "      <td>2.432914</td>\n",
       "      <td>2.618092</td>\n",
       "    </tr>\n",
       "    <tr>\n",
       "      <th>1</th>\n",
       "      <td>2587.0</td>\n",
       "      <td>5.477110</td>\n",
       "      <td>5.630247</td>\n",
       "      <td>6.433606</td>\n",
       "      <td>5.894580</td>\n",
       "      <td>3.495189</td>\n",
       "      <td>3.711217</td>\n",
       "    </tr>\n",
       "    <tr>\n",
       "      <th>2</th>\n",
       "      <td>2654.0</td>\n",
       "      <td>4.577913</td>\n",
       "      <td>5.355109</td>\n",
       "      <td>5.801272</td>\n",
       "      <td>5.338677</td>\n",
       "      <td>2.907392</td>\n",
       "      <td>2.862549</td>\n",
       "    </tr>\n",
       "    <tr>\n",
       "      <th>3</th>\n",
       "      <td>1056.0</td>\n",
       "      <td>4.407599</td>\n",
       "      <td>4.212606</td>\n",
       "      <td>8.003832</td>\n",
       "      <td>9.544011</td>\n",
       "      <td>4.699515</td>\n",
       "      <td>4.923458</td>\n",
       "    </tr>\n",
       "    <tr>\n",
       "      <th>4</th>\n",
       "      <td>706.0</td>\n",
       "      <td>3.396282</td>\n",
       "      <td>3.554883</td>\n",
       "      <td>6.845214</td>\n",
       "      <td>5.549851</td>\n",
       "      <td>2.992930</td>\n",
       "      <td>3.144579</td>\n",
       "    </tr>\n",
       "  </tbody>\n",
       "</table>\n",
       "</div>"
      ],
      "text/plain": [
       "      sys  nsersic_pred  nsersic_true  rsersic_pred  rsersic_true  \\\n",
       "0  1502.0      4.389782      4.017141      4.663924      3.533353   \n",
       "1  2587.0      5.477110      5.630247      6.433606      5.894580   \n",
       "2  2654.0      4.577913      5.355109      5.801272      5.338677   \n",
       "3  1056.0      4.407599      4.212606      8.003832      9.544011   \n",
       "4   706.0      3.396282      3.554883      6.845214      5.549851   \n",
       "\n",
       "   thetae_pred  thetae_true  \n",
       "0     2.432914     2.618092  \n",
       "1     3.495189     3.711217  \n",
       "2     2.907392     2.862549  \n",
       "3     4.699515     4.923458  \n",
       "4     2.992930     3.144579  "
      ]
     },
     "execution_count": 7,
     "metadata": {},
     "output_type": "execute_result"
    }
   ],
   "source": [
    "dl_results.head()"
   ]
  },
  {
   "cell_type": "code",
   "execution_count": 8,
   "id": "b982dd0f",
   "metadata": {},
   "outputs": [
    {
     "data": {
      "text/html": [
       "<div>\n",
       "<style scoped>\n",
       "    .dataframe tbody tr th:only-of-type {\n",
       "        vertical-align: middle;\n",
       "    }\n",
       "\n",
       "    .dataframe tbody tr th {\n",
       "        vertical-align: top;\n",
       "    }\n",
       "\n",
       "    .dataframe thead th {\n",
       "        text-align: right;\n",
       "    }\n",
       "</style>\n",
       "<table border=\"1\" class=\"dataframe\">\n",
       "  <thead>\n",
       "    <tr style=\"text-align: right;\">\n",
       "      <th></th>\n",
       "      <th>index</th>\n",
       "      <th>OBJID-g</th>\n",
       "      <th>H0-g</th>\n",
       "      <th>Om0-g</th>\n",
       "      <th>exposure_time-g</th>\n",
       "      <th>numPix-g</th>\n",
       "      <th>pixel_scale-g</th>\n",
       "      <th>psf_type-g</th>\n",
       "      <th>read_noise-g</th>\n",
       "      <th>ccd_gain-g</th>\n",
       "      <th>...</th>\n",
       "      <th>PLANE_1-REDSHIFT-g</th>\n",
       "      <th>PLANE_2-REDSHIFT-g</th>\n",
       "      <th>PLANE_1-REDSHIFT-r</th>\n",
       "      <th>PLANE_2-REDSHIFT-r</th>\n",
       "      <th>PLANE_1-REDSHIFT-i</th>\n",
       "      <th>PLANE_2-REDSHIFT-i</th>\n",
       "      <th>PLANE_1-REDSHIFT-z</th>\n",
       "      <th>PLANE_2-REDSHIFT-z</th>\n",
       "      <th>PLANE_1-REDSHIFT-Y</th>\n",
       "      <th>PLANE_2-REDSHIFT-Y</th>\n",
       "    </tr>\n",
       "  </thead>\n",
       "  <tbody>\n",
       "    <tr>\n",
       "      <th>0</th>\n",
       "      <td>1501</td>\n",
       "      <td>1502</td>\n",
       "      <td>73.0</td>\n",
       "      <td>0.3</td>\n",
       "      <td>90.0</td>\n",
       "      <td>100</td>\n",
       "      <td>0.263</td>\n",
       "      <td>GAUSSIAN</td>\n",
       "      <td>7</td>\n",
       "      <td>6.083</td>\n",
       "      <td>...</td>\n",
       "      <td>0.935053</td>\n",
       "      <td>3.726231</td>\n",
       "      <td>0.935053</td>\n",
       "      <td>3.726231</td>\n",
       "      <td>0.935053</td>\n",
       "      <td>3.726231</td>\n",
       "      <td>0.935053</td>\n",
       "      <td>3.726231</td>\n",
       "      <td>0.935053</td>\n",
       "      <td>3.726231</td>\n",
       "    </tr>\n",
       "    <tr>\n",
       "      <th>1</th>\n",
       "      <td>705</td>\n",
       "      <td>706</td>\n",
       "      <td>73.0</td>\n",
       "      <td>0.3</td>\n",
       "      <td>90.0</td>\n",
       "      <td>100</td>\n",
       "      <td>0.263</td>\n",
       "      <td>GAUSSIAN</td>\n",
       "      <td>7</td>\n",
       "      <td>6.083</td>\n",
       "      <td>...</td>\n",
       "      <td>0.339738</td>\n",
       "      <td>4.820473</td>\n",
       "      <td>0.339738</td>\n",
       "      <td>4.820473</td>\n",
       "      <td>0.339738</td>\n",
       "      <td>4.820473</td>\n",
       "      <td>0.339738</td>\n",
       "      <td>4.820473</td>\n",
       "      <td>0.339738</td>\n",
       "      <td>4.820473</td>\n",
       "    </tr>\n",
       "    <tr>\n",
       "      <th>2</th>\n",
       "      <td>106</td>\n",
       "      <td>107</td>\n",
       "      <td>73.0</td>\n",
       "      <td>0.3</td>\n",
       "      <td>90.0</td>\n",
       "      <td>100</td>\n",
       "      <td>0.263</td>\n",
       "      <td>GAUSSIAN</td>\n",
       "      <td>7</td>\n",
       "      <td>6.083</td>\n",
       "      <td>...</td>\n",
       "      <td>0.858379</td>\n",
       "      <td>2.855011</td>\n",
       "      <td>0.858379</td>\n",
       "      <td>2.855011</td>\n",
       "      <td>0.858379</td>\n",
       "      <td>2.855011</td>\n",
       "      <td>0.858379</td>\n",
       "      <td>2.855011</td>\n",
       "      <td>0.858379</td>\n",
       "      <td>2.855011</td>\n",
       "    </tr>\n",
       "    <tr>\n",
       "      <th>3</th>\n",
       "      <td>2464</td>\n",
       "      <td>2465</td>\n",
       "      <td>73.0</td>\n",
       "      <td>0.3</td>\n",
       "      <td>90.0</td>\n",
       "      <td>100</td>\n",
       "      <td>0.263</td>\n",
       "      <td>GAUSSIAN</td>\n",
       "      <td>7</td>\n",
       "      <td>6.083</td>\n",
       "      <td>...</td>\n",
       "      <td>0.726914</td>\n",
       "      <td>4.242360</td>\n",
       "      <td>0.726914</td>\n",
       "      <td>4.242360</td>\n",
       "      <td>0.726914</td>\n",
       "      <td>4.242360</td>\n",
       "      <td>0.726914</td>\n",
       "      <td>4.242360</td>\n",
       "      <td>0.726914</td>\n",
       "      <td>4.242360</td>\n",
       "    </tr>\n",
       "    <tr>\n",
       "      <th>4</th>\n",
       "      <td>915</td>\n",
       "      <td>916</td>\n",
       "      <td>73.0</td>\n",
       "      <td>0.3</td>\n",
       "      <td>90.0</td>\n",
       "      <td>100</td>\n",
       "      <td>0.263</td>\n",
       "      <td>GAUSSIAN</td>\n",
       "      <td>7</td>\n",
       "      <td>6.083</td>\n",
       "      <td>...</td>\n",
       "      <td>0.375647</td>\n",
       "      <td>1.763864</td>\n",
       "      <td>0.375647</td>\n",
       "      <td>1.763864</td>\n",
       "      <td>0.375647</td>\n",
       "      <td>1.763864</td>\n",
       "      <td>0.375647</td>\n",
       "      <td>1.763864</td>\n",
       "      <td>0.375647</td>\n",
       "      <td>1.763864</td>\n",
       "    </tr>\n",
       "  </tbody>\n",
       "</table>\n",
       "<p>5 rows × 311 columns</p>\n",
       "</div>"
      ],
      "text/plain": [
       "   index  OBJID-g  H0-g  Om0-g  exposure_time-g  numPix-g  pixel_scale-g  \\\n",
       "0   1501     1502  73.0    0.3             90.0       100          0.263   \n",
       "1    705      706  73.0    0.3             90.0       100          0.263   \n",
       "2    106      107  73.0    0.3             90.0       100          0.263   \n",
       "3   2464     2465  73.0    0.3             90.0       100          0.263   \n",
       "4    915      916  73.0    0.3             90.0       100          0.263   \n",
       "\n",
       "  psf_type-g  read_noise-g  ccd_gain-g  ...  PLANE_1-REDSHIFT-g  \\\n",
       "0   GAUSSIAN             7       6.083  ...            0.935053   \n",
       "1   GAUSSIAN             7       6.083  ...            0.339738   \n",
       "2   GAUSSIAN             7       6.083  ...            0.858379   \n",
       "3   GAUSSIAN             7       6.083  ...            0.726914   \n",
       "4   GAUSSIAN             7       6.083  ...            0.375647   \n",
       "\n",
       "   PLANE_2-REDSHIFT-g  PLANE_1-REDSHIFT-r  PLANE_2-REDSHIFT-r  \\\n",
       "0            3.726231            0.935053            3.726231   \n",
       "1            4.820473            0.339738            4.820473   \n",
       "2            2.855011            0.858379            2.855011   \n",
       "3            4.242360            0.726914            4.242360   \n",
       "4            1.763864            0.375647            1.763864   \n",
       "\n",
       "   PLANE_1-REDSHIFT-i PLANE_2-REDSHIFT-i PLANE_1-REDSHIFT-z  \\\n",
       "0            0.935053           3.726231           0.935053   \n",
       "1            0.339738           4.820473           0.339738   \n",
       "2            0.858379           2.855011           0.858379   \n",
       "3            0.726914           4.242360           0.726914   \n",
       "4            0.375647           1.763864           0.375647   \n",
       "\n",
       "   PLANE_2-REDSHIFT-z  PLANE_1-REDSHIFT-Y PLANE_2-REDSHIFT-Y  \n",
       "0            3.726231            0.935053           3.726231  \n",
       "1            4.820473            0.339738           4.820473  \n",
       "2            2.855011            0.858379           2.855011  \n",
       "3            4.242360            0.726914           4.242360  \n",
       "4            1.763864            0.375647           1.763864  \n",
       "\n",
       "[5 rows x 311 columns]"
      ]
     },
     "execution_count": 8,
     "metadata": {},
     "output_type": "execute_result"
    }
   ],
   "source": [
    "bayes_sys_fit.head()"
   ]
  },
  {
   "cell_type": "code",
   "execution_count": 9,
   "id": "4d93848b",
   "metadata": {},
   "outputs": [
    {
     "data": {
      "text/html": [
       "<div>\n",
       "<style scoped>\n",
       "    .dataframe tbody tr th:only-of-type {\n",
       "        vertical-align: middle;\n",
       "    }\n",
       "\n",
       "    .dataframe tbody tr th {\n",
       "        vertical-align: top;\n",
       "    }\n",
       "\n",
       "    .dataframe thead th {\n",
       "        text-align: right;\n",
       "    }\n",
       "</style>\n",
       "<table border=\"1\" class=\"dataframe\">\n",
       "  <thead>\n",
       "    <tr style=\"text-align: right;\">\n",
       "      <th></th>\n",
       "      <th>OBJID-g</th>\n",
       "      <th>H0-g</th>\n",
       "      <th>Om0-g</th>\n",
       "      <th>exposure_time-g</th>\n",
       "      <th>numPix-g</th>\n",
       "      <th>pixel_scale-g</th>\n",
       "      <th>psf_type-g</th>\n",
       "      <th>read_noise-g</th>\n",
       "      <th>ccd_gain-g</th>\n",
       "      <th>seeing-g</th>\n",
       "      <th>...</th>\n",
       "      <th>PLANE_1-REDSHIFT-g</th>\n",
       "      <th>PLANE_2-REDSHIFT-g</th>\n",
       "      <th>PLANE_1-REDSHIFT-r</th>\n",
       "      <th>PLANE_2-REDSHIFT-r</th>\n",
       "      <th>PLANE_1-REDSHIFT-i</th>\n",
       "      <th>PLANE_2-REDSHIFT-i</th>\n",
       "      <th>PLANE_1-REDSHIFT-z</th>\n",
       "      <th>PLANE_2-REDSHIFT-z</th>\n",
       "      <th>PLANE_1-REDSHIFT-Y</th>\n",
       "      <th>PLANE_2-REDSHIFT-Y</th>\n",
       "    </tr>\n",
       "  </thead>\n",
       "  <tbody>\n",
       "    <tr>\n",
       "      <th>0</th>\n",
       "      <td>1</td>\n",
       "      <td>73.0</td>\n",
       "      <td>0.3</td>\n",
       "      <td>90.0</td>\n",
       "      <td>100</td>\n",
       "      <td>0.263</td>\n",
       "      <td>GAUSSIAN</td>\n",
       "      <td>7</td>\n",
       "      <td>6.083</td>\n",
       "      <td>1.200</td>\n",
       "      <td>...</td>\n",
       "      <td>0.701759</td>\n",
       "      <td>2.613567</td>\n",
       "      <td>0.701759</td>\n",
       "      <td>2.613567</td>\n",
       "      <td>0.701759</td>\n",
       "      <td>2.613567</td>\n",
       "      <td>0.701759</td>\n",
       "      <td>2.613567</td>\n",
       "      <td>0.701759</td>\n",
       "      <td>2.613567</td>\n",
       "    </tr>\n",
       "    <tr>\n",
       "      <th>1</th>\n",
       "      <td>2</td>\n",
       "      <td>73.0</td>\n",
       "      <td>0.3</td>\n",
       "      <td>90.0</td>\n",
       "      <td>100</td>\n",
       "      <td>0.263</td>\n",
       "      <td>GAUSSIAN</td>\n",
       "      <td>7</td>\n",
       "      <td>6.083</td>\n",
       "      <td>0.761</td>\n",
       "      <td>...</td>\n",
       "      <td>0.976595</td>\n",
       "      <td>2.997593</td>\n",
       "      <td>0.976595</td>\n",
       "      <td>2.997593</td>\n",
       "      <td>0.976595</td>\n",
       "      <td>2.997593</td>\n",
       "      <td>0.976595</td>\n",
       "      <td>2.997593</td>\n",
       "      <td>0.976595</td>\n",
       "      <td>2.997593</td>\n",
       "    </tr>\n",
       "    <tr>\n",
       "      <th>2</th>\n",
       "      <td>3</td>\n",
       "      <td>73.0</td>\n",
       "      <td>0.3</td>\n",
       "      <td>90.0</td>\n",
       "      <td>100</td>\n",
       "      <td>0.263</td>\n",
       "      <td>GAUSSIAN</td>\n",
       "      <td>7</td>\n",
       "      <td>6.083</td>\n",
       "      <td>1.559</td>\n",
       "      <td>...</td>\n",
       "      <td>0.851417</td>\n",
       "      <td>1.342668</td>\n",
       "      <td>0.851417</td>\n",
       "      <td>1.342668</td>\n",
       "      <td>0.851417</td>\n",
       "      <td>1.342668</td>\n",
       "      <td>0.851417</td>\n",
       "      <td>1.342668</td>\n",
       "      <td>0.851417</td>\n",
       "      <td>1.342668</td>\n",
       "    </tr>\n",
       "    <tr>\n",
       "      <th>3</th>\n",
       "      <td>4</td>\n",
       "      <td>73.0</td>\n",
       "      <td>0.3</td>\n",
       "      <td>90.0</td>\n",
       "      <td>100</td>\n",
       "      <td>0.263</td>\n",
       "      <td>GAUSSIAN</td>\n",
       "      <td>7</td>\n",
       "      <td>6.083</td>\n",
       "      <td>1.241</td>\n",
       "      <td>...</td>\n",
       "      <td>0.942661</td>\n",
       "      <td>3.862177</td>\n",
       "      <td>0.942661</td>\n",
       "      <td>3.862177</td>\n",
       "      <td>0.942661</td>\n",
       "      <td>3.862177</td>\n",
       "      <td>0.942661</td>\n",
       "      <td>3.862177</td>\n",
       "      <td>0.942661</td>\n",
       "      <td>3.862177</td>\n",
       "    </tr>\n",
       "    <tr>\n",
       "      <th>4</th>\n",
       "      <td>5</td>\n",
       "      <td>73.0</td>\n",
       "      <td>0.3</td>\n",
       "      <td>90.0</td>\n",
       "      <td>100</td>\n",
       "      <td>0.263</td>\n",
       "      <td>GAUSSIAN</td>\n",
       "      <td>7</td>\n",
       "      <td>6.083</td>\n",
       "      <td>0.962</td>\n",
       "      <td>...</td>\n",
       "      <td>0.645495</td>\n",
       "      <td>4.738823</td>\n",
       "      <td>0.645495</td>\n",
       "      <td>4.738823</td>\n",
       "      <td>0.645495</td>\n",
       "      <td>4.738823</td>\n",
       "      <td>0.645495</td>\n",
       "      <td>4.738823</td>\n",
       "      <td>0.645495</td>\n",
       "      <td>4.738823</td>\n",
       "    </tr>\n",
       "  </tbody>\n",
       "</table>\n",
       "<p>5 rows × 310 columns</p>\n",
       "</div>"
      ],
      "text/plain": [
       "   OBJID-g  H0-g  Om0-g  exposure_time-g  numPix-g  pixel_scale-g psf_type-g  \\\n",
       "0        1  73.0    0.3             90.0       100          0.263   GAUSSIAN   \n",
       "1        2  73.0    0.3             90.0       100          0.263   GAUSSIAN   \n",
       "2        3  73.0    0.3             90.0       100          0.263   GAUSSIAN   \n",
       "3        4  73.0    0.3             90.0       100          0.263   GAUSSIAN   \n",
       "4        5  73.0    0.3             90.0       100          0.263   GAUSSIAN   \n",
       "\n",
       "   read_noise-g  ccd_gain-g  seeing-g  ...  PLANE_1-REDSHIFT-g  \\\n",
       "0             7       6.083     1.200  ...            0.701759   \n",
       "1             7       6.083     0.761  ...            0.976595   \n",
       "2             7       6.083     1.559  ...            0.851417   \n",
       "3             7       6.083     1.241  ...            0.942661   \n",
       "4             7       6.083     0.962  ...            0.645495   \n",
       "\n",
       "   PLANE_2-REDSHIFT-g  PLANE_1-REDSHIFT-r  PLANE_2-REDSHIFT-r  \\\n",
       "0            2.613567            0.701759            2.613567   \n",
       "1            2.997593            0.976595            2.997593   \n",
       "2            1.342668            0.851417            1.342668   \n",
       "3            3.862177            0.942661            3.862177   \n",
       "4            4.738823            0.645495            4.738823   \n",
       "\n",
       "  PLANE_1-REDSHIFT-i PLANE_2-REDSHIFT-i  PLANE_1-REDSHIFT-z  \\\n",
       "0           0.701759           2.613567            0.701759   \n",
       "1           0.976595           2.997593            0.976595   \n",
       "2           0.851417           1.342668            0.851417   \n",
       "3           0.942661           3.862177            0.942661   \n",
       "4           0.645495           4.738823            0.645495   \n",
       "\n",
       "   PLANE_2-REDSHIFT-z PLANE_1-REDSHIFT-Y  PLANE_2-REDSHIFT-Y  \n",
       "0            2.613567           0.701759            2.613567  \n",
       "1            2.997593           0.976595            2.997593  \n",
       "2            1.342668           0.851417            1.342668  \n",
       "3            3.862177           0.942661            3.862177  \n",
       "4            4.738823           0.645495            4.738823  \n",
       "\n",
       "[5 rows x 310 columns]"
      ]
     },
     "execution_count": 9,
     "metadata": {},
     "output_type": "execute_result"
    }
   ],
   "source": [
    "metadata.head()"
   ]
  },
  {
   "cell_type": "code",
   "execution_count": 10,
   "id": "3bd1f5ac",
   "metadata": {},
   "outputs": [],
   "source": [
    "pixel_scale = bayes_sys_fit['pixel_scale-g'][0]\n",
    "exposure_time = bayes_sys_fit['exposure_time-g'][0]\n",
    "N_sys = 20\n",
    "\n",
    "cutouts = []\n",
    "psf = []\n",
    "noise_map = []\n",
    "for i in range(N_sys):\n",
    "    cutouts.append ([])\n",
    "    psf.append([])\n",
    "    noise_map.append([])\n",
    "\n",
    "for i in range(N_sys):\n",
    "    for j in range(0, len(bands_simulated)):\n",
    "        cutouts[i].append(fits.open(image_pre_path+bands_simulated[j]+'/'+str(bayes_sys_fit['OBJID-g'][i]-1)+'.fits')[0].data)\n",
    "        kwargs_psf = {'psf_type': 'GAUSSIAN', 'fwhm': bayes_sys_fit['seeing-'+bands_simulated[j]][i], 'pixel_size': bayes_sys_fit['pixel_scale-g'][0], 'truncation': 4/bayes_sys_fit['seeing-'+bands_simulated[j]][i]}\n",
    "        psf_class = PSF(**kwargs_psf)\n",
    "        psf[i].append(psf_class.kernel_point_source/np.max(psf_class.kernel_point_source))\n",
    "        noise_map[i].append(np.sqrt((cutouts[i][j]*exposure_time+float(bayes_sys_fit['sky_brightness-'+str(bands_simulated[j])][i]**2)))/exposure_time)"
   ]
  },
  {
   "cell_type": "code",
   "execution_count": 11,
   "id": "baef0473",
   "metadata": {},
   "outputs": [
    {
     "data": {
      "image/png": "[encoded data removed]",
      "text/plain": [
       "<Figure size 432x288 with 1 Axes>"
      ]
     },
     "metadata": {},
     "output_type": "display_data"
    }
   ],
   "source": [
    "view_image_rgb(cutouts[0])"
   ]
  },
  {
   "cell_type": "markdown",
   "id": "22de3bec",
   "metadata": {
    "tags": []
   },
   "source": [
    "## building inner and outter lens light \n",
    "\n",
    "* lens light mask"
   ]
  },
  {
   "cell_type": "code",
   "execution_count": 12,
   "id": "cb1590f2",
   "metadata": {},
   "outputs": [],
   "source": [
    "#image_model_optionlist = np.linspace(0, len(cutouts), len(cutouts)+1, dtype=int)"
   ]
  },
  {
   "cell_type": "code",
   "execution_count": 13,
   "id": "4aa3802f",
   "metadata": {},
   "outputs": [
    {
     "data": {
      "text/plain": [
       "'\\ndef update_graph(n):\\n    \"\"\"\\n    def function to update our visual graph\\n    i: int\\n        option, system\\n    \"\"\"\\n    imaging_for_mask = al.Imaging(al.Array2D.manual(np.array(cutouts[n][2], dtype=float), pixel_scales=float(pixel_scale)), # cutout\\n                                  al.Array2D.manual(np.array(noise_map[n][2], dtype=float), pixel_scales=float(pixel_scale)), # noise_map \\n                                  al.Kernel2D.manual(np.array(psf[n][2], dtype=float), pixel_scales=float(pixel_scale), shape_native=(100, 100))) # psf\\n\\n    mask = al.Mask2D.circular(shape_native=imaging_for_mask.shape_native, pixel_scales=imaging_for_mask.pixel_scales, radius=1.2)\\n    imaging_for_mask = imaging_for_mask.apply_mask(mask=mask)\\n\\n    visuals_2d = aplt.Visuals2D()\\n    array_plotter = aplt.Array2DPlotter(array=imaging_for_mask.image, visuals_2d=visuals_2d)\\n    array_plotter.figure_2d()\\n    \\nn = widgets.Dropdown(options=image_model_optionlist, value=0, description=\\'Component:\\', disabled=False)\\nwidgets.interactive(update_graph,n = n)\\n'"
      ]
     },
     "execution_count": 13,
     "metadata": {},
     "output_type": "execute_result"
    }
   ],
   "source": [
    "'''\n",
    "def update_graph(n):\n",
    "    \"\"\"\n",
    "    def function to update our visual graph\n",
    "    i: int\n",
    "        option, system\n",
    "    \"\"\"\n",
    "    imaging_for_mask = al.Imaging(al.Array2D.manual(np.array(cutouts[n][2], dtype=float), pixel_scales=float(pixel_scale)), # cutout\n",
    "                                  al.Array2D.manual(np.array(noise_map[n][2], dtype=float), pixel_scales=float(pixel_scale)), # noise_map \n",
    "                                  al.Kernel2D.manual(np.array(psf[n][2], dtype=float), pixel_scales=float(pixel_scale), shape_native=(100, 100))) # psf\n",
    "\n",
    "    mask = al.Mask2D.circular(shape_native=imaging_for_mask.shape_native, pixel_scales=imaging_for_mask.pixel_scales, radius=1.2)\n",
    "    imaging_for_mask = imaging_for_mask.apply_mask(mask=mask)\n",
    "\n",
    "    visuals_2d = aplt.Visuals2D()\n",
    "    array_plotter = aplt.Array2DPlotter(array=imaging_for_mask.image, visuals_2d=visuals_2d)\n",
    "    array_plotter.figure_2d()\n",
    "    \n",
    "n = widgets.Dropdown(options=image_model_optionlist, value=0, description='Component:', disabled=False)\n",
    "widgets.interactive(update_graph,n = n)\n",
    "'''"
   ]
  },
  {
   "cell_type": "markdown",
   "id": "c564ba06",
   "metadata": {},
   "source": [
    "* lens system mask"
   ]
  },
  {
   "cell_type": "code",
   "execution_count": 14,
   "id": "53c31ea4",
   "metadata": {},
   "outputs": [
    {
     "data": {
      "text/plain": [
       "'\\ndef update_graph(n):\\n    \"\"\"\\n    def function to update our visual graph\\n    i: int\\n        option, system\\n    \"\"\"\\n    imaging_for_mask = al.Imaging(al.Array2D.manual(np.array(cutouts[n][0], dtype=float), pixel_scales=float(pixel_scale)), # cutout\\n                                  al.Array2D.manual(np.array(noise_map[n][0], dtype=float), pixel_scales=float(pixel_scale)), # noise_map \\n                                  al.Kernel2D.manual(np.array(psf[n][0], dtype=float), pixel_scales=float(pixel_scale), shape_native=(100, 100))) # psf\\n\\n    mask = al.Mask2D.circular(shape_native=imaging_for_mask.shape_native, pixel_scales=imaging_for_mask.pixel_scales, radius=8.0)\\n    imaging_for_mask = imaging_for_mask.apply_mask(mask=mask)\\n\\n    visuals_2d = aplt.Visuals2D()\\n    array_plotter = aplt.Array2DPlotter(array=imaging_for_mask.image, visuals_2d=visuals_2d)\\n    array_plotter.figure_2d()\\n    \\nn = widgets.Dropdown(options=image_model_optionlist, value=0, description=\\'Component:\\', disabled=False)\\n\\nwidgets.interactive(update_graph,n = n)\\n'"
      ]
     },
     "execution_count": 14,
     "metadata": {},
     "output_type": "execute_result"
    }
   ],
   "source": [
    "'''\n",
    "def update_graph(n):\n",
    "    \"\"\"\n",
    "    def function to update our visual graph\n",
    "    i: int\n",
    "        option, system\n",
    "    \"\"\"\n",
    "    imaging_for_mask = al.Imaging(al.Array2D.manual(np.array(cutouts[n][0], dtype=float), pixel_scales=float(pixel_scale)), # cutout\n",
    "                                  al.Array2D.manual(np.array(noise_map[n][0], dtype=float), pixel_scales=float(pixel_scale)), # noise_map \n",
    "                                  al.Kernel2D.manual(np.array(psf[n][0], dtype=float), pixel_scales=float(pixel_scale), shape_native=(100, 100))) # psf\n",
    "\n",
    "    mask = al.Mask2D.circular(shape_native=imaging_for_mask.shape_native, pixel_scales=imaging_for_mask.pixel_scales, radius=8.0)\n",
    "    imaging_for_mask = imaging_for_mask.apply_mask(mask=mask)\n",
    "\n",
    "    visuals_2d = aplt.Visuals2D()\n",
    "    array_plotter = aplt.Array2DPlotter(array=imaging_for_mask.image, visuals_2d=visuals_2d)\n",
    "    array_plotter.figure_2d()\n",
    "    \n",
    "n = widgets.Dropdown(options=image_model_optionlist, value=0, description='Component:', disabled=False)\n",
    "\n",
    "widgets.interactive(update_graph,n = n)\n",
    "'''"
   ]
  },
  {
   "cell_type": "markdown",
   "id": "e4507e93",
   "metadata": {
    "tags": []
   },
   "source": [
    "## modelization "
   ]
  },
  {
   "cell_type": "code",
   "execution_count": 15,
   "id": "8d041ea4",
   "metadata": {},
   "outputs": [],
   "source": [
    "# exporting our system parameters dataframe\n",
    "bayes_sys_fit.to_csv('./modelized_systems.csv')"
   ]
  },
  {
   "cell_type": "code",
   "execution_count": 16,
   "id": "1fd42f9a",
   "metadata": {
    "scrolled": true
   },
   "outputs": [
    {
     "data": {
      "text/plain": [
       "'\\ntaking_time = []\\n\\nfor i in range(0, N_sys):\\n    start = time.time()\\n    imaging_0 = al.Imaging(al.Array2D.manual(np.array(cutouts[i][2], dtype=float), pixel_scales=float(pixel_scale)), # cutout\\n                       al.Array2D.manual(np.array(noise_map[i][2], dtype=float), pixel_scales=float(pixel_scale)), # noise_map \\n                       al.Kernel2D.manual(np.array(psf[i][2], dtype=float), pixel_scales=float(pixel_scale), shape_native=(100, 100))) # psf\\n    zl = bayes_sys_fit[\\'PLANE_1-REDSHIFT-g\\'][i]\\n    zs = bayes_sys_fit[\\'PLANE_2-REDSHIFT-g\\'][i]\\n    pipeline = apply_pipeline(imaging_0, i, zl, zs)\\n    result = apply_pipeline.fit_lens_light(pipeline, nlive=30, lens_light_radius=1.2)\\n    result_modelization = pipeline.fit_system_autolens(cutouts[i][2], noise_map[i][2], psf[i][2], result.unmasked_model_image, nlive=30, pixel_scale=pixel_scale, prior_variables=variables, predictions_dataframe=dl_results[dl_results[\\'sys\\']==bayes_sys_fit[\\'OBJID-g\\'][i]], lower_limits=lower_sigma, upper_limits=upper_sigma, use_predictions=True)\\n    pipeline.reset_all()\\n    end = time.time()\\n    taking_time.append(end - start)\\n    fig, ax = plt.subplots(1, 5,figsize=(16, 4))\\n\\n    ax[0].imshow(cutouts[i][2])\\n    ax[0].text(75, 90, \\'5\" \\', c=\\'w\\', size=18)\\n    ax[0].set_xticks([])\\n    ax[0].set_yticks([])\\n    ax[1].imshow(result.unmasked_model_image.reshape(100, 100))\\n    ax[1].set_xticks([])\\n    ax[1].set_yticks([])\\n    ax[2].imshow((imaging_0.image-result.unmasked_model_image).reshape(100, 100))\\n    ax[2].set_xticks([])\\n    ax[2].set_yticks([])\\n    ax[3].imshow(result_modelization.unmasked_model_image.reshape(100, 100))\\n    ax[3].set_xticks([])\\n    ax[3].set_yticks([])\\n    ax[4].imshow((imaging_0.image-result.unmasked_model_image - result_modelization.unmasked_model_image).reshape(100, 100))\\n    ax[4].set_xticks([])\\n    ax[4].set_yticks([])\\n\\n    fig.savefig(\\'./imagens/\\'+str(i)+\\'.png\\');\\n    \\n# exporting our taking time dataframe\\ntaking_time_df.to_csv(\\'./output/time_to_run.csv\\')\\n\\n#taking_time_df = pd.Series(taking_time)\\n'"
      ]
     },
     "execution_count": 16,
     "metadata": {},
     "output_type": "execute_result"
    }
   ],
   "source": [
    "'''\n",
    "taking_time = []\n",
    "\n",
    "for i in range(0, N_sys):\n",
    "    start = time.time()\n",
    "    imaging_0 = al.Imaging(al.Array2D.manual(np.array(cutouts[i][2], dtype=float), pixel_scales=float(pixel_scale)), # cutout\n",
    "                       al.Array2D.manual(np.array(noise_map[i][2], dtype=float), pixel_scales=float(pixel_scale)), # noise_map \n",
    "                       al.Kernel2D.manual(np.array(psf[i][2], dtype=float), pixel_scales=float(pixel_scale), shape_native=(100, 100))) # psf\n",
    "    zl = bayes_sys_fit['PLANE_1-REDSHIFT-g'][i]\n",
    "    zs = bayes_sys_fit['PLANE_2-REDSHIFT-g'][i]\n",
    "    pipeline = apply_pipeline(imaging_0, i, zl, zs)\n",
    "    result = apply_pipeline.fit_lens_light(pipeline, nlive=30, lens_light_radius=1.2)\n",
    "    result_modelization = pipeline.fit_system_autolens(cutouts[i][2], noise_map[i][2], psf[i][2], result.unmasked_model_image, nlive=30, pixel_scale=pixel_scale, prior_variables=variables, predictions_dataframe=dl_results[dl_results['sys']==bayes_sys_fit['OBJID-g'][i]], lower_limits=lower_sigma, upper_limits=upper_sigma, use_predictions=True)\n",
    "    pipeline.reset_all()\n",
    "    end = time.time()\n",
    "    taking_time.append(end - start)\n",
    "    fig, ax = plt.subplots(1, 5,figsize=(16, 4))\n",
    "\n",
    "    ax[0].imshow(cutouts[i][2])\n",
    "    ax[0].text(75, 90, '5\\\" ', c='w', size=18)\n",
    "    ax[0].set_xticks([])\n",
    "    ax[0].set_yticks([])\n",
    "    ax[1].imshow(result.unmasked_model_image.reshape(100, 100))\n",
    "    ax[1].set_xticks([])\n",
    "    ax[1].set_yticks([])\n",
    "    ax[2].imshow((imaging_0.image-result.unmasked_model_image).reshape(100, 100))\n",
    "    ax[2].set_xticks([])\n",
    "    ax[2].set_yticks([])\n",
    "    ax[3].imshow(result_modelization.unmasked_model_image.reshape(100, 100))\n",
    "    ax[3].set_xticks([])\n",
    "    ax[3].set_yticks([])\n",
    "    ax[4].imshow((imaging_0.image-result.unmasked_model_image - result_modelization.unmasked_model_image).reshape(100, 100))\n",
    "    ax[4].set_xticks([])\n",
    "    ax[4].set_yticks([])\n",
    "\n",
    "    fig.savefig('./imagens/'+str(i)+'.png');\n",
    "    \n",
    "# exporting our taking time dataframe\n",
    "taking_time_df.to_csv('./output/time_to_run.csv')\n",
    "\n",
    "#taking_time_df = pd.Series(taking_time)\n",
    "''' "
   ]
  },
  {
   "cell_type": "code",
   "execution_count": 17,
   "id": "69793a15-47e6-4f90-a978-e0dc404813cc",
   "metadata": {},
   "outputs": [],
   "source": [
    "al_session=af.db.open_database(\"database.sqlite\")"
   ]
  },
  {
   "cell_type": "code",
   "execution_count": null,
   "id": "403ec286-2f0c-4ce9-8e73-b225b63530d6",
   "metadata": {
    "scrolled": true,
    "tags": []
   },
   "outputs": [
    {
     "name": "stdout",
     "output_type": "stream",
     "text": [
      "Finding the lens object and building a lens-light mask...\n",
      "Found radius of 5.313 pixels, which is equal to 1.397 arcsec\n",
      "2022-04-09 11:27:19,022 - autofit.database.migration.migration - INFO - Performing migration from None to a6912d416a4e08128a8c4893bb3cd12a in 3 steps\n",
      "2022-04-09 11:27:19,024 - autofit.database.migration.migration - INFO - revision_id updated to a6912d416a4e08128a8c4893bb3cd12a\n",
      "2022-04-09 11:27:19,657 - autoarray.dataset.imaging - INFO - IMAGING - Data masked, contains a total of 52 image-pixels\n",
      "Fit using Dynesty Static method...\n",
      "0_lens_light_step_0 lenspop_deeplenstronomy\n",
      "2022-04-09 11:27:19,754 - autofit.non_linear.abstract_search - INFO - Creating search\n",
      "2022-04-09 11:27:19,756 - 0_lens_light_step_0 - INFO - Starting search\n",
      "2022-04-09 11:27:23,164 - autolens.imaging.model.analysis - INFO - PRELOADS - Setting up preloads, may take a few minutes for fits using an inversion.\n",
      "2022-04-09 11:27:24,070 - 0_lens_light_step_0 - INFO - Saving path info\n",
      "2022-04-09 11:27:24,112 - 0_lens_light_step_0 - INFO - Not complete. Starting non-linear search.\n",
      "2022-04-09 11:27:24,115 - 0_lens_light_step_0 - INFO - number_of_cores == 8...\n",
      "2022-04-09 11:27:24,117 - 0_lens_light_step_0 - WARNING - ...using SneakyPool. This copies the likelihood functionto each process on instantiation to avoid copying multipletimes.\n",
      "2022-04-09 11:27:24,119 - process 0 - INFO - created\n",
      "2022-04-09 11:27:24,121 - process 1 - INFO - created\n",
      "2022-04-09 11:27:24,122 - process 2 - INFO - created\n",
      "2022-04-09 11:27:24,124 - process 3 - INFO - created\n",
      "2022-04-09 11:27:24,125 - process 4 - INFO - created\n",
      "2022-04-09 11:27:24,129 - process 5 - INFO - created\n",
      "2022-04-09 11:27:24,132 - process 6 - INFO - created\n",
      "2022-04-09 11:27:24,133 - process 7 - INFO - created\n",
      "2022-04-09 11:27:24,211 - autofit.non_linear.initializer - INFO - Generating initial samples of model, which are subject to prior limits and other constraints.\n",
      "2022-04-09 11:27:24,351 - 0_lens_light_step_0 - INFO - No Dynesty samples found, beginning new non-linear search. \n"
     ]
    },
    {
     "name": "stderr",
     "output_type": "stream",
     "text": [
      "402it [00:19, 20.90it/s, +30 | bound: 118 | nc: 1 | ncall: 5069 | eff(%):  8.522 | loglstar:   -inf < -80.466 <    inf | logz: -97.454 +/-  0.940 | dlogz:  0.897 >  0.039]"
     ]
    },
    {
     "name": "stdout",
     "output_type": "stream",
     "text": [
      "2022-04-09 11:27:43,636 - 0_lens_light_step_0 - INFO - 5000 Iterations: Performing update (Visualization, outputting samples, etc.).\n"
     ]
    },
    {
     "name": "stderr",
     "output_type": "stream",
     "text": [
      "\n",
      "527it [00:12, 42.27it/s, +30 | bound: 200 | nc: 1 | ncall: 10676 | eff(%):  5.217 | loglstar:   -inf < -67.212 <    inf | logz: -87.170 +/-  1.347 | dlogz:  0.385 >  0.039]"
     ]
    },
    {
     "name": "stdout",
     "output_type": "stream",
     "text": [
      "2022-04-09 11:28:02,876 - 0_lens_light_step_0 - INFO - 10000 Iterations: Performing update (Visualization, outputting samples, etc.).\n"
     ]
    },
    {
     "name": "stderr",
     "output_type": "stream",
     "text": [
      "\n",
      "595it [00:10, 58.48it/s, +30 | bound: 254 | nc: 1 | ncall: 15723 | eff(%):  3.975 | loglstar:   -inf < -66.719 <    inf | logz: -87.244 +/-  1.212 | dlogz:  0.085 >  0.039]"
     ]
    },
    {
     "name": "stdout",
     "output_type": "stream",
     "text": [
      "2022-04-09 11:28:18,255 - 0_lens_light_step_0 - INFO - 15000 Iterations: Performing update (Visualization, outputting samples, etc.).\n"
     ]
    },
    {
     "name": "stderr",
     "output_type": "stream",
     "text": [
      "\n",
      "731it [00:05, 129.92it/s, +30 | bound: 299 | nc: 1 | ncall: 17960 | eff(%):  4.237 | loglstar:   -inf < -66.498 <    inf | logz: -87.181 +/-  1.110 | dlogz:  0.001 >  0.039]"
     ]
    },
    {
     "name": "stdout",
     "output_type": "stream",
     "text": [
      "2022-04-09 11:28:28,640 - 0_lens_light_step_0 - INFO - 20000 Iterations: Performing update (Visualization, outputting samples, etc.).\n"
     ]
    },
    {
     "name": "stderr",
     "output_type": "stream",
     "text": [
      "\n",
      "731it [00:00, 500904.46it/s, +30 | bound: 299 | nc: 1 | ncall: 17960 | eff(%):  4.237 | loglstar:   -inf < -66.498 <    inf | logz: -87.181 +/-  1.110 | dlogz:  0.001 >  0.039]"
     ]
    },
    {
     "name": "stdout",
     "output_type": "stream",
     "text": [
      "2022-04-09 11:28:33,694 - 0_lens_light_step_0 - INFO - 25000 Iterations: Performing update (Visualization, outputting samples, etc.).\n"
     ]
    },
    {
     "name": "stderr",
     "output_type": "stream",
     "text": [
      "\n"
     ]
    },
    {
     "name": "stdout",
     "output_type": "stream",
     "text": [
      "2022-04-09 11:28:39,195 - 0_lens_light_step_0 - INFO - 30000 Iterations: Performing update (Visualization, outputting samples, etc.).\n",
      "2022-04-09 11:28:52,662 - 0_lens_light_step_0 - INFO - Removing zip file\n",
      "2022-04-09 11:28:53,201 - autoarray.dataset.imaging - INFO - IMAGING - Data masked, contains a total of 2896 image-pixels\n",
      "0_lens_light_step_1 lenspop_deeplenstronomy\n",
      "2022-04-09 11:28:53,346 - autofit.non_linear.abstract_search - INFO - Creating search\n",
      "2022-04-09 11:28:53,348 - 0_lens_light_step_1 - INFO - Starting search\n",
      "2022-04-09 11:28:54,118 - autolens.imaging.model.analysis - INFO - PRELOADS - Setting up preloads, may take a few minutes for fits using an inversion.\n",
      "2022-04-09 11:28:54,357 - 0_lens_light_step_1 - INFO - Saving path info\n",
      "2022-04-09 11:28:54,393 - 0_lens_light_step_1 - INFO - Not complete. Starting non-linear search.\n",
      "2022-04-09 11:28:54,395 - 0_lens_light_step_1 - INFO - number_of_cores == 8...\n",
      "2022-04-09 11:28:54,396 - 0_lens_light_step_1 - WARNING - ...using SneakyPool. This copies the likelihood functionto each process on instantiation to avoid copying multipletimes.\n",
      "2022-04-09 11:28:54,398 - process 0 - INFO - created\n",
      "2022-04-09 11:28:54,400 - process 1 - INFO - created\n",
      "2022-04-09 11:28:54,401 - process 2 - INFO - created\n",
      "2022-04-09 11:28:54,403 - process 3 - INFO - created\n",
      "2022-04-09 11:28:54,405 - process 4 - INFO - created\n",
      "2022-04-09 11:28:54,407 - process 5 - INFO - created\n",
      "2022-04-09 11:28:54,409 - process 6 - INFO - created\n",
      "2022-04-09 11:28:54,411 - process 7 - INFO - created\n",
      "2022-04-09 11:28:54,509 - autofit.non_linear.initializer - INFO - Generating initial samples of model, which are subject to prior limits and other constraints.\n",
      "2022-04-09 11:28:54,824 - 0_lens_light_step_1 - INFO - No Dynesty samples found, beginning new non-linear search. \n"
     ]
    },
    {
     "name": "stderr",
     "output_type": "stream",
     "text": [
      "523it [00:33, 15.73it/s, +30 | bound: 132 | nc: 1 | ncall: 5038 | eff(%): 10.977 | loglstar:   -inf < -27639.385 <    inf | logz: -27660.661 +/-  6.666 | dlogz:  1.099 >  0.039]"
     ]
    },
    {
     "name": "stdout",
     "output_type": "stream",
     "text": [
      "2022-04-09 11:29:28,128 - 0_lens_light_step_1 - INFO - 5000 Iterations: Performing update (Visualization, outputting samples, etc.).\n"
     ]
    },
    {
     "name": "stderr",
     "output_type": "stream",
     "text": [
      "\n",
      "1124it [00:35, 31.25it/s, +30 | bound: 313 | nc: 1 | ncall: 10042 | eff(%): 11.492 | loglstar:   -inf < -16083.571 <    inf | logz: -16124.553 +/-  6.764 | dlogz:  1.099 >  0.039]"
     ]
    },
    {
     "name": "stdout",
     "output_type": "stream",
     "text": [
      "2022-04-09 11:30:32,556 - 0_lens_light_step_1 - INFO - 10000 Iterations: Performing update (Visualization, outputting samples, etc.).\n"
     ]
    },
    {
     "name": "stderr",
     "output_type": "stream",
     "text": [
      "\n",
      "1682it [00:26, 62.82it/s, +30 | bound: 484 | nc: 1 | ncall: 15045 | eff(%): 11.379 | loglstar:   -inf < -14297.450 <    inf | logz: -14356.730 +/-  6.891 | dlogz:  1.099 >  0.039]"
     ]
    },
    {
     "name": "stdout",
     "output_type": "stream",
     "text": [
      "2022-04-09 11:31:24,404 - 0_lens_light_step_1 - INFO - 15000 Iterations: Performing update (Visualization, outputting samples, etc.).\n"
     ]
    },
    {
     "name": "stderr",
     "output_type": "stream",
     "text": [
      "\n",
      "2221it [00:25, 88.45it/s, +30 | bound: 650 | nc: 1 | ncall: 20046 | eff(%): 11.229 | loglstar:   -inf < -14101.707 <    inf | logz: -14178.660 +/-  7.128 | dlogz:  1.099 >  0.039]"
     ]
    },
    {
     "name": "stdout",
     "output_type": "stream",
     "text": [
      "2022-04-09 11:32:18,578 - 0_lens_light_step_1 - INFO - 20000 Iterations: Performing update (Visualization, outputting samples, etc.).\n"
     ]
    },
    {
     "name": "stderr",
     "output_type": "stream",
     "text": [
      "\n",
      "2760it [00:17, 158.34it/s, bound: 773 | nc: 5 | ncall: 23182 | eff(%): 11.906 | loglstar:   -inf < -13976.827 <    inf | logz: -14069.958 +/-  7.004 | dlogz: 35.191 >  0.039]  \n",
      "0it [00:00, ?it/s]\n",
      "0it [00:00, ?it/s]\n",
      "0it [00:00, ?it/s]\n",
      "0it [00:00, ?it/s]\n",
      "0it [00:00, ?it/s]\n",
      "0it [00:00, ?it/s]\n",
      "0it [00:00, ?it/s]\n",
      "0it [00:00, ?it/s]\n",
      "0it [00:00, ?it/s]\n"
     ]
    },
    {
     "name": "stdout",
     "output_type": "stream",
     "text": [
      "2022-04-09 11:32:58,591 - 0_lens_light_step_1 - INFO - 25000 Iterations: Performing update (Visualization, outputting samples, etc.).\n"
     ]
    },
    {
     "name": "stderr",
     "output_type": "stream",
     "text": [
      "0it [00:00, ?it/s]\n",
      "0it [00:00, ?it/s]\n",
      "0it [00:00, ?it/s]\n",
      "0it [00:00, ?it/s]\n",
      "0it [00:00, ?it/s]\n",
      "0it [00:00, ?it/s]\n",
      "0it [00:00, ?it/s]\n",
      "0it [00:00, ?it/s]\n",
      "0it [00:00, ?it/s]\n",
      "0it [00:00, ?it/s]"
     ]
    },
    {
     "name": "stdout",
     "output_type": "stream",
     "text": [
      "2022-04-09 11:33:19,270 - 0_lens_light_step_1 - INFO - 30000 Iterations: Performing update (Visualization, outputting samples, etc.).\n"
     ]
    },
    {
     "name": "stderr",
     "output_type": "stream",
     "text": [
      "\n"
     ]
    },
    {
     "name": "stdout",
     "output_type": "stream",
     "text": [
      "2022-04-09 11:33:49,513 - 0_lens_light_step_1 - INFO - 35000 Iterations: Performing update (Visualization, outputting samples, etc.).\n",
      "2022-04-09 11:34:33,963 - 0_lens_light_step_1 - INFO - Removing zip file\n",
      "Finding the lens object and building a lens-light mask...\n",
      "Found radius of 4.469 pixels, which is equal to 1.175 arcsec\n",
      "2022-04-09 11:34:36,396 - autofit.database.migration.migration - INFO - Database already at latest revision\n",
      "2022-04-09 11:34:36,399 - autoarray.dataset.imaging - INFO - IMAGING - Data masked, contains a total of 44 image-pixels\n",
      "Fit using Dynesty Static method...\n",
      "1_lens_light_step_0 lenspop_deeplenstronomy\n",
      "2022-04-09 11:34:36,489 - autofit.non_linear.abstract_search - INFO - Creating search\n",
      "2022-04-09 11:34:36,491 - 1_lens_light_step_0 - INFO - Starting search\n",
      "2022-04-09 11:34:37,092 - autolens.imaging.model.analysis - INFO - PRELOADS - Setting up preloads, may take a few minutes for fits using an inversion.\n",
      "2022-04-09 11:34:37,146 - 1_lens_light_step_0 - INFO - Saving path info\n",
      "2022-04-09 11:34:37,292 - 1_lens_light_step_0 - INFO - Not complete. Starting non-linear search.\n",
      "2022-04-09 11:34:37,293 - 1_lens_light_step_0 - INFO - number_of_cores == 8...\n",
      "2022-04-09 11:34:37,294 - 1_lens_light_step_0 - WARNING - ...using SneakyPool. This copies the likelihood functionto each process on instantiation to avoid copying multipletimes.\n",
      "2022-04-09 11:34:37,296 - process 0 - INFO - created\n",
      "2022-04-09 11:34:37,298 - process 1 - INFO - created\n",
      "2022-04-09 11:34:37,301 - process 2 - INFO - created\n",
      "2022-04-09 11:34:37,303 - process 3 - INFO - created\n",
      "2022-04-09 11:34:37,305 - process 4 - INFO - created\n",
      "2022-04-09 11:34:37,307 - process 5 - INFO - created\n",
      "2022-04-09 11:34:37,309 - process 6 - INFO - created\n",
      "2022-04-09 11:34:37,310 - process 7 - INFO - created\n",
      "2022-04-09 11:34:37,441 - autofit.non_linear.initializer - INFO - Generating initial samples of model, which are subject to prior limits and other constraints.\n",
      "2022-04-09 11:34:37,549 - 1_lens_light_step_0 - INFO - No Dynesty samples found, beginning new non-linear search. \n"
     ]
    },
    {
     "name": "stderr",
     "output_type": "stream",
     "text": [
      "557it [00:18, 30.93it/s, +30 | bound: 136 | nc: 1 | ncall: 5031 | eff(%): 11.668 | loglstar:   -inf < -44.365 <    inf | logz: -66.488 +/-  1.659 | dlogz:  0.928 >  0.039] "
     ]
    },
    {
     "name": "stdout",
     "output_type": "stream",
     "text": [
      "2022-04-09 11:34:55,609 - 1_lens_light_step_0 - INFO - 5000 Iterations: Performing update (Visualization, outputting samples, etc.).\n"
     ]
    },
    {
     "name": "stderr",
     "output_type": "stream",
     "text": [
      "\n",
      "867it [00:10, 79.43it/s, +30 | bound: 248 | nc: 1 | ncall: 8578 | eff(%): 10.457 | loglstar:   -inf < -36.948 <    inf | logz: -62.103 +/-  1.221 | dlogz:  0.001 >  0.039]"
     ]
    },
    {
     "name": "stdout",
     "output_type": "stream",
     "text": [
      "2022-04-09 11:35:11,924 - 1_lens_light_step_0 - INFO - 10000 Iterations: Performing update (Visualization, outputting samples, etc.).\n"
     ]
    },
    {
     "name": "stderr",
     "output_type": "stream",
     "text": [
      "\n",
      "867it [00:00, 594970.81it/s, +30 | bound: 248 | nc: 1 | ncall: 8578 | eff(%): 10.457 | loglstar:   -inf < -36.948 <    inf | logz: -62.103 +/-  1.221 | dlogz:  0.001 >  0.039]"
     ]
    },
    {
     "name": "stdout",
     "output_type": "stream",
     "text": [
      "2022-04-09 11:35:16,810 - 1_lens_light_step_0 - INFO - 15000 Iterations: Performing update (Visualization, outputting samples, etc.).\n"
     ]
    },
    {
     "name": "stderr",
     "output_type": "stream",
     "text": [
      "\n"
     ]
    },
    {
     "name": "stdout",
     "output_type": "stream",
     "text": [
      "2022-04-09 11:35:21,794 - 1_lens_light_step_0 - INFO - 20000 Iterations: Performing update (Visualization, outputting samples, etc.).\n",
      "2022-04-09 11:35:37,652 - 1_lens_light_step_0 - INFO - Removing zip file\n",
      "2022-04-09 11:35:37,752 - autoarray.dataset.imaging - INFO - IMAGING - Data masked, contains a total of 2896 image-pixels\n",
      "1_lens_light_step_1 lenspop_deeplenstronomy\n",
      "2022-04-09 11:35:37,897 - autofit.non_linear.abstract_search - INFO - Creating search\n",
      "2022-04-09 11:35:37,898 - 1_lens_light_step_1 - INFO - Starting search\n",
      "2022-04-09 11:35:38,618 - autolens.imaging.model.analysis - INFO - PRELOADS - Setting up preloads, may take a few minutes for fits using an inversion.\n",
      "2022-04-09 11:35:38,893 - 1_lens_light_step_1 - INFO - Saving path info\n",
      "2022-04-09 11:35:38,936 - 1_lens_light_step_1 - INFO - Not complete. Starting non-linear search.\n",
      "2022-04-09 11:35:38,938 - 1_lens_light_step_1 - INFO - number_of_cores == 8...\n",
      "2022-04-09 11:35:38,939 - 1_lens_light_step_1 - WARNING - ...using SneakyPool. This copies the likelihood functionto each process on instantiation to avoid copying multipletimes.\n",
      "2022-04-09 11:35:38,941 - process 0 - INFO - created\n",
      "2022-04-09 11:35:38,942 - process 1 - INFO - created\n",
      "2022-04-09 11:35:38,944 - process 2 - INFO - created\n",
      "2022-04-09 11:35:38,945 - process 3 - INFO - created\n",
      "2022-04-09 11:35:38,948 - process 4 - INFO - created\n",
      "2022-04-09 11:35:38,950 - process 5 - INFO - created\n",
      "2022-04-09 11:35:38,952 - process 6 - INFO - created\n",
      "2022-04-09 11:35:38,953 - process 7 - INFO - created\n",
      "2022-04-09 11:35:39,124 - autofit.non_linear.initializer - INFO - Generating initial samples of model, which are subject to prior limits and other constraints.\n",
      "2022-04-09 11:35:39,418 - 1_lens_light_step_1 - INFO - No Dynesty samples found, beginning new non-linear search. \n"
     ]
    },
    {
     "name": "stderr",
     "output_type": "stream",
     "text": [
      "642it [00:32, 19.82it/s, +30 | bound: 151 | nc: 1 | ncall: 5036 | eff(%): 13.344 | loglstar:   -inf < -2770.058 <    inf | logz: -2795.236 +/-  1.330 | dlogz:  1.099 >  0.039]"
     ]
    },
    {
     "name": "stdout",
     "output_type": "stream",
     "text": [
      "2022-04-09 11:36:11,868 - 1_lens_light_step_1 - INFO - 5000 Iterations: Performing update (Visualization, outputting samples, etc.).\n"
     ]
    },
    {
     "name": "stderr",
     "output_type": "stream",
     "text": [
      "\n",
      "1246it [00:39, 31.80it/s, +30 | bound: 316 | nc: 1 | ncall: 10041 | eff(%): 12.708 | loglstar:   -inf < -1816.034 <    inf | logz: -1860.970 +/-  1.911 | dlogz:  1.067 >  0.039]"
     ]
    },
    {
     "name": "stdout",
     "output_type": "stream",
     "text": [
      "2022-04-09 11:37:23,679 - 1_lens_light_step_1 - INFO - 10000 Iterations: Performing update (Visualization, outputting samples, etc.).\n"
     ]
    },
    {
     "name": "stderr",
     "output_type": "stream",
     "text": [
      "\n",
      "2064it [00:28, 72.18it/s, +30 | bound: 513 | nc: 1 | ncall: 15046 | eff(%): 13.917 | loglstar:   -inf < -1764.457 <    inf | logz: -1831.414 +/-  2.044 | dlogz:  0.016 >  0.039]"
     ]
    },
    {
     "name": "stdout",
     "output_type": "stream",
     "text": [
      "2022-04-09 11:38:16,270 - 1_lens_light_step_1 - INFO - 15000 Iterations: Performing update (Visualization, outputting samples, etc.).\n"
     ]
    },
    {
     "name": "stderr",
     "output_type": "stream",
     "text": [
      "\n",
      "2202it [00:06, 346.57it/s, +30 | bound: 545 | nc: 1 | ncall: 15871 | eff(%): 14.063 | loglstar:   -inf < -1762.420 <    inf | logz: -1831.353 +/-  2.010 | dlogz:  0.001 >  0.039]"
     ]
    },
    {
     "name": "stdout",
     "output_type": "stream",
     "text": [
      "2022-04-09 11:38:53,472 - 1_lens_light_step_1 - INFO - 20000 Iterations: Performing update (Visualization, outputting samples, etc.).\n"
     ]
    },
    {
     "name": "stderr",
     "output_type": "stream",
     "text": [
      "\n",
      "2202it [00:00, 1090033.92it/s, +30 | bound: 545 | nc: 1 | ncall: 15871 | eff(%): 14.063 | loglstar:   -inf < -1762.420 <    inf | logz: -1831.353 +/-  2.010 | dlogz:  0.001 >  0.039]"
     ]
    },
    {
     "name": "stdout",
     "output_type": "stream",
     "text": [
      "2022-04-09 11:39:19,992 - 1_lens_light_step_1 - INFO - 25000 Iterations: Performing update (Visualization, outputting samples, etc.).\n"
     ]
    },
    {
     "name": "stderr",
     "output_type": "stream",
     "text": [
      "\n"
     ]
    },
    {
     "name": "stdout",
     "output_type": "stream",
     "text": [
      "2022-04-09 11:39:43,741 - 1_lens_light_step_1 - INFO - 30000 Iterations: Performing update (Visualization, outputting samples, etc.).\n",
      "2022-04-09 11:40:20,994 - 1_lens_light_step_1 - INFO - Removing zip file\n",
      "Finding the lens object and building a lens-light mask...\n",
      "Found radius of 5.177 pixels, which is equal to 1.361 arcsec\n",
      "2022-04-09 11:40:21,555 - autofit.database.migration.migration - INFO - Database already at latest revision\n",
      "2022-04-09 11:40:21,557 - autoarray.dataset.imaging - INFO - IMAGING - Data masked, contains a total of 52 image-pixels\n",
      "Fit using Dynesty Static method...\n",
      "2_lens_light_step_0 lenspop_deeplenstronomy\n",
      "2022-04-09 11:40:21,671 - autofit.non_linear.abstract_search - INFO - Creating search\n",
      "2022-04-09 11:40:21,672 - 2_lens_light_step_0 - INFO - Starting search\n",
      "2022-04-09 11:40:22,573 - autolens.imaging.model.analysis - INFO - PRELOADS - Setting up preloads, may take a few minutes for fits using an inversion.\n",
      "2022-04-09 11:40:22,634 - 2_lens_light_step_0 - INFO - Saving path info\n",
      "2022-04-09 11:40:22,679 - 2_lens_light_step_0 - INFO - Not complete. Starting non-linear search.\n",
      "2022-04-09 11:40:22,681 - 2_lens_light_step_0 - INFO - number_of_cores == 8...\n",
      "2022-04-09 11:40:22,682 - 2_lens_light_step_0 - WARNING - ...using SneakyPool. This copies the likelihood functionto each process on instantiation to avoid copying multipletimes.\n",
      "2022-04-09 11:40:22,685 - process 0 - INFO - created\n",
      "2022-04-09 11:40:22,687 - process 1 - INFO - created\n",
      "2022-04-09 11:40:22,688 - process 2 - INFO - created\n",
      "2022-04-09 11:40:22,691 - process 3 - INFO - created\n",
      "2022-04-09 11:40:22,693 - process 4 - INFO - created\n",
      "2022-04-09 11:40:22,695 - process 5 - INFO - created\n",
      "2022-04-09 11:40:22,698 - process 6 - INFO - created\n",
      "2022-04-09 11:40:22,700 - process 7 - INFO - created\n",
      "2022-04-09 11:40:23,056 - autofit.non_linear.initializer - INFO - Generating initial samples of model, which are subject to prior limits and other constraints.\n",
      "2022-04-09 11:40:23,277 - 2_lens_light_step_0 - INFO - No Dynesty samples found, beginning new non-linear search. \n"
     ]
    },
    {
     "name": "stderr",
     "output_type": "stream",
     "text": [
      "576it [00:22, 25.40it/s, +30 | bound: 137 | nc: 1 | ncall: 5035 | eff(%): 12.036 | loglstar:   -inf < -19.851 <    inf | logz: -38.440 +/-  1.077 | dlogz:  0.024 >  0.039]"
     ]
    },
    {
     "name": "stdout",
     "output_type": "stream",
     "text": [
      "2022-04-09 11:40:46,019 - 2_lens_light_step_0 - INFO - 5000 Iterations: Performing update (Visualization, outputting samples, etc.).\n"
     ]
    },
    {
     "name": "stderr",
     "output_type": "stream",
     "text": [
      "\n",
      "682it [00:02, 322.11it/s, +30 | bound: 165 | nc: 1 | ncall: 5803 | eff(%): 12.270 | loglstar:   -inf < -19.294 <    inf | logz: -38.377 +/-  1.054 | dlogz:  0.001 >  0.039]"
     ]
    },
    {
     "name": "stdout",
     "output_type": "stream",
     "text": [
      "2022-04-09 11:40:53,308 - 2_lens_light_step_0 - INFO - 10000 Iterations: Performing update (Visualization, outputting samples, etc.).\n"
     ]
    },
    {
     "name": "stderr",
     "output_type": "stream",
     "text": [
      "\n",
      "682it [00:00, 242170.28it/s, +30 | bound: 165 | nc: 1 | ncall: 5803 | eff(%): 12.270 | loglstar:   -inf < -19.294 <    inf | logz: -38.377 +/-  1.054 | dlogz:  0.001 >  0.039]"
     ]
    },
    {
     "name": "stdout",
     "output_type": "stream",
     "text": [
      "2022-04-09 11:41:05,811 - 2_lens_light_step_0 - INFO - 15000 Iterations: Performing update (Visualization, outputting samples, etc.).\n"
     ]
    },
    {
     "name": "stderr",
     "output_type": "stream",
     "text": [
      "\n"
     ]
    },
    {
     "name": "stdout",
     "output_type": "stream",
     "text": [
      "2022-04-09 11:41:11,175 - 2_lens_light_step_0 - INFO - 20000 Iterations: Performing update (Visualization, outputting samples, etc.).\n",
      "2022-04-09 11:41:23,467 - 2_lens_light_step_0 - INFO - Removing zip file\n",
      "2022-04-09 11:41:23,625 - autoarray.dataset.imaging - INFO - IMAGING - Data masked, contains a total of 2896 image-pixels\n",
      "2_lens_light_step_1 lenspop_deeplenstronomy\n",
      "2022-04-09 11:41:23,802 - autofit.non_linear.abstract_search - INFO - Creating search\n",
      "2022-04-09 11:41:23,804 - 2_lens_light_step_1 - INFO - Starting search\n",
      "2022-04-09 11:41:24,590 - autolens.imaging.model.analysis - INFO - PRELOADS - Setting up preloads, may take a few minutes for fits using an inversion.\n",
      "2022-04-09 11:41:24,814 - 2_lens_light_step_1 - INFO - Saving path info\n",
      "2022-04-09 11:41:24,852 - 2_lens_light_step_1 - INFO - Not complete. Starting non-linear search.\n",
      "2022-04-09 11:41:24,853 - 2_lens_light_step_1 - INFO - number_of_cores == 8...\n",
      "2022-04-09 11:41:24,853 - 2_lens_light_step_1 - WARNING - ...using SneakyPool. This copies the likelihood functionto each process on instantiation to avoid copying multipletimes.\n",
      "2022-04-09 11:41:24,856 - process 0 - INFO - created\n",
      "2022-04-09 11:41:24,858 - process 1 - INFO - created\n",
      "2022-04-09 11:41:24,860 - process 2 - INFO - created\n",
      "2022-04-09 11:41:24,862 - process 3 - INFO - created\n",
      "2022-04-09 11:41:24,864 - process 4 - INFO - created\n",
      "2022-04-09 11:41:24,867 - process 5 - INFO - created\n",
      "2022-04-09 11:41:24,869 - process 6 - INFO - created\n",
      "2022-04-09 11:41:24,871 - process 7 - INFO - created\n",
      "2022-04-09 11:41:25,247 - autofit.non_linear.initializer - INFO - Generating initial samples of model, which are subject to prior limits and other constraints.\n",
      "2022-04-09 11:41:25,582 - 2_lens_light_step_1 - INFO - No Dynesty samples found, beginning new non-linear search. \n"
     ]
    },
    {
     "name": "stderr",
     "output_type": "stream",
     "text": [
      "627it [00:32, 19.54it/s, +30 | bound: 142 | nc: 1 | ncall: 5034 | eff(%): 13.051 | loglstar:   -inf < -14587.907 <    inf | logz: -14612.593 +/-  1.273 | dlogz:  1.099 >  0.039]"
     ]
    },
    {
     "name": "stdout",
     "output_type": "stream",
     "text": [
      "2022-04-09 11:41:57,737 - 2_lens_light_step_1 - INFO - 5000 Iterations: Performing update (Visualization, outputting samples, etc.).\n"
     ]
    },
    {
     "name": "stderr",
     "output_type": "stream",
     "text": [
      "\n",
      "1335it [00:39, 33.83it/s, +30 | bound: 330 | nc: 1 | ncall: 10036 | eff(%): 13.601 | loglstar:   -inf < -4817.199 <    inf | logz: -4865.100 +/-  1.880 | dlogz:  1.099 >  0.039]"
     ]
    },
    {
     "name": "stdout",
     "output_type": "stream",
     "text": [
      "2022-04-09 11:43:10,311 - 2_lens_light_step_1 - INFO - 10000 Iterations: Performing update (Visualization, outputting samples, etc.).\n"
     ]
    },
    {
     "name": "stderr",
     "output_type": "stream",
     "text": [
      "\n",
      "2147it [00:33, 63.96it/s, +30 | bound: 527 | nc: 1 | ncall: 15045 | eff(%): 14.470 | loglstar:   -inf < -4155.342 <    inf | logz: -4228.798 +/-  2.238 | dlogz:  0.522 >  0.039]"
     ]
    },
    {
     "name": "stdout",
     "output_type": "stream",
     "text": [
      "2022-04-09 11:44:09,658 - 2_lens_light_step_1 - INFO - 15000 Iterations: Performing update (Visualization, outputting samples, etc.).\n"
     ]
    },
    {
     "name": "stderr",
     "output_type": "stream",
     "text": [
      "\n",
      "2960it [00:26, 112.07it/s, +30 | bound: 729 | nc: 1 | ncall: 20049 | eff(%): 14.913 | loglstar:   -inf < -3972.355 <    inf | logz: -4072.740 +/-  2.453 | dlogz:  0.641 >  0.039]"
     ]
    },
    {
     "name": "stdout",
     "output_type": "stream",
     "text": [
      "2022-04-09 11:45:08,057 - 2_lens_light_step_1 - INFO - 20000 Iterations: Performing update (Visualization, outputting samples, etc.).\n"
     ]
    },
    {
     "name": "stderr",
     "output_type": "stream",
     "text": [
      "\n",
      "3715it [00:26, 138.12it/s, +30 | bound: 928 | nc: 1 | ncall: 25050 | eff(%): 14.950 | loglstar:   -inf < -3705.276 <    inf | logz: -3831.198 +/-  3.265 | dlogz:  1.086 >  0.039]\n"
     ]
    },
    {
     "name": "stdout",
     "output_type": "stream",
     "text": [
      "2022-04-09 11:46:16,519 - 2_lens_light_step_1 - INFO - 25000 Iterations: Performing update (Visualization, outputting samples, etc.).\n"
     ]
    },
    {
     "name": "stderr",
     "output_type": "stream",
     "text": [
      "4499it [00:27, 163.92it/s, +30 | bound: 1128 | nc: 1 | ncall: 30061 | eff(%): 15.066 | loglstar:   -inf < -3623.451 <    inf | logz: -3771.016 +/-  3.109 | dlogz:  0.033 >  0.039]\n"
     ]
    },
    {
     "name": "stdout",
     "output_type": "stream",
     "text": [
      "2022-04-09 11:47:05,351 - 2_lens_light_step_1 - INFO - 30000 Iterations: Performing update (Visualization, outputting samples, etc.).\n"
     ]
    },
    {
     "name": "stderr",
     "output_type": "stream",
     "text": [
      "4618it [00:06, 712.59it/s, +30 | bound: 1157 | nc: 1 | ncall: 30806 | eff(%): 15.088 | loglstar:   -inf < -3622.839 <    inf | logz: -3770.990 +/-  3.081 | dlogz:  0.001 >  0.039]"
     ]
    },
    {
     "name": "stdout",
     "output_type": "stream",
     "text": [
      "2022-04-09 11:47:46,397 - 2_lens_light_step_1 - INFO - 35000 Iterations: Performing update (Visualization, outputting samples, etc.).\n"
     ]
    },
    {
     "name": "stderr",
     "output_type": "stream",
     "text": [
      "\n",
      "4618it [00:00, 2178528.39it/s, +30 | bound: 1157 | nc: 1 | ncall: 30806 | eff(%): 15.088 | loglstar:   -inf < -3622.839 <    inf | logz: -3770.990 +/-  3.081 | dlogz:  0.001 >  0.039]"
     ]
    },
    {
     "name": "stdout",
     "output_type": "stream",
     "text": [
      "2022-04-09 11:48:08,122 - 2_lens_light_step_1 - INFO - 40000 Iterations: Performing update (Visualization, outputting samples, etc.).\n"
     ]
    },
    {
     "name": "stderr",
     "output_type": "stream",
     "text": [
      "\n"
     ]
    },
    {
     "name": "stdout",
     "output_type": "stream",
     "text": [
      "2022-04-09 11:48:30,237 - 2_lens_light_step_1 - INFO - 45000 Iterations: Performing update (Visualization, outputting samples, etc.).\n",
      "2022-04-09 11:49:17,699 - 2_lens_light_step_1 - INFO - Removing zip file\n",
      "Finding the lens object and building a lens-light mask...\n",
      "Found radius of 3.71 pixels, which is equal to 0.976 arcsec\n",
      "2022-04-09 11:49:22,353 - autofit.database.migration.migration - INFO - Database already at latest revision\n",
      "2022-04-09 11:49:22,358 - autoarray.dataset.imaging - INFO - IMAGING - Data masked, contains a total of 32 image-pixels\n",
      "Fit using Dynesty Static method...\n",
      "3_lens_light_step_0 lenspop_deeplenstronomy\n",
      "2022-04-09 11:49:22,577 - autofit.non_linear.abstract_search - INFO - Creating search\n",
      "2022-04-09 11:49:22,579 - 3_lens_light_step_0 - INFO - Starting search\n",
      "2022-04-09 11:49:24,321 - autolens.imaging.model.analysis - INFO - PRELOADS - Setting up preloads, may take a few minutes for fits using an inversion.\n",
      "2022-04-09 11:49:24,443 - 3_lens_light_step_0 - INFO - Saving path info\n",
      "2022-04-09 11:49:24,681 - 3_lens_light_step_0 - INFO - Not complete. Starting non-linear search.\n",
      "2022-04-09 11:49:24,684 - 3_lens_light_step_0 - INFO - number_of_cores == 8...\n",
      "2022-04-09 11:49:24,685 - 3_lens_light_step_0 - WARNING - ...using SneakyPool. This copies the likelihood functionto each process on instantiation to avoid copying multipletimes.\n",
      "2022-04-09 11:49:24,692 - process 0 - INFO - created\n",
      "2022-04-09 11:49:24,697 - process 1 - INFO - created\n",
      "2022-04-09 11:49:24,700 - process 2 - INFO - created\n",
      "2022-04-09 11:49:24,707 - process 3 - INFO - created\n",
      "2022-04-09 11:49:24,710 - process 4 - INFO - created\n",
      "2022-04-09 11:49:24,715 - process 5 - INFO - created\n",
      "2022-04-09 11:49:24,719 - process 6 - INFO - created\n",
      "2022-04-09 11:49:24,725 - process 7 - INFO - created\n",
      "2022-04-09 11:49:25,456 - autofit.non_linear.initializer - INFO - Generating initial samples of model, which are subject to prior limits and other constraints.\n",
      "2022-04-09 11:49:25,723 - 3_lens_light_step_0 - INFO - No Dynesty samples found, beginning new non-linear search. \n"
     ]
    },
    {
     "name": "stderr",
     "output_type": "stream",
     "text": [
      "500it [00:19, 25.86it/s, +30 | bound: 121 | nc: 1 | ncall: 5053 | eff(%): 10.489 | loglstar:   -inf < -47.962 <    inf | logz: -68.475 +/-  1.498 | dlogz:  1.092 >  0.039]  "
     ]
    },
    {
     "name": "stdout",
     "output_type": "stream",
     "text": [
      "2022-04-09 11:49:45,104 - 3_lens_light_step_0 - INFO - 5000 Iterations: Performing update (Visualization, outputting samples, etc.).\n"
     ]
    },
    {
     "name": "stderr",
     "output_type": "stream",
     "text": [
      "\n",
      "1020it [00:09, 106.77it/s, +30 | bound: 249 | nc: 1 | ncall: 8386 | eff(%): 12.521 | loglstar:   -inf < -31.455 <    inf | logz: -61.628 +/-  1.282 | dlogz:  0.001 >  0.039]"
     ]
    },
    {
     "name": "stdout",
     "output_type": "stream",
     "text": [
      "2022-04-09 11:50:26,979 - 3_lens_light_step_0 - INFO - 10000 Iterations: Performing update (Visualization, outputting samples, etc.).\n"
     ]
    },
    {
     "name": "stderr",
     "output_type": "stream",
     "text": [
      "\n",
      "1020it [00:00, 425478.87it/s, +30 | bound: 249 | nc: 1 | ncall: 8386 | eff(%): 12.521 | loglstar:   -inf < -31.455 <    inf | logz: -61.628 +/-  1.282 | dlogz:  0.001 >  0.039]"
     ]
    },
    {
     "name": "stdout",
     "output_type": "stream",
     "text": [
      "2022-04-09 11:50:31,842 - 3_lens_light_step_0 - INFO - 15000 Iterations: Performing update (Visualization, outputting samples, etc.).\n"
     ]
    },
    {
     "name": "stderr",
     "output_type": "stream",
     "text": [
      "\n"
     ]
    },
    {
     "name": "stdout",
     "output_type": "stream",
     "text": [
      "2022-04-09 11:50:36,902 - 3_lens_light_step_0 - INFO - 20000 Iterations: Performing update (Visualization, outputting samples, etc.).\n",
      "2022-04-09 11:50:50,421 - 3_lens_light_step_0 - INFO - Removing zip file\n",
      "2022-04-09 11:50:50,704 - autoarray.dataset.imaging - INFO - IMAGING - Data masked, contains a total of 2896 image-pixels\n",
      "3_lens_light_step_1 lenspop_deeplenstronomy\n",
      "2022-04-09 11:50:50,843 - autofit.non_linear.abstract_search - INFO - Creating search\n",
      "2022-04-09 11:50:50,844 - 3_lens_light_step_1 - INFO - Starting search\n",
      "2022-04-09 11:50:51,592 - autolens.imaging.model.analysis - INFO - PRELOADS - Setting up preloads, may take a few minutes for fits using an inversion.\n",
      "2022-04-09 11:50:51,873 - 3_lens_light_step_1 - INFO - Saving path info\n",
      "2022-04-09 11:50:52,063 - 3_lens_light_step_1 - INFO - Not complete. Starting non-linear search.\n",
      "2022-04-09 11:50:52,065 - 3_lens_light_step_1 - INFO - number_of_cores == 8...\n",
      "2022-04-09 11:50:52,065 - 3_lens_light_step_1 - WARNING - ...using SneakyPool. This copies the likelihood functionto each process on instantiation to avoid copying multipletimes.\n",
      "2022-04-09 11:50:52,068 - process 0 - INFO - created\n",
      "2022-04-09 11:50:52,070 - process 1 - INFO - created\n",
      "2022-04-09 11:50:52,072 - process 2 - INFO - created\n",
      "2022-04-09 11:50:52,074 - process 3 - INFO - created\n",
      "2022-04-09 11:50:52,076 - process 4 - INFO - created\n",
      "2022-04-09 11:50:52,078 - process 5 - INFO - created\n",
      "2022-04-09 11:50:52,080 - process 6 - INFO - created\n",
      "2022-04-09 11:50:52,082 - process 7 - INFO - created\n",
      "2022-04-09 11:50:52,603 - autofit.non_linear.initializer - INFO - Generating initial samples of model, which are subject to prior limits and other constraints.\n",
      "2022-04-09 11:50:53,069 - 3_lens_light_step_1 - INFO - No Dynesty samples found, beginning new non-linear search. \n"
     ]
    },
    {
     "name": "stderr",
     "output_type": "stream",
     "text": [
      "490it [00:30, 16.07it/s, +30 | bound: 132 | nc: 1 | ncall: 5032 | eff(%): 10.334 | loglstar:   -inf < -10328.823 <    inf | logz: -10349.018 +/-    nan | dlogz:  1.099 >  0.039]"
     ]
    },
    {
     "name": "stdout",
     "output_type": "stream",
     "text": [
      "2022-04-09 11:51:23,606 - 3_lens_light_step_1 - INFO - 5000 Iterations: Performing update (Visualization, outputting samples, etc.).\n"
     ]
    },
    {
     "name": "stderr",
     "output_type": "stream",
     "text": [
      "\n",
      "1040it [00:40, 25.49it/s, +30 | bound: 302 | nc: 1 | ncall: 10038 | eff(%): 10.659 | loglstar:   -inf < -3375.170 <    inf | logz: -3413.398 +/-    nan | dlogz:  1.099 >  0.039]"
     ]
    },
    {
     "name": "stdout",
     "output_type": "stream",
     "text": [
      "2022-04-09 11:52:33,571 - 3_lens_light_step_1 - INFO - 10000 Iterations: Performing update (Visualization, outputting samples, etc.).\n"
     ]
    },
    {
     "name": "stderr",
     "output_type": "stream",
     "text": [
      "\n",
      "1660it [00:45, 36.60it/s, +30 | bound: 479 | nc: 1 | ncall: 15041 | eff(%): 11.236 | loglstar:   -inf < -3292.324 <    inf | logz: -3348.101 +/-    nan | dlogz:  0.117 >  0.039]"
     ]
    },
    {
     "name": "stdout",
     "output_type": "stream",
     "text": [
      "2022-04-09 11:53:42,693 - 3_lens_light_step_1 - INFO - 15000 Iterations: Performing update (Visualization, outputting samples, etc.).\n"
     ]
    },
    {
     "name": "stderr",
     "output_type": "stream",
     "text": [
      "\n",
      "1908it [00:08, 229.12it/s, +30 | bound: 539 | nc: 1 | ncall: 16608 | eff(%): 11.669 | loglstar:   -inf < -3288.388 <    inf | logz: -3347.675 +/-    nan | dlogz:  0.001 >  0.039]"
     ]
    },
    {
     "name": "stdout",
     "output_type": "stream",
     "text": [
      "2022-04-09 11:54:16,625 - 3_lens_light_step_1 - INFO - 20000 Iterations: Performing update (Visualization, outputting samples, etc.).\n"
     ]
    },
    {
     "name": "stderr",
     "output_type": "stream",
     "text": [
      "\n",
      "1908it [00:00, 991910.27it/s, +30 | bound: 539 | nc: 1 | ncall: 16608 | eff(%): 11.669 | loglstar:   -inf < -3288.388 <    inf | logz: -3347.675 +/-    nan | dlogz:  0.001 >  0.039]"
     ]
    },
    {
     "name": "stdout",
     "output_type": "stream",
     "text": [
      "2022-04-09 11:54:52,815 - 3_lens_light_step_1 - INFO - 25000 Iterations: Performing update (Visualization, outputting samples, etc.).\n"
     ]
    },
    {
     "name": "stderr",
     "output_type": "stream",
     "text": [
      "\n"
     ]
    },
    {
     "name": "stdout",
     "output_type": "stream",
     "text": [
      "2022-04-09 11:55:25,116 - 3_lens_light_step_1 - INFO - 30000 Iterations: Performing update (Visualization, outputting samples, etc.).\n",
      "2022-04-09 11:56:56,767 - 3_lens_light_step_1 - INFO - Removing zip file\n",
      "Finding the lens object and building a lens-light mask...\n",
      "Found radius of 6.16 pixels, which is equal to 1.62 arcsec\n",
      "2022-04-09 11:56:58,947 - autofit.database.migration.migration - INFO - Database already at latest revision\n",
      "2022-04-09 11:56:58,952 - autoarray.dataset.imaging - INFO - IMAGING - Data masked, contains a total of 76 image-pixels\n",
      "Fit using Dynesty Static method...\n",
      "4_lens_light_step_0 lenspop_deeplenstronomy\n",
      "2022-04-09 11:56:59,228 - autofit.non_linear.abstract_search - INFO - Creating search\n",
      "2022-04-09 11:56:59,231 - 4_lens_light_step_0 - INFO - Starting search\n",
      "2022-04-09 11:57:00,792 - autolens.imaging.model.analysis - INFO - PRELOADS - Setting up preloads, may take a few minutes for fits using an inversion.\n",
      "2022-04-09 11:57:00,925 - 4_lens_light_step_0 - INFO - Saving path info\n",
      "2022-04-09 11:57:01,351 - 4_lens_light_step_0 - INFO - Not complete. Starting non-linear search.\n",
      "2022-04-09 11:57:01,354 - 4_lens_light_step_0 - INFO - number_of_cores == 8...\n",
      "2022-04-09 11:57:01,356 - 4_lens_light_step_0 - WARNING - ...using SneakyPool. This copies the likelihood functionto each process on instantiation to avoid copying multipletimes.\n",
      "2022-04-09 11:57:01,361 - process 0 - INFO - created\n",
      "2022-04-09 11:57:01,366 - process 1 - INFO - created\n",
      "2022-04-09 11:57:01,370 - process 2 - INFO - created\n",
      "2022-04-09 11:57:01,374 - process 3 - INFO - created\n",
      "2022-04-09 11:57:01,378 - process 4 - INFO - created\n",
      "2022-04-09 11:57:01,383 - process 5 - INFO - created\n",
      "2022-04-09 11:57:01,387 - process 6 - INFO - created\n",
      "2022-04-09 11:57:01,392 - process 7 - INFO - created\n",
      "2022-04-09 11:57:02,453 - autofit.non_linear.initializer - INFO - Generating initial samples of model, which are subject to prior limits and other constraints.\n",
      "2022-04-09 11:57:02,801 - 4_lens_light_step_0 - INFO - No Dynesty samples found, beginning new non-linear search. \n"
     ]
    },
    {
     "name": "stderr",
     "output_type": "stream",
     "text": [
      "631it [00:19, 32.44it/s, +30 | bound: 145 | nc: 1 | ncall: 5032 | eff(%): 13.136 | loglstar:   -inf < 15.123 <    inf | logz: -6.882 +/-  0.813 | dlogz:  0.113 >  0.039]"
     ]
    },
    {
     "name": "stdout",
     "output_type": "stream",
     "text": [
      "2022-04-09 11:57:22,344 - 4_lens_light_step_0 - INFO - 5000 Iterations: Performing update (Visualization, outputting samples, etc.).\n"
     ]
    },
    {
     "name": "stderr",
     "output_type": "stream",
     "text": [
      "\n",
      "829it [00:03, 223.68it/s, +30 | bound: 194 | nc: 1 | ncall: 6309 | eff(%): 13.615 | loglstar:   -inf < 17.243 <    inf | logz: -6.674 +/-  0.393 | dlogz:  0.001 >  0.039]"
     ]
    },
    {
     "name": "stdout",
     "output_type": "stream",
     "text": [
      "2022-04-09 11:57:31,346 - 4_lens_light_step_0 - INFO - 10000 Iterations: Performing update (Visualization, outputting samples, etc.).\n"
     ]
    },
    {
     "name": "stderr",
     "output_type": "stream",
     "text": [
      "\n",
      "829it [00:00, 402020.81it/s, +30 | bound: 194 | nc: 1 | ncall: 6309 | eff(%): 13.615 | loglstar:   -inf < 17.243 <    inf | logz: -6.674 +/-  0.393 | dlogz:  0.001 >  0.039]"
     ]
    },
    {
     "name": "stdout",
     "output_type": "stream",
     "text": [
      "2022-04-09 11:57:36,465 - 4_lens_light_step_0 - INFO - 15000 Iterations: Performing update (Visualization, outputting samples, etc.).\n"
     ]
    },
    {
     "name": "stderr",
     "output_type": "stream",
     "text": [
      "\n"
     ]
    },
    {
     "name": "stdout",
     "output_type": "stream",
     "text": [
      "2022-04-09 11:57:41,684 - 4_lens_light_step_0 - INFO - 20000 Iterations: Performing update (Visualization, outputting samples, etc.).\n",
      "2022-04-09 11:57:53,853 - 4_lens_light_step_0 - INFO - Removing zip file\n",
      "2022-04-09 11:57:54,101 - autoarray.dataset.imaging - INFO - IMAGING - Data masked, contains a total of 2896 image-pixels\n",
      "4_lens_light_step_1 lenspop_deeplenstronomy\n",
      "2022-04-09 11:57:54,232 - autofit.non_linear.abstract_search - INFO - Creating search\n",
      "2022-04-09 11:57:54,234 - 4_lens_light_step_1 - INFO - Starting search\n",
      "2022-04-09 11:57:54,943 - autolens.imaging.model.analysis - INFO - PRELOADS - Setting up preloads, may take a few minutes for fits using an inversion.\n",
      "2022-04-09 11:57:55,236 - 4_lens_light_step_1 - INFO - Saving path info\n",
      "2022-04-09 11:57:55,284 - 4_lens_light_step_1 - INFO - Not complete. Starting non-linear search.\n",
      "2022-04-09 11:57:55,285 - 4_lens_light_step_1 - INFO - number_of_cores == 8...\n",
      "2022-04-09 11:57:55,285 - 4_lens_light_step_1 - WARNING - ...using SneakyPool. This copies the likelihood functionto each process on instantiation to avoid copying multipletimes.\n",
      "2022-04-09 11:57:55,288 - process 0 - INFO - created\n",
      "2022-04-09 11:57:55,290 - process 1 - INFO - created\n",
      "2022-04-09 11:57:55,292 - process 2 - INFO - created\n",
      "2022-04-09 11:57:55,294 - process 3 - INFO - created\n",
      "2022-04-09 11:57:55,297 - process 4 - INFO - created\n",
      "2022-04-09 11:57:55,299 - process 5 - INFO - created\n",
      "2022-04-09 11:57:55,303 - process 6 - INFO - created\n",
      "2022-04-09 11:57:55,305 - process 7 - INFO - created\n",
      "2022-04-09 11:57:55,916 - autofit.non_linear.initializer - INFO - Generating initial samples of model, which are subject to prior limits and other constraints.\n",
      "2022-04-09 11:57:56,379 - 4_lens_light_step_1 - INFO - No Dynesty samples found, beginning new non-linear search. \n"
     ]
    },
    {
     "name": "stderr",
     "output_type": "stream",
     "text": [
      "514it [00:31, 16.47it/s, +30 | bound: 138 | nc: 1 | ncall: 5034 | eff(%): 10.807 | loglstar:   -inf < -4226.947 <    inf | logz: -4247.928 +/-    nan | dlogz:  1.099 >  0.039]"
     ]
    },
    {
     "name": "stdout",
     "output_type": "stream",
     "text": [
      "2022-04-09 11:58:27,735 - 4_lens_light_step_1 - INFO - 5000 Iterations: Performing update (Visualization, outputting samples, etc.).\n"
     ]
    },
    {
     "name": "stderr",
     "output_type": "stream",
     "text": [
      "\n",
      "956it [00:25, 37.14it/s, +30 | bound: 296 | nc: 1 | ncall: 10041 | eff(%):  9.820 | loglstar:   -inf < -735.190 <    inf | logz: -770.664 +/-  0.096 | dlogz:  1.099 >  0.039]"
     ]
    },
    {
     "name": "stdout",
     "output_type": "stream",
     "text": [
      "2022-04-09 11:59:29,185 - 4_lens_light_step_1 - INFO - 10000 Iterations: Performing update (Visualization, outputting samples, etc.).\n"
     ]
    },
    {
     "name": "stderr",
     "output_type": "stream",
     "text": [
      "\n",
      "1681it [00:26, 63.22it/s, +30 | bound: 487 | nc: 1 | ncall: 15045 | eff(%): 11.373 | loglstar:   -inf < -587.741 <    inf | logz: -645.990 +/-  1.706 | dlogz:  0.553 >  0.039]"
     ]
    },
    {
     "name": "stdout",
     "output_type": "stream",
     "text": [
      "2022-04-09 12:00:15,242 - 4_lens_light_step_1 - INFO - 15000 Iterations: Performing update (Visualization, outputting samples, etc.).\n"
     ]
    },
    {
     "name": "stderr",
     "output_type": "stream",
     "text": [
      "\n",
      "2093it [00:16, 124.99it/s, +30 | bound: 585 | nc: 1 | ncall: 17591 | eff(%): 12.069 | loglstar:   -inf < -576.951 <    inf | logz: -642.313 +/-  1.182 | dlogz:  0.001 >  0.039]"
     ]
    },
    {
     "name": "stdout",
     "output_type": "stream",
     "text": [
      "2022-04-09 12:01:00,756 - 4_lens_light_step_1 - INFO - 20000 Iterations: Performing update (Visualization, outputting samples, etc.).\n"
     ]
    },
    {
     "name": "stderr",
     "output_type": "stream",
     "text": [
      "\n",
      "2093it [00:00, 958789.68it/s, +30 | bound: 585 | nc: 1 | ncall: 17591 | eff(%): 12.069 | loglstar:   -inf < -576.951 <    inf | logz: -642.313 +/-  1.182 | dlogz:  0.001 >  0.039]"
     ]
    },
    {
     "name": "stdout",
     "output_type": "stream",
     "text": [
      "2022-04-09 12:01:28,985 - 4_lens_light_step_1 - INFO - 25000 Iterations: Performing update (Visualization, outputting samples, etc.).\n"
     ]
    },
    {
     "name": "stderr",
     "output_type": "stream",
     "text": [
      "\n"
     ]
    },
    {
     "name": "stdout",
     "output_type": "stream",
     "text": [
      "2022-04-09 12:01:53,817 - 4_lens_light_step_1 - INFO - 30000 Iterations: Performing update (Visualization, outputting samples, etc.).\n",
      "2022-04-09 12:03:41,516 - 4_lens_light_step_1 - INFO - Removing zip file\n",
      "Finding the lens object and building a lens-light mask...\n",
      "Found radius of 9.18 pixels, which is equal to 2.414 arcsec\n",
      "2022-04-09 12:03:42,865 - autofit.database.migration.migration - INFO - Database already at latest revision\n",
      "2022-04-09 12:03:42,867 - autoarray.dataset.imaging - INFO - IMAGING - Data masked, contains a total of 164 image-pixels\n",
      "Fit using Dynesty Static method...\n",
      "5_lens_light_step_0 lenspop_deeplenstronomy\n",
      "2022-04-09 12:03:42,981 - autofit.non_linear.abstract_search - INFO - Creating search\n",
      "2022-04-09 12:03:42,984 - 5_lens_light_step_0 - INFO - Starting search\n",
      "2022-04-09 12:03:43,671 - autolens.imaging.model.analysis - INFO - PRELOADS - Setting up preloads, may take a few minutes for fits using an inversion.\n",
      "2022-04-09 12:03:43,733 - 5_lens_light_step_0 - INFO - Saving path info\n",
      "2022-04-09 12:03:44,001 - 5_lens_light_step_0 - INFO - Not complete. Starting non-linear search.\n",
      "2022-04-09 12:03:44,003 - 5_lens_light_step_0 - INFO - number_of_cores == 8...\n",
      "2022-04-09 12:03:44,003 - 5_lens_light_step_0 - WARNING - ...using SneakyPool. This copies the likelihood functionto each process on instantiation to avoid copying multipletimes.\n",
      "2022-04-09 12:03:44,007 - process 0 - INFO - created\n",
      "2022-04-09 12:03:44,008 - process 1 - INFO - created\n",
      "2022-04-09 12:03:44,010 - process 2 - INFO - created\n",
      "2022-04-09 12:03:44,012 - process 3 - INFO - created\n",
      "2022-04-09 12:03:44,015 - process 4 - INFO - created\n",
      "2022-04-09 12:03:44,018 - process 5 - INFO - created\n",
      "2022-04-09 12:03:44,020 - process 6 - INFO - created\n",
      "2022-04-09 12:03:44,023 - process 7 - INFO - created\n",
      "2022-04-09 12:03:44,827 - autofit.non_linear.initializer - INFO - Generating initial samples of model, which are subject to prior limits and other constraints.\n",
      "2022-04-09 12:03:45,025 - 5_lens_light_step_0 - INFO - No Dynesty samples found, beginning new non-linear search. \n"
     ]
    },
    {
     "name": "stderr",
     "output_type": "stream",
     "text": [
      "653it [00:23, 28.01it/s, +30 | bound: 149 | nc: 1 | ncall: 5032 | eff(%): 13.573 | loglstar:   -inf < -418.602 <    inf | logz: -444.129 +/-  1.138 | dlogz:  1.091 >  0.039]\n"
     ]
    },
    {
     "name": "stdout",
     "output_type": "stream",
     "text": [
      "2022-04-09 12:04:08,463 - 5_lens_light_step_0 - INFO - 5000 Iterations: Performing update (Visualization, outputting samples, etc.).\n"
     ]
    },
    {
     "name": "stderr",
     "output_type": "stream",
     "text": [
      "1386it [00:14, 96.57it/s, +30 | bound: 339 | nc: 1 | ncall: 10036 | eff(%): 14.109 | loglstar:   -inf < -343.361 <    inf | logz: -387.855 +/-  1.400 | dlogz:  0.012 >  0.039]\n"
     ]
    },
    {
     "name": "stdout",
     "output_type": "stream",
     "text": [
      "2022-04-09 12:04:28,438 - 5_lens_light_step_0 - INFO - 10000 Iterations: Performing update (Visualization, outputting samples, etc.).\n"
     ]
    },
    {
     "name": "stderr",
     "output_type": "stream",
     "text": [
      "1620it [00:04, 344.24it/s, +30 | bound: 400 | nc: 1 | ncall: 11682 | eff(%): 14.124 | loglstar:   -inf < -337.914 <    inf | logz: -387.782 +/-  1.358 | dlogz:  0.001 >  0.039]"
     ]
    },
    {
     "name": "stdout",
     "output_type": "stream",
     "text": [
      "2022-04-09 12:04:38,673 - 5_lens_light_step_0 - INFO - 15000 Iterations: Performing update (Visualization, outputting samples, etc.).\n"
     ]
    },
    {
     "name": "stderr",
     "output_type": "stream",
     "text": [
      "\n",
      "1620it [00:00, 692637.36it/s, +30 | bound: 400 | nc: 1 | ncall: 11682 | eff(%): 14.124 | loglstar:   -inf < -337.914 <    inf | logz: -387.782 +/-  1.358 | dlogz:  0.001 >  0.039]"
     ]
    },
    {
     "name": "stdout",
     "output_type": "stream",
     "text": [
      "2022-04-09 12:04:44,177 - 5_lens_light_step_0 - INFO - 20000 Iterations: Performing update (Visualization, outputting samples, etc.).\n"
     ]
    },
    {
     "name": "stderr",
     "output_type": "stream",
     "text": [
      "\n"
     ]
    },
    {
     "name": "stdout",
     "output_type": "stream",
     "text": [
      "2022-04-09 12:04:49,959 - 5_lens_light_step_0 - INFO - 25000 Iterations: Performing update (Visualization, outputting samples, etc.).\n",
      "2022-04-09 12:05:07,630 - 5_lens_light_step_0 - INFO - Removing zip file\n",
      "2022-04-09 12:05:08,255 - autoarray.dataset.imaging - INFO - IMAGING - Data masked, contains a total of 2896 image-pixels\n",
      "5_lens_light_step_1 lenspop_deeplenstronomy\n",
      "2022-04-09 12:05:08,642 - autofit.non_linear.abstract_search - INFO - Creating search\n",
      "2022-04-09 12:05:08,645 - 5_lens_light_step_1 - INFO - Starting search\n",
      "2022-04-09 12:05:10,219 - autolens.imaging.model.analysis - INFO - PRELOADS - Setting up preloads, may take a few minutes for fits using an inversion.\n",
      "2022-04-09 12:05:10,733 - 5_lens_light_step_1 - INFO - Saving path info\n",
      "2022-04-09 12:05:10,847 - 5_lens_light_step_1 - INFO - Not complete. Starting non-linear search.\n",
      "2022-04-09 12:05:10,850 - 5_lens_light_step_1 - INFO - number_of_cores == 8...\n",
      "2022-04-09 12:05:10,851 - 5_lens_light_step_1 - WARNING - ...using SneakyPool. This copies the likelihood functionto each process on instantiation to avoid copying multipletimes.\n",
      "2022-04-09 12:05:10,857 - process 0 - INFO - created\n",
      "2022-04-09 12:05:10,862 - process 1 - INFO - created\n",
      "2022-04-09 12:05:10,868 - process 2 - INFO - created\n",
      "2022-04-09 12:05:10,873 - process 3 - INFO - created\n",
      "2022-04-09 12:05:10,878 - process 4 - INFO - created\n",
      "2022-04-09 12:05:10,886 - process 5 - INFO - created\n",
      "2022-04-09 12:05:10,890 - process 6 - INFO - created\n",
      "2022-04-09 12:05:10,896 - process 7 - INFO - created\n",
      "2022-04-09 12:05:12,025 - autofit.non_linear.initializer - INFO - Generating initial samples of model, which are subject to prior limits and other constraints.\n",
      "2022-04-09 12:05:12,670 - 5_lens_light_step_1 - INFO - No Dynesty samples found, beginning new non-linear search. \n"
     ]
    },
    {
     "name": "stderr",
     "output_type": "stream",
     "text": [
      "495it [00:44, 11.19it/s, +30 | bound: 121 | nc: 1 | ncall: 5051 | eff(%): 10.394 | loglstar:   -inf < -33578.846 <    inf | logz: -33599.204 +/-    nan | dlogz:  1.099 >  0.039]"
     ]
    },
    {
     "name": "stdout",
     "output_type": "stream",
     "text": [
      "2022-04-09 12:05:57,003 - 5_lens_light_step_1 - INFO - 5000 Iterations: Performing update (Visualization, outputting samples, etc.).\n"
     ]
    },
    {
     "name": "stderr",
     "output_type": "stream",
     "text": [
      "\n",
      "1147it [00:37, 30.58it/s, +30 | bound: 296 | nc: 1 | ncall: 10058 | eff(%): 11.702 | loglstar:   -inf < -22972.329 <    inf | logz: -23014.066 +/-    nan | dlogz:  1.099 >  0.039]"
     ]
    },
    {
     "name": "stdout",
     "output_type": "stream",
     "text": [
      "2022-04-09 12:07:05,482 - 5_lens_light_step_1 - INFO - 10000 Iterations: Performing update (Visualization, outputting samples, etc.).\n"
     ]
    },
    {
     "name": "stderr",
     "output_type": "stream",
     "text": [
      "\n",
      "1919it [00:25, 76.48it/s, +30 | bound: 483 | nc: 1 | ncall: 15061 | eff(%): 12.941 | loglstar:   -inf < -21727.662 <    inf | logz: -21794.713 +/-    nan | dlogz:  1.099 >  0.039]"
     ]
    },
    {
     "name": "stdout",
     "output_type": "stream",
     "text": [
      "2022-04-09 12:08:01,371 - 5_lens_light_step_1 - INFO - 15000 Iterations: Performing update (Visualization, outputting samples, etc.).\n"
     ]
    },
    {
     "name": "stderr",
     "output_type": "stream",
     "text": [
      "\n",
      "2721it [00:33, 80.08it/s, +30 | bound: 677 | nc: 1 | ncall: 20062 | eff(%): 13.712 | loglstar:   -inf < -21254.858 <    inf | logz: -21348.135 +/-    nan | dlogz:  1.052 >  0.039]"
     ]
    },
    {
     "name": "stdout",
     "output_type": "stream",
     "text": [
      "2022-04-09 12:09:05,727 - 5_lens_light_step_1 - INFO - 20000 Iterations: Performing update (Visualization, outputting samples, etc.).\n"
     ]
    },
    {
     "name": "stderr",
     "output_type": "stream",
     "text": [
      "\n",
      "3488it [00:26, 130.29it/s, +30 | bound: 874 | nc: 1 | ncall: 25067 | eff(%): 14.034 | loglstar:   -inf < -20694.298 <    inf | logz: -20812.796 +/-    nan | dlogz:  1.099 >  0.039]"
     ]
    },
    {
     "name": "stdout",
     "output_type": "stream",
     "text": [
      "2022-04-09 12:09:58,942 - 5_lens_light_step_1 - INFO - 25000 Iterations: Performing update (Visualization, outputting samples, etc.).\n"
     ]
    },
    {
     "name": "stderr",
     "output_type": "stream",
     "text": [
      "\n",
      "4269it [00:34, 122.49it/s, +30 | bound: 1071 | nc: 1 | ncall: 30068 | eff(%): 14.298 | loglstar:   -inf < -19524.869 <    inf | logz: -19668.975 +/-    nan | dlogz:  1.098 >  0.039]"
     ]
    },
    {
     "name": "stdout",
     "output_type": "stream",
     "text": [
      "2022-04-09 12:11:02,934 - 5_lens_light_step_1 - INFO - 30000 Iterations: Performing update (Visualization, outputting samples, etc.).\n"
     ]
    },
    {
     "name": "stderr",
     "output_type": "stream",
     "text": [
      "\n",
      "4703it [00:14, 319.04it/s, bound: 1184 | nc: 5 | ncall: 33031 | eff(%): 14.238 | loglstar:   -inf < -19476.627 <    inf | logz: -19631.250 +/-    nan | dlogz:  6.495 >  0.039]  \n",
      "0it [00:00, ?it/s]\n",
      "0it [00:00, ?it/s]\n",
      "0it [00:00, ?it/s]\n",
      "0it [00:00, ?it/s]\n",
      "0it [00:00, ?it/s]\n",
      "0it [00:00, ?it/s]\n",
      "0it [00:00, ?it/s]\n",
      "0it [00:00, ?it/s]\n",
      "0it [00:00, ?it/s]\n"
     ]
    },
    {
     "name": "stdout",
     "output_type": "stream",
     "text": [
      "2022-04-09 12:11:46,520 - 5_lens_light_step_1 - INFO - 35000 Iterations: Performing update (Visualization, outputting samples, etc.).\n"
     ]
    },
    {
     "name": "stderr",
     "output_type": "stream",
     "text": [
      "0it [00:00, ?it/s]\n",
      "0it [00:00, ?it/s]\n",
      "0it [00:00, ?it/s]\n",
      "0it [00:00, ?it/s]\n",
      "0it [00:00, ?it/s]\n",
      "0it [00:00, ?it/s]\n",
      "0it [00:00, ?it/s]\n",
      "0it [00:00, ?it/s]\n",
      "0it [00:00, ?it/s]\n",
      "0it [00:00, ?it/s]\n"
     ]
    },
    {
     "name": "stdout",
     "output_type": "stream",
     "text": [
      "2022-04-09 12:12:18,232 - 5_lens_light_step_1 - INFO - 40000 Iterations: Performing update (Visualization, outputting samples, etc.).\n",
      "2022-04-09 12:12:38,519 - 5_lens_light_step_1 - INFO - 45000 Iterations: Performing update (Visualization, outputting samples, etc.).\n",
      "2022-04-09 12:15:36,233 - 5_lens_light_step_1 - INFO - Removing zip file\n",
      "Finding the lens object and building a lens-light mask...\n",
      "Found radius of 13.121 pixels, which is equal to 3.451 arcsec\n",
      "2022-04-09 12:15:40,535 - autofit.database.migration.migration - INFO - Database already at latest revision\n",
      "2022-04-09 12:15:40,541 - autoarray.dataset.imaging - INFO - IMAGING - Data masked, contains a total of 332 image-pixels\n",
      "Fit using Dynesty Static method...\n",
      "6_lens_light_step_0 lenspop_deeplenstronomy\n",
      "2022-04-09 12:15:40,804 - autofit.non_linear.abstract_search - INFO - Creating search\n",
      "2022-04-09 12:15:40,814 - 6_lens_light_step_0 - INFO - Starting search\n",
      "2022-04-09 12:15:42,381 - autolens.imaging.model.analysis - INFO - PRELOADS - Setting up preloads, may take a few minutes for fits using an inversion.\n",
      "2022-04-09 12:15:42,560 - 6_lens_light_step_0 - INFO - Saving path info\n",
      "2022-04-09 12:15:42,837 - 6_lens_light_step_0 - INFO - Not complete. Starting non-linear search.\n",
      "2022-04-09 12:15:42,839 - 6_lens_light_step_0 - INFO - number_of_cores == 8...\n",
      "2022-04-09 12:15:42,841 - 6_lens_light_step_0 - WARNING - ...using SneakyPool. This copies the likelihood functionto each process on instantiation to avoid copying multipletimes.\n",
      "2022-04-09 12:15:42,850 - process 0 - INFO - created\n",
      "2022-04-09 12:15:42,855 - process 1 - INFO - created\n",
      "2022-04-09 12:15:42,860 - process 2 - INFO - created\n",
      "2022-04-09 12:15:42,866 - process 3 - INFO - created\n",
      "2022-04-09 12:15:42,870 - process 4 - INFO - created\n",
      "2022-04-09 12:15:42,876 - process 5 - INFO - created\n",
      "2022-04-09 12:15:42,881 - process 6 - INFO - created\n",
      "2022-04-09 12:15:42,886 - process 7 - INFO - created\n",
      "2022-04-09 12:15:44,471 - autofit.non_linear.initializer - INFO - Generating initial samples of model, which are subject to prior limits and other constraints.\n",
      "2022-04-09 12:15:44,979 - 6_lens_light_step_0 - INFO - No Dynesty samples found, beginning new non-linear search. \n"
     ]
    },
    {
     "name": "stderr",
     "output_type": "stream",
     "text": [
      "637it [00:23, 27.17it/s, +30 | bound: 143 | nc: 1 | ncall: 5059 | eff(%): 13.184 | loglstar:   -inf < -3341.437 <    inf | logz: -3365.883 +/-  6.712 | dlogz:  0.757 >  0.039]"
     ]
    },
    {
     "name": "stdout",
     "output_type": "stream",
     "text": [
      "2022-04-09 12:16:08,564 - 6_lens_light_step_0 - INFO - 5000 Iterations: Performing update (Visualization, outputting samples, etc.).\n"
     ]
    },
    {
     "name": "stderr",
     "output_type": "stream",
     "text": [
      "\n",
      "1006it [00:15, 66.31it/s, +30 | bound: 271 | nc: 1 | ncall: 10074 | eff(%): 10.284 | loglstar:   -inf < -3309.494 <    inf | logz: -3344.118 +/-  6.738 | dlogz:  0.153 >  0.039]"
     ]
    },
    {
     "name": "stdout",
     "output_type": "stream",
     "text": [
      "2022-04-09 12:16:30,000 - 6_lens_light_step_0 - INFO - 10000 Iterations: Performing update (Visualization, outputting samples, etc.).\n"
     ]
    },
    {
     "name": "stderr",
     "output_type": "stream",
     "text": [
      "\n",
      "1152it [00:13, 82.92it/s, +30 | bound: 344 | nc: 1 | ncall: 15158 | eff(%):  7.798 | loglstar:   -inf < -3304.547 <    inf | logz: -3343.272 +/-  6.741 | dlogz:  0.080 >  0.039]"
     ]
    },
    {
     "name": "stdout",
     "output_type": "stream",
     "text": [
      "2022-04-09 12:16:50,155 - 6_lens_light_step_0 - INFO - 15000 Iterations: Performing update (Visualization, outputting samples, etc.).\n"
     ]
    },
    {
     "name": "stderr",
     "output_type": "stream",
     "text": [
      "\n",
      "1211it [00:13, 89.05it/s, +30 | bound: 391 | nc: 1 | ncall: 20501 | eff(%):  6.053 | loglstar:   -inf < -3304.120 <    inf | logz: -3343.216 +/-  6.727 | dlogz:  0.017 >  0.039]"
     ]
    },
    {
     "name": "stdout",
     "output_type": "stream",
     "text": [
      "2022-04-09 12:17:09,984 - 6_lens_light_step_0 - INFO - 20000 Iterations: Performing update (Visualization, outputting samples, etc.).\n"
     ]
    },
    {
     "name": "stderr",
     "output_type": "stream",
     "text": [
      "\n",
      "1296it [00:03, 336.78it/s, +30 | bound: 418 | nc: 1 | ncall: 21545 | eff(%):  6.155 | loglstar:   -inf < -3303.983 <    inf | logz: -3343.206 +/-  6.714 | dlogz:  0.001 >  0.039]"
     ]
    },
    {
     "name": "stdout",
     "output_type": "stream",
     "text": [
      "2022-04-09 12:17:23,034 - 6_lens_light_step_0 - INFO - 25000 Iterations: Performing update (Visualization, outputting samples, etc.).\n"
     ]
    },
    {
     "name": "stderr",
     "output_type": "stream",
     "text": [
      "\n",
      "1296it [00:00, 217885.92it/s, +30 | bound: 418 | nc: 1 | ncall: 21545 | eff(%):  6.155 | loglstar:   -inf < -3303.983 <    inf | logz: -3343.206 +/-  6.714 | dlogz:  0.001 >  0.039]"
     ]
    },
    {
     "name": "stdout",
     "output_type": "stream",
     "text": [
      "2022-04-09 12:17:36,652 - 6_lens_light_step_0 - INFO - 30000 Iterations: Performing update (Visualization, outputting samples, etc.).\n"
     ]
    },
    {
     "name": "stderr",
     "output_type": "stream",
     "text": [
      "\n"
     ]
    },
    {
     "name": "stdout",
     "output_type": "stream",
     "text": [
      "2022-04-09 12:17:47,465 - 6_lens_light_step_0 - INFO - 35000 Iterations: Performing update (Visualization, outputting samples, etc.).\n",
      "2022-04-09 12:17:59,536 - 6_lens_light_step_0 - INFO - Removing zip file\n",
      "2022-04-09 12:17:59,739 - autoarray.dataset.imaging - INFO - IMAGING - Data masked, contains a total of 2896 image-pixels\n",
      "6_lens_light_step_1 lenspop_deeplenstronomy\n",
      "2022-04-09 12:17:59,866 - autofit.non_linear.abstract_search - INFO - Creating search\n",
      "2022-04-09 12:17:59,867 - 6_lens_light_step_1 - INFO - Starting search\n",
      "2022-04-09 12:18:00,604 - autolens.imaging.model.analysis - INFO - PRELOADS - Setting up preloads, may take a few minutes for fits using an inversion.\n",
      "2022-04-09 12:18:00,925 - 6_lens_light_step_1 - INFO - Saving path info\n",
      "2022-04-09 12:18:00,980 - 6_lens_light_step_1 - INFO - Not complete. Starting non-linear search.\n",
      "2022-04-09 12:18:00,982 - 6_lens_light_step_1 - INFO - number_of_cores == 8...\n",
      "2022-04-09 12:18:00,983 - 6_lens_light_step_1 - WARNING - ...using SneakyPool. This copies the likelihood functionto each process on instantiation to avoid copying multipletimes.\n",
      "2022-04-09 12:18:00,986 - process 0 - INFO - created\n",
      "2022-04-09 12:18:00,989 - process 1 - INFO - created\n",
      "2022-04-09 12:18:00,992 - process 2 - INFO - created\n",
      "2022-04-09 12:18:00,995 - process 3 - INFO - created\n",
      "2022-04-09 12:18:00,998 - process 4 - INFO - created\n",
      "2022-04-09 12:18:01,000 - process 5 - INFO - created\n",
      "2022-04-09 12:18:01,004 - process 6 - INFO - created\n",
      "2022-04-09 12:18:01,006 - process 7 - INFO - created\n",
      "2022-04-09 12:18:02,648 - autofit.non_linear.initializer - INFO - Generating initial samples of model, which are subject to prior limits and other constraints.\n",
      "2022-04-09 12:18:02,927 - 6_lens_light_step_1 - INFO - No Dynesty samples found, beginning new non-linear search. \n"
     ]
    },
    {
     "name": "stderr",
     "output_type": "stream",
     "text": [
      "573it [00:31, 18.21it/s, +30 | bound: 131 | nc: 1 | ncall: 5033 | eff(%): 11.981 | loglstar:   -inf < -47225.100 <    inf | logz: -47248.016 +/-  5.067 | dlogz:  1.099 >  0.039]"
     ]
    },
    {
     "name": "stdout",
     "output_type": "stream",
     "text": [
      "2022-04-09 12:18:34,527 - 6_lens_light_step_1 - INFO - 5000 Iterations: Performing update (Visualization, outputting samples, etc.).\n"
     ]
    },
    {
     "name": "stderr",
     "output_type": "stream",
     "text": [
      "\n",
      "1180it [00:35, 32.82it/s, +30 | bound: 307 | nc: 1 | ncall: 10036 | eff(%): 12.057 | loglstar:   -inf < -45765.199 <    inf | logz: -45807.991 +/-  5.365 | dlogz:  1.081 >  0.039]"
     ]
    },
    {
     "name": "stdout",
     "output_type": "stream",
     "text": [
      "2022-04-09 12:19:45,972 - 6_lens_light_step_1 - INFO - 10000 Iterations: Performing update (Visualization, outputting samples, etc.).\n"
     ]
    },
    {
     "name": "stderr",
     "output_type": "stream",
     "text": [
      "\n",
      "1606it [00:15, 102.91it/s, +30 | bound: 427 | nc: 1 | ncall: 13268 | eff(%): 12.330 | loglstar:   -inf < -45750.705 <    inf | logz: -45800.112 +/-  5.215 | dlogz:  0.001 >  0.039]"
     ]
    },
    {
     "name": "stdout",
     "output_type": "stream",
     "text": [
      "2022-04-09 12:20:31,520 - 6_lens_light_step_1 - INFO - 15000 Iterations: Performing update (Visualization, outputting samples, etc.).\n"
     ]
    },
    {
     "name": "stderr",
     "output_type": "stream",
     "text": [
      "\n",
      "1606it [00:00, 1156006.90it/s, +30 | bound: 427 | nc: 1 | ncall: 13268 | eff(%): 12.330 | loglstar:   -inf < -45750.705 <    inf | logz: -45800.112 +/-  5.215 | dlogz:  0.001 >  0.039]"
     ]
    },
    {
     "name": "stdout",
     "output_type": "stream",
     "text": [
      "2022-04-09 12:20:53,822 - 6_lens_light_step_1 - INFO - 20000 Iterations: Performing update (Visualization, outputting samples, etc.).\n"
     ]
    },
    {
     "name": "stderr",
     "output_type": "stream",
     "text": [
      "\n"
     ]
    },
    {
     "name": "stdout",
     "output_type": "stream",
     "text": [
      "2022-04-09 12:21:15,566 - 6_lens_light_step_1 - INFO - 25000 Iterations: Performing update (Visualization, outputting samples, etc.).\n",
      "2022-04-09 12:22:06,865 - 6_lens_light_step_1 - INFO - Removing zip file\n",
      "Finding the lens object and building a lens-light mask...\n",
      "Found radius of 5.121 pixels, which is equal to 1.347 arcsec\n",
      "2022-04-09 12:22:07,376 - autofit.database.migration.migration - INFO - Database already at latest revision\n",
      "2022-04-09 12:22:07,378 - autoarray.dataset.imaging - INFO - IMAGING - Data masked, contains a total of 52 image-pixels\n",
      "Fit using Dynesty Static method...\n",
      "7_lens_light_step_0 lenspop_deeplenstronomy\n",
      "2022-04-09 12:22:07,497 - autofit.non_linear.abstract_search - INFO - Creating search\n",
      "2022-04-09 12:22:07,498 - 7_lens_light_step_0 - INFO - Starting search\n",
      "2022-04-09 12:22:08,163 - autolens.imaging.model.analysis - INFO - PRELOADS - Setting up preloads, may take a few minutes for fits using an inversion.\n",
      "2022-04-09 12:22:08,215 - 7_lens_light_step_0 - INFO - Saving path info\n",
      "2022-04-09 12:22:08,619 - 7_lens_light_step_0 - INFO - Not complete. Starting non-linear search.\n",
      "2022-04-09 12:22:08,621 - 7_lens_light_step_0 - INFO - number_of_cores == 8...\n",
      "2022-04-09 12:22:08,622 - 7_lens_light_step_0 - WARNING - ...using SneakyPool. This copies the likelihood functionto each process on instantiation to avoid copying multipletimes.\n",
      "2022-04-09 12:22:08,629 - process 0 - INFO - created\n",
      "2022-04-09 12:22:08,631 - process 1 - INFO - created\n",
      "2022-04-09 12:22:08,635 - process 2 - INFO - created\n",
      "2022-04-09 12:22:08,639 - process 3 - INFO - created\n",
      "2022-04-09 12:22:08,642 - process 4 - INFO - created\n",
      "2022-04-09 12:22:08,645 - process 5 - INFO - created\n",
      "2022-04-09 12:22:08,649 - process 6 - INFO - created\n",
      "2022-04-09 12:22:08,655 - process 7 - INFO - created\n",
      "2022-04-09 12:22:09,923 - autofit.non_linear.initializer - INFO - Generating initial samples of model, which are subject to prior limits and other constraints.\n",
      "2022-04-09 12:22:10,161 - 7_lens_light_step_0 - INFO - No Dynesty samples found, beginning new non-linear search. \n"
     ]
    },
    {
     "name": "stderr",
     "output_type": "stream",
     "text": [
      "542it [00:17, 31.85it/s, +30 | bound: 131 | nc: 1 | ncall: 5069 | eff(%): 11.284 | loglstar:   -inf < -101.877 <    inf | logz: -122.920 +/-  1.185 | dlogz:  0.615 >  0.039]"
     ]
    },
    {
     "name": "stdout",
     "output_type": "stream",
     "text": [
      "2022-04-09 12:22:27,226 - 7_lens_light_step_0 - INFO - 5000 Iterations: Performing update (Visualization, outputting samples, etc.).\n"
     ]
    },
    {
     "name": "stderr",
     "output_type": "stream",
     "text": [
      "\n",
      "774it [00:06, 125.64it/s, +30 | bound: 208 | nc: 1 | ncall: 7484 | eff(%): 10.743 | loglstar:   -inf < -98.470 <    inf | logz: -120.579 +/-  0.732 | dlogz:  0.001 >  0.039]"
     ]
    },
    {
     "name": "stdout",
     "output_type": "stream",
     "text": [
      "2022-04-09 12:22:38,268 - 7_lens_light_step_0 - INFO - 10000 Iterations: Performing update (Visualization, outputting samples, etc.).\n"
     ]
    },
    {
     "name": "stderr",
     "output_type": "stream",
     "text": [
      "\n",
      "774it [00:00, 330320.64it/s, +30 | bound: 208 | nc: 1 | ncall: 7484 | eff(%): 10.743 | loglstar:   -inf < -98.470 <    inf | logz: -120.579 +/-  0.732 | dlogz:  0.001 >  0.039]"
     ]
    },
    {
     "name": "stdout",
     "output_type": "stream",
     "text": [
      "2022-04-09 12:22:43,081 - 7_lens_light_step_0 - INFO - 15000 Iterations: Performing update (Visualization, outputting samples, etc.).\n"
     ]
    },
    {
     "name": "stderr",
     "output_type": "stream",
     "text": [
      "\n"
     ]
    },
    {
     "name": "stdout",
     "output_type": "stream",
     "text": [
      "2022-04-09 12:22:47,770 - 7_lens_light_step_0 - INFO - 20000 Iterations: Performing update (Visualization, outputting samples, etc.).\n",
      "2022-04-09 12:27:43,618 - 7_lens_light_step_0 - INFO - Removing zip file\n",
      "2022-04-09 12:27:43,949 - autoarray.dataset.imaging - INFO - IMAGING - Data masked, contains a total of 2896 image-pixels\n",
      "7_lens_light_step_1 lenspop_deeplenstronomy\n",
      "2022-04-09 12:27:44,108 - autofit.non_linear.abstract_search - INFO - Creating search\n",
      "2022-04-09 12:27:44,114 - 7_lens_light_step_1 - INFO - Starting search\n",
      "2022-04-09 12:27:44,874 - autolens.imaging.model.analysis - INFO - PRELOADS - Setting up preloads, may take a few minutes for fits using an inversion.\n",
      "2022-04-09 12:27:45,139 - 7_lens_light_step_1 - INFO - Saving path info\n",
      "2022-04-09 12:27:45,321 - 7_lens_light_step_1 - INFO - Not complete. Starting non-linear search.\n",
      "2022-04-09 12:27:45,323 - 7_lens_light_step_1 - INFO - number_of_cores == 8...\n",
      "2022-04-09 12:27:45,324 - 7_lens_light_step_1 - WARNING - ...using SneakyPool. This copies the likelihood functionto each process on instantiation to avoid copying multipletimes.\n",
      "2022-04-09 12:27:45,329 - process 0 - INFO - created\n",
      "2022-04-09 12:27:45,332 - process 1 - INFO - created\n",
      "2022-04-09 12:27:45,336 - process 2 - INFO - created\n",
      "2022-04-09 12:27:45,338 - process 3 - INFO - created\n",
      "2022-04-09 12:27:45,341 - process 4 - INFO - created\n",
      "2022-04-09 12:27:45,344 - process 5 - INFO - created\n",
      "2022-04-09 12:27:45,347 - process 6 - INFO - created\n",
      "2022-04-09 12:27:45,349 - process 7 - INFO - created\n",
      "2022-04-09 12:27:46,268 - autofit.non_linear.initializer - INFO - Generating initial samples of model, which are subject to prior limits and other constraints.\n",
      "2022-04-09 12:27:46,561 - 7_lens_light_step_1 - INFO - No Dynesty samples found, beginning new non-linear search. \n"
     ]
    },
    {
     "name": "stderr",
     "output_type": "stream",
     "text": [
      "620it [00:32, 18.95it/s, +30 | bound: 147 | nc: 1 | ncall: 5061 | eff(%): 12.843 | loglstar:   -inf < -4511.530 <    inf | logz: -4535.987 +/-  1.466 | dlogz:  1.099 >  0.039]\n"
     ]
    },
    {
     "name": "stdout",
     "output_type": "stream",
     "text": [
      "2022-04-09 12:28:19,543 - 7_lens_light_step_1 - INFO - 5000 Iterations: Performing update (Visualization, outputting samples, etc.).\n"
     ]
    },
    {
     "name": "stderr",
     "output_type": "stream",
     "text": [
      "1208it [00:42, 28.70it/s, +30 | bound: 318 | nc: 1 | ncall: 10067 | eff(%): 12.298 | loglstar:   -inf < -2201.297 <    inf | logz: -2245.017 +/-  1.909 | dlogz:  1.087 >  0.039]\n"
     ]
    },
    {
     "name": "stdout",
     "output_type": "stream",
     "text": [
      "2022-04-09 12:29:34,616 - 7_lens_light_step_1 - INFO - 10000 Iterations: Performing update (Visualization, outputting samples, etc.).\n"
     ]
    },
    {
     "name": "stderr",
     "output_type": "stream",
     "text": [
      "2001it [00:26, 76.88it/s, +30 | bound: 514 | nc: 1 | ncall: 15070 | eff(%): 13.477 | loglstar:   -inf < -1960.493 <    inf | logz: -2030.175 +/-  2.553 | dlogz:  1.060 >  0.039]"
     ]
    },
    {
     "name": "stdout",
     "output_type": "stream",
     "text": [
      "2022-04-09 12:30:27,282 - 7_lens_light_step_1 - INFO - 15000 Iterations: Performing update (Visualization, outputting samples, etc.).\n"
     ]
    },
    {
     "name": "stderr",
     "output_type": "stream",
     "text": [
      "\n",
      "2778it [00:37, 74.80it/s, +30 | bound: 714 | nc: 1 | ncall: 20074 | eff(%): 13.988 | loglstar:   -inf < -1777.518 <    inf | logz: -1871.542 +/-  2.850 | dlogz:  0.474 >  0.039]"
     ]
    },
    {
     "name": "stdout",
     "output_type": "stream",
     "text": [
      "2022-04-09 12:31:34,429 - 7_lens_light_step_1 - INFO - 20000 Iterations: Performing update (Visualization, outputting samples, etc.).\n"
     ]
    },
    {
     "name": "stderr",
     "output_type": "stream",
     "text": [
      "\n",
      "3556it [00:34, 101.74it/s, +30 | bound: 916 | nc: 1 | ncall: 25078 | eff(%): 14.299 | loglstar:   -inf < -1723.655 <    inf | logz: -1841.745 +/-  2.886 | dlogz:  0.134 >  0.039]"
     ]
    },
    {
     "name": "stdout",
     "output_type": "stream",
     "text": [
      "2022-04-09 12:32:37,893 - 7_lens_light_step_1 - INFO - 25000 Iterations: Performing update (Visualization, outputting samples, etc.).\n"
     ]
    },
    {
     "name": "stderr",
     "output_type": "stream",
     "text": [
      "\n",
      "3834it [00:08, 429.39it/s, +30 | bound: 987 | nc: 1 | ncall: 26880 | eff(%): 14.375 | loglstar:   -inf < -1717.814 <    inf | logz: -1840.270 +/-  2.870 | dlogz:  0.001 >  0.039]"
     ]
    },
    {
     "name": "stdout",
     "output_type": "stream",
     "text": [
      "2022-04-09 12:33:20,216 - 7_lens_light_step_1 - INFO - 30000 Iterations: Performing update (Visualization, outputting samples, etc.).\n"
     ]
    },
    {
     "name": "stderr",
     "output_type": "stream",
     "text": [
      "\n",
      "3834it [00:00, 1861437.84it/s, +30 | bound: 987 | nc: 1 | ncall: 26880 | eff(%): 14.375 | loglstar:   -inf < -1717.814 <    inf | logz: -1840.270 +/-  2.870 | dlogz:  0.001 >  0.039]"
     ]
    },
    {
     "name": "stdout",
     "output_type": "stream",
     "text": [
      "2022-04-09 12:33:52,178 - 7_lens_light_step_1 - INFO - 35000 Iterations: Performing update (Visualization, outputting samples, etc.).\n"
     ]
    },
    {
     "name": "stderr",
     "output_type": "stream",
     "text": [
      "\n"
     ]
    },
    {
     "name": "stdout",
     "output_type": "stream",
     "text": [
      "2022-04-09 12:34:19,866 - 7_lens_light_step_1 - INFO - 40000 Iterations: Performing update (Visualization, outputting samples, etc.).\n",
      "2022-04-09 12:35:10,113 - 7_lens_light_step_1 - INFO - Removing zip file\n",
      "Finding the lens object and building a lens-light mask...\n",
      "Found radius of 4.173 pixels, which is equal to 1.098 arcsec\n",
      "2022-04-09 12:35:11,350 - autofit.database.migration.migration - INFO - Database already at latest revision\n",
      "2022-04-09 12:35:11,352 - autoarray.dataset.imaging - INFO - IMAGING - Data masked, contains a total of 32 image-pixels\n",
      "Fit using Dynesty Static method...\n",
      "8_lens_light_step_0 lenspop_deeplenstronomy\n",
      "2022-04-09 12:35:11,477 - autofit.non_linear.abstract_search - INFO - Creating search\n",
      "2022-04-09 12:35:11,478 - 8_lens_light_step_0 - INFO - Starting search\n",
      "2022-04-09 12:35:12,099 - autolens.imaging.model.analysis - INFO - PRELOADS - Setting up preloads, may take a few minutes for fits using an inversion.\n",
      "2022-04-09 12:35:12,160 - 8_lens_light_step_0 - INFO - Saving path info\n",
      "2022-04-09 12:35:12,448 - 8_lens_light_step_0 - INFO - Not complete. Starting non-linear search.\n",
      "2022-04-09 12:35:12,450 - 8_lens_light_step_0 - INFO - number_of_cores == 8...\n",
      "2022-04-09 12:35:12,452 - 8_lens_light_step_0 - WARNING - ...using SneakyPool. This copies the likelihood functionto each process on instantiation to avoid copying multipletimes.\n",
      "2022-04-09 12:35:12,456 - process 0 - INFO - created\n",
      "2022-04-09 12:35:12,459 - process 1 - INFO - created\n",
      "2022-04-09 12:35:12,461 - process 2 - INFO - created\n",
      "2022-04-09 12:35:12,463 - process 3 - INFO - created\n",
      "2022-04-09 12:35:12,466 - process 4 - INFO - created\n",
      "2022-04-09 12:35:12,469 - process 5 - INFO - created\n",
      "2022-04-09 12:35:12,470 - process 6 - INFO - created\n",
      "2022-04-09 12:35:12,474 - process 7 - INFO - created\n",
      "2022-04-09 12:35:13,536 - autofit.non_linear.initializer - INFO - Generating initial samples of model, which are subject to prior limits and other constraints.\n",
      "2022-04-09 12:35:13,761 - 8_lens_light_step_0 - INFO - No Dynesty samples found, beginning new non-linear search. \n"
     ]
    },
    {
     "name": "stderr",
     "output_type": "stream",
     "text": [
      "532it [00:16, 33.15it/s, +30 | bound: 127 | nc: 1 | ncall: 5038 | eff(%): 11.155 | loglstar:   -inf < -47.422 <    inf | logz: -68.420 +/-  1.234 | dlogz:  0.755 >  0.039]  \n"
     ]
    },
    {
     "name": "stdout",
     "output_type": "stream",
     "text": [
      "2022-04-09 12:35:29,947 - 8_lens_light_step_0 - INFO - 5000 Iterations: Performing update (Visualization, outputting samples, etc.).\n"
     ]
    },
    {
     "name": "stderr",
     "output_type": "stream",
     "text": [
      "861it [00:07, 121.11it/s, +30 | bound: 221 | nc: 1 | ncall: 7803 | eff(%): 11.419 | loglstar:   -inf < -32.811 <    inf | logz: -57.772 +/-  1.219 | dlogz:  0.001 >  0.039]"
     ]
    },
    {
     "name": "stdout",
     "output_type": "stream",
     "text": [
      "2022-04-09 12:35:42,051 - 8_lens_light_step_0 - INFO - 10000 Iterations: Performing update (Visualization, outputting samples, etc.).\n"
     ]
    },
    {
     "name": "stderr",
     "output_type": "stream",
     "text": [
      "\n",
      "861it [00:00, 377158.82it/s, +30 | bound: 221 | nc: 1 | ncall: 7803 | eff(%): 11.419 | loglstar:   -inf < -32.811 <    inf | logz: -57.772 +/-  1.219 | dlogz:  0.001 >  0.039]"
     ]
    },
    {
     "name": "stdout",
     "output_type": "stream",
     "text": [
      "2022-04-09 12:35:47,061 - 8_lens_light_step_0 - INFO - 15000 Iterations: Performing update (Visualization, outputting samples, etc.).\n"
     ]
    },
    {
     "name": "stderr",
     "output_type": "stream",
     "text": [
      "\n"
     ]
    },
    {
     "name": "stdout",
     "output_type": "stream",
     "text": [
      "2022-04-09 12:35:52,504 - 8_lens_light_step_0 - INFO - 20000 Iterations: Performing update (Visualization, outputting samples, etc.).\n",
      "2022-04-09 12:36:06,369 - 8_lens_light_step_0 - INFO - Removing zip file\n",
      "2022-04-09 12:36:06,541 - autoarray.dataset.imaging - INFO - IMAGING - Data masked, contains a total of 2896 image-pixels\n",
      "8_lens_light_step_1 lenspop_deeplenstronomy\n",
      "2022-04-09 12:36:06,694 - autofit.non_linear.abstract_search - INFO - Creating search\n",
      "2022-04-09 12:36:06,696 - 8_lens_light_step_1 - INFO - Starting search\n",
      "2022-04-09 12:36:07,384 - autolens.imaging.model.analysis - INFO - PRELOADS - Setting up preloads, may take a few minutes for fits using an inversion.\n",
      "2022-04-09 12:36:07,665 - 8_lens_light_step_1 - INFO - Saving path info\n",
      "2022-04-09 12:36:07,978 - 8_lens_light_step_1 - INFO - Not complete. Starting non-linear search.\n",
      "2022-04-09 12:36:07,979 - 8_lens_light_step_1 - INFO - number_of_cores == 8...\n",
      "2022-04-09 12:36:07,980 - 8_lens_light_step_1 - WARNING - ...using SneakyPool. This copies the likelihood functionto each process on instantiation to avoid copying multipletimes.\n",
      "2022-04-09 12:36:07,985 - process 0 - INFO - created\n",
      "2022-04-09 12:36:07,986 - process 1 - INFO - created\n",
      "2022-04-09 12:36:07,988 - process 2 - INFO - created\n",
      "2022-04-09 12:36:07,990 - process 3 - INFO - created\n",
      "2022-04-09 12:36:07,991 - process 4 - INFO - created\n",
      "2022-04-09 12:36:07,994 - process 5 - INFO - created\n",
      "2022-04-09 12:36:07,997 - process 6 - INFO - created\n",
      "2022-04-09 12:36:07,998 - process 7 - INFO - created\n",
      "2022-04-09 12:36:09,145 - autofit.non_linear.initializer - INFO - Generating initial samples of model, which are subject to prior limits and other constraints.\n",
      "2022-04-09 12:36:09,434 - 8_lens_light_step_1 - INFO - No Dynesty samples found, beginning new non-linear search. \n"
     ]
    },
    {
     "name": "stderr",
     "output_type": "stream",
     "text": [
      "584it [00:31, 18.62it/s, +30 | bound: 147 | nc: 1 | ncall: 5033 | eff(%): 12.199 | loglstar:   -inf < -6577.820 <    inf | logz: -6601.096 +/-  1.467 | dlogz:  1.099 >  0.039]"
     ]
    },
    {
     "name": "stdout",
     "output_type": "stream",
     "text": [
      "2022-04-09 12:36:40,897 - 8_lens_light_step_1 - INFO - 5000 Iterations: Performing update (Visualization, outputting samples, etc.).\n"
     ]
    },
    {
     "name": "stderr",
     "output_type": "stream",
     "text": [
      "\n",
      "1230it [00:35, 34.63it/s, +30 | bound: 335 | nc: 1 | ncall: 10035 | eff(%): 12.556 | loglstar:   -inf < -6213.396 <    inf | logz: -6254.765 +/-  1.750 | dlogz:  0.087 >  0.039]"
     ]
    },
    {
     "name": "stdout",
     "output_type": "stream",
     "text": [
      "2022-04-09 12:37:44,431 - 8_lens_light_step_1 - INFO - 10000 Iterations: Performing update (Visualization, outputting samples, etc.).\n"
     ]
    },
    {
     "name": "stderr",
     "output_type": "stream",
     "text": [
      "\n",
      "1396it [00:06, 225.33it/s, +30 | bound: 384 | nc: 1 | ncall: 11335 | eff(%): 12.581 | loglstar:   -inf < -6212.118 <    inf | logz: -6254.628 +/-  1.689 | dlogz:  0.001 >  0.039]"
     ]
    },
    {
     "name": "stdout",
     "output_type": "stream",
     "text": [
      "2022-04-09 12:38:26,342 - 8_lens_light_step_1 - INFO - 15000 Iterations: Performing update (Visualization, outputting samples, etc.).\n"
     ]
    },
    {
     "name": "stderr",
     "output_type": "stream",
     "text": [
      "\n",
      "1396it [00:00, 1001410.70it/s, +30 | bound: 384 | nc: 1 | ncall: 11335 | eff(%): 12.581 | loglstar:   -inf < -6212.118 <    inf | logz: -6254.628 +/-  1.689 | dlogz:  0.001 >  0.039]"
     ]
    },
    {
     "name": "stdout",
     "output_type": "stream",
     "text": [
      "2022-04-09 12:38:58,131 - 8_lens_light_step_1 - INFO - 20000 Iterations: Performing update (Visualization, outputting samples, etc.).\n"
     ]
    },
    {
     "name": "stderr",
     "output_type": "stream",
     "text": [
      "\n"
     ]
    },
    {
     "name": "stdout",
     "output_type": "stream",
     "text": [
      "2022-04-09 12:39:20,187 - 8_lens_light_step_1 - INFO - 25000 Iterations: Performing update (Visualization, outputting samples, etc.).\n",
      "2022-04-09 12:51:47,876 - 8_lens_light_step_1 - INFO - Removing zip file\n",
      "Finding the lens object and building a lens-light mask...\n",
      "Found radius of 5.195 pixels, which is equal to 1.366 arcsec\n",
      "2022-04-09 12:51:48,991 - autofit.database.migration.migration - INFO - Database already at latest revision\n",
      "2022-04-09 12:51:48,996 - autoarray.dataset.imaging - INFO - IMAGING - Data masked, contains a total of 52 image-pixels\n",
      "Fit using Dynesty Static method...\n",
      "9_lens_light_step_0 lenspop_deeplenstronomy\n",
      "2022-04-09 12:51:49,139 - autofit.non_linear.abstract_search - INFO - Creating search\n",
      "2022-04-09 12:51:49,156 - 9_lens_light_step_0 - INFO - Starting search\n",
      "2022-04-09 12:51:49,840 - autolens.imaging.model.analysis - INFO - PRELOADS - Setting up preloads, may take a few minutes for fits using an inversion.\n",
      "2022-04-09 12:51:49,926 - 9_lens_light_step_0 - INFO - Saving path info\n",
      "2022-04-09 12:51:50,336 - 9_lens_light_step_0 - INFO - Not complete. Starting non-linear search.\n",
      "2022-04-09 12:51:50,339 - 9_lens_light_step_0 - INFO - number_of_cores == 8...\n",
      "2022-04-09 12:51:50,341 - 9_lens_light_step_0 - WARNING - ...using SneakyPool. This copies the likelihood functionto each process on instantiation to avoid copying multipletimes.\n",
      "2022-04-09 12:51:50,350 - process 0 - INFO - created\n",
      "2022-04-09 12:51:50,353 - process 1 - INFO - created\n",
      "2022-04-09 12:51:50,356 - process 2 - INFO - created\n",
      "2022-04-09 12:51:50,360 - process 3 - INFO - created\n",
      "2022-04-09 12:51:50,362 - process 4 - INFO - created\n",
      "2022-04-09 12:51:50,366 - process 5 - INFO - created\n",
      "2022-04-09 12:51:50,369 - process 6 - INFO - created\n",
      "2022-04-09 12:51:50,373 - process 7 - INFO - created\n",
      "2022-04-09 12:51:52,054 - autofit.non_linear.initializer - INFO - Generating initial samples of model, which are subject to prior limits and other constraints.\n",
      "2022-04-09 12:51:52,305 - 9_lens_light_step_0 - INFO - No Dynesty samples found, beginning new non-linear search. \n"
     ]
    },
    {
     "name": "stderr",
     "output_type": "stream",
     "text": [
      "561it [00:18, 29.58it/s, +30 | bound: 139 | nc: 1 | ncall: 5031 | eff(%): 11.747 | loglstar:   -inf < -41.452 <    inf | logz: -63.026 +/-  1.375 | dlogz:  0.574 >  0.039]"
     ]
    },
    {
     "name": "stdout",
     "output_type": "stream",
     "text": [
      "2022-04-09 12:52:11,449 - 9_lens_light_step_0 - INFO - 5000 Iterations: Performing update (Visualization, outputting samples, etc.).\n"
     ]
    },
    {
     "name": "stderr",
     "output_type": "stream",
     "text": [
      "\n",
      "933it [00:09, 96.25it/s, +30 | bound: 252 | nc: 1 | ncall: 8600 | eff(%): 11.198 | loglstar:   -inf < -32.940 <    inf | logz: -60.263 +/-  1.236 | dlogz:  0.001 >  0.039]"
     ]
    },
    {
     "name": "stdout",
     "output_type": "stream",
     "text": [
      "2022-04-09 12:52:27,535 - 9_lens_light_step_0 - INFO - 10000 Iterations: Performing update (Visualization, outputting samples, etc.).\n"
     ]
    },
    {
     "name": "stderr",
     "output_type": "stream",
     "text": [
      "\n",
      "933it [00:00, 560241.32it/s, +30 | bound: 252 | nc: 1 | ncall: 8600 | eff(%): 11.198 | loglstar:   -inf < -32.940 <    inf | logz: -60.263 +/-  1.236 | dlogz:  0.001 >  0.039]"
     ]
    },
    {
     "name": "stdout",
     "output_type": "stream",
     "text": [
      "2022-04-09 12:52:32,669 - 9_lens_light_step_0 - INFO - 15000 Iterations: Performing update (Visualization, outputting samples, etc.).\n"
     ]
    },
    {
     "name": "stderr",
     "output_type": "stream",
     "text": [
      "\n"
     ]
    },
    {
     "name": "stdout",
     "output_type": "stream",
     "text": [
      "2022-04-09 12:52:37,593 - 9_lens_light_step_0 - INFO - 20000 Iterations: Performing update (Visualization, outputting samples, etc.).\n",
      "2022-04-09 12:52:56,500 - 9_lens_light_step_0 - INFO - Removing zip file\n",
      "2022-04-09 12:53:01,028 - autoarray.dataset.imaging - INFO - IMAGING - Data masked, contains a total of 2896 image-pixels\n",
      "9_lens_light_step_1 lenspop_deeplenstronomy\n",
      "2022-04-09 12:53:01,385 - autofit.non_linear.abstract_search - INFO - Creating search\n",
      "2022-04-09 12:53:01,390 - 9_lens_light_step_1 - INFO - Starting search\n",
      "2022-04-09 12:53:03,089 - autolens.imaging.model.analysis - INFO - PRELOADS - Setting up preloads, may take a few minutes for fits using an inversion.\n",
      "2022-04-09 12:53:03,798 - 9_lens_light_step_1 - INFO - Saving path info\n",
      "2022-04-09 12:53:04,576 - 9_lens_light_step_1 - INFO - Not complete. Starting non-linear search.\n",
      "2022-04-09 12:53:04,579 - 9_lens_light_step_1 - INFO - number_of_cores == 8...\n",
      "2022-04-09 12:53:04,581 - 9_lens_light_step_1 - WARNING - ...using SneakyPool. This copies the likelihood functionto each process on instantiation to avoid copying multipletimes.\n",
      "2022-04-09 12:53:04,590 - process 0 - INFO - created\n",
      "2022-04-09 12:53:04,595 - process 1 - INFO - created\n",
      "2022-04-09 12:53:04,600 - process 2 - INFO - created\n",
      "2022-04-09 12:53:04,606 - process 3 - INFO - created\n",
      "2022-04-09 12:53:04,610 - process 4 - INFO - created\n",
      "2022-04-09 12:53:04,618 - process 5 - INFO - created\n",
      "2022-04-09 12:53:04,624 - process 6 - INFO - created\n",
      "2022-04-09 12:53:04,628 - process 7 - INFO - created\n",
      "2022-04-09 12:53:12,530 - autofit.non_linear.initializer - INFO - Generating initial samples of model, which are subject to prior limits and other constraints.\n",
      "2022-04-09 12:53:15,178 - 9_lens_light_step_1 - INFO - No Dynesty samples found, beginning new non-linear search. \n"
     ]
    },
    {
     "name": "stderr",
     "output_type": "stream",
     "text": [
      "626it [00:48, 12.84it/s, +30 | bound: 149 | nc: 1 | ncall: 5033 | eff(%): 13.034 | loglstar:   -inf < -39964.611 <    inf | logz: -39989.265 +/-  1.272 | dlogz:  1.099 >  0.039]\n"
     ]
    },
    {
     "name": "stdout",
     "output_type": "stream",
     "text": [
      "2022-04-09 12:54:04,130 - 9_lens_light_step_1 - INFO - 5000 Iterations: Performing update (Visualization, outputting samples, etc.).\n"
     ]
    },
    {
     "name": "stderr",
     "output_type": "stream",
     "text": [
      "1270it [00:26, 48.00it/s, +30 | bound: 332 | nc: 1 | ncall: 10037 | eff(%): 12.952 | loglstar:   -inf < -21724.473 <    inf | logz: -21770.243 +/-  1.773 | dlogz:  1.099 >  0.039]"
     ]
    },
    {
     "name": "stdout",
     "output_type": "stream",
     "text": [
      "2022-04-09 12:55:00,757 - 9_lens_light_step_1 - INFO - 10000 Iterations: Performing update (Visualization, outputting samples, etc.).\n"
     ]
    },
    {
     "name": "stderr",
     "output_type": "stream",
     "text": [
      "\n",
      "2009it [00:45, 43.70it/s, +30 | bound: 517 | nc: 1 | ncall: 15039 | eff(%): 13.558 | loglstar:   -inf < -21361.300 <    inf | logz: -21430.969 +/-  2.479 | dlogz:  0.890 >  0.039]\n"
     ]
    },
    {
     "name": "stdout",
     "output_type": "stream",
     "text": [
      "2022-04-09 12:56:16,238 - 9_lens_light_step_1 - INFO - 15000 Iterations: Performing update (Visualization, outputting samples, etc.).\n"
     ]
    },
    {
     "name": "stderr",
     "output_type": "stream",
     "text": [
      "2867it [00:35, 81.76it/s, +30 | bound: 716 | nc: 1 | ncall: 20040 | eff(%): 14.456 | loglstar:   -inf < -21273.916 <    inf | logz: -21369.606 +/-  2.560 | dlogz:  0.160 >  0.039]\n"
     ]
    },
    {
     "name": "stdout",
     "output_type": "stream",
     "text": [
      "2022-04-09 12:57:20,272 - 9_lens_light_step_1 - INFO - 20000 Iterations: Performing update (Visualization, outputting samples, etc.).\n"
     ]
    },
    {
     "name": "stderr",
     "output_type": "stream",
     "text": [
      "3673it [00:26, 136.51it/s, +30 | bound: 914 | nc: 1 | ncall: 25060 | eff(%): 14.777 | loglstar:   -inf < -21197.350 <    inf | logz: -21318.929 +/-  2.868 | dlogz:  0.096 >  0.039]"
     ]
    },
    {
     "name": "stdout",
     "output_type": "stream",
     "text": [
      "2022-04-09 12:58:15,326 - 9_lens_light_step_1 - INFO - 25000 Iterations: Performing update (Visualization, outputting samples, etc.).\n"
     ]
    },
    {
     "name": "stderr",
     "output_type": "stream",
     "text": [
      "\n",
      "4008it [00:09, 406.44it/s, +30 | bound: 996 | nc: 1 | ncall: 27149 | eff(%): 14.873 | loglstar:   -inf < -21190.188 <    inf | logz: -21318.351 +/-  2.815 | dlogz:  0.001 >  0.039]\n"
     ]
    },
    {
     "name": "stdout",
     "output_type": "stream",
     "text": [
      "2022-04-09 12:59:00,741 - 9_lens_light_step_1 - INFO - 30000 Iterations: Performing update (Visualization, outputting samples, etc.).\n"
     ]
    },
    {
     "name": "stderr",
     "output_type": "stream",
     "text": [
      "4008it [00:00, 723386.14it/s, +30 | bound: 996 | nc: 1 | ncall: 27149 | eff(%): 14.873 | loglstar:   -inf < -21190.188 <    inf | logz: -21318.351 +/-  2.815 | dlogz:  0.001 >  0.039]"
     ]
    },
    {
     "name": "stdout",
     "output_type": "stream",
     "text": [
      "2022-04-09 12:59:31,968 - 9_lens_light_step_1 - INFO - 35000 Iterations: Performing update (Visualization, outputting samples, etc.).\n"
     ]
    },
    {
     "name": "stderr",
     "output_type": "stream",
     "text": [
      "\n"
     ]
    },
    {
     "name": "stdout",
     "output_type": "stream",
     "text": [
      "2022-04-09 12:59:59,760 - 9_lens_light_step_1 - INFO - 40000 Iterations: Performing update (Visualization, outputting samples, etc.).\n",
      "2022-04-09 13:00:51,626 - 9_lens_light_step_1 - INFO - Removing zip file\n",
      "Finding the lens object and building a lens-light mask...\n",
      "Found radius of 8.997 pixels, which is equal to 2.366 arcsec\n",
      "2022-04-09 13:00:52,421 - autofit.database.migration.migration - INFO - Database already at latest revision\n",
      "2022-04-09 13:00:52,424 - autoarray.dataset.imaging - INFO - IMAGING - Data masked, contains a total of 164 image-pixels\n",
      "Fit using Dynesty Static method...\n",
      "10_lens_light_step_0 lenspop_deeplenstronomy\n",
      "2022-04-09 13:00:52,532 - autofit.non_linear.abstract_search - INFO - Creating search\n",
      "2022-04-09 13:00:52,534 - 10_lens_light_step_0 - INFO - Starting search\n",
      "2022-04-09 13:00:53,172 - autolens.imaging.model.analysis - INFO - PRELOADS - Setting up preloads, may take a few minutes for fits using an inversion.\n",
      "2022-04-09 13:00:53,241 - 10_lens_light_step_0 - INFO - Saving path info\n",
      "2022-04-09 13:00:53,657 - 10_lens_light_step_0 - INFO - Not complete. Starting non-linear search.\n",
      "2022-04-09 13:00:53,659 - 10_lens_light_step_0 - INFO - number_of_cores == 8...\n",
      "2022-04-09 13:00:53,660 - 10_lens_light_step_0 - WARNING - ...using SneakyPool. This copies the likelihood functionto each process on instantiation to avoid copying multipletimes.\n",
      "2022-04-09 13:00:53,665 - process 0 - INFO - created\n",
      "2022-04-09 13:00:53,667 - process 1 - INFO - created\n",
      "2022-04-09 13:00:53,671 - process 2 - INFO - created\n",
      "2022-04-09 13:00:53,673 - process 3 - INFO - created\n",
      "2022-04-09 13:00:53,675 - process 4 - INFO - created\n",
      "2022-04-09 13:00:53,677 - process 5 - INFO - created\n",
      "2022-04-09 13:00:53,679 - process 6 - INFO - created\n",
      "2022-04-09 13:00:53,682 - process 7 - INFO - created\n",
      "2022-04-09 13:00:58,390 - autofit.non_linear.initializer - INFO - Generating initial samples of model, which are subject to prior limits and other constraints.\n",
      "2022-04-09 13:00:58,959 - 10_lens_light_step_0 - INFO - No Dynesty samples found, beginning new non-linear search. \n"
     ]
    },
    {
     "name": "stderr",
     "output_type": "stream",
     "text": [
      "531it [00:19, 27.68it/s, +30 | bound: 128 | nc: 1 | ncall: 5039 | eff(%): 11.133 | loglstar:   -inf < -74.353 <    inf | logz: -95.307 +/-  1.655 | dlogz:  0.749 >  0.039]\n"
     ]
    },
    {
     "name": "stdout",
     "output_type": "stream",
     "text": [
      "2022-04-09 13:01:22,090 - 10_lens_light_step_0 - INFO - 5000 Iterations: Performing update (Visualization, outputting samples, etc.).\n"
     ]
    },
    {
     "name": "stderr",
     "output_type": "stream",
     "text": [
      "809it [00:05, 150.49it/s, +30 | bound: 199 | nc: 1 | ncall: 6918 | eff(%): 12.128 | loglstar:   -inf < -70.372 <    inf | logz: -93.634 +/-  1.151 | dlogz:  0.001 >  0.039]"
     ]
    },
    {
     "name": "stdout",
     "output_type": "stream",
     "text": [
      "2022-04-09 13:01:33,560 - 10_lens_light_step_0 - INFO - 10000 Iterations: Performing update (Visualization, outputting samples, etc.).\n"
     ]
    },
    {
     "name": "stderr",
     "output_type": "stream",
     "text": [
      "\n",
      "809it [00:00, 541006.37it/s, +30 | bound: 199 | nc: 1 | ncall: 6918 | eff(%): 12.128 | loglstar:   -inf < -70.372 <    inf | logz: -93.634 +/-  1.151 | dlogz:  0.001 >  0.039]"
     ]
    },
    {
     "name": "stdout",
     "output_type": "stream",
     "text": [
      "2022-04-09 13:01:40,355 - 10_lens_light_step_0 - INFO - 15000 Iterations: Performing update (Visualization, outputting samples, etc.).\n"
     ]
    },
    {
     "name": "stderr",
     "output_type": "stream",
     "text": [
      "\n"
     ]
    },
    {
     "name": "stdout",
     "output_type": "stream",
     "text": [
      "2022-04-09 13:01:45,747 - 10_lens_light_step_0 - INFO - 20000 Iterations: Performing update (Visualization, outputting samples, etc.).\n",
      "2022-04-09 13:01:58,651 - 10_lens_light_step_0 - INFO - Removing zip file\n",
      "2022-04-09 13:01:58,879 - autoarray.dataset.imaging - INFO - IMAGING - Data masked, contains a total of 2896 image-pixels\n",
      "10_lens_light_step_1 lenspop_deeplenstronomy\n",
      "2022-04-09 13:01:59,084 - autofit.non_linear.abstract_search - INFO - Creating search\n",
      "2022-04-09 13:01:59,086 - 10_lens_light_step_1 - INFO - Starting search\n",
      "2022-04-09 13:01:59,799 - autolens.imaging.model.analysis - INFO - PRELOADS - Setting up preloads, may take a few minutes for fits using an inversion.\n",
      "2022-04-09 13:02:00,115 - 10_lens_light_step_1 - INFO - Saving path info\n",
      "2022-04-09 13:02:03,790 - 10_lens_light_step_1 - INFO - Not complete. Starting non-linear search.\n",
      "2022-04-09 13:02:03,792 - 10_lens_light_step_1 - INFO - number_of_cores == 8...\n",
      "2022-04-09 13:02:03,793 - 10_lens_light_step_1 - WARNING - ...using SneakyPool. This copies the likelihood functionto each process on instantiation to avoid copying multipletimes.\n",
      "2022-04-09 13:02:03,813 - process 0 - INFO - created\n",
      "2022-04-09 13:02:03,817 - process 1 - INFO - created\n",
      "2022-04-09 13:02:03,821 - process 2 - INFO - created\n",
      "2022-04-09 13:02:03,827 - process 3 - INFO - created\n",
      "2022-04-09 13:02:03,830 - process 4 - INFO - created\n",
      "2022-04-09 13:02:03,834 - process 5 - INFO - created\n",
      "2022-04-09 13:02:03,837 - process 6 - INFO - created\n",
      "2022-04-09 13:02:03,842 - process 7 - INFO - created\n",
      "2022-04-09 13:02:07,314 - autofit.non_linear.initializer - INFO - Generating initial samples of model, which are subject to prior limits and other constraints.\n",
      "2022-04-09 13:02:07,676 - 10_lens_light_step_1 - INFO - No Dynesty samples found, beginning new non-linear search. \n"
     ]
    },
    {
     "name": "stderr",
     "output_type": "stream",
     "text": [
      "540it [00:36, 14.92it/s, +30 | bound: 136 | nc: 1 | ncall: 5051 | eff(%): 11.285 | loglstar:   -inf < -5095.678 <    inf | logz: -5117.511 +/-  2.923 | dlogz:  1.099 >  0.039]"
     ]
    },
    {
     "name": "stdout",
     "output_type": "stream",
     "text": [
      "2022-04-09 13:02:43,978 - 10_lens_light_step_1 - INFO - 5000 Iterations: Performing update (Visualization, outputting samples, etc.).\n"
     ]
    },
    {
     "name": "stderr",
     "output_type": "stream",
     "text": [
      "\n",
      "1193it [00:27, 42.90it/s, +30 | bound: 315 | nc: 1 | ncall: 10054 | eff(%): 12.164 | loglstar:   -inf < -2896.331 <    inf | logz: -2939.576 +/-  3.278 | dlogz:  1.099 >  0.039]"
     ]
    },
    {
     "name": "stdout",
     "output_type": "stream",
     "text": [
      "2022-04-09 13:03:47,604 - 10_lens_light_step_1 - INFO - 10000 Iterations: Performing update (Visualization, outputting samples, etc.).\n"
     ]
    },
    {
     "name": "stderr",
     "output_type": "stream",
     "text": [
      "\n",
      "1940it [00:35, 54.34it/s, +30 | bound: 498 | nc: 1 | ncall: 15059 | eff(%): 13.082 | loglstar:   -inf < -2749.068 <    inf | logz: -2813.999 +/-  3.427 | dlogz:  0.114 >  0.039]"
     ]
    },
    {
     "name": "stdout",
     "output_type": "stream",
     "text": [
      "2022-04-09 13:04:56,052 - 10_lens_light_step_1 - INFO - 15000 Iterations: Performing update (Visualization, outputting samples, etc.).\n"
     ]
    },
    {
     "name": "stderr",
     "output_type": "stream",
     "text": [
      "\n",
      "2372it [00:13, 180.36it/s, +30 | bound: 599 | nc: 1 | ncall: 17649 | eff(%): 13.610 | loglstar:   -inf < -2738.218 <    inf | logz: -2812.749 +/-  3.391 | dlogz:  0.001 >  0.039]"
     ]
    },
    {
     "name": "stdout",
     "output_type": "stream",
     "text": [
      "2022-04-09 13:05:37,836 - 10_lens_light_step_1 - INFO - 20000 Iterations: Performing update (Visualization, outputting samples, etc.).\n"
     ]
    },
    {
     "name": "stderr",
     "output_type": "stream",
     "text": [
      "\n",
      "2372it [00:00, 419218.32it/s, +30 | bound: 599 | nc: 1 | ncall: 17649 | eff(%): 13.610 | loglstar:   -inf < -2738.218 <    inf | logz: -2812.749 +/-  3.391 | dlogz:  0.001 >  0.039]\n"
     ]
    },
    {
     "name": "stdout",
     "output_type": "stream",
     "text": [
      "2022-04-09 13:06:11,581 - 10_lens_light_step_1 - INFO - 25000 Iterations: Performing update (Visualization, outputting samples, etc.).\n",
      "2022-04-09 13:06:38,854 - 10_lens_light_step_1 - INFO - 30000 Iterations: Performing update (Visualization, outputting samples, etc.).\n",
      "2022-04-09 13:07:25,034 - 10_lens_light_step_1 - INFO - Removing zip file\n",
      "Finding the lens object and building a lens-light mask...\n",
      "Found radius of 7.237 pixels, which is equal to 1.903 arcsec\n",
      "2022-04-09 13:07:29,264 - autofit.database.migration.migration - INFO - Database already at latest revision\n",
      "2022-04-09 13:07:29,267 - autoarray.dataset.imaging - INFO - IMAGING - Data masked, contains a total of 112 image-pixels\n",
      "Fit using Dynesty Static method...\n",
      "11_lens_light_step_0 lenspop_deeplenstronomy\n",
      "2022-04-09 13:07:29,395 - autofit.non_linear.abstract_search - INFO - Creating search\n",
      "2022-04-09 13:07:29,398 - 11_lens_light_step_0 - INFO - Starting search\n",
      "2022-04-09 13:07:30,549 - autolens.imaging.model.analysis - INFO - PRELOADS - Setting up preloads, may take a few minutes for fits using an inversion.\n",
      "2022-04-09 13:07:30,611 - 11_lens_light_step_0 - INFO - Saving path info\n",
      "2022-04-09 13:07:30,966 - 11_lens_light_step_0 - INFO - Not complete. Starting non-linear search.\n",
      "2022-04-09 13:07:30,968 - 11_lens_light_step_0 - INFO - number_of_cores == 8...\n",
      "2022-04-09 13:07:30,969 - 11_lens_light_step_0 - WARNING - ...using SneakyPool. This copies the likelihood functionto each process on instantiation to avoid copying multipletimes.\n",
      "2022-04-09 13:07:30,973 - process 0 - INFO - created\n",
      "2022-04-09 13:07:30,975 - process 1 - INFO - created\n",
      "2022-04-09 13:07:30,978 - process 2 - INFO - created\n",
      "2022-04-09 13:07:30,981 - process 3 - INFO - created\n",
      "2022-04-09 13:07:30,984 - process 4 - INFO - created\n",
      "2022-04-09 13:07:30,988 - process 5 - INFO - created\n",
      "2022-04-09 13:07:30,990 - process 6 - INFO - created\n",
      "2022-04-09 13:07:30,992 - process 7 - INFO - created\n",
      "2022-04-09 13:07:33,016 - autofit.non_linear.initializer - INFO - Generating initial samples of model, which are subject to prior limits and other constraints.\n",
      "2022-04-09 13:07:33,195 - 11_lens_light_step_0 - INFO - No Dynesty samples found, beginning new non-linear search. \n"
     ]
    },
    {
     "name": "stderr",
     "output_type": "stream",
     "text": [
      "566it [00:17, 32.19it/s, +30 | bound: 139 | nc: 1 | ncall: 5043 | eff(%): 11.818 | loglstar:   -inf < -123.913 <    inf | logz: -145.246 +/-  4.364 | dlogz:  0.417 >  0.039]"
     ]
    },
    {
     "name": "stdout",
     "output_type": "stream",
     "text": [
      "2022-04-09 13:07:50,853 - 11_lens_light_step_0 - INFO - 5000 Iterations: Performing update (Visualization, outputting samples, etc.).\n"
     ]
    },
    {
     "name": "stderr",
     "output_type": "stream",
     "text": [
      "\n"
     ]
    }
   ],
   "source": [
    "taking_time = []\n",
    "\n",
    "for i in range(0, N_sys):\n",
    "    start = time.time()\n",
    "    imaging_0 = al.Imaging(al.Array2D.manual(np.array(cutouts[i][2], dtype=float), pixel_scales=float(pixel_scale)), # cutout\n",
    "                       al.Array2D.manual(np.array(noise_map[i][2], dtype=float), pixel_scales=float(pixel_scale)), # noise_map \n",
    "                       al.Kernel2D.manual(np.array(psf[i][2], dtype=float), pixel_scales=float(pixel_scale), shape_native=(100, 100))) # psf\n",
    "    print('Finding the lens object and building a lens-light mask...')\n",
    "    finder=find_radius(pre_set_sigma=3, image_array=cutouts[i][2])\n",
    "    _, _, mask_radius= finder.get_radius() # gaussian normalization, center position (1-d) and radius (sigma)\n",
    "    print('Found radius of', round(mask_radius, 3), 'pixels, which is equal to', round(mask_radius*float(pixel_scale), 3), 'arcsec')\n",
    "    \n",
    "    zl = bayes_sys_fit['PLANE_1-REDSHIFT-g'][i]\n",
    "    zs = bayes_sys_fit['PLANE_2-REDSHIFT-g'][i]\n",
    "    pipeline = apply_pipeline(imaging_0, i, zl, zs, pixel_scales=float(pixel_scale), core_usage=8, session=al_session, dataset_name='lenspop_deeplenstronomy')\n",
    "    result = apply_pipeline.fit_lens_light(pipeline, nlive=30, lens_light_radius=mask_radius*0.8*float(pixel_scale), fit_mcmc=False)\n",
    "\n",
    "    result_modelization = pipeline.fit_system_autolens(cutouts[i][2], noise_map[i][2], psf[i][2], result.unmasked_model_image, result.mask, nlive=30, prior_variables=variables, predictions_dataframe=dl_results[dl_results['sys']==bayes_sys_fit['OBJID-g'][i]], use_predictions=False, fit_mcmc=False)\n",
    "    #result_modelization, image = pipeline.fit_system_lenstronomy(original_image=cutouts[i][2], background_rms=float(bayes_sys_fit['sky_brightness-'+str(bands_simulated[2])][i]), exposure_time=float(bayes_sys_fit['exposure_time-g'][0]), original_psf=psf[i][2], unmasked_lens_model=result.unmasked_model_image, pixel_scale=pixel_scale, prior_variables=variables, predictions_dataframe=dl_results[dl_results['sys']==bayes_sys_fit['OBJID-g'][i]], lower_limits=lower_sigma, upper_limits=upper_sigma, use_predictions=True)\n",
    "   \n",
    "    pipeline.reset_all()\n",
    "    end = time.time()\n",
    "    taking_time.append(end - start)\n",
    "    fig, ax = plt.subplots(1, 5,figsize=(16, 4))\n",
    "\n",
    "    ax[0].imshow(cutouts[i][2])\n",
    "    ax[0].text(75, 90, '5\\\" ', c='w', size=18)\n",
    "    ax[0].set_xticks([])\n",
    "    ax[0].set_yticks([])\n",
    "    ax[1].imshow(result.unmasked_model_image.reshape(100, 100))\n",
    "    ax[1].set_xticks([])\n",
    "    ax[1].set_yticks([])\n",
    "    ax[2].imshow((imaging_0.image-result.unmasked_model_image).reshape(100, 100))\n",
    "    ax[2].set_xticks([])\n",
    "    ax[2].set_yticks([])\n",
    "    ax[3].imshow(result_modelization.unmasked_model_image.reshape(100, 100))\n",
    "    ax[3].set_xticks([])\n",
    "    ax[3].set_yticks([])\n",
    "    ax[4].imshow((imaging_0.image-result.unmasked_model_image - result_modelization.unmasked_model_image).reshape(100, 100))\n",
    "    ax[4].set_xticks([])\n",
    "    ax[4].set_yticks([])\n",
    "\n",
    "    fig.savefig('./imagens/'+str(i)+'.png');\n",
    "    \n",
    "# exporting our taking time dataframe\n",
    "taking_time_df.to_csv('./output/time_to_run.csv')\n",
    "\n",
    "#taking_time_df = pd.Series(taking_time)"
   ]
  }
 ],
 "metadata": {
  "kernelspec": {
   "display_name": "Python 3 (ipykernel)",
   "language": "python",
   "name": "python3"
  },
  "language_info": {
   "codemirror_mode": {
    "name": "ipython",
    "version": 3
   },
   "file_extension": ".py",
   "mimetype": "text/x-python",
   "name": "python",
   "nbconvert_exporter": "python",
   "pygments_lexer": "ipython3",
   "version": "3.8.10"
  }
 },
 "nbformat": 4,
 "nbformat_minor": 5
}
